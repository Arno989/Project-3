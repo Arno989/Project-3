{
 "cells": [
  {
   "cell_type": "code",
   "execution_count": 50,
   "metadata": {},
   "outputs": [],
   "source": [
    "%matplotlib inline\n",
    "\n",
    "import numpy as np\n",
    "import pandas as pd\n",
    "import matplotlib.pyplot as plt\n",
    "import seaborn as sns\n",
    "import random\n",
    "from sklearn.model_selection import train_test_split\n",
    "from sklearn.metrics import classification_report\n",
    "from sklearn.metrics import confusion_matrix, accuracy_score\n",
    "from sklearn.preprocessing import OneHotEncoder\n",
    "from sklearn import preprocessing\n",
    "from sklearn.preprocessing import LabelEncoder\n",
    "from sklearn import linear_model\n",
    "from sklearn.linear_model import LogisticRegression\n",
    "from sklearn.decomposition import PCA\n",
    "from sklearn.model_selection import GridSearchCV\n",
    "from sklearn.model_selection import RandomizedSearchCV\n",
    "from sklearn.preprocessing import MinMaxScaler\n",
    "\n",
    "from sklearn.svm import SVC\n",
    "from scipy import stats\n",
    "from scipy.stats import randint \n",
    "from scipy.stats import uniform\n",
    "from sklearn.tree import DecisionTreeClassifier\n",
    "from sklearn.ensemble import RandomForestClassifier\n",
    "from sklearn.ensemble import BaggingClassifier\n",
    "from sklearn.ensemble import AdaBoostClassifier\n",
    "\n",
    "pd.set_option('display.max_rows',1000)\n",
    "pd.set_option('display.max_columns',1000)"
   ]
  },
  {
   "cell_type": "code",
   "execution_count": 51,
   "metadata": {},
   "outputs": [
    {
     "output_type": "execute_result",
     "data": {
      "text/plain": "                              Externe ID Geslacht        Geboortedatum  \\\n0  __export__.res_partner_10972_f0a5feb4    Vrouw  1962-07-24 00:00:00   \n1                                    NaN      NaN                  NaN   \n2                                    NaN      NaN                  NaN   \n3   __export__.res_partner_7722_2342b746      Man  1982-07-10 00:00:00   \n4                                    NaN      NaN                  NaN   \n\n     Oogmetingen/Datum  Oogmetingen/Sfr ver  Oogmetingen/Cyl ver  \\\n0  2020-05-18 00:00:00                -1.25                -0.50   \n1  2017-12-27 00:00:00                -1.25                -0.50   \n2  2012-02-11 00:00:00                -1.00                -0.50   \n3  2020-05-16 00:00:00                -2.00                -1.50   \n4  2008-12-13 00:00:00                -1.25                -0.75   \n\n   Oogmetingen/As ver  Oogmetingen/Add  Oogmetingen/Sfr dicht  \\\n0               145.0              NaN                    NaN   \n1               155.0              0.0                    0.0   \n2               155.0              0.0                    0.0   \n3                90.0              NaN                    NaN   \n4                85.0              0.0                    0.0   \n\n   Oogmetingen/Cyl dicht  Oogmetingen/As dicht  Oogmetingen/Sfr ver.1  \\\n0                   -1.0                 145.0                  -0.75   \n1                    0.0                   0.0                  -0.75   \n2                    0.0                   0.0                  -0.50   \n3                    NaN                   NaN                  -1.50   \n4                    0.0                   0.0                  -1.25   \n\n   Oogmetingen/Cyl ver.1  Oogmetingen/As ver.1  Oogmetingen/Add.1  \\\n0                  -1.00                  20.0                NaN   \n1                  -0.50                  20.0                0.0   \n2                  -0.50                  20.0                0.0   \n3                  -1.50                  90.0                NaN   \n4                  -0.75                  90.0                0.0   \n\n   Oogmetingen/Sfr dicht.1  Oogmetingen/Cyl dicht.1  Oogmetingen/As dicht.1  \n0                      NaN                     -0.5                    20.0  \n1                      0.0                      0.0                     0.0  \n2                      0.0                      0.0                     0.0  \n3                      NaN                      NaN                     NaN  \n4                      0.0                      0.0                     0.0  ",
      "text/html": "<div>\n<style scoped>\n    .dataframe tbody tr th:only-of-type {\n        vertical-align: middle;\n    }\n\n    .dataframe tbody tr th {\n        vertical-align: top;\n    }\n\n    .dataframe thead th {\n        text-align: right;\n    }\n</style>\n<table border=\"1\" class=\"dataframe\">\n  <thead>\n    <tr style=\"text-align: right;\">\n      <th></th>\n      <th>Externe ID</th>\n      <th>Geslacht</th>\n      <th>Geboortedatum</th>\n      <th>Oogmetingen/Datum</th>\n      <th>Oogmetingen/Sfr ver</th>\n      <th>Oogmetingen/Cyl ver</th>\n      <th>Oogmetingen/As ver</th>\n      <th>Oogmetingen/Add</th>\n      <th>Oogmetingen/Sfr dicht</th>\n      <th>Oogmetingen/Cyl dicht</th>\n      <th>Oogmetingen/As dicht</th>\n      <th>Oogmetingen/Sfr ver.1</th>\n      <th>Oogmetingen/Cyl ver.1</th>\n      <th>Oogmetingen/As ver.1</th>\n      <th>Oogmetingen/Add.1</th>\n      <th>Oogmetingen/Sfr dicht.1</th>\n      <th>Oogmetingen/Cyl dicht.1</th>\n      <th>Oogmetingen/As dicht.1</th>\n    </tr>\n  </thead>\n  <tbody>\n    <tr>\n      <th>0</th>\n      <td>__export__.res_partner_10972_f0a5feb4</td>\n      <td>Vrouw</td>\n      <td>1962-07-24 00:00:00</td>\n      <td>2020-05-18 00:00:00</td>\n      <td>-1.25</td>\n      <td>-0.50</td>\n      <td>145.0</td>\n      <td>NaN</td>\n      <td>NaN</td>\n      <td>-1.0</td>\n      <td>145.0</td>\n      <td>-0.75</td>\n      <td>-1.00</td>\n      <td>20.0</td>\n      <td>NaN</td>\n      <td>NaN</td>\n      <td>-0.5</td>\n      <td>20.0</td>\n    </tr>\n    <tr>\n      <th>1</th>\n      <td>NaN</td>\n      <td>NaN</td>\n      <td>NaN</td>\n      <td>2017-12-27 00:00:00</td>\n      <td>-1.25</td>\n      <td>-0.50</td>\n      <td>155.0</td>\n      <td>0.0</td>\n      <td>0.0</td>\n      <td>0.0</td>\n      <td>0.0</td>\n      <td>-0.75</td>\n      <td>-0.50</td>\n      <td>20.0</td>\n      <td>0.0</td>\n      <td>0.0</td>\n      <td>0.0</td>\n      <td>0.0</td>\n    </tr>\n    <tr>\n      <th>2</th>\n      <td>NaN</td>\n      <td>NaN</td>\n      <td>NaN</td>\n      <td>2012-02-11 00:00:00</td>\n      <td>-1.00</td>\n      <td>-0.50</td>\n      <td>155.0</td>\n      <td>0.0</td>\n      <td>0.0</td>\n      <td>0.0</td>\n      <td>0.0</td>\n      <td>-0.50</td>\n      <td>-0.50</td>\n      <td>20.0</td>\n      <td>0.0</td>\n      <td>0.0</td>\n      <td>0.0</td>\n      <td>0.0</td>\n    </tr>\n    <tr>\n      <th>3</th>\n      <td>__export__.res_partner_7722_2342b746</td>\n      <td>Man</td>\n      <td>1982-07-10 00:00:00</td>\n      <td>2020-05-16 00:00:00</td>\n      <td>-2.00</td>\n      <td>-1.50</td>\n      <td>90.0</td>\n      <td>NaN</td>\n      <td>NaN</td>\n      <td>NaN</td>\n      <td>NaN</td>\n      <td>-1.50</td>\n      <td>-1.50</td>\n      <td>90.0</td>\n      <td>NaN</td>\n      <td>NaN</td>\n      <td>NaN</td>\n      <td>NaN</td>\n    </tr>\n    <tr>\n      <th>4</th>\n      <td>NaN</td>\n      <td>NaN</td>\n      <td>NaN</td>\n      <td>2008-12-13 00:00:00</td>\n      <td>-1.25</td>\n      <td>-0.75</td>\n      <td>85.0</td>\n      <td>0.0</td>\n      <td>0.0</td>\n      <td>0.0</td>\n      <td>0.0</td>\n      <td>-1.25</td>\n      <td>-0.75</td>\n      <td>90.0</td>\n      <td>0.0</td>\n      <td>0.0</td>\n      <td>0.0</td>\n      <td>0.0</td>\n    </tr>\n  </tbody>\n</table>\n</div>"
     },
     "metadata": {},
     "execution_count": 51
    }
   ],
   "source": [
    "# import data\n",
    "dataset_og = pd.read_excel('Eye_measurements_may_2020.xls')\n",
    "# kopie maken indien we iets van de originele data nodig hebben\n",
    "dataset = dataset_og.copy()\n",
    "dataset.head(5)"
   ]
  },
  {
   "cell_type": "code",
   "execution_count": 52,
   "metadata": {},
   "outputs": [],
   "source": [
    "# forward fill toepassen voor alle records (omdat ze zo gemaakt zijn)\n",
    "dataset = dataset.fillna(method='ffill')"
   ]
  },
  {
   "cell_type": "code",
   "execution_count": 53,
   "metadata": {},
   "outputs": [
    {
     "output_type": "execute_result",
     "data": {
      "text/plain": "  Geslacht        Geboortedatum    Oogmetingen/Datum  Oogmetingen/Sfr ver  \\\n0    Vrouw  1962-07-24 00:00:00  2020-05-18 00:00:00                -1.25   \n1    Vrouw  1962-07-24 00:00:00  2017-12-27 00:00:00                -1.25   \n2    Vrouw  1962-07-24 00:00:00  2012-02-11 00:00:00                -1.00   \n3      Man  1982-07-10 00:00:00  2020-05-16 00:00:00                -2.00   \n4      Man  1982-07-10 00:00:00  2008-12-13 00:00:00                -1.25   \n\n   Oogmetingen/Cyl ver  Oogmetingen/As ver  Oogmetingen/Add  \\\n0                -0.50               145.0              NaN   \n1                -0.50               155.0              0.0   \n2                -0.50               155.0              0.0   \n3                -1.50                90.0              0.0   \n4                -0.75                85.0              0.0   \n\n   Oogmetingen/Sfr dicht  Oogmetingen/Cyl dicht  Oogmetingen/As dicht  \\\n0                    NaN                   -1.0                 145.0   \n1                    0.0                    0.0                   0.0   \n2                    0.0                    0.0                   0.0   \n3                    0.0                    0.0                   0.0   \n4                    0.0                    0.0                   0.0   \n\n   Oogmetingen/Sfr ver.1  Oogmetingen/Cyl ver.1  Oogmetingen/As ver.1  \\\n0                  -0.75                  -1.00                  20.0   \n1                  -0.75                  -0.50                  20.0   \n2                  -0.50                  -0.50                  20.0   \n3                  -1.50                  -1.50                  90.0   \n4                  -1.25                  -0.75                  90.0   \n\n   Oogmetingen/Add.1  Oogmetingen/Sfr dicht.1  Oogmetingen/Cyl dicht.1  \\\n0                NaN                      NaN                     -0.5   \n1                0.0                      0.0                      0.0   \n2                0.0                      0.0                      0.0   \n3                0.0                      0.0                      0.0   \n4                0.0                      0.0                      0.0   \n\n   Oogmetingen/As dicht.1      ID  \n0                    20.0  656160  \n1                     0.0  656160  \n2                     0.0  656160  \n3                     0.0  237465  \n4                     0.0  237465  ",
      "text/html": "<div>\n<style scoped>\n    .dataframe tbody tr th:only-of-type {\n        vertical-align: middle;\n    }\n\n    .dataframe tbody tr th {\n        vertical-align: top;\n    }\n\n    .dataframe thead th {\n        text-align: right;\n    }\n</style>\n<table border=\"1\" class=\"dataframe\">\n  <thead>\n    <tr style=\"text-align: right;\">\n      <th></th>\n      <th>Geslacht</th>\n      <th>Geboortedatum</th>\n      <th>Oogmetingen/Datum</th>\n      <th>Oogmetingen/Sfr ver</th>\n      <th>Oogmetingen/Cyl ver</th>\n      <th>Oogmetingen/As ver</th>\n      <th>Oogmetingen/Add</th>\n      <th>Oogmetingen/Sfr dicht</th>\n      <th>Oogmetingen/Cyl dicht</th>\n      <th>Oogmetingen/As dicht</th>\n      <th>Oogmetingen/Sfr ver.1</th>\n      <th>Oogmetingen/Cyl ver.1</th>\n      <th>Oogmetingen/As ver.1</th>\n      <th>Oogmetingen/Add.1</th>\n      <th>Oogmetingen/Sfr dicht.1</th>\n      <th>Oogmetingen/Cyl dicht.1</th>\n      <th>Oogmetingen/As dicht.1</th>\n      <th>ID</th>\n    </tr>\n  </thead>\n  <tbody>\n    <tr>\n      <th>0</th>\n      <td>Vrouw</td>\n      <td>1962-07-24 00:00:00</td>\n      <td>2020-05-18 00:00:00</td>\n      <td>-1.25</td>\n      <td>-0.50</td>\n      <td>145.0</td>\n      <td>NaN</td>\n      <td>NaN</td>\n      <td>-1.0</td>\n      <td>145.0</td>\n      <td>-0.75</td>\n      <td>-1.00</td>\n      <td>20.0</td>\n      <td>NaN</td>\n      <td>NaN</td>\n      <td>-0.5</td>\n      <td>20.0</td>\n      <td>656160</td>\n    </tr>\n    <tr>\n      <th>1</th>\n      <td>Vrouw</td>\n      <td>1962-07-24 00:00:00</td>\n      <td>2017-12-27 00:00:00</td>\n      <td>-1.25</td>\n      <td>-0.50</td>\n      <td>155.0</td>\n      <td>0.0</td>\n      <td>0.0</td>\n      <td>0.0</td>\n      <td>0.0</td>\n      <td>-0.75</td>\n      <td>-0.50</td>\n      <td>20.0</td>\n      <td>0.0</td>\n      <td>0.0</td>\n      <td>0.0</td>\n      <td>0.0</td>\n      <td>656160</td>\n    </tr>\n    <tr>\n      <th>2</th>\n      <td>Vrouw</td>\n      <td>1962-07-24 00:00:00</td>\n      <td>2012-02-11 00:00:00</td>\n      <td>-1.00</td>\n      <td>-0.50</td>\n      <td>155.0</td>\n      <td>0.0</td>\n      <td>0.0</td>\n      <td>0.0</td>\n      <td>0.0</td>\n      <td>-0.50</td>\n      <td>-0.50</td>\n      <td>20.0</td>\n      <td>0.0</td>\n      <td>0.0</td>\n      <td>0.0</td>\n      <td>0.0</td>\n      <td>656160</td>\n    </tr>\n    <tr>\n      <th>3</th>\n      <td>Man</td>\n      <td>1982-07-10 00:00:00</td>\n      <td>2020-05-16 00:00:00</td>\n      <td>-2.00</td>\n      <td>-1.50</td>\n      <td>90.0</td>\n      <td>0.0</td>\n      <td>0.0</td>\n      <td>0.0</td>\n      <td>0.0</td>\n      <td>-1.50</td>\n      <td>-1.50</td>\n      <td>90.0</td>\n      <td>0.0</td>\n      <td>0.0</td>\n      <td>0.0</td>\n      <td>0.0</td>\n      <td>237465</td>\n    </tr>\n    <tr>\n      <th>4</th>\n      <td>Man</td>\n      <td>1982-07-10 00:00:00</td>\n      <td>2008-12-13 00:00:00</td>\n      <td>-1.25</td>\n      <td>-0.75</td>\n      <td>85.0</td>\n      <td>0.0</td>\n      <td>0.0</td>\n      <td>0.0</td>\n      <td>0.0</td>\n      <td>-1.25</td>\n      <td>-0.75</td>\n      <td>90.0</td>\n      <td>0.0</td>\n      <td>0.0</td>\n      <td>0.0</td>\n      <td>0.0</td>\n      <td>237465</td>\n    </tr>\n  </tbody>\n</table>\n</div>"
     },
     "metadata": {},
     "execution_count": 53
    }
   ],
   "source": [
    "# ID's omzetten naar 6-cijfer random getal om verbanden tussen patienten te vermeiden\n",
    "dataset['ID'] = dataset['Externe ID'].astype('category').cat.rename_categories(random.sample(range(100000, 1000000), dataset['Externe ID'].nunique()))\n",
    "dataset = dataset.drop(columns=['Externe ID'])\n",
    "dataset.head(5)"
   ]
  },
  {
   "cell_type": "code",
   "execution_count": 54,
   "metadata": {},
   "outputs": [],
   "source": [
    "# replace geslacht met int\n",
    "dataset[['Geslacht']] = dataset[['Geslacht']].replace({'Vrouw':0, 'Man':1, 'Overige':2, 0:2})"
   ]
  },
  {
   "cell_type": "code",
   "execution_count": 56,
   "metadata": {},
   "outputs": [
    {
     "output_type": "error",
     "ename": "KeyError",
     "evalue": "'Geboortedatum'",
     "traceback": [
      "\u001b[1;31m---------------------------------------------------------------------------\u001b[0m",
      "\u001b[1;31mKeyError\u001b[0m                                  Traceback (most recent call last)",
      "\u001b[1;32mC:\\Program Files\\Python38\\lib\\site-packages\\pandas\\core\\indexes\\base.py\u001b[0m in \u001b[0;36mget_loc\u001b[1;34m(self, key, method, tolerance)\u001b[0m\n\u001b[0;32m   2645\u001b[0m             \u001b[1;32mtry\u001b[0m\u001b[1;33m:\u001b[0m\u001b[1;33m\u001b[0m\u001b[1;33m\u001b[0m\u001b[0m\n\u001b[1;32m-> 2646\u001b[1;33m                 \u001b[1;32mreturn\u001b[0m \u001b[0mself\u001b[0m\u001b[1;33m.\u001b[0m\u001b[0m_engine\u001b[0m\u001b[1;33m.\u001b[0m\u001b[0mget_loc\u001b[0m\u001b[1;33m(\u001b[0m\u001b[0mkey\u001b[0m\u001b[1;33m)\u001b[0m\u001b[1;33m\u001b[0m\u001b[1;33m\u001b[0m\u001b[0m\n\u001b[0m\u001b[0;32m   2647\u001b[0m             \u001b[1;32mexcept\u001b[0m \u001b[0mKeyError\u001b[0m\u001b[1;33m:\u001b[0m\u001b[1;33m\u001b[0m\u001b[1;33m\u001b[0m\u001b[0m\n",
      "\u001b[1;32mpandas\\_libs\\index.pyx\u001b[0m in \u001b[0;36mpandas._libs.index.IndexEngine.get_loc\u001b[1;34m()\u001b[0m\n",
      "\u001b[1;32mpandas\\_libs\\index.pyx\u001b[0m in \u001b[0;36mpandas._libs.index.IndexEngine.get_loc\u001b[1;34m()\u001b[0m\n",
      "\u001b[1;32mpandas\\_libs\\hashtable_class_helper.pxi\u001b[0m in \u001b[0;36mpandas._libs.hashtable.PyObjectHashTable.get_item\u001b[1;34m()\u001b[0m\n",
      "\u001b[1;32mpandas\\_libs\\hashtable_class_helper.pxi\u001b[0m in \u001b[0;36mpandas._libs.hashtable.PyObjectHashTable.get_item\u001b[1;34m()\u001b[0m\n",
      "\u001b[1;31mKeyError\u001b[0m: 'Geboortedatum'",
      "\nDuring handling of the above exception, another exception occurred:\n",
      "\u001b[1;31mKeyError\u001b[0m                                  Traceback (most recent call last)",
      "\u001b[1;32m<ipython-input-56-4520a845721e>\u001b[0m in \u001b[0;36m<module>\u001b[1;34m\u001b[0m\n\u001b[0;32m      1\u001b[0m \u001b[1;31m# zet de datums om naar datetime, n/a de out of bounds waarden en versnel het proces door het originele formaat te gebruiken\u001b[0m\u001b[1;33m\u001b[0m\u001b[1;33m\u001b[0m\u001b[1;33m\u001b[0m\u001b[0m\n\u001b[1;32m----> 2\u001b[1;33m \u001b[0mdataset\u001b[0m\u001b[1;33m[\u001b[0m\u001b[1;33m[\u001b[0m\u001b[1;34m'Geboortedatum'\u001b[0m\u001b[1;33m]\u001b[0m\u001b[1;33m]\u001b[0m \u001b[1;33m=\u001b[0m \u001b[0mpd\u001b[0m\u001b[1;33m.\u001b[0m\u001b[0mto_datetime\u001b[0m\u001b[1;33m(\u001b[0m\u001b[0mdataset\u001b[0m\u001b[1;33m[\u001b[0m\u001b[1;34m'Geboortedatum'\u001b[0m\u001b[1;33m]\u001b[0m\u001b[1;33m,\u001b[0m \u001b[0merrors\u001b[0m\u001b[1;33m=\u001b[0m\u001b[1;34m'coerce'\u001b[0m\u001b[1;33m,\u001b[0m \u001b[0minfer_datetime_format\u001b[0m\u001b[1;33m=\u001b[0m\u001b[1;32mTrue\u001b[0m\u001b[1;33m)\u001b[0m\u001b[1;33m\u001b[0m\u001b[1;33m\u001b[0m\u001b[0m\n\u001b[0m\u001b[0;32m      3\u001b[0m \u001b[0mdataset\u001b[0m\u001b[1;33m[\u001b[0m\u001b[1;33m[\u001b[0m\u001b[1;34m'Oogmetingen/Datum'\u001b[0m\u001b[1;33m]\u001b[0m\u001b[1;33m]\u001b[0m \u001b[1;33m=\u001b[0m \u001b[0mpd\u001b[0m\u001b[1;33m.\u001b[0m\u001b[0mto_datetime\u001b[0m\u001b[1;33m(\u001b[0m\u001b[0mdataset\u001b[0m\u001b[1;33m[\u001b[0m\u001b[1;34m'Oogmetingen/Datum'\u001b[0m\u001b[1;33m]\u001b[0m\u001b[1;33m,\u001b[0m \u001b[0merrors\u001b[0m\u001b[1;33m=\u001b[0m\u001b[1;34m'coerce'\u001b[0m\u001b[1;33m,\u001b[0m \u001b[0minfer_datetime_format\u001b[0m\u001b[1;33m=\u001b[0m\u001b[1;32mTrue\u001b[0m\u001b[1;33m)\u001b[0m\u001b[1;33m\u001b[0m\u001b[1;33m\u001b[0m\u001b[0m\n\u001b[0;32m      4\u001b[0m \u001b[1;31m# drop de n/a waarden van vorige stap\u001b[0m\u001b[1;33m\u001b[0m\u001b[1;33m\u001b[0m\u001b[1;33m\u001b[0m\u001b[0m\n\u001b[0;32m      5\u001b[0m \u001b[0mdataset\u001b[0m \u001b[1;33m=\u001b[0m \u001b[0mdataset\u001b[0m\u001b[1;33m.\u001b[0m\u001b[0mdropna\u001b[0m\u001b[1;33m(\u001b[0m\u001b[0msubset\u001b[0m\u001b[1;33m=\u001b[0m\u001b[1;33m[\u001b[0m\u001b[1;34m'Geboortedatum'\u001b[0m\u001b[1;33m,\u001b[0m\u001b[1;34m'Oogmetingen/Datum'\u001b[0m\u001b[1;33m]\u001b[0m\u001b[1;33m)\u001b[0m\u001b[1;33m\u001b[0m\u001b[1;33m\u001b[0m\u001b[0m\n",
      "\u001b[1;32mC:\\Program Files\\Python38\\lib\\site-packages\\pandas\\core\\frame.py\u001b[0m in \u001b[0;36m__getitem__\u001b[1;34m(self, key)\u001b[0m\n\u001b[0;32m   2798\u001b[0m             \u001b[1;32mif\u001b[0m \u001b[0mself\u001b[0m\u001b[1;33m.\u001b[0m\u001b[0mcolumns\u001b[0m\u001b[1;33m.\u001b[0m\u001b[0mnlevels\u001b[0m \u001b[1;33m>\u001b[0m \u001b[1;36m1\u001b[0m\u001b[1;33m:\u001b[0m\u001b[1;33m\u001b[0m\u001b[1;33m\u001b[0m\u001b[0m\n\u001b[0;32m   2799\u001b[0m                 \u001b[1;32mreturn\u001b[0m \u001b[0mself\u001b[0m\u001b[1;33m.\u001b[0m\u001b[0m_getitem_multilevel\u001b[0m\u001b[1;33m(\u001b[0m\u001b[0mkey\u001b[0m\u001b[1;33m)\u001b[0m\u001b[1;33m\u001b[0m\u001b[1;33m\u001b[0m\u001b[0m\n\u001b[1;32m-> 2800\u001b[1;33m             \u001b[0mindexer\u001b[0m \u001b[1;33m=\u001b[0m \u001b[0mself\u001b[0m\u001b[1;33m.\u001b[0m\u001b[0mcolumns\u001b[0m\u001b[1;33m.\u001b[0m\u001b[0mget_loc\u001b[0m\u001b[1;33m(\u001b[0m\u001b[0mkey\u001b[0m\u001b[1;33m)\u001b[0m\u001b[1;33m\u001b[0m\u001b[1;33m\u001b[0m\u001b[0m\n\u001b[0m\u001b[0;32m   2801\u001b[0m             \u001b[1;32mif\u001b[0m \u001b[0mis_integer\u001b[0m\u001b[1;33m(\u001b[0m\u001b[0mindexer\u001b[0m\u001b[1;33m)\u001b[0m\u001b[1;33m:\u001b[0m\u001b[1;33m\u001b[0m\u001b[1;33m\u001b[0m\u001b[0m\n\u001b[0;32m   2802\u001b[0m                 \u001b[0mindexer\u001b[0m \u001b[1;33m=\u001b[0m \u001b[1;33m[\u001b[0m\u001b[0mindexer\u001b[0m\u001b[1;33m]\u001b[0m\u001b[1;33m\u001b[0m\u001b[1;33m\u001b[0m\u001b[0m\n",
      "\u001b[1;32mC:\\Program Files\\Python38\\lib\\site-packages\\pandas\\core\\indexes\\base.py\u001b[0m in \u001b[0;36mget_loc\u001b[1;34m(self, key, method, tolerance)\u001b[0m\n\u001b[0;32m   2646\u001b[0m                 \u001b[1;32mreturn\u001b[0m \u001b[0mself\u001b[0m\u001b[1;33m.\u001b[0m\u001b[0m_engine\u001b[0m\u001b[1;33m.\u001b[0m\u001b[0mget_loc\u001b[0m\u001b[1;33m(\u001b[0m\u001b[0mkey\u001b[0m\u001b[1;33m)\u001b[0m\u001b[1;33m\u001b[0m\u001b[1;33m\u001b[0m\u001b[0m\n\u001b[0;32m   2647\u001b[0m             \u001b[1;32mexcept\u001b[0m \u001b[0mKeyError\u001b[0m\u001b[1;33m:\u001b[0m\u001b[1;33m\u001b[0m\u001b[1;33m\u001b[0m\u001b[0m\n\u001b[1;32m-> 2648\u001b[1;33m                 \u001b[1;32mreturn\u001b[0m \u001b[0mself\u001b[0m\u001b[1;33m.\u001b[0m\u001b[0m_engine\u001b[0m\u001b[1;33m.\u001b[0m\u001b[0mget_loc\u001b[0m\u001b[1;33m(\u001b[0m\u001b[0mself\u001b[0m\u001b[1;33m.\u001b[0m\u001b[0m_maybe_cast_indexer\u001b[0m\u001b[1;33m(\u001b[0m\u001b[0mkey\u001b[0m\u001b[1;33m)\u001b[0m\u001b[1;33m)\u001b[0m\u001b[1;33m\u001b[0m\u001b[1;33m\u001b[0m\u001b[0m\n\u001b[0m\u001b[0;32m   2649\u001b[0m         \u001b[0mindexer\u001b[0m \u001b[1;33m=\u001b[0m \u001b[0mself\u001b[0m\u001b[1;33m.\u001b[0m\u001b[0mget_indexer\u001b[0m\u001b[1;33m(\u001b[0m\u001b[1;33m[\u001b[0m\u001b[0mkey\u001b[0m\u001b[1;33m]\u001b[0m\u001b[1;33m,\u001b[0m \u001b[0mmethod\u001b[0m\u001b[1;33m=\u001b[0m\u001b[0mmethod\u001b[0m\u001b[1;33m,\u001b[0m \u001b[0mtolerance\u001b[0m\u001b[1;33m=\u001b[0m\u001b[0mtolerance\u001b[0m\u001b[1;33m)\u001b[0m\u001b[1;33m\u001b[0m\u001b[1;33m\u001b[0m\u001b[0m\n\u001b[0;32m   2650\u001b[0m         \u001b[1;32mif\u001b[0m \u001b[0mindexer\u001b[0m\u001b[1;33m.\u001b[0m\u001b[0mndim\u001b[0m \u001b[1;33m>\u001b[0m \u001b[1;36m1\u001b[0m \u001b[1;32mor\u001b[0m \u001b[0mindexer\u001b[0m\u001b[1;33m.\u001b[0m\u001b[0msize\u001b[0m \u001b[1;33m>\u001b[0m \u001b[1;36m1\u001b[0m\u001b[1;33m:\u001b[0m\u001b[1;33m\u001b[0m\u001b[1;33m\u001b[0m\u001b[0m\n",
      "\u001b[1;32mpandas\\_libs\\index.pyx\u001b[0m in \u001b[0;36mpandas._libs.index.IndexEngine.get_loc\u001b[1;34m()\u001b[0m\n",
      "\u001b[1;32mpandas\\_libs\\index.pyx\u001b[0m in \u001b[0;36mpandas._libs.index.IndexEngine.get_loc\u001b[1;34m()\u001b[0m\n",
      "\u001b[1;32mpandas\\_libs\\hashtable_class_helper.pxi\u001b[0m in \u001b[0;36mpandas._libs.hashtable.PyObjectHashTable.get_item\u001b[1;34m()\u001b[0m\n",
      "\u001b[1;32mpandas\\_libs\\hashtable_class_helper.pxi\u001b[0m in \u001b[0;36mpandas._libs.hashtable.PyObjectHashTable.get_item\u001b[1;34m()\u001b[0m\n",
      "\u001b[1;31mKeyError\u001b[0m: 'Geboortedatum'"
     ]
    }
   ],
   "source": [
    "# zet de datums om naar datetime, n/a de out of bounds waarden en versnel het proces door het originele formaat te gebruiken\n",
    "dataset[['Geboortedatum']] = pd.to_datetime(dataset['Geboortedatum'], errors='coerce', infer_datetime_format=True)\n",
    "dataset[['Oogmetingen/Datum']] = pd.to_datetime(dataset['Oogmetingen/Datum'], errors='coerce', infer_datetime_format=True)\n",
    "# drop de n/a waarden van vorige stap\n",
    "dataset = dataset.dropna(subset=['Geboortedatum','Oogmetingen/Datum'])"
   ]
  },
  {
   "cell_type": "code",
   "execution_count": null,
   "metadata": {},
   "outputs": [],
   "source": [
    "# Bereken leeftijd op moment van meting voor makkelijkere correlatie\n",
    "dataset['Leeftijd'] = (dataset['Oogmetingen/Datum'] - dataset['Geboortedatum']).astype('<m8[Y]')\n",
    "# drop data van 100+ leeftijd voor model niet te confusen\n",
    "dataset = dataset[dataset['Leeftijd'] <= 100]"
   ]
  },
  {
   "cell_type": "code",
   "execution_count": null,
   "metadata": {},
   "outputs": [],
   "source": [
    "# yeet deze kolommen want we hebben ze niet meer nodig\n",
    "dataset = dataset.drop(columns=['Geboortedatum','Oogmetingen/Datum'])\n",
    "dataset.sort_values(by=['Leeftijd'], ascending=True).head(20)"
   ]
  },
  {
   "cell_type": "code",
   "execution_count": null,
   "metadata": {},
   "outputs": [],
   "source": []
  },
  {
   "cell_type": "code",
   "execution_count": null,
   "metadata": {},
   "outputs": [],
   "source": []
  },
  {
   "cell_type": "code",
   "execution_count": null,
   "metadata": {},
   "outputs": [],
   "source": []
  },
  {
   "cell_type": "code",
   "execution_count": null,
   "metadata": {},
   "outputs": [],
   "source": []
  },
  {
   "cell_type": "code",
   "execution_count": null,
   "metadata": {},
   "outputs": [],
   "source": []
  },
  {
   "cell_type": "code",
   "execution_count": null,
   "metadata": {},
   "outputs": [],
   "source": []
  },
  {
   "cell_type": "code",
   "execution_count": null,
   "metadata": {},
   "outputs": [],
   "source": []
  },
  {
   "cell_type": "code",
   "execution_count": null,
   "metadata": {},
   "outputs": [],
   "source": []
  },
  {
   "cell_type": "code",
   "execution_count": null,
   "metadata": {},
   "outputs": [],
   "source": []
  }
 ],
 "metadata": {
  "language_info": {
   "codemirror_mode": {
    "name": "ipython",
    "version": 3
   },
   "file_extension": ".py",
   "mimetype": "text/x-python",
   "name": "python",
   "nbconvert_exporter": "python",
   "pygments_lexer": "ipython3",
   "version": "3.8.2-final"
  },
  "orig_nbformat": 2,
  "kernelspec": {
   "name": "python38264bitccd76772a05f4a818b85475ead832635",
   "display_name": "Python 3.8.2 64-bit"
  }
 },
 "nbformat": 4,
 "nbformat_minor": 2
}