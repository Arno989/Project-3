{
 "cells": [
  {
   "cell_type": "code",
   "execution_count": null,
   "metadata": {},
   "outputs": [],
   "source": [
    "%matplotlib inline\n",
    "\n",
    "import os\n",
    "os.environ[\"KERAS_BACKEND\"] = \"tensorflow\"\n",
    "\n",
    "\n",
    "import numpy as np\n",
    "import pandas as pd\n",
    "import matplotlib.pyplot as plt\n",
    "\n",
    "from sklearn.model_selection import train_test_split\n",
    "from sklearn.metrics import classification_report\n",
    "from sklearn.metrics import confusion_matrix, accuracy_score\n",
    "from sklearn.preprocessing import OneHotEncoder\n",
    "from sklearn import preprocessing\n",
    "\n",
    "import matplotlib.image as mpimg\n",
    "from skimage.io import imread, imshow\n",
    "\n",
    "#importeer Tensorflow namespaces\n",
    "from keras.models import Sequential\n",
    "from keras.layers import Activation\n",
    "from keras.optimizers import SGD\n",
    "from keras.layers import Dense\n",
    "from keras.utils import np_utils\n",
    "#from keras.utils.np_utils import to_categorical"
   ]
  },
  {
   "cell_type": "code",
   "execution_count": null,
   "metadata": {},
   "outputs": [],
   "source": [
    "# import data\n",
    "dataset_og = pd.read_csv('Data\\Measurements-Transformed')\n",
    "\n",
    "# kopie maken indien we iets van de originele data nodig hebben\n",
    "dataset = dataset_og.copy()\n",
    "dataset = dataset.sort_values(by=['ID', 'Measurement_Age'], ascending = False)"
   ]
  },
  {
   "cell_type": "code",
   "execution_count": null,
   "metadata": {},
   "outputs": [],
   "source": [
    "target = 'Sph-Far-R'\n",
    "y = dataset[target]\n",
    "X = dataset.drop(target, axis=1)\n",
    "X_train, X_test, y_train, y_test = train_test_split(X, y, test_size=0.2, random_state=42069)"
   ]
  },
  {
   "cell_type": "code",
   "execution_count": null,
   "metadata": {},
   "outputs": [],
   "source": [
    "# initialiseren van het neuraal netwerk\n",
    "\n",
    "model = Sequential()\n",
    "model.add(Dense(40, input_dim=40, kernel_initializer=\"uniform\",activation=\"relu\"))\n",
    "model.add(Dense(40, kernel_initializer=\"uniform\",activation='relu'))\n",
    "model.add(Dense(10))\n",
    "model.add(Activation('softmax'))"
   ]
  },
  {
   "cell_type": "code",
   "execution_count": null,
   "metadata": {},
   "outputs": [],
   "source": [
    "# trainen van het neuraal netwerk via SGD\n",
    "\n",
    "sgd = SGD(lr=0.001)\n",
    "# binary_crossentropy = logloss => geschikt voor classification\n",
    "model.compile(loss=\"categorical_crossentropy\", optimizer='adam',metrics=[\"accuracy\"]) \n",
    "#model.compile(loss=\"mean_squared_error\", optimizer=sgd,metrics=[\"accuracy\"])\n",
    "\n",
    "history = model.fit(X_train, y_train, epochs=100,validation_split=0.33, batch_size=2048,verbose=0)"
   ]
  },
  {
   "cell_type": "code",
   "execution_count": null,
   "metadata": {},
   "outputs": [],
   "source": [
    "fig = plt.figure(figsize=(16,9))\n",
    "plt.rcParams[\"axes.labelsize\"] = 15\n",
    "plt.plot(history.history['loss'],'red',linewidth=5.0)\n",
    "\n",
    "plt.xlabel('epochs')\n",
    "plt.ylabel('Training error')"
   ]
  },
  {
   "cell_type": "code",
   "execution_count": null,
   "metadata": {},
   "outputs": [],
   "source": [
    "y_predicted = model.predict_classes(X_test,batch_size=1, verbose=1)"
   ]
  },
  {
   "cell_type": "code",
   "execution_count": null,
   "metadata": {},
   "outputs": [],
   "source": [
    "y_test = df_test.label.values\n",
    "print(print(accuracy_score(test_labels, y_predicted)))"
   ]
  }
 ],
 "metadata": {
  "language_info": {
   "codemirror_mode": {
    "name": "ipython",
    "version": 3
   },
   "file_extension": ".py",
   "mimetype": "text/x-python",
   "name": "python",
   "nbconvert_exporter": "python",
   "pygments_lexer": "ipython3",
   "version": "3.8.2-final"
  },
  "orig_nbformat": 2,
  "kernelspec": {
   "name": "python38264bitccd76772a05f4a818b85475ead832635",
   "display_name": "Python 3.8.2 64-bit"
  }
 },
 "nbformat": 4,
 "nbformat_minor": 2
}