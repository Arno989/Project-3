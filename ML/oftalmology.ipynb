{
 "cells": [
  {
   "cell_type": "code",
   "execution_count": 198,
   "metadata": {},
   "outputs": [],
   "source": [
    "%matplotlib inline\n",
    "\n",
    "import random\n",
    "\n",
    "import matplotlib.pyplot as plt\n",
    "import math\n",
    "import numpy as np\n",
    "import pandas as pd\n",
    "import seaborn as sns\n",
    "from scipy import stats\n",
    "from scipy.stats import randint, uniform\n",
    "from sklearn import linear_model, preprocessing\n",
    "from sklearn.decomposition import PCA\n",
    "from sklearn.ensemble import (AdaBoostClassifier, BaggingClassifier,\n",
    "                              RandomForestClassifier, RandomForestRegressor)\n",
    "from sklearn.linear_model import Lasso, LogisticRegression, Ridge\n",
    "from sklearn.metrics import (accuracy_score, classification_report,\n",
    "                             confusion_matrix, mean_absolute_error, r2_score)\n",
    "from sklearn.model_selection import (GridSearchCV, RandomizedSearchCV,\n",
    "                                     train_test_split)\n",
    "from sklearn.preprocessing import (LabelEncoder, MinMaxScaler, OneHotEncoder,\n",
    "                                   PolynomialFeatures, RobustScaler,\n",
    "                                   StandardScaler)\n",
    "from sklearn.svm import SVC\n",
    "from sklearn.tree import DecisionTreeClassifier\n",
    "from skopt import BayesSearchCV\n",
    "\n",
    "pd.set_option('display.max_rows',1000)\n",
    "pd.set_option('display.max_columns',1000)"
   ]
  },
  {
   "cell_type": "code",
   "execution_count": 199,
   "metadata": {},
   "outputs": [],
   "source": [
    "# import data\n",
    "dataset_og = pd.read_csv('Data\\Measurements-Transformed')\n",
    "# kopie maken indien we iets van de originele data nodig hebben\n",
    "dataset = dataset_og.copy()"
   ]
  },
  {
   "cell_type": "code",
   "execution_count": 200,
   "metadata": {},
   "outputs": [],
   "source": [
    "# Splitsen in features en targets\n",
    "target = 'Sph-Far-R'\n",
    "\n",
    "y = dataset[target].values\n",
    "X = dataset.drop(target, axis=1)"
   ]
  },
  {
   "source": [
    "### Eerst proberen per feat een model te maken\n",
    "\n",
    "*bij verandering van target gewoon onderstaande var veranderen dan zou de rest moeten updaten*"
   ],
   "cell_type": "markdown",
   "metadata": {}
  },
  {
   "cell_type": "code",
   "execution_count": 201,
   "metadata": {},
   "outputs": [],
   "source": [
    "# Splitsen in train en test set\n",
    "X_train, X_test, y_train, y_test = train_test_split(X, y, test_size=0.2, random_state=42069)"
   ]
  },
  {
   "cell_type": "code",
   "execution_count": 202,
   "metadata": {
    "tags": []
   },
   "outputs": [
    {
     "output_type": "stream",
     "name": "stdout",
     "text": "r2 score =  0.8529754825718101\n"
    }
   ],
   "source": [
    "# Linear regression\n",
    "lregModel = linear_model.LinearRegression()\n",
    "lregModel.fit(X_train,y_train)\n",
    "print('r2 score = ', lregModel.score(X_test,y_test))"
   ]
  },
  {
   "cell_type": "code",
   "execution_count": 203,
   "metadata": {
    "tags": []
   },
   "outputs": [
    {
     "output_type": "stream",
     "name": "stdout",
     "text": "dimensie van X_train_poly:  (41911, 136)\nR2 score op training set via L2:  0.9139076623215756\nR2 score op test set via L2:  0.8632385569982404\nIntercept score op test set via L2:  0.08676219765320664\n"
    }
   ],
   "source": [
    "# test hogere orde features\n",
    "graad = 2\n",
    "\n",
    "polyModel = PolynomialFeatures(graad)\n",
    "polyModel.fit(X_train)\n",
    "X_train_poly = polyModel.transform(X_train)\n",
    "X_test_poly = polyModel.transform(X_test)\n",
    "print('dimensie van X_train_poly: ', X_train_poly.shape)\n",
    "\n",
    "\n",
    "# L2 regularisatie via Ridge regression\n",
    "lregPolyModel = Ridge(alpha=0.5, tol=0.0001, fit_intercept=True)\n",
    "lregPolyModel.fit(X_train_poly,y_train)\n",
    "\n",
    "print('R2 score op training set via L2: ', lregPolyModel.score(X_train_poly,y_train))\n",
    "print('R2 score op test set via L2: ', lregPolyModel.score(X_test_poly,y_test))\n",
    "print('Intercept score op test set via L2: ', lregPolyModel.intercept_)"
   ]
  },
  {
   "cell_type": "code",
   "execution_count": 204,
   "metadata": {},
   "outputs": [
    {
     "output_type": "stream",
     "name": "stdout",
     "text": "0.9307249240474735\n"
    }
   ],
   "source": [
    "# Aanmaken van de hogere orde features\n",
    "RFR_model = RandomForestRegressor(n_estimators=100)\n",
    "RFR_model.fit(X_train,y_train)\n",
    "\n",
    "print(RFR_model.score(X_test,y_test))"
   ]
  },
  {
   "source": [
    "### Sliding window"
   ],
   "cell_type": "markdown",
   "metadata": {}
  },
  {
   "cell_type": "code",
   "execution_count": 205,
   "metadata": {},
   "outputs": [],
   "source": [
    "# # Sliding window\n",
    "# window_size = 2\n",
    "# X_window = []\n",
    "# y_window = []\n",
    "\n",
    "# for w in range(window_size, X.shape[0]):\n",
    "#     X_window.append(X[w-window_size:w,:].reshape(1,-1))\n",
    "#     y_window.append(y[w-1])\n",
    "\n",
    "# X_window = np.asarray(X_window)\n",
    "# X_window = np.squeeze(X_window, axis=1)\n",
    "# y_window = np.asarray(y_window)\n",
    "\n",
    "# X_train, X_test, y_train, y_test = train_test_split(X_window, y_window, test_size=0.2, random_state=0 )\n",
    "\n",
    "# # Aanmaken van de hogere orde features\n",
    "# RFR_model.fit(X_train,y_train)\n",
    "# RFR_model.score(X_test,y_test)"
   ]
  },
  {
   "source": [
    "### Rijen aan elkaar plakken\n",
    "\n",
    "#### met var prefAmountRecords kan je kiezen welke minimum records je wil, naargelang deze grafiek is de keuze te maken:\n",
    "![Graph](https://i.imgur.com/82t9CSH.png)\n",
    "\n"
   ],
   "cell_type": "markdown",
   "metadata": {}
  },
  {
   "cell_type": "code",
   "execution_count": 206,
   "metadata": {
    "tags": [
     "outputPrepend",
     "outputPrepend",
     "outputPrepend",
     "outputPrepend",
     "outputPrepend",
     "outputPrepend",
     "outputPrepend",
     "outputPrepend",
     "outputPrepend",
     "outputPrepend",
     "outputPrepend",
     "outputPrepend",
     "outputPrepend",
     "outputPrepend"
    ]
   },
   "outputs": [
    {
     "output_type": "stream",
     "name": "stdout",
     "text": "Dropped 30493 records of 52389, 41% remaining\n"
    }
   ],
   "source": [
    "# Drop waardes die minder dan n* records hebben\n",
    "prefAmountRecords = 2\n",
    "\n",
    "preDrop = dataset.shape[0]\n",
    "dataset = dataset.groupby('ID').filter(lambda x: len(x) >= prefAmountRecords)\n",
    "dataset = dataset.groupby('ID').head(prefAmountRecords)\n",
    "postDrop = dataset.shape[0]\n",
    "\n",
    "print(f'Dropped {preDrop-postDrop} records of {preDrop}, {math.floor((postDrop/preDrop)*100)}% remaining')"
   ]
  },
  {
   "cell_type": "code",
   "execution_count": 212,
   "metadata": {},
   "outputs": [],
   "source": [
    "# print(f\"merging {prefAmountRecords} records per ID for a total of {len(dataset.groupby('ID'))} unique ID's. Current shape: {dataset.shape[0]}:{dataset.shape[1]}\")\n",
    "# mergeSet = dataset.copy()\n",
    "# df = pd.DataFrame(data=dataset['ID'])\n",
    "# for i in range(prefAmountRecords):\n",
    "#     print(i)\n",
    "#     df = df.merge(right=mergeSet, on=['ID'], suffixes=['', f'_{i}'])\n",
    "#     print(df.head(5))\n",
    "\n",
    "# print(f'Shape after merge: {dataset.shape[0]}:{dataset.shape[1]}')\n",
    "\n",
    "# print(dataset.columns)\n",
    "# dataset = dataset.sort_values(by=['Measurement_Age'])\n",
    "# #dataset = dataset.loc[:,~df.columns.duplicated()] # https://stackoverflow.com/questions/14984119 \n",
    "# dataset.head(10)\n",
    "\n",
    "# 3 rijen --------------------------------------------------------------------------------------------------------------------\n",
    "\n",
    "# from functools import reduce\n",
    "# dfs = [dataset, dataset, dataset]\n",
    "# dataset = reduce(lambda left, right: pd.merge(left, right, on=['ID', 'Sex'], suffixes=['_1', '_2']), dfs)\n",
    "\n",
    "# dataset = dataset.sort_values(by=['ID', 'Measurement_Age_1'])\n",
    "# dataset = dataset.groupby('ID').head(4)\n",
    "# dataset = dataset.drop_duplicates(subset=['ID', 'Sex'], keep='last')\n",
    "\n",
    "# y = dataset[f'{target}']\n",
    "# X = dataset.drop(columns=[col for col in dataset.columns[30:] ])\n",
    "# X.head(20)\n",
    "\n",
    "\n",
    "# 2 rijen naast elkaar zetten -------------------------------------------------------------------------------------------------\n",
    "\n",
    "dataset = dataset.merge(dataset ,on=['ID', 'Sex'], suffixes=['_0', '_1'])\n",
    "dataset = dataset.sort_values(by=['ID', 'Measurement_Age_0'])\n",
    "dataset = dataset.drop_duplicates(subset=['ID', 'Sex'], keep='first')\n",
    "\n",
    "# Splitsen in features en targets\n",
    "y = dataset[f'{target}_{prefAmountRecords-1}']\n",
    "X = dataset.drop(columns=[col for col in dataset.columns if f'_{prefAmountRecords-1}' in col])\n",
    "\n"
   ]
  },
  {
   "cell_type": "markdown",
   "metadata": {},
   "source": [
    "### Model trainen op gekozen feature en aantal records to merge"
   ]
  },
  {
   "cell_type": "code",
   "execution_count": 214,
   "metadata": {},
   "outputs": [],
   "source": [
    "# Splitsen in training set en test set\n",
    "X_train, X_test, y_train, y_test = train_test_split(X, y, test_size=.2, random_state=42069)"
   ]
  },
  {
   "cell_type": "code",
   "execution_count": 215,
   "metadata": {},
   "outputs": [
    {
     "output_type": "stream",
     "name": "stdout",
     "text": "r2 score =  0.7591257461930679\n"
    }
   ],
   "source": [
    "# Linear regression\n",
    "lregModel = linear_model.LinearRegression()\n",
    "lregModel.fit(X_train,y_train)\n",
    "print('r2 score = ', lregModel.score(X_test,y_test))"
   ]
  },
  {
   "cell_type": "code",
   "execution_count": 235,
   "metadata": {},
   "outputs": [
    {
     "output_type": "stream",
     "name": "stdout",
     "text": "Dimensie van polynomial data op graad 1: (8758, 17)\nBest accuracy :  0.7786080758977277\nBest parameters : {'tol': 234.69393061224488, 'solver': 'auto', 'fit_intercept': False, 'alpha': 0.0001} with 500 searches\n[ 1.96150261  2.20225527 -0.1704296  ... -4.22469579  0.82246156\n  0.65683431]\n"
    }
   ],
   "source": [
    "# hogere orde features\n",
    "graad = 1\n",
    "n_iter_search = 500\n",
    "parameters = {\n",
    "    'solver': ['auto', 'svd', 'cholesky', 'lsqr', 'sparse_cg', 'sag', 'saga'], \n",
    "    'alpha': np.linspace(0.0001,n_iter_search,50), \n",
    "    'tol': np.linspace(0.0001,n_iter_search,50), \n",
    "    'fit_intercept': [True, False]\n",
    "    }\n",
    "\n",
    "# Polynominal features aanmaken\n",
    "polyModel = PolynomialFeatures(graad)\n",
    "polyModel.fit(X_train)\n",
    "X_train_poly = polyModel.transform(X_train)\n",
    "X_test_poly = polyModel.transform(X_test)\n",
    "print(f'Dimensie van polynomial data op graad {graad}: {X_train_poly.shape}')\n",
    "\n",
    "# Cross-validation via random search\n",
    "lregPolyModel = Ridge()\n",
    "lregPolyRandomModel = RandomizedSearchCV(lregPolyModel, param_distributions=parameters, cv=5, n_iter=n_iter_search, n_jobs = -1, verbose=0)\n",
    "lregPolyRandomModel = lregPolyRandomModel.fit(X_train_poly, y_train)\n",
    "\n",
    "print('Best accuracy : ', lregPolyRandomModel.best_score_)\n",
    "print(f'Best parameters : {lregPolyRandomModel.best_params_} with {n_iter_search} searches')"
   ]
  },
  {
   "cell_type": "code",
   "execution_count": 236,
   "metadata": {},
   "outputs": [
    {
     "output_type": "stream",
     "name": "stdout",
     "text": "0.7772694530432923\n"
    }
   ],
   "source": [
    "# Random Forest Regression met polynominal features\n",
    "RFR_model = RandomForestRegressor(n_estimators=100)\n",
    "RFR_model.fit(X_train_poly, y_train)\n",
    "\n",
    "print(RFR_model.score(X_test_poly, y_test))"
   ]
  },
  {
   "cell_type": "code",
   "execution_count": null,
   "metadata": {},
   "outputs": [],
   "source": []
  },
  {
   "cell_type": "code",
   "execution_count": null,
   "metadata": {},
   "outputs": [],
   "source": []
  }
 ],
 "metadata": {
  "language_info": {
   "name": "python",
   "codemirror_mode": {
    "name": "ipython",
    "version": 3
   },
   "version": "3.8.2-final"
  },
  "orig_nbformat": 2,
  "file_extension": ".py",
  "mimetype": "text/x-python",
  "name": "python",
  "npconvert_exporter": "python",
  "pygments_lexer": "ipython3",
  "version": 3,
  "kernelspec": {
   "name": "python38264bitccd76772a05f4a818b85475ead832635",
   "display_name": "Python 3.8.2 64-bit"
  }
 },
 "nbformat": 4,
 "nbformat_minor": 2
}