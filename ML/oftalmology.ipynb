{
 "cells": [
  {
   "cell_type": "code",
   "execution_count": 1,
   "metadata": {},
   "outputs": [],
   "source": [
    "%matplotlib inline\n",
    "\n",
    "import numpy as np\n",
    "import pandas as pd\n",
    "import matplotlib.pyplot as plt\n",
    "import seaborn as sns\n",
    "import random\n",
    "from sklearn.model_selection import train_test_split\n",
    "from sklearn.metrics import classification_report\n",
    "from sklearn.metrics import confusion_matrix, accuracy_score\n",
    "from sklearn.preprocessing import OneHotEncoder\n",
    "from sklearn import preprocessing\n",
    "from sklearn.preprocessing import LabelEncoder\n",
    "from sklearn import linear_model\n",
    "from sklearn.linear_model import LogisticRegression\n",
    "from sklearn.decomposition import PCA\n",
    "from sklearn.model_selection import GridSearchCV\n",
    "from sklearn.model_selection import RandomizedSearchCV\n",
    "from sklearn.preprocessing import MinMaxScaler\n",
    "\n",
    "from sklearn.svm import SVC\n",
    "from scipy import stats\n",
    "from scipy.stats import randint \n",
    "from scipy.stats import uniform\n",
    "from sklearn.tree import DecisionTreeClassifier\n",
    "from sklearn.ensemble import RandomForestClassifier\n",
    "from sklearn.ensemble import BaggingClassifier\n",
    "from sklearn.ensemble import AdaBoostClassifier\n",
    "\n",
    "pd.set_option('display.max_rows',1000)\n",
    "pd.set_option('display.max_columns',1000)"
   ]
  },
  {
   "cell_type": "code",
   "execution_count": 3,
   "metadata": {},
   "outputs": [
    {
     "output_type": "execute_result",
     "data": {
      "text/plain": "   Unnamed: 0        ID  Sex  Measurement_Age  Add  Sph-Far-R  Cyl-Far-R  \\\n0           0  516642.0  0.0             57.0  0.0      -1.75       0.50   \n1           1  516642.0  0.0             55.0  0.0      -1.75       0.50   \n2           2  516642.0  0.0             49.0  0.0      -1.50       0.50   \n3           3  840697.0  1.0             37.0  0.0      -3.50       1.50   \n4           4  840697.0  1.0             26.0  0.0      -2.00       0.75   \n\n   Axis-Far-R  Sph-Close-R  Cyl-Close-R  Axis-Close-R  Sph-Far-L  Cyl-Far-L  \\\n0        55.0        -2.25          1.0          55.0      -1.75       1.00   \n1        65.0         0.00          0.0           0.0      -1.25       0.50   \n2        65.0         0.00          0.0           0.0      -1.00       0.50   \n3       180.0        -3.50          1.5         180.0      -3.00       1.50   \n4       175.0         0.00          0.0           0.0      -2.00       0.75   \n\n   Axis-Far-L  Sph-Close-L  Cyl-Close-L  Axis-Close-L  \n0       110.0        -1.25          0.5         110.0  \n1       110.0         0.00          0.0           0.0  \n2       110.0         0.00          0.0           0.0  \n3       180.0        -3.00          1.5         180.0  \n4       180.0         0.00          0.0           0.0  ",
      "text/html": "<div>\n<style scoped>\n    .dataframe tbody tr th:only-of-type {\n        vertical-align: middle;\n    }\n\n    .dataframe tbody tr th {\n        vertical-align: top;\n    }\n\n    .dataframe thead th {\n        text-align: right;\n    }\n</style>\n<table border=\"1\" class=\"dataframe\">\n  <thead>\n    <tr style=\"text-align: right;\">\n      <th></th>\n      <th>Unnamed: 0</th>\n      <th>ID</th>\n      <th>Sex</th>\n      <th>Measurement_Age</th>\n      <th>Add</th>\n      <th>Sph-Far-R</th>\n      <th>Cyl-Far-R</th>\n      <th>Axis-Far-R</th>\n      <th>Sph-Close-R</th>\n      <th>Cyl-Close-R</th>\n      <th>Axis-Close-R</th>\n      <th>Sph-Far-L</th>\n      <th>Cyl-Far-L</th>\n      <th>Axis-Far-L</th>\n      <th>Sph-Close-L</th>\n      <th>Cyl-Close-L</th>\n      <th>Axis-Close-L</th>\n    </tr>\n  </thead>\n  <tbody>\n    <tr>\n      <th>0</th>\n      <td>0</td>\n      <td>516642.0</td>\n      <td>0.0</td>\n      <td>57.0</td>\n      <td>0.0</td>\n      <td>-1.75</td>\n      <td>0.50</td>\n      <td>55.0</td>\n      <td>-2.25</td>\n      <td>1.0</td>\n      <td>55.0</td>\n      <td>-1.75</td>\n      <td>1.00</td>\n      <td>110.0</td>\n      <td>-1.25</td>\n      <td>0.5</td>\n      <td>110.0</td>\n    </tr>\n    <tr>\n      <th>1</th>\n      <td>1</td>\n      <td>516642.0</td>\n      <td>0.0</td>\n      <td>55.0</td>\n      <td>0.0</td>\n      <td>-1.75</td>\n      <td>0.50</td>\n      <td>65.0</td>\n      <td>0.00</td>\n      <td>0.0</td>\n      <td>0.0</td>\n      <td>-1.25</td>\n      <td>0.50</td>\n      <td>110.0</td>\n      <td>0.00</td>\n      <td>0.0</td>\n      <td>0.0</td>\n    </tr>\n    <tr>\n      <th>2</th>\n      <td>2</td>\n      <td>516642.0</td>\n      <td>0.0</td>\n      <td>49.0</td>\n      <td>0.0</td>\n      <td>-1.50</td>\n      <td>0.50</td>\n      <td>65.0</td>\n      <td>0.00</td>\n      <td>0.0</td>\n      <td>0.0</td>\n      <td>-1.00</td>\n      <td>0.50</td>\n      <td>110.0</td>\n      <td>0.00</td>\n      <td>0.0</td>\n      <td>0.0</td>\n    </tr>\n    <tr>\n      <th>3</th>\n      <td>3</td>\n      <td>840697.0</td>\n      <td>1.0</td>\n      <td>37.0</td>\n      <td>0.0</td>\n      <td>-3.50</td>\n      <td>1.50</td>\n      <td>180.0</td>\n      <td>-3.50</td>\n      <td>1.5</td>\n      <td>180.0</td>\n      <td>-3.00</td>\n      <td>1.50</td>\n      <td>180.0</td>\n      <td>-3.00</td>\n      <td>1.5</td>\n      <td>180.0</td>\n    </tr>\n    <tr>\n      <th>4</th>\n      <td>4</td>\n      <td>840697.0</td>\n      <td>1.0</td>\n      <td>26.0</td>\n      <td>0.0</td>\n      <td>-2.00</td>\n      <td>0.75</td>\n      <td>175.0</td>\n      <td>0.00</td>\n      <td>0.0</td>\n      <td>0.0</td>\n      <td>-2.00</td>\n      <td>0.75</td>\n      <td>180.0</td>\n      <td>0.00</td>\n      <td>0.0</td>\n      <td>0.0</td>\n    </tr>\n  </tbody>\n</table>\n</div>"
     },
     "metadata": {},
     "execution_count": 3
    }
   ],
   "source": [
    "# import data\n",
    "dataset_og = pd.read_csv('Data\\Measurements-Transformed')\n",
    "# kopie maken indien we iets van de originele data nodig hebben\n",
    "dataset = dataset_og.copy()\n",
    "dataset.head(5)"
   ]
  },
  {
   "cell_type": "code",
   "execution_count": null,
   "metadata": {},
   "outputs": [],
   "source": []
  },
  {
   "cell_type": "code",
   "execution_count": null,
   "metadata": {},
   "outputs": [],
   "source": []
  },
  {
   "cell_type": "code",
   "execution_count": null,
   "metadata": {},
   "outputs": [],
   "source": []
  },
  {
   "cell_type": "code",
   "execution_count": null,
   "metadata": {},
   "outputs": [],
   "source": []
  },
  {
   "cell_type": "code",
   "execution_count": null,
   "metadata": {},
   "outputs": [],
   "source": []
  },
  {
   "cell_type": "code",
   "execution_count": null,
   "metadata": {},
   "outputs": [],
   "source": []
  },
  {
   "cell_type": "code",
   "execution_count": null,
   "metadata": {},
   "outputs": [],
   "source": []
  },
  {
   "cell_type": "code",
   "execution_count": null,
   "metadata": {},
   "outputs": [],
   "source": []
  },
  {
   "cell_type": "code",
   "execution_count": null,
   "metadata": {},
   "outputs": [],
   "source": []
  },
  {
   "cell_type": "code",
   "execution_count": null,
   "metadata": {},
   "outputs": [],
   "source": []
  }
 ],
 "metadata": {
  "language_info": {
   "name": "python",
   "codemirror_mode": {
    "name": "ipython",
    "version": 3
   },
   "version": "3.8.2-final"
  },
  "orig_nbformat": 2,
  "file_extension": ".py",
  "mimetype": "text/x-python",
  "name": "python",
  "npconvert_exporter": "python",
  "pygments_lexer": "ipython3",
  "version": 3,
  "kernelspec": {
   "name": "python38264bitccd76772a05f4a818b85475ead832635",
   "display_name": "Python 3.8.2 64-bit"
  }
 },
 "nbformat": 4,
 "nbformat_minor": 2
}