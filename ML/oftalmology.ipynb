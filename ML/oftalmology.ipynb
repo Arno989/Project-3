{
 "cells": [
  {
   "cell_type": "code",
   "execution_count": 1,
   "metadata": {},
   "outputs": [
    {
     "output_type": "stream",
     "name": "stderr",
     "text": "Using TensorFlow backend.\n"
    }
   ],
   "source": [
    "%matplotlib inline\n",
    "\n",
    "import calendar\n",
    "import datetime\n",
    "import re\n",
    "\n",
    "import nltk\n",
    "import numpy as np\n",
    "import pandas as pd\n",
    "\n",
    "from bs4 import BeautifulSoup\n",
    "from imblearn.over_sampling import SMOTE\n",
    "from skopt import BayesSearchCV\n",
    "import seaborn as sns; sns.set(color_codes=True)\n",
    "import matplotlib.pyplot as plt\n",
    "\n",
    "from nltk.corpus import stopwords\n",
    "from nltk.stem.snowball import SnowballStemmer\n",
    "\n",
    "from scipy import stats\n",
    "from scipy.stats import randint, uniform\n",
    "\n",
    "from sklearn import linear_model, preprocessing, svm\n",
    "from sklearn.feature_extraction.text import CountVectorizer, TfidfTransformer\n",
    "from sklearn.linear_model import Lasso, LogisticRegression, Ridge\n",
    "from sklearn.metrics import (accuracy_score, classification_report,\n",
    "                             confusion_matrix, mean_absolute_error,\n",
    "                             mean_squared_error, r2_score)\n",
    "from sklearn.model_selection import (GridSearchCV, RandomizedSearchCV,\n",
    "                                     train_test_split)\n",
    "from sklearn.naive_bayes import GaussianNB, MultinomialNB\n",
    "from sklearn.preprocessing import (MinMaxScaler, PolynomialFeatures,\n",
    "                                   RobustScaler, StandardScaler)\n",
    "from sklearn.svm import SVC"
   ]
  },
  {
   "cell_type": "code",
   "execution_count": 2,
   "metadata": {},
   "outputs": [
    {
     "output_type": "execute_result",
     "data": {
      "text/plain": "                           External ID                Naam  Postcode  \\\n0  __export__.res_partner_800_7573293f  Anthony Richardson       NaN   \n1                                  NaN                 NaN       NaN   \n2  __export__.res_partner_796_e52c86ad    Peters Dominique    9031.0   \n3                                  NaN                 NaN       NaN   \n4                                  NaN                 NaN       NaN   \n\n       Plaats Geslacht Geboortedatum Oogmetingen/Datum  Oogmetingen/Sfr ver  \\\n0  Willemstad      Man     3/10/1980         3/31/2020                 1.25   \n1         NaN      NaN           NaN         1/19/2018                 1.25   \n2     Drongen      Man     5/19/1980         3/23/2020                 1.75   \n3         NaN      NaN           NaN         3/30/2016                 2.50   \n4         NaN      NaN           NaN          4/1/2012                 1.00   \n\n   Oogmetingen/Cyl ver  Oogmetingen/As ver  ...  Oogmetingen/Sfr dicht  \\\n0                 0.00                   0  ...                   1.75   \n1                 0.00                   0  ...                   1.75   \n2                 1.25                 120  ...                   4.25   \n3                 1.25                 120  ...                   4.75   \n4                 1.25                  80  ...                   1.50   \n\n   Oogmetingen/Cyl dicht  Oogmetingen/As dicht  Oogmetingen/Sfr ver.1  \\\n0                   0.00                     0                   0.75   \n1                   0.00                     0                   0.75   \n2                   1.25                   120                   0.00   \n3                   1.25                   120                   0.00   \n4                   1.25                    80                   2.00   \n\n   Oogmetingen/Cyl ver.1  Oogmetingen/As ver.1  Oogmetingen/Add.1  \\\n0                   0.00                     0               0.50   \n1                   0.00                     0               0.50   \n2                   0.00                     0               2.50   \n3                   0.00                     0               2.25   \n4                   2.25                   180               0.50   \n\n   Oogmetingen/Sfr dicht.1  Oogmetingen/Cyl dicht.1  Oogmetingen/As dicht.1  \n0                     1.25                     0.00                       0  \n1                     1.25                     0.00                       0  \n2                     2.50                     0.00                       0  \n3                     2.25                     0.00                       0  \n4                     2.50                     2.25                     180  \n\n[5 rows x 21 columns]",
      "text/html": "<div>\n<style scoped>\n    .dataframe tbody tr th:only-of-type {\n        vertical-align: middle;\n    }\n\n    .dataframe tbody tr th {\n        vertical-align: top;\n    }\n\n    .dataframe thead th {\n        text-align: right;\n    }\n</style>\n<table border=\"1\" class=\"dataframe\">\n  <thead>\n    <tr style=\"text-align: right;\">\n      <th></th>\n      <th>External ID</th>\n      <th>Naam</th>\n      <th>Postcode</th>\n      <th>Plaats</th>\n      <th>Geslacht</th>\n      <th>Geboortedatum</th>\n      <th>Oogmetingen/Datum</th>\n      <th>Oogmetingen/Sfr ver</th>\n      <th>Oogmetingen/Cyl ver</th>\n      <th>Oogmetingen/As ver</th>\n      <th>...</th>\n      <th>Oogmetingen/Sfr dicht</th>\n      <th>Oogmetingen/Cyl dicht</th>\n      <th>Oogmetingen/As dicht</th>\n      <th>Oogmetingen/Sfr ver.1</th>\n      <th>Oogmetingen/Cyl ver.1</th>\n      <th>Oogmetingen/As ver.1</th>\n      <th>Oogmetingen/Add.1</th>\n      <th>Oogmetingen/Sfr dicht.1</th>\n      <th>Oogmetingen/Cyl dicht.1</th>\n      <th>Oogmetingen/As dicht.1</th>\n    </tr>\n  </thead>\n  <tbody>\n    <tr>\n      <th>0</th>\n      <td>__export__.res_partner_800_7573293f</td>\n      <td>Anthony Richardson</td>\n      <td>NaN</td>\n      <td>Willemstad</td>\n      <td>Man</td>\n      <td>3/10/1980</td>\n      <td>3/31/2020</td>\n      <td>1.25</td>\n      <td>0.00</td>\n      <td>0</td>\n      <td>...</td>\n      <td>1.75</td>\n      <td>0.00</td>\n      <td>0</td>\n      <td>0.75</td>\n      <td>0.00</td>\n      <td>0</td>\n      <td>0.50</td>\n      <td>1.25</td>\n      <td>0.00</td>\n      <td>0</td>\n    </tr>\n    <tr>\n      <th>1</th>\n      <td>NaN</td>\n      <td>NaN</td>\n      <td>NaN</td>\n      <td>NaN</td>\n      <td>NaN</td>\n      <td>NaN</td>\n      <td>1/19/2018</td>\n      <td>1.25</td>\n      <td>0.00</td>\n      <td>0</td>\n      <td>...</td>\n      <td>1.75</td>\n      <td>0.00</td>\n      <td>0</td>\n      <td>0.75</td>\n      <td>0.00</td>\n      <td>0</td>\n      <td>0.50</td>\n      <td>1.25</td>\n      <td>0.00</td>\n      <td>0</td>\n    </tr>\n    <tr>\n      <th>2</th>\n      <td>__export__.res_partner_796_e52c86ad</td>\n      <td>Peters Dominique</td>\n      <td>9031.0</td>\n      <td>Drongen</td>\n      <td>Man</td>\n      <td>5/19/1980</td>\n      <td>3/23/2020</td>\n      <td>1.75</td>\n      <td>1.25</td>\n      <td>120</td>\n      <td>...</td>\n      <td>4.25</td>\n      <td>1.25</td>\n      <td>120</td>\n      <td>0.00</td>\n      <td>0.00</td>\n      <td>0</td>\n      <td>2.50</td>\n      <td>2.50</td>\n      <td>0.00</td>\n      <td>0</td>\n    </tr>\n    <tr>\n      <th>3</th>\n      <td>NaN</td>\n      <td>NaN</td>\n      <td>NaN</td>\n      <td>NaN</td>\n      <td>NaN</td>\n      <td>NaN</td>\n      <td>3/30/2016</td>\n      <td>2.50</td>\n      <td>1.25</td>\n      <td>120</td>\n      <td>...</td>\n      <td>4.75</td>\n      <td>1.25</td>\n      <td>120</td>\n      <td>0.00</td>\n      <td>0.00</td>\n      <td>0</td>\n      <td>2.25</td>\n      <td>2.25</td>\n      <td>0.00</td>\n      <td>0</td>\n    </tr>\n    <tr>\n      <th>4</th>\n      <td>NaN</td>\n      <td>NaN</td>\n      <td>NaN</td>\n      <td>NaN</td>\n      <td>NaN</td>\n      <td>NaN</td>\n      <td>4/1/2012</td>\n      <td>1.00</td>\n      <td>1.25</td>\n      <td>80</td>\n      <td>...</td>\n      <td>1.50</td>\n      <td>1.25</td>\n      <td>80</td>\n      <td>2.00</td>\n      <td>2.25</td>\n      <td>180</td>\n      <td>0.50</td>\n      <td>2.50</td>\n      <td>2.25</td>\n      <td>180</td>\n    </tr>\n  </tbody>\n</table>\n<p>5 rows × 21 columns</p>\n</div>"
     },
     "metadata": {},
     "execution_count": 2
    }
   ],
   "source": [
    "dataset = pd.read_csv('vision_sample.csv')\n",
    "dataset.head()"
   ]
  },
  {
   "cell_type": "code",
   "execution_count": 6,
   "metadata": {},
   "outputs": [
    {
     "output_type": "error",
     "ename": "NameError",
     "evalue": "name 'dataset' is not defined",
     "traceback": [
      "\u001b[1;31m---------------------------------------------------------------------------\u001b[0m",
      "\u001b[1;31mNameError\u001b[0m                                 Traceback (most recent call last)",
      "\u001b[1;32m<ipython-input-6-52d1e057b973>\u001b[0m in \u001b[0;36m<module>\u001b[1;34m\u001b[0m\n\u001b[1;32m----> 1\u001b[1;33m \u001b[1;32mfor\u001b[0m \u001b[0mi\u001b[0m \u001b[1;32min\u001b[0m \u001b[0mrange\u001b[0m\u001b[1;33m(\u001b[0m\u001b[0mlen\u001b[0m\u001b[1;33m(\u001b[0m\u001b[0mdataset\u001b[0m\u001b[1;33m.\u001b[0m\u001b[0mcolumns\u001b[0m\u001b[1;33m.\u001b[0m\u001b[0mvalues\u001b[0m\u001b[1;33m)\u001b[0m \u001b[1;33m-\u001b[0m \u001b[1;36m1\u001b[0m\u001b[1;33m)\u001b[0m\u001b[1;33m:\u001b[0m\u001b[1;33m\u001b[0m\u001b[1;33m\u001b[0m\u001b[0m\n\u001b[0m\u001b[0;32m      2\u001b[0m     \u001b[0mdataset\u001b[0m\u001b[1;33m.\u001b[0m\u001b[0mcolumns\u001b[0m\u001b[1;33m.\u001b[0m\u001b[0mvalues\u001b[0m\u001b[1;33m[\u001b[0m\u001b[0mi\u001b[0m\u001b[1;33m-\u001b[0m\u001b[1;36m1\u001b[0m\u001b[1;33m]\u001b[0m \u001b[1;33m=\u001b[0m \u001b[0mdataset\u001b[0m\u001b[1;33m.\u001b[0m\u001b[0mcolumns\u001b[0m\u001b[1;33m.\u001b[0m\u001b[0mvalues\u001b[0m\u001b[1;33m[\u001b[0m\u001b[0mi\u001b[0m\u001b[1;33m-\u001b[0m\u001b[1;36m1\u001b[0m\u001b[1;33m]\u001b[0m\u001b[1;33m.\u001b[0m\u001b[0mreplace\u001b[0m\u001b[1;33m(\u001b[0m\u001b[1;34m'Oogmetingen/'\u001b[0m\u001b[1;33m,\u001b[0m \u001b[1;34m''\u001b[0m\u001b[1;33m)\u001b[0m\u001b[1;33m\u001b[0m\u001b[1;33m\u001b[0m\u001b[0m\n\u001b[0;32m      3\u001b[0m \u001b[1;33m\u001b[0m\u001b[0m\n\u001b[0;32m      4\u001b[0m \u001b[0mdataset\u001b[0m\u001b[1;33m.\u001b[0m\u001b[0mdrop\u001b[0m\u001b[1;33m(\u001b[0m\u001b[1;33m[\u001b[0m\u001b[1;34m'External ID'\u001b[0m\u001b[1;33m,\u001b[0m \u001b[1;34m'Naam'\u001b[0m\u001b[1;33m,\u001b[0m \u001b[1;34m'Postcode'\u001b[0m\u001b[1;33m,\u001b[0m \u001b[1;34m'Plaats'\u001b[0m\u001b[1;33m]\u001b[0m\u001b[1;33m,\u001b[0m \u001b[0maxis\u001b[0m\u001b[1;33m=\u001b[0m\u001b[1;36m1\u001b[0m\u001b[1;33m,\u001b[0m \u001b[0minplace\u001b[0m\u001b[1;33m=\u001b[0m\u001b[1;32mTrue\u001b[0m\u001b[1;33m)\u001b[0m\u001b[1;33m\u001b[0m\u001b[1;33m\u001b[0m\u001b[0m\n\u001b[0;32m      5\u001b[0m \u001b[0mdataset\u001b[0m\u001b[1;33m.\u001b[0m\u001b[0mhead\u001b[0m\u001b[1;33m(\u001b[0m\u001b[1;33m)\u001b[0m\u001b[1;33m\u001b[0m\u001b[1;33m\u001b[0m\u001b[0m\n",
      "\u001b[1;31mNameError\u001b[0m: name 'dataset' is not defined"
     ]
    }
   ],
   "source": [
    "for i in range(len(dataset.columns.values) - 1):\n",
    "    dataset.columns.values[i-1] = dataset.columns.values[i-1].replace('Oogmetingen/', '')\n",
    "\n",
    "dataset.drop(['External ID', 'Naam', 'Postcode', 'Plaats'], axis=1, inplace=True)\n",
    "dataset.head()"
   ]
  },
  {
   "cell_type": "code",
   "execution_count": null,
   "metadata": {},
   "outputs": [],
   "source": []
  }
 ],
 "metadata": {
  "language_info": {
   "name": "python",
   "codemirror_mode": {
    "name": "ipython",
    "version": 3
   },
   "version": "3.8.2-final"
  },
  "orig_nbformat": 2,
  "file_extension": ".py",
  "mimetype": "text/x-python",
  "name": "python",
  "npconvert_exporter": "python",
  "pygments_lexer": "ipython3",
  "version": 3,
  "kernelspec": {
   "name": "python38264bitccd76772a05f4a818b85475ead832635",
   "display_name": "Python 3.8.2 64-bit"
  }
 },
 "nbformat": 4,
 "nbformat_minor": 2
}