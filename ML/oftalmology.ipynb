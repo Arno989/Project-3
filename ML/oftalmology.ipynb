{
 "cells": [
  {
   "cell_type": "code",
   "execution_count": 71,
   "metadata": {},
   "outputs": [],
   "source": [
    "%matplotlib inline\n",
    "\n",
    "import random\n",
    "\n",
    "import matplotlib.pyplot as plt\n",
    "import math\n",
    "import numpy as np\n",
    "import pandas as pd\n",
    "import seaborn as sns\n",
    "from scipy import stats\n",
    "from scipy.stats import randint, uniform\n",
    "from sklearn import linear_model, preprocessing\n",
    "from sklearn.decomposition import PCA\n",
    "from sklearn.ensemble import (AdaBoostClassifier, BaggingClassifier,\n",
    "                              RandomForestClassifier, RandomForestRegressor)\n",
    "from sklearn.linear_model import Lasso, LogisticRegression, Ridge\n",
    "from sklearn.metrics import (accuracy_score, classification_report,\n",
    "                             confusion_matrix, mean_absolute_error, r2_score)\n",
    "from sklearn.model_selection import (GridSearchCV, RandomizedSearchCV,\n",
    "                                     train_test_split)\n",
    "from sklearn.preprocessing import (LabelEncoder, MinMaxScaler, OneHotEncoder,\n",
    "                                   PolynomialFeatures, RobustScaler,\n",
    "                                   StandardScaler)\n",
    "from sklearn.svm import SVC\n",
    "from sklearn.tree import DecisionTreeClassifier\n",
    "from skopt import BayesSearchCV\n",
    "\n",
    "pd.set_option('display.max_rows',1000)\n",
    "pd.set_option('display.max_columns',1000)"
   ]
  },
  {
   "cell_type": "code",
   "execution_count": 88,
   "metadata": {},
   "outputs": [],
   "source": [
    "# import data\n",
    "dataset_og = pd.read_csv('Data\\Measurements-Transformed')\n",
    "# kopie maken indien we iets van de originele data nodig hebben\n",
    "dataset = dataset_og.copy()"
   ]
  },
  {
   "cell_type": "code",
   "execution_count": 89,
   "metadata": {},
   "outputs": [],
   "source": [
    "# Splitsen in features en targets\n",
    "target = 'Sph-Far-R'\n",
    "\n",
    "y = dataset[target].values\n",
    "X = dataset.drop(target, axis=1)"
   ]
  },
  {
   "source": [
    "### Eerst proberen per feat een model te maken\n",
    "\n",
    "*bij verandering van target gewoon onderstaande var veranderen dan zou de rest moeten updaten*"
   ],
   "cell_type": "markdown",
   "metadata": {}
  },
  {
   "cell_type": "code",
   "execution_count": 90,
   "metadata": {},
   "outputs": [],
   "source": [
    "# Splitsen in train en test set\n",
    "X_train, X_test, y_train, y_test = train_test_split(X, y, test_size=0.2, random_state=42069)"
   ]
  },
  {
   "cell_type": "code",
   "execution_count": 36,
   "metadata": {
    "tags": []
   },
   "outputs": [
    {
     "output_type": "stream",
     "name": "stdout",
     "text": "r2 score =  0.8529754825718101\n"
    }
   ],
   "source": [
    "# Linear regression\n",
    "lregModel = linear_model.LinearRegression()\n",
    "lregModel.fit(X_train,y_train)\n",
    "print('r2 score = ', lregModel.score(X_test,y_test))"
   ]
  },
  {
   "cell_type": "code",
   "execution_count": 37,
   "metadata": {
    "tags": []
   },
   "outputs": [
    {
     "output_type": "stream",
     "name": "stdout",
     "text": "dimensie van X_train_poly:  (41911, 136)\nR2 score op training set via L2:  0.9139076623215756\nR2 score op test set via L2:  0.8632385569982404\nIntercept score op test set via L2:  0.08676219765320664\n"
    }
   ],
   "source": [
    "# test hogere orde features\n",
    "graad = 2\n",
    "\n",
    "polyModel = PolynomialFeatures(graad)\n",
    "polyModel.fit(X_train)\n",
    "X_train_poly = polyModel.transform(X_train)\n",
    "X_test_poly = polyModel.transform(X_test)\n",
    "print('dimensie van X_train_poly: ', X_train_poly.shape)\n",
    "\n",
    "\n",
    "# L2 regularisatie via Ridge regression\n",
    "lregPolyModel = Ridge(alpha=0.5, tol=0.0001, fit_intercept=True)\n",
    "lregPolyModel.fit(X_train_poly,y_train)\n",
    "\n",
    "print('R2 score op training set via L2: ', lregPolyModel.score(X_train_poly,y_train))\n",
    "print('R2 score op test set via L2: ', lregPolyModel.score(X_test_poly,y_test))\n",
    "print('Intercept score op test set via L2: ', lregPolyModel.intercept_)"
   ]
  },
  {
   "cell_type": "code",
   "execution_count": 38,
   "metadata": {},
   "outputs": [
    {
     "output_type": "stream",
     "name": "stdout",
     "text": "0.9326146370763045\n"
    }
   ],
   "source": [
    "# Aanmaken van de hogere orde features\n",
    "RFR_model = RandomForestRegressor(n_estimators=100)\n",
    "RFR_model.fit(X_train,y_train)\n",
    "\n",
    "print(RFR_model.score(X_test,y_test))"
   ]
  },
  {
   "source": [
    "### Sliding window"
   ],
   "cell_type": "markdown",
   "metadata": {}
  },
  {
   "cell_type": "code",
   "execution_count": 39,
   "metadata": {},
   "outputs": [],
   "source": [
    "# # Sliding window\n",
    "# window_size = 2\n",
    "# X_window = []\n",
    "# y_window = []\n",
    "\n",
    "# for w in range(window_size, X.shape[0]):\n",
    "#     X_window.append(X[w-window_size:w,:].reshape(1,-1))\n",
    "#     y_window.append(y[w-1])\n",
    "\n",
    "# X_window = np.asarray(X_window)\n",
    "# X_window = np.squeeze(X_window, axis=1)\n",
    "# y_window = np.asarray(y_window)\n",
    "\n",
    "# X_train, X_test, y_train, y_test = train_test_split(X_window, y_window, test_size=0.2, random_state=0 )\n",
    "\n",
    "# # Aanmaken van de hogere orde features\n",
    "# RFR_model.fit(X_train,y_train)\n",
    "# RFR_model.score(X_test,y_test)"
   ]
  },
  {
   "source": [
    "### Rijen aan elkaar plakken\n",
    "\n",
    "#### met var prefAmountRecords kan je kiezen welke minimum records je wil, naargelang deze grafiek is de keuze te maken:\n",
    "![Graph](https://imgur.com/82t9CSH)\n",
    "\n"
   ],
   "cell_type": "markdown",
   "metadata": {}
  },
  {
   "cell_type": "code",
   "execution_count": 91,
   "metadata": {
    "tags": [
     "outputPrepend",
     "outputPrepend",
     "outputPrepend",
     "outputPrepend",
     "outputPrepend",
     "outputPrepend",
     "outputPrepend",
     "outputPrepend",
     "outputPrepend",
     "outputPrepend",
     "outputPrepend",
     "outputPrepend",
     "outputPrepend",
     "outputPrepend"
    ]
   },
   "outputs": [
    {
     "output_type": "stream",
     "name": "stdout",
     "text": "Dropped 32226 records of 52389, 38% remaining\n"
    }
   ],
   "source": [
    "# Drop waardes die minder dan n* records hebben\n",
    "prefAmountRecords = 3\n",
    "\n",
    "preDrop = dataset.shape[0]\n",
    "dataset = dataset.groupby('ID').filter(lambda x: len(x) >= prefAmountRecords)\n",
    "dataset = dataset.groupby('ID').head(prefAmountRecords)\n",
    "postDrop = dataset.shape[0]\n",
    "\n",
    "print(f'Dropped {preDrop-postDrop} records of {preDrop}, {math.floor((postDrop/preDrop)*100)}% remaining')"
   ]
  },
  {
   "cell_type": "code",
   "execution_count": 93,
   "metadata": {},
   "outputs": [
    {
     "output_type": "stream",
     "name": "stdout",
     "text": "merging 3 records per ID for a total of 6721 unique ID's. Current shape: 20163:16\n0\n         ID  Sex  Measurement_Age   Add  Sph-Far-R  Cyl-Far-R  Axis-Far-R  \\\n0  292138.0  0.0             47.0  0.00       0.00        0.5       125.0   \n1  292138.0  0.0             47.0  0.00       0.00        0.5       125.0   \n2  292138.0  0.0           1828.0  1.75       0.25        0.5       125.0   \n3  292138.0  0.0             47.0  0.00       0.00        0.5       125.0   \n4  292138.0  0.0             47.0  0.00       0.00        0.5       125.0   \n\n   Sph-Close-R  Cyl-Close-R  Axis-Close-R  Sph-Far-L  Cyl-Far-L  Axis-Far-L  \\\n0         0.00         0.00           0.0      -3.75       0.75        75.0   \n1         0.00         0.00           0.0      -3.75       0.75        75.0   \n2         1.75         0.75         125.0      -3.75       0.75        75.0   \n3         0.00         0.00           0.0      -3.75       0.75        75.0   \n4         0.00         0.00           0.0      -3.75       0.75        75.0   \n\n   Sph-Close-L  Cyl-Close-L  Axis-Close-L  \n0         0.00          0.0           0.0  \n1         0.00          0.0           0.0  \n2        -1.75          0.5          75.0  \n3         0.00          0.0           0.0  \n4         0.00          0.0           0.0  \n1\n         ID  Sex  Measurement_Age  Add  Sph-Far-R  Cyl-Far-R  Axis-Far-R  \\\n0  292138.0  0.0             47.0  0.0        0.0        0.5       125.0   \n1  292138.0  0.0             47.0  0.0        0.0        0.5       125.0   \n2  292138.0  0.0             47.0  0.0        0.0        0.5       125.0   \n3  292138.0  0.0             47.0  0.0        0.0        0.5       125.0   \n4  292138.0  0.0             47.0  0.0        0.0        0.5       125.0   \n\n   Sph-Close-R  Cyl-Close-R  Axis-Close-R  Sph-Far-L  Cyl-Far-L  Axis-Far-L  \\\n0          0.0          0.0           0.0      -3.75       0.75        75.0   \n1          0.0          0.0           0.0      -3.75       0.75        75.0   \n2          0.0          0.0           0.0      -3.75       0.75        75.0   \n3          0.0          0.0           0.0      -3.75       0.75        75.0   \n4          0.0          0.0           0.0      -3.75       0.75        75.0   \n\n   Sph-Close-L  Cyl-Close-L  Axis-Close-L  Sex_1  Measurement_Age_1  Add_1  \\\n0          0.0          0.0           0.0    0.0               47.0   0.00   \n1          0.0          0.0           0.0    0.0               47.0   0.00   \n2          0.0          0.0           0.0    0.0             1828.0   1.75   \n3          0.0          0.0           0.0    0.0               47.0   0.00   \n4          0.0          0.0           0.0    0.0               47.0   0.00   \n\n   Sph-Far-R_1  Cyl-Far-R_1  Axis-Far-R_1  Sph-Close-R_1  Cyl-Close-R_1  \\\n0         0.00          0.5         125.0           0.00           0.00   \n1         0.00          0.5         125.0           0.00           0.00   \n2         0.25          0.5         125.0           1.75           0.75   \n3         0.00          0.5         125.0           0.00           0.00   \n4         0.00          0.5         125.0           0.00           0.00   \n\n   Axis-Close-R_1  Sph-Far-L_1  Cyl-Far-L_1  Axis-Far-L_1  Sph-Close-L_1  \\\n0             0.0        -3.75         0.75          75.0           0.00   \n1             0.0        -3.75         0.75          75.0           0.00   \n2           125.0        -3.75         0.75          75.0          -1.75   \n3             0.0        -3.75         0.75          75.0           0.00   \n4             0.0        -3.75         0.75          75.0           0.00   \n\n   Cyl-Close-L_1  Axis-Close-L_1  \n0            0.0             0.0  \n1            0.0             0.0  \n2            0.5            75.0  \n3            0.0             0.0  \n4            0.0             0.0  \n2\n         ID  Sex  Measurement_Age  Add  Sph-Far-R  Cyl-Far-R  Axis-Far-R  \\\n0  292138.0  0.0             47.0  0.0        0.0        0.5       125.0   \n1  292138.0  0.0             47.0  0.0        0.0        0.5       125.0   \n2  292138.0  0.0             47.0  0.0        0.0        0.5       125.0   \n3  292138.0  0.0             47.0  0.0        0.0        0.5       125.0   \n4  292138.0  0.0             47.0  0.0        0.0        0.5       125.0   \n\n   Sph-Close-R  Cyl-Close-R  Axis-Close-R  Sph-Far-L  Cyl-Far-L  Axis-Far-L  \\\n0          0.0          0.0           0.0      -3.75       0.75        75.0   \n1          0.0          0.0           0.0      -3.75       0.75        75.0   \n2          0.0          0.0           0.0      -3.75       0.75        75.0   \n3          0.0          0.0           0.0      -3.75       0.75        75.0   \n4          0.0          0.0           0.0      -3.75       0.75        75.0   \n\n   Sph-Close-L  Cyl-Close-L  Axis-Close-L  Sex_1  Measurement_Age_1  Add_1  \\\n0          0.0          0.0           0.0    0.0               47.0    0.0   \n1          0.0          0.0           0.0    0.0               47.0    0.0   \n2          0.0          0.0           0.0    0.0               47.0    0.0   \n3          0.0          0.0           0.0    0.0               47.0    0.0   \n4          0.0          0.0           0.0    0.0               47.0    0.0   \n\n   Sph-Far-R_1  Cyl-Far-R_1  Axis-Far-R_1  Sph-Close-R_1  Cyl-Close-R_1  \\\n0          0.0          0.5         125.0            0.0            0.0   \n1          0.0          0.5         125.0            0.0            0.0   \n2          0.0          0.5         125.0            0.0            0.0   \n3          0.0          0.5         125.0            0.0            0.0   \n4          0.0          0.5         125.0            0.0            0.0   \n\n   Axis-Close-R_1  Sph-Far-L_1  Cyl-Far-L_1  Axis-Far-L_1  Sph-Close-L_1  \\\n0             0.0        -3.75         0.75          75.0            0.0   \n1             0.0        -3.75         0.75          75.0            0.0   \n2             0.0        -3.75         0.75          75.0            0.0   \n3             0.0        -3.75         0.75          75.0            0.0   \n4             0.0        -3.75         0.75          75.0            0.0   \n\n   Cyl-Close-L_1  Axis-Close-L_1  Sex_2  Measurement_Age_2  Add_2  \\\n0            0.0             0.0    0.0               47.0   0.00   \n1            0.0             0.0    0.0               47.0   0.00   \n2            0.0             0.0    0.0             1828.0   1.75   \n3            0.0             0.0    0.0               47.0   0.00   \n4            0.0             0.0    0.0               47.0   0.00   \n\n   Sph-Far-R_2  Cyl-Far-R_2  Axis-Far-R_2  Sph-Close-R_2  Cyl-Close-R_2  \\\n0         0.00          0.5         125.0           0.00           0.00   \n1         0.00          0.5         125.0           0.00           0.00   \n2         0.25          0.5         125.0           1.75           0.75   \n3         0.00          0.5         125.0           0.00           0.00   \n4         0.00          0.5         125.0           0.00           0.00   \n\n   Axis-Close-R_2  Sph-Far-L_2  Cyl-Far-L_2  Axis-Far-L_2  Sph-Close-L_2  \\\n0             0.0        -3.75         0.75          75.0           0.00   \n1             0.0        -3.75         0.75          75.0           0.00   \n2           125.0        -3.75         0.75          75.0          -1.75   \n3             0.0        -3.75         0.75          75.0           0.00   \n4             0.0        -3.75         0.75          75.0           0.00   \n\n   Cyl-Close-L_2  Axis-Close-L_2  \n0            0.0             0.0  \n1            0.0             0.0  \n2            0.5            75.0  \n3            0.0             0.0  \n4            0.0             0.0  \nShape after merge: 20163:16\nIndex(['ID', 'Sex', 'Measurement_Age', 'Add', 'Sph-Far-R', 'Cyl-Far-R',\n       'Axis-Far-R', 'Sph-Close-R', 'Cyl-Close-R', 'Axis-Close-R', 'Sph-Far-L',\n       'Cyl-Far-L', 'Axis-Far-L', 'Sph-Close-L', 'Cyl-Close-L',\n       'Axis-Close-L'],\n      dtype='object')\n"
    },
    {
     "output_type": "execute_result",
     "data": {
      "text/plain": "             ID  Sex  Measurement_Age   Add  Sph-Far-R  Cyl-Far-R  Axis-Far-R  \\\n21985  292138.0  0.0             47.0  0.00       0.00        0.5       125.0   \n21986  292138.0  0.0             47.0  0.00       0.00        0.5       125.0   \n28303  423449.0  0.0            187.0  0.00       0.00        0.0         0.0   \n50073  720457.0  0.0            448.0  0.00       0.75        0.0         0.0   \n37780  617287.0  1.0            714.0  2.50       1.75        0.5         0.0   \n37782  617287.0  1.0            714.0  2.50       1.75        0.0         0.0   \n37781  617287.0  1.0            714.0  2.50       1.75        0.0         0.0   \n26557  798001.0  1.0            866.0  2.25       0.50        0.5       150.0   \n16352  453314.0  1.0            916.0  0.00       8.75        2.0       165.0   \n28302  423449.0  0.0            922.0  1.75       1.50        0.0         0.0   \n\n       Sph-Close-R  Cyl-Close-R  Axis-Close-R  Sph-Far-L  Cyl-Far-L  \\\n21985         0.00         0.00           0.0      -3.75       0.75   \n21986         0.00         0.00           0.0      -3.75       0.75   \n28303         2.75         0.00           0.0       0.00       0.00   \n50073         0.00         0.00           0.0      -0.50       2.00   \n37780         4.25         0.50           0.0       1.25       0.50   \n37782         4.25         0.50           0.0       1.25       0.50   \n37781         4.25         0.50           0.0       1.25       0.50   \n26557         2.50         0.75         150.0       0.50       0.75   \n16352         0.00         0.00           0.0       8.50       1.50   \n28302         3.25         0.00           0.0       1.75       0.00   \n\n       Axis-Far-L  Sph-Close-L  Cyl-Close-L  Axis-Close-L  \n21985        75.0         0.00          0.0           0.0  \n21986        75.0         0.00          0.0           0.0  \n28303         0.0         3.00          0.0           0.0  \n50073        20.0         0.00          0.0           0.0  \n37780       180.0         3.75          0.5         180.0  \n37782       180.0         3.75          0.0         180.0  \n37781       180.0         3.75          0.0         180.0  \n26557        10.0         3.00          0.5          10.0  \n16352        15.0         0.00          0.0           0.0  \n28302         0.0         3.50          0.0           0.0  ",
      "text/html": "<div>\n<style scoped>\n    .dataframe tbody tr th:only-of-type {\n        vertical-align: middle;\n    }\n\n    .dataframe tbody tr th {\n        vertical-align: top;\n    }\n\n    .dataframe thead th {\n        text-align: right;\n    }\n</style>\n<table border=\"1\" class=\"dataframe\">\n  <thead>\n    <tr style=\"text-align: right;\">\n      <th></th>\n      <th>ID</th>\n      <th>Sex</th>\n      <th>Measurement_Age</th>\n      <th>Add</th>\n      <th>Sph-Far-R</th>\n      <th>Cyl-Far-R</th>\n      <th>Axis-Far-R</th>\n      <th>Sph-Close-R</th>\n      <th>Cyl-Close-R</th>\n      <th>Axis-Close-R</th>\n      <th>Sph-Far-L</th>\n      <th>Cyl-Far-L</th>\n      <th>Axis-Far-L</th>\n      <th>Sph-Close-L</th>\n      <th>Cyl-Close-L</th>\n      <th>Axis-Close-L</th>\n    </tr>\n  </thead>\n  <tbody>\n    <tr>\n      <th>21985</th>\n      <td>292138.0</td>\n      <td>0.0</td>\n      <td>47.0</td>\n      <td>0.00</td>\n      <td>0.00</td>\n      <td>0.5</td>\n      <td>125.0</td>\n      <td>0.00</td>\n      <td>0.00</td>\n      <td>0.0</td>\n      <td>-3.75</td>\n      <td>0.75</td>\n      <td>75.0</td>\n      <td>0.00</td>\n      <td>0.0</td>\n      <td>0.0</td>\n    </tr>\n    <tr>\n      <th>21986</th>\n      <td>292138.0</td>\n      <td>0.0</td>\n      <td>47.0</td>\n      <td>0.00</td>\n      <td>0.00</td>\n      <td>0.5</td>\n      <td>125.0</td>\n      <td>0.00</td>\n      <td>0.00</td>\n      <td>0.0</td>\n      <td>-3.75</td>\n      <td>0.75</td>\n      <td>75.0</td>\n      <td>0.00</td>\n      <td>0.0</td>\n      <td>0.0</td>\n    </tr>\n    <tr>\n      <th>28303</th>\n      <td>423449.0</td>\n      <td>0.0</td>\n      <td>187.0</td>\n      <td>0.00</td>\n      <td>0.00</td>\n      <td>0.0</td>\n      <td>0.0</td>\n      <td>2.75</td>\n      <td>0.00</td>\n      <td>0.0</td>\n      <td>0.00</td>\n      <td>0.00</td>\n      <td>0.0</td>\n      <td>3.00</td>\n      <td>0.0</td>\n      <td>0.0</td>\n    </tr>\n    <tr>\n      <th>50073</th>\n      <td>720457.0</td>\n      <td>0.0</td>\n      <td>448.0</td>\n      <td>0.00</td>\n      <td>0.75</td>\n      <td>0.0</td>\n      <td>0.0</td>\n      <td>0.00</td>\n      <td>0.00</td>\n      <td>0.0</td>\n      <td>-0.50</td>\n      <td>2.00</td>\n      <td>20.0</td>\n      <td>0.00</td>\n      <td>0.0</td>\n      <td>0.0</td>\n    </tr>\n    <tr>\n      <th>37780</th>\n      <td>617287.0</td>\n      <td>1.0</td>\n      <td>714.0</td>\n      <td>2.50</td>\n      <td>1.75</td>\n      <td>0.5</td>\n      <td>0.0</td>\n      <td>4.25</td>\n      <td>0.50</td>\n      <td>0.0</td>\n      <td>1.25</td>\n      <td>0.50</td>\n      <td>180.0</td>\n      <td>3.75</td>\n      <td>0.5</td>\n      <td>180.0</td>\n    </tr>\n    <tr>\n      <th>37782</th>\n      <td>617287.0</td>\n      <td>1.0</td>\n      <td>714.0</td>\n      <td>2.50</td>\n      <td>1.75</td>\n      <td>0.0</td>\n      <td>0.0</td>\n      <td>4.25</td>\n      <td>0.50</td>\n      <td>0.0</td>\n      <td>1.25</td>\n      <td>0.50</td>\n      <td>180.0</td>\n      <td>3.75</td>\n      <td>0.0</td>\n      <td>180.0</td>\n    </tr>\n    <tr>\n      <th>37781</th>\n      <td>617287.0</td>\n      <td>1.0</td>\n      <td>714.0</td>\n      <td>2.50</td>\n      <td>1.75</td>\n      <td>0.0</td>\n      <td>0.0</td>\n      <td>4.25</td>\n      <td>0.50</td>\n      <td>0.0</td>\n      <td>1.25</td>\n      <td>0.50</td>\n      <td>180.0</td>\n      <td>3.75</td>\n      <td>0.0</td>\n      <td>180.0</td>\n    </tr>\n    <tr>\n      <th>26557</th>\n      <td>798001.0</td>\n      <td>1.0</td>\n      <td>866.0</td>\n      <td>2.25</td>\n      <td>0.50</td>\n      <td>0.5</td>\n      <td>150.0</td>\n      <td>2.50</td>\n      <td>0.75</td>\n      <td>150.0</td>\n      <td>0.50</td>\n      <td>0.75</td>\n      <td>10.0</td>\n      <td>3.00</td>\n      <td>0.5</td>\n      <td>10.0</td>\n    </tr>\n    <tr>\n      <th>16352</th>\n      <td>453314.0</td>\n      <td>1.0</td>\n      <td>916.0</td>\n      <td>0.00</td>\n      <td>8.75</td>\n      <td>2.0</td>\n      <td>165.0</td>\n      <td>0.00</td>\n      <td>0.00</td>\n      <td>0.0</td>\n      <td>8.50</td>\n      <td>1.50</td>\n      <td>15.0</td>\n      <td>0.00</td>\n      <td>0.0</td>\n      <td>0.0</td>\n    </tr>\n    <tr>\n      <th>28302</th>\n      <td>423449.0</td>\n      <td>0.0</td>\n      <td>922.0</td>\n      <td>1.75</td>\n      <td>1.50</td>\n      <td>0.0</td>\n      <td>0.0</td>\n      <td>3.25</td>\n      <td>0.00</td>\n      <td>0.0</td>\n      <td>1.75</td>\n      <td>0.00</td>\n      <td>0.0</td>\n      <td>3.50</td>\n      <td>0.0</td>\n      <td>0.0</td>\n    </tr>\n  </tbody>\n</table>\n</div>"
     },
     "metadata": {},
     "execution_count": 93
    }
   ],
   "source": [
    "print(f\"merging {prefAmountRecords} records per ID for a total of {len(dataset.groupby('ID'))} unique ID's. Current shape: {dataset.shape[0]}:{dataset.shape[1]}\")\n",
    "mergeSet = dataset.copy()\n",
    "df = pd.DataFrame(data=dataset['ID'])\n",
    "for i in range(prefAmountRecords):\n",
    "    print(i)\n",
    "    df = df.merge(right=mergeSet, on=['ID'], suffixes=['', f'_{i}'])\n",
    "    print(df.head(5))\n",
    "\n",
    "print(f'Shape after merge: {dataset.shape[0]}:{dataset.shape[1]}')\n",
    "\n",
    "print(dataset.columns)\n",
    "dataset = dataset.sort_values(by=['Measurement_Age'])\n",
    "#dataset = dataset.loc[:,~df.columns.duplicated()] # https://stackoverflow.com/questions/14984119 \n",
    "\n",
    "dataset.head(10)"
   ]
  },
  {
   "cell_type": "code",
   "execution_count": 42,
   "metadata": {},
   "outputs": [
    {
     "output_type": "error",
     "ename": "SyntaxError",
     "evalue": "invalid syntax (<ipython-input-42-3125946fdd1d>, line 3)",
     "traceback": [
      "\u001b[1;36m  File \u001b[1;32m\"<ipython-input-42-3125946fdd1d>\"\u001b[1;36m, line \u001b[1;32m3\u001b[0m\n\u001b[1;33m    x = dataset[col for col in dataset.columns if not f'_{prefAmountRecords}' in col]\u001b[0m\n\u001b[1;37m                    ^\u001b[0m\n\u001b[1;31mSyntaxError\u001b[0m\u001b[1;31m:\u001b[0m invalid syntax\n"
     ]
    }
   ],
   "source": [
    "# Splitsen in features en targets\n",
    "y = dataset[f'{target}_{prefAmountRecords}'].values\n",
    "x = dataset[col for col in dataset.columns if not f'_{prefAmountRecords}' in col]"
   ]
  },
  {
   "cell_type": "code",
   "execution_count": 43,
   "metadata": {},
   "outputs": [],
   "source": [
    "# Splitsen in training set en test set\n",
    "X_train, X_test, y_train, y_test = train_test_split(X, y, test_size=.2, random_state=0)"
   ]
  },
  {
   "cell_type": "code",
   "execution_count": 44,
   "metadata": {},
   "outputs": [
    {
     "output_type": "stream",
     "name": "stdout",
     "text": "r2 score =  0.9091202666473615\n"
    }
   ],
   "source": [
    "# Linear regression\n",
    "lregModel = linear_model.LinearRegression()\n",
    "lregModel.fit(X_train,y_train)\n",
    "print('r2 score = ', lregModel.score(X_test,y_test))"
   ]
  },
  {
   "cell_type": "code",
   "execution_count": 45,
   "metadata": {},
   "outputs": [
    {
     "output_type": "stream",
     "name": "stdout",
     "text": "dimensie van X_train_poly:  (41911, 136)\nR2 score op training set via L2:  0.8983340985500985\nR2 score op test set via L2:  0.9251155567012139\nIntercept score op test set via L2:  0.05465077170281313\n"
    }
   ],
   "source": [
    "# hogere orde features\n",
    "graad = 2\n",
    "\n",
    "polyModel = PolynomialFeatures(graad)\n",
    "polyModel.fit(X_train)\n",
    "X_train_poly = polyModel.transform(X_train)\n",
    "X_test_poly = polyModel.transform(X_test)\n",
    "print('dimensie van X_train_poly: ', X_train_poly.shape)\n",
    "\n",
    "\n",
    "# L2 regularisatie via Ridge regression\n",
    "lregPolyModel = Ridge(alpha=0.5, tol=0.0001, fit_intercept=True)\n",
    "lregPolyModel.fit(X_train_poly,y_train)\n",
    "\n",
    "print('R2 score op training set via L2: ', lregPolyModel.score(X_train_poly,y_train))\n",
    "print('R2 score op test set via L2: ', lregPolyModel.score(X_test_poly,y_test))\n",
    "print('Intercept score op test set via L2: ', lregPolyModel.intercept_)"
   ]
  },
  {
   "cell_type": "code",
   "execution_count": null,
   "metadata": {},
   "outputs": [],
   "source": []
  },
  {
   "cell_type": "code",
   "execution_count": null,
   "metadata": {},
   "outputs": [],
   "source": []
  },
  {
   "cell_type": "code",
   "execution_count": null,
   "metadata": {},
   "outputs": [],
   "source": []
  }
 ],
 "metadata": {
  "language_info": {
   "name": "python",
   "codemirror_mode": {
    "name": "ipython",
    "version": 3
   },
   "version": "3.8.2-final"
  },
  "orig_nbformat": 2,
  "file_extension": ".py",
  "mimetype": "text/x-python",
  "name": "python",
  "npconvert_exporter": "python",
  "pygments_lexer": "ipython3",
  "version": 3,
  "kernelspec": {
   "name": "python38264bitccd76772a05f4a818b85475ead832635",
   "display_name": "Python 3.8.2 64-bit"
  }
 },
 "nbformat": 4,
 "nbformat_minor": 2
}