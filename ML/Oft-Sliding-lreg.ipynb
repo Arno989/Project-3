{
 "cells": [
  {
   "cell_type": "code",
   "execution_count": 59,
   "metadata": {},
   "outputs": [],
   "source": [
    "%matplotlib inline\n",
    "\n",
    "import random\n",
    "\n",
    "import matplotlib.pyplot as plt\n",
    "import math\n",
    "import time\n",
    "import numpy as np\n",
    "import pandas as pd\n",
    "import pandas_datareader as pdr\n",
    "import seaborn as sns\n",
    "from scipy import stats\n",
    "from scipy.stats import randint, uniform\n",
    "from sklearn import linear_model, preprocessing\n",
    "from sklearn.decomposition import PCA\n",
    "from sklearn.ensemble import (AdaBoostClassifier, BaggingClassifier,\n",
    "                              RandomForestClassifier, RandomForestRegressor)\n",
    "from sklearn.linear_model import Lasso, LogisticRegression, Ridge\n",
    "from sklearn.metrics import (accuracy_score, classification_report,\n",
    "                             confusion_matrix, mean_absolute_error, r2_score)\n",
    "from sklearn.model_selection import (GridSearchCV, RandomizedSearchCV,\n",
    "                                     train_test_split)\n",
    "from sklearn.preprocessing import (LabelEncoder, MinMaxScaler, OneHotEncoder,\n",
    "                                   PolynomialFeatures, RobustScaler,\n",
    "                                   StandardScaler)\n",
    "from sklearn.svm import SVC\n",
    "from sklearn.tree import DecisionTreeClassifier\n",
    "from skopt import BayesSearchCV\n",
    "\n",
    "pd.set_option('display.max_rows',1000)\n",
    "pd.set_option('display.max_columns',1000)"
   ]
  },
  {
   "cell_type": "code",
   "execution_count": 60,
   "metadata": {},
   "outputs": [
    {
     "output_type": "execute_result",
     "data": {
      "text/plain": "(39923, 16)"
     },
     "metadata": {},
     "execution_count": 60
    }
   ],
   "source": [
    "# import data\n",
    "dataset_og = pd.read_csv('Data\\Measurements-Transformed')\n",
    "\n",
    "# kopie maken indien we iets van de originele data nodig hebben\n",
    "dataset = dataset_og.copy()\n",
    "dataset = dataset.sort_values(by=['ID', 'Measurement_Age'], ascending = False)\n",
    "dataset.shape"
   ]
  },
  {
   "cell_type": "code",
   "execution_count": 61,
   "metadata": {},
   "outputs": [],
   "source": [
    "# Splitsen in features en targets\n",
    "target = 'Sph-Far-R'\n",
    "prefAmountRecords = 3\n"
   ]
  },
  {
   "source": [
    "### Sliding window\n",
    "\n",
    "#### met var prefAmountRecords kan je kiezen welke minimum records je wil, naargelang deze grafiek is de keuze te maken:\n",
    "![Graph](https://i.imgur.com/82t9CSH.png)\n",
    "\n"
   ],
   "cell_type": "markdown",
   "metadata": {}
  },
  {
   "cell_type": "code",
   "execution_count": 62,
   "metadata": {
    "tags": [
     "outputPrepend",
     "outputPrepend",
     "outputPrepend",
     "outputPrepend",
     "outputPrepend",
     "outputPrepend",
     "outputPrepend",
     "outputPrepend",
     "outputPrepend",
     "outputPrepend",
     "outputPrepend",
     "outputPrepend",
     "outputPrepend",
     "outputPrepend"
    ]
   },
   "outputs": [
    {
     "output_type": "stream",
     "name": "stdout",
     "text": "Dropped 24929 records of 39923, 37% remaining\n"
    }
   ],
   "source": [
    "# Drop waardes die minder dan n* records hebben\n",
    "preDrop = dataset.shape[0]\n",
    "dataset = dataset.groupby('ID').filter(lambda x: len(x) >= prefAmountRecords)\n",
    "dataset = dataset.groupby('ID').head(prefAmountRecords)\n",
    "postDrop = dataset.shape[0]\n",
    "\n",
    "print(f'Dropped {preDrop-postDrop} records of {preDrop}, {math.floor((postDrop/preDrop)*100)}% remaining')"
   ]
  },
  {
   "cell_type": "code",
   "execution_count": 63,
   "metadata": {},
   "outputs": [
    {
     "output_type": "stream",
     "name": "stdout",
     "text": "32.2130560874939\n"
    },
    {
     "output_type": "execute_result",
     "data": {
      "text/plain": "         ID  Sex  Measurement_Age_0  Add_0  Sph-Far-R_0  Cyl-Far-R_0  \\\n0  999442.0  1.0            22635.0   2.00         4.25         0.75   \n0  999316.0  0.0            22719.0   0.00         1.25         0.00   \n0  998973.0  0.0            20920.0   0.00         1.50         1.00   \n0  998945.0  0.0            27111.0   2.50         0.25         0.50   \n0  998767.0  1.0            23160.0   0.00         3.00         0.50   \n0  998724.0  0.0            24712.0   0.00         2.75         0.00   \n0  998167.0  1.0            17777.0   0.00        -3.25         0.50   \n0  998031.0  0.0             8158.0   0.00        -4.75         0.00   \n0  997916.0  0.0            24943.0   0.00        -3.75         0.00   \n0  997693.0  1.0             7441.0   0.00        -2.75         0.00   \n0  997360.0  1.0            20974.0   2.25         0.75         0.00   \n0  996818.0  1.0            29384.0   0.00         0.00         0.00   \n0  996639.0  0.0            31297.0   0.00        -0.50         0.00   \n0  996426.0  0.0            23366.0   2.50         0.50         0.50   \n0  996354.0  1.0            21362.0   2.00         2.50         0.50   \n0  995924.0  0.0             8073.0   0.00        -3.50         0.00   \n0  995243.0  0.0            23838.0   2.75        -3.50         0.75   \n0  995202.0  0.0             7879.0   0.00        -4.50         0.00   \n0  995075.0  0.0            27494.0   2.50         1.75         0.50   \n0  995019.0  0.0            29326.0   0.00         0.00         0.00   \n\n   Axis-Far-R_0  Sph-Close-R_0  Cyl-Close-R_0  Axis-Close-R_0  Sph-Far-L_0  \\\n0          10.0           6.25           0.75            10.0         4.00   \n0           0.0           1.25           0.00             0.0         1.00   \n0          80.0           1.50           1.00            80.0         2.00   \n0          15.0           2.75           0.50            15.0         1.75   \n0          90.0           3.00           0.50            90.0         3.00   \n0           0.0           0.00           0.00             0.0         2.00   \n0         120.0          -3.25           0.50           120.0        -3.50   \n0           0.0          -4.75           0.00             0.0        -3.75   \n0           0.0          -3.75           0.00             0.0        -3.00   \n0           0.0          -2.75           0.00             0.0        -2.75   \n0           0.0           2.50           0.50            90.0         0.00   \n0           0.0           3.00           0.00            75.0         0.00   \n0           0.0           2.50           0.00             0.0        -0.50   \n0          35.0           3.00           0.50            35.0         0.25   \n0         130.0           4.75           0.25           130.0         2.75   \n0           0.0          -3.50           0.00             0.0        -4.00   \n0          30.0          -1.00           1.00            30.0        -5.00   \n0           0.0          -4.50           0.00             0.0        -4.75   \n0         110.0           4.25           0.50           110.0         2.50   \n0           0.0           3.25           0.00             0.0         0.00   \n\n   Cyl-Far-L_0  Axis-Far-L_0  Sph-Close-L_0  Cyl-Close-L_0  Axis-Close-L_0  \\\n0         0.75           5.0           6.00           0.75             5.0   \n0         0.00           0.0           1.00           0.00             0.0   \n0         0.75          80.0           2.00           0.75            80.0   \n0         0.50          10.0           4.25           0.50            10.0   \n0         0.50          90.0           3.00           0.50            90.0   \n0         0.00           0.0           0.00           0.00             0.0   \n0         0.50          60.0          -3.50           0.50            60.0   \n0         0.00           0.0          -3.75           0.00             0.0   \n0         0.00           0.0          -3.00           0.00             0.0   \n0         0.00           0.0          -2.75           0.00             0.0   \n0         0.50         170.0           2.75           0.00            80.0   \n0         0.00           0.0          -1.00           1.00            90.0   \n0         0.00           0.0           2.50           0.00             0.0   \n0         0.50          70.0           2.75           0.50            70.0   \n0         0.25          10.0           4.50           0.50            10.0   \n0         0.00           0.0          -4.00           0.00             0.0   \n0         1.00         120.0          -2.00           0.75           120.0   \n0         0.00           0.0          -4.75           0.00             0.0   \n0         0.50          10.0           5.00           0.50            10.0   \n0         0.00           0.0           3.00           0.00             0.0   \n\n   Measurement_Age_1  Add_1  Sph-Far-R_1  Cyl-Far-R_1  Axis-Far-R_1  \\\n0            22040.0   2.00         3.75         0.75          20.0   \n0            22719.0   0.00         0.00         0.00           0.0   \n0            18615.0   0.00         0.00         0.00           0.0   \n0            21654.0   2.50         1.75         0.00           0.0   \n0            23160.0   0.00         0.00         0.00           0.0   \n0            24596.0   0.00         0.00         0.00           0.0   \n0            17350.0   0.00        -2.75         0.50         120.0   \n0             7324.0   0.00        -4.50         0.00           0.0   \n0            23486.0   0.00        -3.00         0.00           0.0   \n0             5998.0   0.00        -2.00         0.00           0.0   \n0            20960.0   2.25         0.75         0.00           0.0   \n0            29378.0   0.00        -1.00         1.00         165.0   \n0            30461.0   0.00        -3.50         0.00           0.0   \n0            20599.0   2.75         0.50         0.00           0.0   \n0            20290.0   2.00         2.25         0.00           0.0   \n0             7583.0   0.00        -2.75         0.00           0.0   \n0            21248.0   2.50        -3.75         0.50          10.0   \n0             7154.0   0.00        -4.50         0.00           0.0   \n0            25043.0   2.50         1.75         0.00           0.0   \n0            26976.0   0.00         1.00         0.00           0.0   \n\n   Sph-Close-R_1  Cyl-Close-R_1  Axis-Close-R_1  Sph-Far-L_1  Cyl-Far-L_1  \\\n0           5.75           0.75            20.0         3.25         0.75   \n0           4.00           0.00             0.0         0.00         0.00   \n0           1.25           0.75            85.0         0.00         0.00   \n0           4.25           0.00             0.0         1.75         0.00   \n0           2.50           0.50            90.0         0.00         0.00   \n0           0.00           0.00             0.0         0.00         0.00   \n0           0.00           0.00             0.0        -3.00         0.50   \n0           0.00           0.00             0.0        -3.25         0.00   \n0           0.00           0.00             0.0        -3.00         0.00   \n0           0.00           0.00             0.0        -2.00         0.00   \n0           2.50           0.50            90.0         0.00         0.50   \n0           0.00           0.00             0.0         0.00         0.00   \n0           0.00           0.00             0.0        -2.75         0.00   \n0           3.25           0.00             0.0         0.00         0.00   \n0           4.25           0.00             0.0         2.50         0.00   \n0           0.00           0.00             0.0        -3.25         0.00   \n0          -1.25           0.50            10.0        -5.00         0.50   \n0           0.00           0.00             0.0        -4.50         0.00   \n0           4.25           0.00             0.0         2.25         0.00   \n0           0.00           0.00             0.0         1.00         0.00   \n\n   Axis-Far-L_1  Sph-Close-L_1  Cyl-Close-L_1  Axis-Close-L_1  \\\n0           5.0           5.25           0.75             5.0   \n0           0.0           3.75           0.00             0.0   \n0           0.0           1.50           0.75            80.0   \n0           0.0           4.25           0.00             0.0   \n0           0.0           2.00           0.50            90.0   \n0           0.0           0.00           0.00             0.0   \n0          60.0           0.00           0.00             0.0   \n0           0.0           0.00           0.00             0.0   \n0           0.0           0.00           0.00             0.0   \n0           0.0           0.00           0.00             0.0   \n0         170.0           2.75           0.00            80.0   \n0           0.0           0.00           0.00             0.0   \n0           0.0           0.00           0.00             0.0   \n0           0.0           2.75           0.00             0.0   \n0           0.0           4.50           0.00             0.0   \n0           0.0           0.00           0.00             0.0   \n0         115.0          -2.50           0.50           115.0   \n0           0.0           0.00           0.00             0.0   \n0           0.0           4.75           0.00             0.0   \n0           0.0           0.00           0.00             0.0   \n\n   Measurement_Age_2  Add_2  Sph-Far-R_2  Cyl-Far-R_2  Axis-Far-R_2  \\\n0            20199.0   2.00         3.75         0.75          20.0   \n0            20595.0   2.25         0.75         0.00           0.0   \n0            17407.0   0.00         0.00         0.00           0.0   \n0            21204.0   0.00         1.75         0.00           0.0   \n0            21749.0   0.00         0.00         0.00           0.0   \n0            24596.0   0.00         0.00         0.00           0.0   \n0            17350.0   0.00        -1.75         0.50         120.0   \n0             6987.0   0.00        -3.25         0.00           0.0   \n0            20574.0   0.00        -4.00         0.00           0.0   \n0             5998.0   0.00        -1.75         0.00           0.0   \n0            19315.0   0.00         0.00         0.00           0.0   \n0            28976.0   0.00         0.00         0.00           0.0   \n0            25311.0   0.00        -3.75         0.00           0.0   \n0            20599.0   0.00         0.00         0.00           0.0   \n0            19562.0   2.00         2.00         0.00           0.0   \n0             7174.0   0.00        -1.75         0.00           0.0   \n0            19898.0   0.00        -3.75         0.50          10.0   \n0             7154.0   0.00        -4.50         0.00           0.0   \n0            24323.0   2.25         1.50         0.00           0.0   \n0            25933.0   0.00         0.50         0.50          65.0   \n\n   Sph-Close-R_2  Cyl-Close-R_2  Axis-Close-R_2  Sph-Far-L_2  Cyl-Far-L_2  \\\n0           5.75           0.75            20.0         3.25         0.75   \n0           3.00           0.00             0.0         0.75         0.00   \n0           0.75           0.75            90.0         0.00         0.00   \n0           4.00           0.00             0.0         1.75         0.00   \n0           1.75           0.50            90.0         0.00         0.00   \n0           4.50           0.00             0.0         0.00         0.00   \n0           0.00           0.00             0.0        -2.00         0.50   \n0           0.00           0.00             0.0        -2.75         0.00   \n0           0.00           0.00             0.0        -4.00         0.00   \n0           0.00           0.00             0.0        -1.75         0.00   \n0           2.00           0.50            90.0         0.00         0.00   \n0           3.00           0.00            75.0         0.00         0.00   \n0           0.00           0.00             0.0        -2.75         0.00   \n0           3.25           0.00             0.0         0.00         0.00   \n0           4.00           0.00             0.0         2.25         0.00   \n0           0.00           0.00             0.0        -2.50         0.00   \n0           0.00           0.00             0.0        -5.00         0.50   \n0           0.00           0.00             0.0        -4.50         0.00   \n0           3.75           0.00             0.0         1.25         0.00   \n0           0.00           0.00             0.0         1.00         0.00   \n\n   Axis-Far-L_2  Sph-Close-L_2  Cyl-Close-L_2  Axis-Close-L_2  \n0           5.0           5.25           0.75             5.0  \n0           0.0           3.00           0.00             0.0  \n0           0.0           1.50           0.25            90.0  \n0           0.0           4.00           0.00             0.0  \n0           0.0           1.75           0.50            90.0  \n0           0.0           5.25           0.00             0.0  \n0          60.0           0.00           0.00             0.0  \n0           0.0           0.00           0.00             0.0  \n0           0.0           0.00           0.00             0.0  \n0           0.0           0.00           0.00             0.0  \n0           0.0           2.50           0.00            90.0  \n0           0.0           2.00           1.00            90.0  \n0           0.0           0.00           0.00             0.0  \n0           0.0           2.75           0.00             0.0  \n0           0.0           4.25           0.00             0.0  \n0           0.0           0.00           0.00             0.0  \n0         115.0           0.00           0.00             0.0  \n0           0.0           0.00           0.00             0.0  \n0           0.0           3.50           0.00             0.0  \n0           0.0           0.00           0.00             0.0  ",
      "text/html": "<div>\n<style scoped>\n    .dataframe tbody tr th:only-of-type {\n        vertical-align: middle;\n    }\n\n    .dataframe tbody tr th {\n        vertical-align: top;\n    }\n\n    .dataframe thead th {\n        text-align: right;\n    }\n</style>\n<table border=\"1\" class=\"dataframe\">\n  <thead>\n    <tr style=\"text-align: right;\">\n      <th></th>\n      <th>ID</th>\n      <th>Sex</th>\n      <th>Measurement_Age_0</th>\n      <th>Add_0</th>\n      <th>Sph-Far-R_0</th>\n      <th>Cyl-Far-R_0</th>\n      <th>Axis-Far-R_0</th>\n      <th>Sph-Close-R_0</th>\n      <th>Cyl-Close-R_0</th>\n      <th>Axis-Close-R_0</th>\n      <th>Sph-Far-L_0</th>\n      <th>Cyl-Far-L_0</th>\n      <th>Axis-Far-L_0</th>\n      <th>Sph-Close-L_0</th>\n      <th>Cyl-Close-L_0</th>\n      <th>Axis-Close-L_0</th>\n      <th>Measurement_Age_1</th>\n      <th>Add_1</th>\n      <th>Sph-Far-R_1</th>\n      <th>Cyl-Far-R_1</th>\n      <th>Axis-Far-R_1</th>\n      <th>Sph-Close-R_1</th>\n      <th>Cyl-Close-R_1</th>\n      <th>Axis-Close-R_1</th>\n      <th>Sph-Far-L_1</th>\n      <th>Cyl-Far-L_1</th>\n      <th>Axis-Far-L_1</th>\n      <th>Sph-Close-L_1</th>\n      <th>Cyl-Close-L_1</th>\n      <th>Axis-Close-L_1</th>\n      <th>Measurement_Age_2</th>\n      <th>Add_2</th>\n      <th>Sph-Far-R_2</th>\n      <th>Cyl-Far-R_2</th>\n      <th>Axis-Far-R_2</th>\n      <th>Sph-Close-R_2</th>\n      <th>Cyl-Close-R_2</th>\n      <th>Axis-Close-R_2</th>\n      <th>Sph-Far-L_2</th>\n      <th>Cyl-Far-L_2</th>\n      <th>Axis-Far-L_2</th>\n      <th>Sph-Close-L_2</th>\n      <th>Cyl-Close-L_2</th>\n      <th>Axis-Close-L_2</th>\n    </tr>\n  </thead>\n  <tbody>\n    <tr>\n      <th>0</th>\n      <td>999442.0</td>\n      <td>1.0</td>\n      <td>22635.0</td>\n      <td>2.00</td>\n      <td>4.25</td>\n      <td>0.75</td>\n      <td>10.0</td>\n      <td>6.25</td>\n      <td>0.75</td>\n      <td>10.0</td>\n      <td>4.00</td>\n      <td>0.75</td>\n      <td>5.0</td>\n      <td>6.00</td>\n      <td>0.75</td>\n      <td>5.0</td>\n      <td>22040.0</td>\n      <td>2.00</td>\n      <td>3.75</td>\n      <td>0.75</td>\n      <td>20.0</td>\n      <td>5.75</td>\n      <td>0.75</td>\n      <td>20.0</td>\n      <td>3.25</td>\n      <td>0.75</td>\n      <td>5.0</td>\n      <td>5.25</td>\n      <td>0.75</td>\n      <td>5.0</td>\n      <td>20199.0</td>\n      <td>2.00</td>\n      <td>3.75</td>\n      <td>0.75</td>\n      <td>20.0</td>\n      <td>5.75</td>\n      <td>0.75</td>\n      <td>20.0</td>\n      <td>3.25</td>\n      <td>0.75</td>\n      <td>5.0</td>\n      <td>5.25</td>\n      <td>0.75</td>\n      <td>5.0</td>\n    </tr>\n    <tr>\n      <th>0</th>\n      <td>999316.0</td>\n      <td>0.0</td>\n      <td>22719.0</td>\n      <td>0.00</td>\n      <td>1.25</td>\n      <td>0.00</td>\n      <td>0.0</td>\n      <td>1.25</td>\n      <td>0.00</td>\n      <td>0.0</td>\n      <td>1.00</td>\n      <td>0.00</td>\n      <td>0.0</td>\n      <td>1.00</td>\n      <td>0.00</td>\n      <td>0.0</td>\n      <td>22719.0</td>\n      <td>0.00</td>\n      <td>0.00</td>\n      <td>0.00</td>\n      <td>0.0</td>\n      <td>4.00</td>\n      <td>0.00</td>\n      <td>0.0</td>\n      <td>0.00</td>\n      <td>0.00</td>\n      <td>0.0</td>\n      <td>3.75</td>\n      <td>0.00</td>\n      <td>0.0</td>\n      <td>20595.0</td>\n      <td>2.25</td>\n      <td>0.75</td>\n      <td>0.00</td>\n      <td>0.0</td>\n      <td>3.00</td>\n      <td>0.00</td>\n      <td>0.0</td>\n      <td>0.75</td>\n      <td>0.00</td>\n      <td>0.0</td>\n      <td>3.00</td>\n      <td>0.00</td>\n      <td>0.0</td>\n    </tr>\n    <tr>\n      <th>0</th>\n      <td>998973.0</td>\n      <td>0.0</td>\n      <td>20920.0</td>\n      <td>0.00</td>\n      <td>1.50</td>\n      <td>1.00</td>\n      <td>80.0</td>\n      <td>1.50</td>\n      <td>1.00</td>\n      <td>80.0</td>\n      <td>2.00</td>\n      <td>0.75</td>\n      <td>80.0</td>\n      <td>2.00</td>\n      <td>0.75</td>\n      <td>80.0</td>\n      <td>18615.0</td>\n      <td>0.00</td>\n      <td>0.00</td>\n      <td>0.00</td>\n      <td>0.0</td>\n      <td>1.25</td>\n      <td>0.75</td>\n      <td>85.0</td>\n      <td>0.00</td>\n      <td>0.00</td>\n      <td>0.0</td>\n      <td>1.50</td>\n      <td>0.75</td>\n      <td>80.0</td>\n      <td>17407.0</td>\n      <td>0.00</td>\n      <td>0.00</td>\n      <td>0.00</td>\n      <td>0.0</td>\n      <td>0.75</td>\n      <td>0.75</td>\n      <td>90.0</td>\n      <td>0.00</td>\n      <td>0.00</td>\n      <td>0.0</td>\n      <td>1.50</td>\n      <td>0.25</td>\n      <td>90.0</td>\n    </tr>\n    <tr>\n      <th>0</th>\n      <td>998945.0</td>\n      <td>0.0</td>\n      <td>27111.0</td>\n      <td>2.50</td>\n      <td>0.25</td>\n      <td>0.50</td>\n      <td>15.0</td>\n      <td>2.75</td>\n      <td>0.50</td>\n      <td>15.0</td>\n      <td>1.75</td>\n      <td>0.50</td>\n      <td>10.0</td>\n      <td>4.25</td>\n      <td>0.50</td>\n      <td>10.0</td>\n      <td>21654.0</td>\n      <td>2.50</td>\n      <td>1.75</td>\n      <td>0.00</td>\n      <td>0.0</td>\n      <td>4.25</td>\n      <td>0.00</td>\n      <td>0.0</td>\n      <td>1.75</td>\n      <td>0.00</td>\n      <td>0.0</td>\n      <td>4.25</td>\n      <td>0.00</td>\n      <td>0.0</td>\n      <td>21204.0</td>\n      <td>0.00</td>\n      <td>1.75</td>\n      <td>0.00</td>\n      <td>0.0</td>\n      <td>4.00</td>\n      <td>0.00</td>\n      <td>0.0</td>\n      <td>1.75</td>\n      <td>0.00</td>\n      <td>0.0</td>\n      <td>4.00</td>\n      <td>0.00</td>\n      <td>0.0</td>\n    </tr>\n    <tr>\n      <th>0</th>\n      <td>998767.0</td>\n      <td>1.0</td>\n      <td>23160.0</td>\n      <td>0.00</td>\n      <td>3.00</td>\n      <td>0.50</td>\n      <td>90.0</td>\n      <td>3.00</td>\n      <td>0.50</td>\n      <td>90.0</td>\n      <td>3.00</td>\n      <td>0.50</td>\n      <td>90.0</td>\n      <td>3.00</td>\n      <td>0.50</td>\n      <td>90.0</td>\n      <td>23160.0</td>\n      <td>0.00</td>\n      <td>0.00</td>\n      <td>0.00</td>\n      <td>0.0</td>\n      <td>2.50</td>\n      <td>0.50</td>\n      <td>90.0</td>\n      <td>0.00</td>\n      <td>0.00</td>\n      <td>0.0</td>\n      <td>2.00</td>\n      <td>0.50</td>\n      <td>90.0</td>\n      <td>21749.0</td>\n      <td>0.00</td>\n      <td>0.00</td>\n      <td>0.00</td>\n      <td>0.0</td>\n      <td>1.75</td>\n      <td>0.50</td>\n      <td>90.0</td>\n      <td>0.00</td>\n      <td>0.00</td>\n      <td>0.0</td>\n      <td>1.75</td>\n      <td>0.50</td>\n      <td>90.0</td>\n    </tr>\n    <tr>\n      <th>0</th>\n      <td>998724.0</td>\n      <td>0.0</td>\n      <td>24712.0</td>\n      <td>0.00</td>\n      <td>2.75</td>\n      <td>0.00</td>\n      <td>0.0</td>\n      <td>0.00</td>\n      <td>0.00</td>\n      <td>0.0</td>\n      <td>2.00</td>\n      <td>0.00</td>\n      <td>0.0</td>\n      <td>0.00</td>\n      <td>0.00</td>\n      <td>0.0</td>\n      <td>24596.0</td>\n      <td>0.00</td>\n      <td>0.00</td>\n      <td>0.00</td>\n      <td>0.0</td>\n      <td>0.00</td>\n      <td>0.00</td>\n      <td>0.0</td>\n      <td>0.00</td>\n      <td>0.00</td>\n      <td>0.0</td>\n      <td>0.00</td>\n      <td>0.00</td>\n      <td>0.0</td>\n      <td>24596.0</td>\n      <td>0.00</td>\n      <td>0.00</td>\n      <td>0.00</td>\n      <td>0.0</td>\n      <td>4.50</td>\n      <td>0.00</td>\n      <td>0.0</td>\n      <td>0.00</td>\n      <td>0.00</td>\n      <td>0.0</td>\n      <td>5.25</td>\n      <td>0.00</td>\n      <td>0.0</td>\n    </tr>\n    <tr>\n      <th>0</th>\n      <td>998167.0</td>\n      <td>1.0</td>\n      <td>17777.0</td>\n      <td>0.00</td>\n      <td>-3.25</td>\n      <td>0.50</td>\n      <td>120.0</td>\n      <td>-3.25</td>\n      <td>0.50</td>\n      <td>120.0</td>\n      <td>-3.50</td>\n      <td>0.50</td>\n      <td>60.0</td>\n      <td>-3.50</td>\n      <td>0.50</td>\n      <td>60.0</td>\n      <td>17350.0</td>\n      <td>0.00</td>\n      <td>-2.75</td>\n      <td>0.50</td>\n      <td>120.0</td>\n      <td>0.00</td>\n      <td>0.00</td>\n      <td>0.0</td>\n      <td>-3.00</td>\n      <td>0.50</td>\n      <td>60.0</td>\n      <td>0.00</td>\n      <td>0.00</td>\n      <td>0.0</td>\n      <td>17350.0</td>\n      <td>0.00</td>\n      <td>-1.75</td>\n      <td>0.50</td>\n      <td>120.0</td>\n      <td>0.00</td>\n      <td>0.00</td>\n      <td>0.0</td>\n      <td>-2.00</td>\n      <td>0.50</td>\n      <td>60.0</td>\n      <td>0.00</td>\n      <td>0.00</td>\n      <td>0.0</td>\n    </tr>\n    <tr>\n      <th>0</th>\n      <td>998031.0</td>\n      <td>0.0</td>\n      <td>8158.0</td>\n      <td>0.00</td>\n      <td>-4.75</td>\n      <td>0.00</td>\n      <td>0.0</td>\n      <td>-4.75</td>\n      <td>0.00</td>\n      <td>0.0</td>\n      <td>-3.75</td>\n      <td>0.00</td>\n      <td>0.0</td>\n      <td>-3.75</td>\n      <td>0.00</td>\n      <td>0.0</td>\n      <td>7324.0</td>\n      <td>0.00</td>\n      <td>-4.50</td>\n      <td>0.00</td>\n      <td>0.0</td>\n      <td>0.00</td>\n      <td>0.00</td>\n      <td>0.0</td>\n      <td>-3.25</td>\n      <td>0.00</td>\n      <td>0.0</td>\n      <td>0.00</td>\n      <td>0.00</td>\n      <td>0.0</td>\n      <td>6987.0</td>\n      <td>0.00</td>\n      <td>-3.25</td>\n      <td>0.00</td>\n      <td>0.0</td>\n      <td>0.00</td>\n      <td>0.00</td>\n      <td>0.0</td>\n      <td>-2.75</td>\n      <td>0.00</td>\n      <td>0.0</td>\n      <td>0.00</td>\n      <td>0.00</td>\n      <td>0.0</td>\n    </tr>\n    <tr>\n      <th>0</th>\n      <td>997916.0</td>\n      <td>0.0</td>\n      <td>24943.0</td>\n      <td>0.00</td>\n      <td>-3.75</td>\n      <td>0.00</td>\n      <td>0.0</td>\n      <td>-3.75</td>\n      <td>0.00</td>\n      <td>0.0</td>\n      <td>-3.00</td>\n      <td>0.00</td>\n      <td>0.0</td>\n      <td>-3.00</td>\n      <td>0.00</td>\n      <td>0.0</td>\n      <td>23486.0</td>\n      <td>0.00</td>\n      <td>-3.00</td>\n      <td>0.00</td>\n      <td>0.0</td>\n      <td>0.00</td>\n      <td>0.00</td>\n      <td>0.0</td>\n      <td>-3.00</td>\n      <td>0.00</td>\n      <td>0.0</td>\n      <td>0.00</td>\n      <td>0.00</td>\n      <td>0.0</td>\n      <td>20574.0</td>\n      <td>0.00</td>\n      <td>-4.00</td>\n      <td>0.00</td>\n      <td>0.0</td>\n      <td>0.00</td>\n      <td>0.00</td>\n      <td>0.0</td>\n      <td>-4.00</td>\n      <td>0.00</td>\n      <td>0.0</td>\n      <td>0.00</td>\n      <td>0.00</td>\n      <td>0.0</td>\n    </tr>\n    <tr>\n      <th>0</th>\n      <td>997693.0</td>\n      <td>1.0</td>\n      <td>7441.0</td>\n      <td>0.00</td>\n      <td>-2.75</td>\n      <td>0.00</td>\n      <td>0.0</td>\n      <td>-2.75</td>\n      <td>0.00</td>\n      <td>0.0</td>\n      <td>-2.75</td>\n      <td>0.00</td>\n      <td>0.0</td>\n      <td>-2.75</td>\n      <td>0.00</td>\n      <td>0.0</td>\n      <td>5998.0</td>\n      <td>0.00</td>\n      <td>-2.00</td>\n      <td>0.00</td>\n      <td>0.0</td>\n      <td>0.00</td>\n      <td>0.00</td>\n      <td>0.0</td>\n      <td>-2.00</td>\n      <td>0.00</td>\n      <td>0.0</td>\n      <td>0.00</td>\n      <td>0.00</td>\n      <td>0.0</td>\n      <td>5998.0</td>\n      <td>0.00</td>\n      <td>-1.75</td>\n      <td>0.00</td>\n      <td>0.0</td>\n      <td>0.00</td>\n      <td>0.00</td>\n      <td>0.0</td>\n      <td>-1.75</td>\n      <td>0.00</td>\n      <td>0.0</td>\n      <td>0.00</td>\n      <td>0.00</td>\n      <td>0.0</td>\n    </tr>\n    <tr>\n      <th>0</th>\n      <td>997360.0</td>\n      <td>1.0</td>\n      <td>20974.0</td>\n      <td>2.25</td>\n      <td>0.75</td>\n      <td>0.00</td>\n      <td>0.0</td>\n      <td>2.50</td>\n      <td>0.50</td>\n      <td>90.0</td>\n      <td>0.00</td>\n      <td>0.50</td>\n      <td>170.0</td>\n      <td>2.75</td>\n      <td>0.00</td>\n      <td>80.0</td>\n      <td>20960.0</td>\n      <td>2.25</td>\n      <td>0.75</td>\n      <td>0.00</td>\n      <td>0.0</td>\n      <td>2.50</td>\n      <td>0.50</td>\n      <td>90.0</td>\n      <td>0.00</td>\n      <td>0.50</td>\n      <td>170.0</td>\n      <td>2.75</td>\n      <td>0.00</td>\n      <td>80.0</td>\n      <td>19315.0</td>\n      <td>0.00</td>\n      <td>0.00</td>\n      <td>0.00</td>\n      <td>0.0</td>\n      <td>2.00</td>\n      <td>0.50</td>\n      <td>90.0</td>\n      <td>0.00</td>\n      <td>0.00</td>\n      <td>0.0</td>\n      <td>2.50</td>\n      <td>0.00</td>\n      <td>90.0</td>\n    </tr>\n    <tr>\n      <th>0</th>\n      <td>996818.0</td>\n      <td>1.0</td>\n      <td>29384.0</td>\n      <td>0.00</td>\n      <td>0.00</td>\n      <td>0.00</td>\n      <td>0.0</td>\n      <td>3.00</td>\n      <td>0.00</td>\n      <td>75.0</td>\n      <td>0.00</td>\n      <td>0.00</td>\n      <td>0.0</td>\n      <td>-1.00</td>\n      <td>1.00</td>\n      <td>90.0</td>\n      <td>29378.0</td>\n      <td>0.00</td>\n      <td>-1.00</td>\n      <td>1.00</td>\n      <td>165.0</td>\n      <td>0.00</td>\n      <td>0.00</td>\n      <td>0.0</td>\n      <td>0.00</td>\n      <td>0.00</td>\n      <td>0.0</td>\n      <td>0.00</td>\n      <td>0.00</td>\n      <td>0.0</td>\n      <td>28976.0</td>\n      <td>0.00</td>\n      <td>0.00</td>\n      <td>0.00</td>\n      <td>0.0</td>\n      <td>3.00</td>\n      <td>0.00</td>\n      <td>75.0</td>\n      <td>0.00</td>\n      <td>0.00</td>\n      <td>0.0</td>\n      <td>2.00</td>\n      <td>1.00</td>\n      <td>90.0</td>\n    </tr>\n    <tr>\n      <th>0</th>\n      <td>996639.0</td>\n      <td>0.0</td>\n      <td>31297.0</td>\n      <td>0.00</td>\n      <td>-0.50</td>\n      <td>0.00</td>\n      <td>0.0</td>\n      <td>2.50</td>\n      <td>0.00</td>\n      <td>0.0</td>\n      <td>-0.50</td>\n      <td>0.00</td>\n      <td>0.0</td>\n      <td>2.50</td>\n      <td>0.00</td>\n      <td>0.0</td>\n      <td>30461.0</td>\n      <td>0.00</td>\n      <td>-3.50</td>\n      <td>0.00</td>\n      <td>0.0</td>\n      <td>0.00</td>\n      <td>0.00</td>\n      <td>0.0</td>\n      <td>-2.75</td>\n      <td>0.00</td>\n      <td>0.0</td>\n      <td>0.00</td>\n      <td>0.00</td>\n      <td>0.0</td>\n      <td>25311.0</td>\n      <td>0.00</td>\n      <td>-3.75</td>\n      <td>0.00</td>\n      <td>0.0</td>\n      <td>0.00</td>\n      <td>0.00</td>\n      <td>0.0</td>\n      <td>-2.75</td>\n      <td>0.00</td>\n      <td>0.0</td>\n      <td>0.00</td>\n      <td>0.00</td>\n      <td>0.0</td>\n    </tr>\n    <tr>\n      <th>0</th>\n      <td>996426.0</td>\n      <td>0.0</td>\n      <td>23366.0</td>\n      <td>2.50</td>\n      <td>0.50</td>\n      <td>0.50</td>\n      <td>35.0</td>\n      <td>3.00</td>\n      <td>0.50</td>\n      <td>35.0</td>\n      <td>0.25</td>\n      <td>0.50</td>\n      <td>70.0</td>\n      <td>2.75</td>\n      <td>0.50</td>\n      <td>70.0</td>\n      <td>20599.0</td>\n      <td>2.75</td>\n      <td>0.50</td>\n      <td>0.00</td>\n      <td>0.0</td>\n      <td>3.25</td>\n      <td>0.00</td>\n      <td>0.0</td>\n      <td>0.00</td>\n      <td>0.00</td>\n      <td>0.0</td>\n      <td>2.75</td>\n      <td>0.00</td>\n      <td>0.0</td>\n      <td>20599.0</td>\n      <td>0.00</td>\n      <td>0.00</td>\n      <td>0.00</td>\n      <td>0.0</td>\n      <td>3.25</td>\n      <td>0.00</td>\n      <td>0.0</td>\n      <td>0.00</td>\n      <td>0.00</td>\n      <td>0.0</td>\n      <td>2.75</td>\n      <td>0.00</td>\n      <td>0.0</td>\n    </tr>\n    <tr>\n      <th>0</th>\n      <td>996354.0</td>\n      <td>1.0</td>\n      <td>21362.0</td>\n      <td>2.00</td>\n      <td>2.50</td>\n      <td>0.50</td>\n      <td>130.0</td>\n      <td>4.75</td>\n      <td>0.25</td>\n      <td>130.0</td>\n      <td>2.75</td>\n      <td>0.25</td>\n      <td>10.0</td>\n      <td>4.50</td>\n      <td>0.50</td>\n      <td>10.0</td>\n      <td>20290.0</td>\n      <td>2.00</td>\n      <td>2.25</td>\n      <td>0.00</td>\n      <td>0.0</td>\n      <td>4.25</td>\n      <td>0.00</td>\n      <td>0.0</td>\n      <td>2.50</td>\n      <td>0.00</td>\n      <td>0.0</td>\n      <td>4.50</td>\n      <td>0.00</td>\n      <td>0.0</td>\n      <td>19562.0</td>\n      <td>2.00</td>\n      <td>2.00</td>\n      <td>0.00</td>\n      <td>0.0</td>\n      <td>4.00</td>\n      <td>0.00</td>\n      <td>0.0</td>\n      <td>2.25</td>\n      <td>0.00</td>\n      <td>0.0</td>\n      <td>4.25</td>\n      <td>0.00</td>\n      <td>0.0</td>\n    </tr>\n    <tr>\n      <th>0</th>\n      <td>995924.0</td>\n      <td>0.0</td>\n      <td>8073.0</td>\n      <td>0.00</td>\n      <td>-3.50</td>\n      <td>0.00</td>\n      <td>0.0</td>\n      <td>-3.50</td>\n      <td>0.00</td>\n      <td>0.0</td>\n      <td>-4.00</td>\n      <td>0.00</td>\n      <td>0.0</td>\n      <td>-4.00</td>\n      <td>0.00</td>\n      <td>0.0</td>\n      <td>7583.0</td>\n      <td>0.00</td>\n      <td>-2.75</td>\n      <td>0.00</td>\n      <td>0.0</td>\n      <td>0.00</td>\n      <td>0.00</td>\n      <td>0.0</td>\n      <td>-3.25</td>\n      <td>0.00</td>\n      <td>0.0</td>\n      <td>0.00</td>\n      <td>0.00</td>\n      <td>0.0</td>\n      <td>7174.0</td>\n      <td>0.00</td>\n      <td>-1.75</td>\n      <td>0.00</td>\n      <td>0.0</td>\n      <td>0.00</td>\n      <td>0.00</td>\n      <td>0.0</td>\n      <td>-2.50</td>\n      <td>0.00</td>\n      <td>0.0</td>\n      <td>0.00</td>\n      <td>0.00</td>\n      <td>0.0</td>\n    </tr>\n    <tr>\n      <th>0</th>\n      <td>995243.0</td>\n      <td>0.0</td>\n      <td>23838.0</td>\n      <td>2.75</td>\n      <td>-3.50</td>\n      <td>0.75</td>\n      <td>30.0</td>\n      <td>-1.00</td>\n      <td>1.00</td>\n      <td>30.0</td>\n      <td>-5.00</td>\n      <td>1.00</td>\n      <td>120.0</td>\n      <td>-2.00</td>\n      <td>0.75</td>\n      <td>120.0</td>\n      <td>21248.0</td>\n      <td>2.50</td>\n      <td>-3.75</td>\n      <td>0.50</td>\n      <td>10.0</td>\n      <td>-1.25</td>\n      <td>0.50</td>\n      <td>10.0</td>\n      <td>-5.00</td>\n      <td>0.50</td>\n      <td>115.0</td>\n      <td>-2.50</td>\n      <td>0.50</td>\n      <td>115.0</td>\n      <td>19898.0</td>\n      <td>0.00</td>\n      <td>-3.75</td>\n      <td>0.50</td>\n      <td>10.0</td>\n      <td>0.00</td>\n      <td>0.00</td>\n      <td>0.0</td>\n      <td>-5.00</td>\n      <td>0.50</td>\n      <td>115.0</td>\n      <td>0.00</td>\n      <td>0.00</td>\n      <td>0.0</td>\n    </tr>\n    <tr>\n      <th>0</th>\n      <td>995202.0</td>\n      <td>0.0</td>\n      <td>7879.0</td>\n      <td>0.00</td>\n      <td>-4.50</td>\n      <td>0.00</td>\n      <td>0.0</td>\n      <td>-4.50</td>\n      <td>0.00</td>\n      <td>0.0</td>\n      <td>-4.75</td>\n      <td>0.00</td>\n      <td>0.0</td>\n      <td>-4.75</td>\n      <td>0.00</td>\n      <td>0.0</td>\n      <td>7154.0</td>\n      <td>0.00</td>\n      <td>-4.50</td>\n      <td>0.00</td>\n      <td>0.0</td>\n      <td>0.00</td>\n      <td>0.00</td>\n      <td>0.0</td>\n      <td>-4.50</td>\n      <td>0.00</td>\n      <td>0.0</td>\n      <td>0.00</td>\n      <td>0.00</td>\n      <td>0.0</td>\n      <td>7154.0</td>\n      <td>0.00</td>\n      <td>-4.50</td>\n      <td>0.00</td>\n      <td>0.0</td>\n      <td>0.00</td>\n      <td>0.00</td>\n      <td>0.0</td>\n      <td>-4.50</td>\n      <td>0.00</td>\n      <td>0.0</td>\n      <td>0.00</td>\n      <td>0.00</td>\n      <td>0.0</td>\n    </tr>\n    <tr>\n      <th>0</th>\n      <td>995075.0</td>\n      <td>0.0</td>\n      <td>27494.0</td>\n      <td>2.50</td>\n      <td>1.75</td>\n      <td>0.50</td>\n      <td>110.0</td>\n      <td>4.25</td>\n      <td>0.50</td>\n      <td>110.0</td>\n      <td>2.50</td>\n      <td>0.50</td>\n      <td>10.0</td>\n      <td>5.00</td>\n      <td>0.50</td>\n      <td>10.0</td>\n      <td>25043.0</td>\n      <td>2.50</td>\n      <td>1.75</td>\n      <td>0.00</td>\n      <td>0.0</td>\n      <td>4.25</td>\n      <td>0.00</td>\n      <td>0.0</td>\n      <td>2.25</td>\n      <td>0.00</td>\n      <td>0.0</td>\n      <td>4.75</td>\n      <td>0.00</td>\n      <td>0.0</td>\n      <td>24323.0</td>\n      <td>2.25</td>\n      <td>1.50</td>\n      <td>0.00</td>\n      <td>0.0</td>\n      <td>3.75</td>\n      <td>0.00</td>\n      <td>0.0</td>\n      <td>1.25</td>\n      <td>0.00</td>\n      <td>0.0</td>\n      <td>3.50</td>\n      <td>0.00</td>\n      <td>0.0</td>\n    </tr>\n    <tr>\n      <th>0</th>\n      <td>995019.0</td>\n      <td>0.0</td>\n      <td>29326.0</td>\n      <td>0.00</td>\n      <td>0.00</td>\n      <td>0.00</td>\n      <td>0.0</td>\n      <td>3.25</td>\n      <td>0.00</td>\n      <td>0.0</td>\n      <td>0.00</td>\n      <td>0.00</td>\n      <td>0.0</td>\n      <td>3.00</td>\n      <td>0.00</td>\n      <td>0.0</td>\n      <td>26976.0</td>\n      <td>0.00</td>\n      <td>1.00</td>\n      <td>0.00</td>\n      <td>0.0</td>\n      <td>0.00</td>\n      <td>0.00</td>\n      <td>0.0</td>\n      <td>1.00</td>\n      <td>0.00</td>\n      <td>0.0</td>\n      <td>0.00</td>\n      <td>0.00</td>\n      <td>0.0</td>\n      <td>25933.0</td>\n      <td>0.00</td>\n      <td>0.50</td>\n      <td>0.50</td>\n      <td>65.0</td>\n      <td>0.00</td>\n      <td>0.00</td>\n      <td>0.0</td>\n      <td>1.00</td>\n      <td>0.00</td>\n      <td>0.0</td>\n      <td>0.00</td>\n      <td>0.00</td>\n      <td>0.0</td>\n    </tr>\n  </tbody>\n</table>\n</div>"
     },
     "metadata": {},
     "execution_count": 63
    }
   ],
   "source": [
    "# Sliding window\n",
    "start = time.time()\n",
    "# dataset = dataset[:500]\n",
    "df_f = pd.DataFrame()\n",
    "df = pd.DataFrame()\n",
    "\n",
    "for uniqueId in dataset['ID'].unique():\n",
    "    for i in range(prefAmountRecords):\n",
    "        if len(dataset.loc[dataset['ID'] == uniqueId]) >= prefAmountRecords:\n",
    "            if i == 0:\n",
    "                df = pd.DataFrame(dataset.loc[dataset['ID'] == uniqueId].iloc[i]).T\n",
    "                df.columns = ['ID', 'Sex'] + list((n + f'_{i}') for n in dataset.columns[2:])\n",
    "            else:\n",
    "                df_t = pd.DataFrame(dataset.loc[dataset['ID'] == uniqueId].iloc[i][2:]).T\n",
    "                df_t.columns = list((n + f'_{i}') for n in dataset.columns[2:])\n",
    "                df = pd.concat([df.reset_index(drop=True), df_t.reset_index(drop=True)], axis = 1)\n",
    "    df_f = df_f.append(df)\n",
    "\n",
    "dataset = df_f.copy()\n",
    "end = time.time()\n",
    "print(end - start)\n",
    "dataset.head(20)"
   ]
  },
  {
   "cell_type": "code",
   "execution_count": 79,
   "metadata": {},
   "outputs": [
    {
     "output_type": "stream",
     "name": "stdout",
     "text": "ID: 0\nSex: 0\nMeasurement_Age_0: 0\nAdd_0: 0\nSph-Far-R_0: 0\nCyl-Far-R_0: 0\nAxis-Far-R_0: 0\nSph-Close-R_0: 0\nCyl-Close-R_0: 0\nAxis-Close-R_0: 0\nSph-Far-L_0: 0\nCyl-Far-L_0: 0\nAxis-Far-L_0: 0\nSph-Close-L_0: 0\nCyl-Close-L_0: 0\nAxis-Close-L_0: 0\nMeasurement_Age_1: 0\nAdd_1: 0\nSph-Far-R_1: 0\nCyl-Far-R_1: 0\nAxis-Far-R_1: 0\nSph-Close-R_1: 0\nCyl-Close-R_1: 0\nAxis-Close-R_1: 0\nSph-Far-L_1: 0\nCyl-Far-L_1: 0\nAxis-Far-L_1: 0\nSph-Close-L_1: 0\nCyl-Close-L_1: 0\nAxis-Close-L_1: 0\nMeasurement_Age_2: 0\nAdd_2: 0\nSph-Far-R_2: 0\nCyl-Far-R_2: 0\nAxis-Far-R_2: 0\nSph-Close-R_2: 0\nCyl-Close-R_2: 0\nAxis-Close-R_2: 0\nSph-Far-L_2: 0\nCyl-Far-L_2: 0\nAxis-Far-L_2: 0\nSph-Close-L_2: 0\nCyl-Close-L_2: 0\nAxis-Close-L_2: 0\ntotal: 0\n"
    }
   ],
   "source": [
    "# # check for NaN\n",
    "# a = 0\n",
    "# for c in dataset.columns:\n",
    "#     a += len(df) - df[c].count()\n",
    "#     print(f'{c}: {len(df) - df[c].count()}')\n",
    "# print(f'total: {a}')"
   ]
  },
  {
   "cell_type": "code",
   "execution_count": 71,
   "metadata": {},
   "outputs": [],
   "source": [
    "# Splitsen in training set en test set\n",
    "y = dataset[f'{target}_{prefAmountRecords-1}'].values\n",
    "X = dataset.drop([c for c in dataset.columns if f'_{prefAmountRecords-1}' in c], axis=1)\n",
    "\n",
    "X_train, X_test, y_train, y_test = train_test_split(X, y, test_size=.2, random_state=42069)"
   ]
  },
  {
   "cell_type": "code",
   "execution_count": 76,
   "metadata": {},
   "outputs": [
    {
     "output_type": "error",
     "ename": "ValueError",
     "evalue": "Input contains NaN, infinity or a value too large for dtype('float64').",
     "traceback": [
      "\u001b[1;31m---------------------------------------------------------------------------\u001b[0m",
      "\u001b[1;31mValueError\u001b[0m                                Traceback (most recent call last)",
      "\u001b[1;32m<ipython-input-76-8a07e1c42619>\u001b[0m in \u001b[0;36m<module>\u001b[1;34m\u001b[0m\n\u001b[0;32m      1\u001b[0m \u001b[1;31m# Linear regression\u001b[0m\u001b[1;33m\u001b[0m\u001b[1;33m\u001b[0m\u001b[1;33m\u001b[0m\u001b[0m\n\u001b[0;32m      2\u001b[0m \u001b[0mlregModel\u001b[0m \u001b[1;33m=\u001b[0m \u001b[0mlinear_model\u001b[0m\u001b[1;33m.\u001b[0m\u001b[0mLinearRegression\u001b[0m\u001b[1;33m(\u001b[0m\u001b[1;33m)\u001b[0m\u001b[1;33m\u001b[0m\u001b[1;33m\u001b[0m\u001b[0m\n\u001b[1;32m----> 3\u001b[1;33m \u001b[0mlregModel\u001b[0m\u001b[1;33m.\u001b[0m\u001b[0mfit\u001b[0m\u001b[1;33m(\u001b[0m\u001b[0mX_train\u001b[0m\u001b[1;33m,\u001b[0m \u001b[0my_train\u001b[0m\u001b[1;33m)\u001b[0m\u001b[1;33m\u001b[0m\u001b[1;33m\u001b[0m\u001b[0m\n\u001b[0m\u001b[0;32m      4\u001b[0m \u001b[0mprint\u001b[0m\u001b[1;33m(\u001b[0m\u001b[1;34m'r2 score = '\u001b[0m\u001b[1;33m,\u001b[0m \u001b[0mlregModel\u001b[0m\u001b[1;33m.\u001b[0m\u001b[0mscore\u001b[0m\u001b[1;33m(\u001b[0m\u001b[0mX_test\u001b[0m\u001b[1;33m,\u001b[0m\u001b[0my_test\u001b[0m\u001b[1;33m)\u001b[0m\u001b[1;33m)\u001b[0m\u001b[1;33m\u001b[0m\u001b[1;33m\u001b[0m\u001b[0m\n",
      "\u001b[1;32mC:\\Program Files\\Python38\\lib\\site-packages\\sklearn\\linear_model\\_base.py\u001b[0m in \u001b[0;36mfit\u001b[1;34m(self, X, y, sample_weight)\u001b[0m\n\u001b[0;32m    489\u001b[0m \u001b[1;33m\u001b[0m\u001b[0m\n\u001b[0;32m    490\u001b[0m         \u001b[0mn_jobs_\u001b[0m \u001b[1;33m=\u001b[0m \u001b[0mself\u001b[0m\u001b[1;33m.\u001b[0m\u001b[0mn_jobs\u001b[0m\u001b[1;33m\u001b[0m\u001b[1;33m\u001b[0m\u001b[0m\n\u001b[1;32m--> 491\u001b[1;33m         X, y = check_X_y(X, y, accept_sparse=['csr', 'csc', 'coo'],\n\u001b[0m\u001b[0;32m    492\u001b[0m                          y_numeric=True, multi_output=True)\n\u001b[0;32m    493\u001b[0m \u001b[1;33m\u001b[0m\u001b[0m\n",
      "\u001b[1;32mC:\\Program Files\\Python38\\lib\\site-packages\\sklearn\\utils\\validation.py\u001b[0m in \u001b[0;36mcheck_X_y\u001b[1;34m(X, y, accept_sparse, accept_large_sparse, dtype, order, copy, force_all_finite, ensure_2d, allow_nd, multi_output, ensure_min_samples, ensure_min_features, y_numeric, warn_on_dtype, estimator)\u001b[0m\n\u001b[0;32m    745\u001b[0m         \u001b[1;32mraise\u001b[0m \u001b[0mValueError\u001b[0m\u001b[1;33m(\u001b[0m\u001b[1;34m\"y cannot be None\"\u001b[0m\u001b[1;33m)\u001b[0m\u001b[1;33m\u001b[0m\u001b[1;33m\u001b[0m\u001b[0m\n\u001b[0;32m    746\u001b[0m \u001b[1;33m\u001b[0m\u001b[0m\n\u001b[1;32m--> 747\u001b[1;33m     X = check_array(X, accept_sparse=accept_sparse,\n\u001b[0m\u001b[0;32m    748\u001b[0m                     \u001b[0maccept_large_sparse\u001b[0m\u001b[1;33m=\u001b[0m\u001b[0maccept_large_sparse\u001b[0m\u001b[1;33m,\u001b[0m\u001b[1;33m\u001b[0m\u001b[1;33m\u001b[0m\u001b[0m\n\u001b[0;32m    749\u001b[0m                     \u001b[0mdtype\u001b[0m\u001b[1;33m=\u001b[0m\u001b[0mdtype\u001b[0m\u001b[1;33m,\u001b[0m \u001b[0morder\u001b[0m\u001b[1;33m=\u001b[0m\u001b[0morder\u001b[0m\u001b[1;33m,\u001b[0m \u001b[0mcopy\u001b[0m\u001b[1;33m=\u001b[0m\u001b[0mcopy\u001b[0m\u001b[1;33m,\u001b[0m\u001b[1;33m\u001b[0m\u001b[1;33m\u001b[0m\u001b[0m\n",
      "\u001b[1;32mC:\\Program Files\\Python38\\lib\\site-packages\\sklearn\\utils\\validation.py\u001b[0m in \u001b[0;36mcheck_array\u001b[1;34m(array, accept_sparse, accept_large_sparse, dtype, order, copy, force_all_finite, ensure_2d, allow_nd, ensure_min_samples, ensure_min_features, warn_on_dtype, estimator)\u001b[0m\n\u001b[0;32m    575\u001b[0m \u001b[1;33m\u001b[0m\u001b[0m\n\u001b[0;32m    576\u001b[0m         \u001b[1;32mif\u001b[0m \u001b[0mforce_all_finite\u001b[0m\u001b[1;33m:\u001b[0m\u001b[1;33m\u001b[0m\u001b[1;33m\u001b[0m\u001b[0m\n\u001b[1;32m--> 577\u001b[1;33m             _assert_all_finite(array,\n\u001b[0m\u001b[0;32m    578\u001b[0m                                allow_nan=force_all_finite == 'allow-nan')\n\u001b[0;32m    579\u001b[0m \u001b[1;33m\u001b[0m\u001b[0m\n",
      "\u001b[1;32mC:\\Program Files\\Python38\\lib\\site-packages\\sklearn\\utils\\validation.py\u001b[0m in \u001b[0;36m_assert_all_finite\u001b[1;34m(X, allow_nan, msg_dtype)\u001b[0m\n\u001b[0;32m     55\u001b[0m                 not allow_nan and not np.isfinite(X).all()):\n\u001b[0;32m     56\u001b[0m             \u001b[0mtype_err\u001b[0m \u001b[1;33m=\u001b[0m \u001b[1;34m'infinity'\u001b[0m \u001b[1;32mif\u001b[0m \u001b[0mallow_nan\u001b[0m \u001b[1;32melse\u001b[0m \u001b[1;34m'NaN, infinity'\u001b[0m\u001b[1;33m\u001b[0m\u001b[1;33m\u001b[0m\u001b[0m\n\u001b[1;32m---> 57\u001b[1;33m             raise ValueError(\n\u001b[0m\u001b[0;32m     58\u001b[0m                     \u001b[0mmsg_err\u001b[0m\u001b[1;33m.\u001b[0m\u001b[0mformat\u001b[0m\u001b[1;33m\u001b[0m\u001b[1;33m\u001b[0m\u001b[0m\n\u001b[0;32m     59\u001b[0m                     (type_err,\n",
      "\u001b[1;31mValueError\u001b[0m: Input contains NaN, infinity or a value too large for dtype('float64')."
     ]
    }
   ],
   "source": [
    "# Linear regression\n",
    "lregModel = linear_model.LinearRegression()\n",
    "lregModel.fit(X_train, y_train)\n",
    "print('r2 score = ', lregModel.score(X_test,y_test))"
   ]
  },
  {
   "cell_type": "code",
   "execution_count": 73,
   "metadata": {},
   "outputs": [
    {
     "output_type": "error",
     "ename": "ValueError",
     "evalue": "Input contains NaN, infinity or a value too large for dtype('float64').",
     "traceback": [
      "\u001b[1;31m---------------------------------------------------------------------------\u001b[0m",
      "\u001b[1;31mValueError\u001b[0m                                Traceback (most recent call last)",
      "\u001b[1;32m<ipython-input-73-db15e0129cf2>\u001b[0m in \u001b[0;36m<module>\u001b[1;34m\u001b[0m\n\u001b[0;32m     11\u001b[0m \u001b[1;31m# Polynominal features aanmaken\u001b[0m\u001b[1;33m\u001b[0m\u001b[1;33m\u001b[0m\u001b[1;33m\u001b[0m\u001b[0m\n\u001b[0;32m     12\u001b[0m \u001b[0mpolyModel\u001b[0m \u001b[1;33m=\u001b[0m \u001b[0mPolynomialFeatures\u001b[0m\u001b[1;33m(\u001b[0m\u001b[0mgraad\u001b[0m\u001b[1;33m)\u001b[0m\u001b[1;33m\u001b[0m\u001b[1;33m\u001b[0m\u001b[0m\n\u001b[1;32m---> 13\u001b[1;33m \u001b[0mpolyModel\u001b[0m\u001b[1;33m.\u001b[0m\u001b[0mfit\u001b[0m\u001b[1;33m(\u001b[0m\u001b[0mX_train\u001b[0m\u001b[1;33m)\u001b[0m\u001b[1;33m\u001b[0m\u001b[1;33m\u001b[0m\u001b[0m\n\u001b[0m\u001b[0;32m     14\u001b[0m \u001b[0mX_train_poly\u001b[0m \u001b[1;33m=\u001b[0m \u001b[0mpolyModel\u001b[0m\u001b[1;33m.\u001b[0m\u001b[0mtransform\u001b[0m\u001b[1;33m(\u001b[0m\u001b[0mX_train\u001b[0m\u001b[1;33m)\u001b[0m\u001b[1;33m\u001b[0m\u001b[1;33m\u001b[0m\u001b[0m\n\u001b[0;32m     15\u001b[0m \u001b[0mX_test_poly\u001b[0m \u001b[1;33m=\u001b[0m \u001b[0mpolyModel\u001b[0m\u001b[1;33m.\u001b[0m\u001b[0mtransform\u001b[0m\u001b[1;33m(\u001b[0m\u001b[0mX_test\u001b[0m\u001b[1;33m)\u001b[0m\u001b[1;33m\u001b[0m\u001b[1;33m\u001b[0m\u001b[0m\n",
      "\u001b[1;32mC:\\Program Files\\Python38\\lib\\site-packages\\sklearn\\preprocessing\\_data.py\u001b[0m in \u001b[0;36mfit\u001b[1;34m(self, X, y)\u001b[0m\n\u001b[0;32m   1506\u001b[0m         \u001b[0mself\u001b[0m \u001b[1;33m:\u001b[0m \u001b[0minstance\u001b[0m\u001b[1;33m\u001b[0m\u001b[1;33m\u001b[0m\u001b[0m\n\u001b[0;32m   1507\u001b[0m         \"\"\"\n\u001b[1;32m-> 1508\u001b[1;33m         \u001b[0mn_samples\u001b[0m\u001b[1;33m,\u001b[0m \u001b[0mn_features\u001b[0m \u001b[1;33m=\u001b[0m \u001b[0mcheck_array\u001b[0m\u001b[1;33m(\u001b[0m\u001b[0mX\u001b[0m\u001b[1;33m,\u001b[0m \u001b[0maccept_sparse\u001b[0m\u001b[1;33m=\u001b[0m\u001b[1;32mTrue\u001b[0m\u001b[1;33m)\u001b[0m\u001b[1;33m.\u001b[0m\u001b[0mshape\u001b[0m\u001b[1;33m\u001b[0m\u001b[1;33m\u001b[0m\u001b[0m\n\u001b[0m\u001b[0;32m   1509\u001b[0m         combinations = self._combinations(n_features, self.degree,\n\u001b[0;32m   1510\u001b[0m                                           \u001b[0mself\u001b[0m\u001b[1;33m.\u001b[0m\u001b[0minteraction_only\u001b[0m\u001b[1;33m,\u001b[0m\u001b[1;33m\u001b[0m\u001b[1;33m\u001b[0m\u001b[0m\n",
      "\u001b[1;32mC:\\Program Files\\Python38\\lib\\site-packages\\sklearn\\utils\\validation.py\u001b[0m in \u001b[0;36mcheck_array\u001b[1;34m(array, accept_sparse, accept_large_sparse, dtype, order, copy, force_all_finite, ensure_2d, allow_nd, ensure_min_samples, ensure_min_features, warn_on_dtype, estimator)\u001b[0m\n\u001b[0;32m    575\u001b[0m \u001b[1;33m\u001b[0m\u001b[0m\n\u001b[0;32m    576\u001b[0m         \u001b[1;32mif\u001b[0m \u001b[0mforce_all_finite\u001b[0m\u001b[1;33m:\u001b[0m\u001b[1;33m\u001b[0m\u001b[1;33m\u001b[0m\u001b[0m\n\u001b[1;32m--> 577\u001b[1;33m             _assert_all_finite(array,\n\u001b[0m\u001b[0;32m    578\u001b[0m                                allow_nan=force_all_finite == 'allow-nan')\n\u001b[0;32m    579\u001b[0m \u001b[1;33m\u001b[0m\u001b[0m\n",
      "\u001b[1;32mC:\\Program Files\\Python38\\lib\\site-packages\\sklearn\\utils\\validation.py\u001b[0m in \u001b[0;36m_assert_all_finite\u001b[1;34m(X, allow_nan, msg_dtype)\u001b[0m\n\u001b[0;32m     55\u001b[0m                 not allow_nan and not np.isfinite(X).all()):\n\u001b[0;32m     56\u001b[0m             \u001b[0mtype_err\u001b[0m \u001b[1;33m=\u001b[0m \u001b[1;34m'infinity'\u001b[0m \u001b[1;32mif\u001b[0m \u001b[0mallow_nan\u001b[0m \u001b[1;32melse\u001b[0m \u001b[1;34m'NaN, infinity'\u001b[0m\u001b[1;33m\u001b[0m\u001b[1;33m\u001b[0m\u001b[0m\n\u001b[1;32m---> 57\u001b[1;33m             raise ValueError(\n\u001b[0m\u001b[0;32m     58\u001b[0m                     \u001b[0mmsg_err\u001b[0m\u001b[1;33m.\u001b[0m\u001b[0mformat\u001b[0m\u001b[1;33m\u001b[0m\u001b[1;33m\u001b[0m\u001b[0m\n\u001b[0;32m     59\u001b[0m                     (type_err,\n",
      "\u001b[1;31mValueError\u001b[0m: Input contains NaN, infinity or a value too large for dtype('float64')."
     ]
    }
   ],
   "source": [
    "# hogere orde features\n",
    "graad = 1\n",
    "n_iter_search = 500\n",
    "parameters = {\n",
    "    'solver': ['auto', 'svd', 'cholesky', 'lsqr', 'sparse_cg', 'sag', 'saga'], \n",
    "    'alpha': np.linspace(0.0001,n_iter_search,50), \n",
    "    'tol': np.linspace(0.0001,n_iter_search,50), \n",
    "    'fit_intercept': [True, False]\n",
    "    }\n",
    "\n",
    "# Polynominal features aanmaken\n",
    "polyModel = PolynomialFeatures(graad)\n",
    "polyModel.fit(X_train)\n",
    "X_train_poly = polyModel.transform(X_train)\n",
    "X_test_poly = polyModel.transform(X_test)\n",
    "print(f'Dimensie van polynomial data op graad {graad}: {X_train_poly.shape}')\n",
    "\n",
    "# Cross-validation via random search\n",
    "lregPolyModel = Ridge()\n",
    "lregPolyRandomModel = RandomizedSearchCV(lregPolyModel, param_distributions=parameters, cv=5, n_iter=n_iter_search, n_jobs = -1, verbose=0)\n",
    "lregPolyRandomModel = lregPolyRandomModel.fit(X_train_poly, y_train)\n",
    "\n",
    "print('Best accuracy : ', lregPolyRandomModel.best_score_)\n",
    "print(f'Best parameters : {lregPolyRandomModel.best_params_} with {n_iter_search} searches')"
   ]
  },
  {
   "cell_type": "code",
   "execution_count": 74,
   "metadata": {},
   "outputs": [
    {
     "output_type": "error",
     "ename": "NameError",
     "evalue": "name 'X_train_poly' is not defined",
     "traceback": [
      "\u001b[1;31m---------------------------------------------------------------------------\u001b[0m",
      "\u001b[1;31mNameError\u001b[0m                                 Traceback (most recent call last)",
      "\u001b[1;32m<ipython-input-74-185153beb96c>\u001b[0m in \u001b[0;36m<module>\u001b[1;34m\u001b[0m\n\u001b[0;32m      1\u001b[0m \u001b[1;31m# Random Forest Regression met polynominal features\u001b[0m\u001b[1;33m\u001b[0m\u001b[1;33m\u001b[0m\u001b[1;33m\u001b[0m\u001b[0m\n\u001b[0;32m      2\u001b[0m \u001b[0mRFR_model\u001b[0m \u001b[1;33m=\u001b[0m \u001b[0mRandomForestRegressor\u001b[0m\u001b[1;33m(\u001b[0m\u001b[0mn_estimators\u001b[0m\u001b[1;33m=\u001b[0m\u001b[1;36m100\u001b[0m\u001b[1;33m)\u001b[0m\u001b[1;33m\u001b[0m\u001b[1;33m\u001b[0m\u001b[0m\n\u001b[1;32m----> 3\u001b[1;33m \u001b[0mRFR_model\u001b[0m\u001b[1;33m.\u001b[0m\u001b[0mfit\u001b[0m\u001b[1;33m(\u001b[0m\u001b[0mX_train_poly\u001b[0m\u001b[1;33m,\u001b[0m \u001b[0my_train\u001b[0m\u001b[1;33m)\u001b[0m\u001b[1;33m\u001b[0m\u001b[1;33m\u001b[0m\u001b[0m\n\u001b[0m\u001b[0;32m      4\u001b[0m \u001b[1;33m\u001b[0m\u001b[0m\n\u001b[0;32m      5\u001b[0m \u001b[0mprint\u001b[0m\u001b[1;33m(\u001b[0m\u001b[0mRFR_model\u001b[0m\u001b[1;33m.\u001b[0m\u001b[0mscore\u001b[0m\u001b[1;33m(\u001b[0m\u001b[0mX_test_poly\u001b[0m\u001b[1;33m,\u001b[0m \u001b[0my_test\u001b[0m\u001b[1;33m)\u001b[0m\u001b[1;33m)\u001b[0m\u001b[1;33m\u001b[0m\u001b[1;33m\u001b[0m\u001b[0m\n",
      "\u001b[1;31mNameError\u001b[0m: name 'X_train_poly' is not defined"
     ]
    }
   ],
   "source": [
    "# Random Forest Regression met polynominal features\n",
    "RFR_model = RandomForestRegressor(n_estimators=100)\n",
    "RFR_model.fit(X_train_poly, y_train)\n",
    "\n",
    "print(RFR_model.score(X_test_poly, y_test))"
   ]
  },
  {
   "cell_type": "code",
   "execution_count": null,
   "metadata": {},
   "outputs": [],
   "source": []
  },
  {
   "cell_type": "code",
   "execution_count": null,
   "metadata": {},
   "outputs": [],
   "source": []
  }
 ],
 "metadata": {
  "language_info": {
   "name": "python",
   "codemirror_mode": {
    "name": "ipython",
    "version": 3
   },
   "version": "3.8.2-final"
  },
  "orig_nbformat": 2,
  "file_extension": ".py",
  "mimetype": "text/x-python",
  "name": "python",
  "npconvert_exporter": "python",
  "pygments_lexer": "ipython3",
  "version": 3,
  "kernelspec": {
   "name": "python38264bitccd76772a05f4a818b85475ead832635",
   "display_name": "Python 3.8.2 64-bit"
  }
 },
 "nbformat": 4,
 "nbformat_minor": 2
}