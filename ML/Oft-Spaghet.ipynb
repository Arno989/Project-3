{
 "cells": [
  {
   "cell_type": "code",
   "execution_count": 1,
   "metadata": {},
   "outputs": [],
   "source": [
    "%matplotlib inline\n",
    "\n",
    "import random\n",
    "\n",
    "import matplotlib.pyplot as plt\n",
    "import math\n",
    "import numpy as np\n",
    "import pandas as pd\n",
    "import pandas_datareader as pdr\n",
    "import seaborn as sns\n",
    "from scipy import stats\n",
    "from scipy.stats import randint, uniform\n",
    "from sklearn import linear_model, preprocessing\n",
    "from sklearn.decomposition import PCA\n",
    "from sklearn.ensemble import (AdaBoostClassifier, BaggingClassifier,\n",
    "                              RandomForestClassifier, RandomForestRegressor)\n",
    "from sklearn.linear_model import Lasso, LogisticRegression, Ridge\n",
    "from sklearn.metrics import (accuracy_score, classification_report,\n",
    "                             confusion_matrix, mean_absolute_error, r2_score)\n",
    "from sklearn.model_selection import (GridSearchCV, RandomizedSearchCV,\n",
    "                                     train_test_split)\n",
    "from sklearn.preprocessing import (LabelEncoder, MinMaxScaler, OneHotEncoder,\n",
    "                                   PolynomialFeatures, RobustScaler,\n",
    "                                   StandardScaler)\n",
    "from sklearn.svm import SVC\n",
    "from sklearn.tree import DecisionTreeClassifier\n",
    "from skopt import BayesSearchCV\n",
    "\n",
    "pd.set_option('display.max_rows',1000)\n",
    "pd.set_option('display.max_columns',1000)"
   ]
  },
  {
   "cell_type": "code",
   "execution_count": 2,
   "metadata": {},
   "outputs": [
    {
     "output_type": "execute_result",
     "data": {
      "text/plain": "(4998, 44)"
     },
     "metadata": {},
     "execution_count": 2
    }
   ],
   "source": [
    "target = 'Sph-Far-R'\n",
    "prefAmountRecords = 3\n",
    "\n",
    "# import data\n",
    "dataset_og = pd.read_csv(f'Data\\Measurements-Sliding-Window-{prefAmountRecords}')\n",
    "# kopie maken indien we iets van de originele data nodig hebben\n",
    "dataset = dataset_og.copy()\n",
    "dataset.shape"
   ]
  },
  {
   "source": [
    "### spaghetti tijd\n",
    "\n",
    "kijken wa voor trends we allemaal hebben per persoon  \n",
    "die dan uniform maken (trend spiegelen of omdraaien en shit)  \n",
    "om dan iets algemener uit te halen  \n",
    "clustering + lreg + rfr + whatever"
   ],
   "cell_type": "markdown",
   "metadata": {}
  },
  {
   "cell_type": "code",
   "execution_count": 3,
   "metadata": {},
   "outputs": [
    {
     "output_type": "stream",
     "name": "stdout",
     "text": "ID\nSex\nMeasurement_Age_0\nAdd_0\nSph-Far-R_0\nCyl-Far-R_0\nAxis-Far-R_0\nSph-Close-R_0\nCyl-Close-R_0\nAxis-Close-R_0\nSph-Far-L_0\nCyl-Far-L_0\nAxis-Far-L_0\nSph-Close-L_0\nCyl-Close-L_0\nAxis-Close-L_0\nMeasurement_Age_1\nAdd_1\nSph-Far-R_1\nCyl-Far-R_1\nAxis-Far-R_1\nSph-Close-R_1\nCyl-Close-R_1\nAxis-Close-R_1\nSph-Far-L_1\nCyl-Far-L_1\nAxis-Far-L_1\nSph-Close-L_1\nCyl-Close-L_1\nAxis-Close-L_1\nMeasurement_Age_2\nAdd_2\nSph-Far-R_2\nCyl-Far-R_2\nAxis-Far-R_2\nSph-Close-R_2\nCyl-Close-R_2\nAxis-Close-R_2\nSph-Far-L_2\nCyl-Far-L_2\nAxis-Far-L_2\nSph-Close-L_2\nCyl-Close-L_2\nAxis-Close-L_2\n"
    }
   ],
   "source": [
    "dataset_hl = pd.DataFrame() # high - low\n",
    "dataset_lh = pd.DataFrame() # low - high\n",
    "dataset_nc = pd.DataFrame() # no change\n",
    "\n",
    "for index, row in dataset.iterrows():\n",
    "    if row[f'{target}_0'] > row[f'{target}_{prefAmountRecords}']:\n",
    "        dataset_hl = dataset_hl.append(row) \n",
    "    elif row[f'{target}_0'] < row[f'{target}_{prefAmountRecords}']:\n",
    "        dataset_lh = dataset_lh.append(row) \n",
    "    elif row[f'{target}_0'] = row[f'{target}_{prefAmountRecords}']:\n",
    "        dataset_nc = dataset_nc.append(row) "
   ]
  },
  {
   "cell_type": "code",
   "execution_count": null,
   "metadata": {},
   "outputs": [],
   "source": []
  }
 ],
 "metadata": {
  "language_info": {
   "name": "python",
   "codemirror_mode": {
    "name": "ipython",
    "version": 3
   },
   "version": "3.8.2-final"
  },
  "orig_nbformat": 2,
  "file_extension": ".py",
  "mimetype": "text/x-python",
  "name": "python",
  "npconvert_exporter": "python",
  "pygments_lexer": "ipython3",
  "version": 3,
  "kernelspec": {
   "name": "python38264bitccd76772a05f4a818b85475ead832635",
   "display_name": "Python 3.8.2 64-bit"
  }
 },
 "nbformat": 4,
 "nbformat_minor": 2
}