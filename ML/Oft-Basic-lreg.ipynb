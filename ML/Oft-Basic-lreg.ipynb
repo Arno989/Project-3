{
 "cells": [
  {
   "cell_type": "code",
   "execution_count": 46,
   "metadata": {},
   "outputs": [],
   "source": [
    "%matplotlib inline\n",
    "\n",
    "import random\n",
    "\n",
    "import matplotlib.pyplot as plt\n",
    "import math\n",
    "import numpy as np\n",
    "import pandas as pd\n",
    "import seaborn as sns\n",
    "from scipy import stats\n",
    "from scipy.stats import randint, uniform\n",
    "from sklearn import linear_model, preprocessing\n",
    "from sklearn.decomposition import PCA\n",
    "from sklearn.ensemble import (AdaBoostClassifier, BaggingClassifier,\n",
    "                              RandomForestClassifier, RandomForestRegressor)\n",
    "from sklearn.linear_model import Lasso, LogisticRegression, Ridge\n",
    "from sklearn.metrics import (accuracy_score, classification_report,\n",
    "                             confusion_matrix, mean_absolute_error, r2_score)\n",
    "from sklearn.model_selection import (GridSearchCV, RandomizedSearchCV,\n",
    "                                     train_test_split)\n",
    "from sklearn.preprocessing import (LabelEncoder, MinMaxScaler, OneHotEncoder,\n",
    "                                   PolynomialFeatures, RobustScaler,\n",
    "                                   StandardScaler)\n",
    "from sklearn.svm import SVC\n",
    "from sklearn.tree import DecisionTreeClassifier\n",
    "from skopt import BayesSearchCV\n",
    "\n",
    "pd.set_option('display.max_rows',1000)\n",
    "pd.set_option('display.max_columns',1000)"
   ]
  },
  {
   "cell_type": "code",
   "execution_count": 47,
   "metadata": {},
   "outputs": [
    {
     "output_type": "execute_result",
     "data": {
      "text/plain": "(39923, 16)"
     },
     "metadata": {},
     "execution_count": 47
    }
   ],
   "source": [
    "# import data\n",
    "dataset_og = pd.read_csv('Data\\Measurements-Transformed')\n",
    "# kopie maken indien we iets van de originele data nodig hebben\n",
    "dataset = dataset_og.copy()\n",
    "dataset.shape"
   ]
  },
  {
   "cell_type": "code",
   "execution_count": 48,
   "metadata": {},
   "outputs": [],
   "source": [
    "# Splitsen in features en targets\n",
    "target = 'Sph-Far-R'\n",
    "\n",
    "y = dataset[target].values\n",
    "X = dataset.drop(target, axis=1)"
   ]
  },
  {
   "source": [
    "### Proberen per feat een model te maken\n",
    "\n",
    "*bij verandering van target gewoon onderstaande var veranderen dan zou de rest moeten updaten*"
   ],
   "cell_type": "markdown",
   "metadata": {}
  },
  {
   "cell_type": "code",
   "execution_count": 42,
   "metadata": {},
   "outputs": [],
   "source": [
    "# Splitsen in train en test set\n",
    "X_train, X_test, y_train, y_test = train_test_split(X, y, test_size=0.2, random_state=42069)"
   ]
  },
  {
   "cell_type": "code",
   "execution_count": 43,
   "metadata": {
    "tags": []
   },
   "outputs": [
    {
     "output_type": "stream",
     "name": "stdout",
     "text": "r2 score =  0.8529672215839826\n"
    }
   ],
   "source": [
    "# Linear regression\n",
    "lregModel = linear_model.LinearRegression()\n",
    "lregModel.fit(X_train,y_train)\n",
    "print('r2 score = ', lregModel.score(X_test,y_test))"
   ]
  },
  {
   "cell_type": "code",
   "execution_count": 44,
   "metadata": {
    "tags": []
   },
   "outputs": [
    {
     "output_type": "stream",
     "name": "stdout",
     "text": "dimensie van X_train_poly:  (41911, 136)\nR2 score op training set via L2:  0.9137865031677336\nR2 score op test set via L2:  0.8631312719136207\nIntercept score op test set via L2:  -0.021670334144254233\n"
    }
   ],
   "source": [
    "# test hogere orde features\n",
    "graad = 2\n",
    "\n",
    "polyModel = PolynomialFeatures(graad)\n",
    "polyModel.fit(X_train)\n",
    "X_train_poly = polyModel.transform(X_train)\n",
    "X_test_poly = polyModel.transform(X_test)\n",
    "print('dimensie van X_train_poly: ', X_train_poly.shape)\n",
    "\n",
    "\n",
    "# L2 regularisatie via Ridge regression\n",
    "lregPolyModel = Ridge(alpha=0.5, tol=0.0001, fit_intercept=True)\n",
    "lregPolyModel.fit(X_train_poly,y_train)\n",
    "\n",
    "print('R2 score op training set via L2: ', lregPolyModel.score(X_train_poly,y_train))\n",
    "print('R2 score op test set via L2: ', lregPolyModel.score(X_test_poly,y_test))\n",
    "print('Intercept score op test set via L2: ', lregPolyModel.intercept_)"
   ]
  },
  {
   "cell_type": "code",
   "execution_count": 45,
   "metadata": {},
   "outputs": [
    {
     "output_type": "stream",
     "name": "stdout",
     "text": "0.9337617144629292\n"
    }
   ],
   "source": [
    "# Aanmaken van de hogere orde features\n",
    "RFR_model = RandomForestRegressor(n_estimators=100)\n",
    "RFR_model.fit(X_train,y_train)\n",
    "\n",
    "print(RFR_model.score(X_test,y_test))"
   ]
  }
 ],
 "metadata": {
  "language_info": {
   "name": "python",
   "codemirror_mode": {
    "name": "ipython",
    "version": 3
   },
   "version": "3.8.2-final"
  },
  "orig_nbformat": 2,
  "file_extension": ".py",
  "mimetype": "text/x-python",
  "name": "python",
  "npconvert_exporter": "python",
  "pygments_lexer": "ipython3",
  "version": 3,
  "kernelspec": {
   "name": "python38264bitccd76772a05f4a818b85475ead832635",
   "display_name": "Python 3.8.2 64-bit"
  }
 },
 "nbformat": 4,
 "nbformat_minor": 2
}