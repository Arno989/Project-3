{
 "cells": [
  {
   "cell_type": "code",
   "execution_count": 1,
   "metadata": {},
   "outputs": [],
   "source": [
    "%matplotlib inline\n",
    "\n",
    "import random\n",
    "\n",
    "import matplotlib.pyplot as plt\n",
    "import numpy as np\n",
    "import pandas as pd\n",
    "import seaborn as sns\n",
    "from scipy import stats\n",
    "from scipy.stats import randint, uniform\n",
    "from sklearn import linear_model, preprocessing\n",
    "from sklearn.decomposition import PCA\n",
    "from sklearn.ensemble import (RandomForestRegressor)\n",
    "from sklearn.linear_model import Lasso, LogisticRegression, Ridge\n",
    "from sklearn.metrics import (classification_report, mean_absolute_error, r2_score)\n",
    "from sklearn.model_selection import (GridSearchCV, RandomizedSearchCV,\n",
    "                                     train_test_split)\n",
    "from sklearn.preprocessing import (LabelEncoder, MinMaxScaler, OneHotEncoder,\n",
    "                                   PolynomialFeatures, RobustScaler,\n",
    "                                   StandardScaler)\n",
    "from sklearn.svm import SVC\n",
    "\n",
    "pd.set_option('display.max_rows',1000)\n",
    "pd.set_option('display.max_columns',1000)"
   ]
  },
  {
   "cell_type": "code",
   "execution_count": 2,
   "metadata": {},
   "outputs": [
    {
     "output_type": "execute_result",
     "data": {
      "text/plain": "       ID  Sex  Measurement_Age  Add  Sph-Far-R  Cyl-Far-R  Axis-Far-R  \\\n0  900546    0            21118  0.0      -1.75        0.5        55.0   \n1  900546    0            20245  0.0      -1.75        0.5        65.0   \n2  900546    0            18099  0.0      -1.50        0.5        65.0   \n3  797627    1             6845  0.0      -1.50        0.5       170.0   \n4  797627    1             5779  0.0      -0.75        0.5       170.0   \n\n   Sph-Close-R  Cyl-Close-R  Axis-Close-R  Sph-Far-L  Cyl-Far-L  Axis-Far-L  \\\n0        -2.25          1.0          55.0      -1.75        1.0       110.0   \n1         0.00          0.0           0.0      -1.25        0.5       110.0   \n2         0.00          0.0           0.0      -1.00        0.5       110.0   \n3         0.00          0.0           0.0      -1.50        0.5       170.0   \n4         0.00          0.0           0.0      -1.00        0.5       170.0   \n\n   Sph-Close-L  Cyl-Close-L  Axis-Close-L  \n0        -1.25          0.5         110.0  \n1         0.00          0.0           0.0  \n2         0.00          0.0           0.0  \n3         0.00          0.0           0.0  \n4         0.00          0.0           0.0  ",
      "text/html": "<div>\n<style scoped>\n    .dataframe tbody tr th:only-of-type {\n        vertical-align: middle;\n    }\n\n    .dataframe tbody tr th {\n        vertical-align: top;\n    }\n\n    .dataframe thead th {\n        text-align: right;\n    }\n</style>\n<table border=\"1\" class=\"dataframe\">\n  <thead>\n    <tr style=\"text-align: right;\">\n      <th></th>\n      <th>ID</th>\n      <th>Sex</th>\n      <th>Measurement_Age</th>\n      <th>Add</th>\n      <th>Sph-Far-R</th>\n      <th>Cyl-Far-R</th>\n      <th>Axis-Far-R</th>\n      <th>Sph-Close-R</th>\n      <th>Cyl-Close-R</th>\n      <th>Axis-Close-R</th>\n      <th>Sph-Far-L</th>\n      <th>Cyl-Far-L</th>\n      <th>Axis-Far-L</th>\n      <th>Sph-Close-L</th>\n      <th>Cyl-Close-L</th>\n      <th>Axis-Close-L</th>\n    </tr>\n  </thead>\n  <tbody>\n    <tr>\n      <th>0</th>\n      <td>900546</td>\n      <td>0</td>\n      <td>21118</td>\n      <td>0.0</td>\n      <td>-1.75</td>\n      <td>0.5</td>\n      <td>55.0</td>\n      <td>-2.25</td>\n      <td>1.0</td>\n      <td>55.0</td>\n      <td>-1.75</td>\n      <td>1.0</td>\n      <td>110.0</td>\n      <td>-1.25</td>\n      <td>0.5</td>\n      <td>110.0</td>\n    </tr>\n    <tr>\n      <th>1</th>\n      <td>900546</td>\n      <td>0</td>\n      <td>20245</td>\n      <td>0.0</td>\n      <td>-1.75</td>\n      <td>0.5</td>\n      <td>65.0</td>\n      <td>0.00</td>\n      <td>0.0</td>\n      <td>0.0</td>\n      <td>-1.25</td>\n      <td>0.5</td>\n      <td>110.0</td>\n      <td>0.00</td>\n      <td>0.0</td>\n      <td>0.0</td>\n    </tr>\n    <tr>\n      <th>2</th>\n      <td>900546</td>\n      <td>0</td>\n      <td>18099</td>\n      <td>0.0</td>\n      <td>-1.50</td>\n      <td>0.5</td>\n      <td>65.0</td>\n      <td>0.00</td>\n      <td>0.0</td>\n      <td>0.0</td>\n      <td>-1.00</td>\n      <td>0.5</td>\n      <td>110.0</td>\n      <td>0.00</td>\n      <td>0.0</td>\n      <td>0.0</td>\n    </tr>\n    <tr>\n      <th>3</th>\n      <td>797627</td>\n      <td>1</td>\n      <td>6845</td>\n      <td>0.0</td>\n      <td>-1.50</td>\n      <td>0.5</td>\n      <td>170.0</td>\n      <td>0.00</td>\n      <td>0.0</td>\n      <td>0.0</td>\n      <td>-1.50</td>\n      <td>0.5</td>\n      <td>170.0</td>\n      <td>0.00</td>\n      <td>0.0</td>\n      <td>0.0</td>\n    </tr>\n    <tr>\n      <th>4</th>\n      <td>797627</td>\n      <td>1</td>\n      <td>5779</td>\n      <td>0.0</td>\n      <td>-0.75</td>\n      <td>0.5</td>\n      <td>170.0</td>\n      <td>0.00</td>\n      <td>0.0</td>\n      <td>0.0</td>\n      <td>-1.00</td>\n      <td>0.5</td>\n      <td>170.0</td>\n      <td>0.00</td>\n      <td>0.0</td>\n      <td>0.0</td>\n    </tr>\n  </tbody>\n</table>\n</div>"
     },
     "metadata": {},
     "execution_count": 2
    }
   ],
   "source": [
    "# import data\n",
    "dataset_og = pd.read_csv('..\\Data\\Measurements-Transformed')\n",
    "# kopie maken indien we iets van de originele data nodig hebben\n",
    "dataset = dataset_og.copy()\n",
    "dataset.head(5)"
   ]
  },
  {
   "cell_type": "markdown",
   "metadata": {},
   "source": [
    "### Features:\n",
    "Sex: geslacht\n",
    "\n",
    "Measurement_Age:\n",
    "\n",
    "Add: additie, is altijd gelijk in beide ogen\n",
    "\n",
    "Sph-Far-R: sphere ver van rechter oog, zowel + als - waardes\n",
    "\n",
    "Cyl-Far-R: cylinder ver van rechter oog, zowel + als - waardes\n",
    "\n",
    "Axis-Far-R: as ver van rechteroog, waarde tussen 0 en 180\n",
    "\n",
    "Sph-Close-R: sphere dicht van rechteroog = som van add + Sph-Far-R, zowel + als - waardes\n",
    "\n",
    "Cyl-Close-R: cylinder dicht van rechteroog, zowel + als - waardes\n",
    "\n",
    "Axis-Close-R: as dicht van rechteroog, waarde tussen 0 en 180\n",
    "\n",
    "Sph-Far-L: sphere ver van linker oog, zowel + als - waardes\n",
    "\n",
    "Cyl-Far-L: cylinder ver van linker oog, zowel + als - waardes\n",
    "\n",
    "Axis-Far-L: as ver van linker oog, tussen 0 en 180\n",
    "\n",
    "Sph-Close-L: sphere dicht van linker oog = som van add + Sph-Far-L, zowel + als - waardes\n",
    "\n",
    "Cyl-Close-L: cylinder dicht van linker oog, zowel + als - waardes\n",
    "\n",
    "Axis-Close-L: as dicht van linker oog, tussen 0 en 180"
   ]
  },
  {
   "cell_type": "code",
   "execution_count": 3,
   "metadata": {},
   "outputs": [
    {
     "output_type": "execute_result",
     "data": {
      "text/plain": "(array([], dtype=int64), array([], dtype=int64))"
     },
     "metadata": {},
     "execution_count": 3
    }
   ],
   "source": [
    "#??????????????\n",
    "for coll in dataset.columns:\n",
    "    coll = np.nan_to_num(coll)\n",
    "pd.DataFrame(dataset).fillna(0, inplace=True)\n",
    "np.where(np.isnan(dataset))"
   ]
  },
  {
   "cell_type": "code",
   "execution_count": 4,
   "metadata": {},
   "outputs": [],
   "source": [
    "#drop rijen waar < n meting van zijn en houd van de overige de top n meest recente waardes\n",
    "n = 2\n",
    "dataset = dataset.groupby('ID').filter(lambda x: len(x) > (n-1))\n",
    "dataset = dataset.groupby('ID').head(n)"
   ]
  },
  {
   "cell_type": "code",
   "execution_count": 5,
   "metadata": {},
   "outputs": [
    {
     "output_type": "execute_result",
     "data": {
      "text/plain": "       ID  Sex  Measurement_Age   Add  Sph-Far-R  Cyl-Far-R  Axis-Far-R  \\\n0  900546    0            21118  0.00      -1.75       0.50        55.0   \n1  900546    0            20245  0.00      -1.75       0.50        65.0   \n3  797627    1             6845  0.00      -1.50       0.50       170.0   \n4  797627    1             5779  0.00      -0.75       0.50       170.0   \n5  710633    1            20777  2.25       3.75       0.75         5.0   \n6  710633    1            19033  2.25      -1.25       0.00         0.0   \n\n   Sph-Close-R  Cyl-Close-R  Axis-Close-R  Sph-Far-L  Cyl-Far-L  Axis-Far-L  \\\n0        -2.25         1.00          55.0      -1.75       1.00       110.0   \n1         0.00         0.00           0.0      -1.25       0.50       110.0   \n3         0.00         0.00           0.0      -1.50       0.50       170.0   \n4         0.00         0.00           0.0      -1.00       0.50       170.0   \n5         2.00         0.25           5.0      -1.25       0.25       135.0   \n6         1.00         0.00           0.0      -1.50       0.00         0.0   \n\n   Sph-Close-L  Cyl-Close-L  Axis-Close-L  \n0        -1.25         0.50         110.0  \n1         0.00         0.00           0.0  \n3         0.00         0.00           0.0  \n4         0.00         0.00           0.0  \n5         0.50         0.75         135.0  \n6         0.75         0.00           0.0  ",
      "text/html": "<div>\n<style scoped>\n    .dataframe tbody tr th:only-of-type {\n        vertical-align: middle;\n    }\n\n    .dataframe tbody tr th {\n        vertical-align: top;\n    }\n\n    .dataframe thead th {\n        text-align: right;\n    }\n</style>\n<table border=\"1\" class=\"dataframe\">\n  <thead>\n    <tr style=\"text-align: right;\">\n      <th></th>\n      <th>ID</th>\n      <th>Sex</th>\n      <th>Measurement_Age</th>\n      <th>Add</th>\n      <th>Sph-Far-R</th>\n      <th>Cyl-Far-R</th>\n      <th>Axis-Far-R</th>\n      <th>Sph-Close-R</th>\n      <th>Cyl-Close-R</th>\n      <th>Axis-Close-R</th>\n      <th>Sph-Far-L</th>\n      <th>Cyl-Far-L</th>\n      <th>Axis-Far-L</th>\n      <th>Sph-Close-L</th>\n      <th>Cyl-Close-L</th>\n      <th>Axis-Close-L</th>\n    </tr>\n  </thead>\n  <tbody>\n    <tr>\n      <th>0</th>\n      <td>900546</td>\n      <td>0</td>\n      <td>21118</td>\n      <td>0.00</td>\n      <td>-1.75</td>\n      <td>0.50</td>\n      <td>55.0</td>\n      <td>-2.25</td>\n      <td>1.00</td>\n      <td>55.0</td>\n      <td>-1.75</td>\n      <td>1.00</td>\n      <td>110.0</td>\n      <td>-1.25</td>\n      <td>0.50</td>\n      <td>110.0</td>\n    </tr>\n    <tr>\n      <th>1</th>\n      <td>900546</td>\n      <td>0</td>\n      <td>20245</td>\n      <td>0.00</td>\n      <td>-1.75</td>\n      <td>0.50</td>\n      <td>65.0</td>\n      <td>0.00</td>\n      <td>0.00</td>\n      <td>0.0</td>\n      <td>-1.25</td>\n      <td>0.50</td>\n      <td>110.0</td>\n      <td>0.00</td>\n      <td>0.00</td>\n      <td>0.0</td>\n    </tr>\n    <tr>\n      <th>3</th>\n      <td>797627</td>\n      <td>1</td>\n      <td>6845</td>\n      <td>0.00</td>\n      <td>-1.50</td>\n      <td>0.50</td>\n      <td>170.0</td>\n      <td>0.00</td>\n      <td>0.00</td>\n      <td>0.0</td>\n      <td>-1.50</td>\n      <td>0.50</td>\n      <td>170.0</td>\n      <td>0.00</td>\n      <td>0.00</td>\n      <td>0.0</td>\n    </tr>\n    <tr>\n      <th>4</th>\n      <td>797627</td>\n      <td>1</td>\n      <td>5779</td>\n      <td>0.00</td>\n      <td>-0.75</td>\n      <td>0.50</td>\n      <td>170.0</td>\n      <td>0.00</td>\n      <td>0.00</td>\n      <td>0.0</td>\n      <td>-1.00</td>\n      <td>0.50</td>\n      <td>170.0</td>\n      <td>0.00</td>\n      <td>0.00</td>\n      <td>0.0</td>\n    </tr>\n    <tr>\n      <th>5</th>\n      <td>710633</td>\n      <td>1</td>\n      <td>20777</td>\n      <td>2.25</td>\n      <td>3.75</td>\n      <td>0.75</td>\n      <td>5.0</td>\n      <td>2.00</td>\n      <td>0.25</td>\n      <td>5.0</td>\n      <td>-1.25</td>\n      <td>0.25</td>\n      <td>135.0</td>\n      <td>0.50</td>\n      <td>0.75</td>\n      <td>135.0</td>\n    </tr>\n    <tr>\n      <th>6</th>\n      <td>710633</td>\n      <td>1</td>\n      <td>19033</td>\n      <td>2.25</td>\n      <td>-1.25</td>\n      <td>0.00</td>\n      <td>0.0</td>\n      <td>1.00</td>\n      <td>0.00</td>\n      <td>0.0</td>\n      <td>-1.50</td>\n      <td>0.00</td>\n      <td>0.0</td>\n      <td>0.75</td>\n      <td>0.00</td>\n      <td>0.0</td>\n    </tr>\n  </tbody>\n</table>\n</div>"
     },
     "metadata": {},
     "execution_count": 5
    }
   ],
   "source": [
    "dataset.head(6)"
   ]
  },
  {
   "cell_type": "code",
   "execution_count": 6,
   "metadata": {},
   "outputs": [],
   "source": [
    "#weglaten van de minst gecorreleerde features\n",
    "# dataset.drop(['Sex', 'Add', 'Axis-Close-R', 'Axis-Close-L'],axis=1, inplace=True)\n",
    "\n",
    "# #2 rijen naast elkaar zetten\n",
    "\n",
    "# dataset = dataset.merge(dataset ,on=['ID'], suffixes=['_x', ''])\n",
    "# dataset = dataset.sort_values(by=['ID', 'Measurement_Age_x'])\n",
    "# dataset = dataset.drop_duplicates(subset=['ID'], keep='first')\n",
    "# dataset.head()"
   ]
  },
  {
   "cell_type": "code",
   "execution_count": 7,
   "metadata": {},
   "outputs": [
    {
     "output_type": "execute_result",
     "data": {
      "text/plain": "           ID  Sex  Measurement_Age_x  Add_x  Sph-Far-R_x  Cyl-Far-R_x  \\\n25648  100066    1              19342    0.0        -5.25         1.50   \n15230  100209    0               3368    0.0        -1.75         1.75   \n5922   100299    1               8132    0.0        -1.00         0.00   \n5226   100314    0               5249    0.0        -0.25         0.00   \n9158   100445    0              25293    0.0         0.00         0.00   \n\n       Axis-Far-R_x  Sph-Close-R_x  Cyl-Close-R_x  Axis-Close-R_x  \\\n25648          90.0          -5.25            1.5            90.0   \n15230         110.0           0.00            0.0             0.0   \n5922            0.0           0.00            0.0             0.0   \n5226            0.0           0.00            0.0             0.0   \n9158            0.0           1.00            0.0            20.0   \n\n       Sph-Far-L_x  Cyl-Far-L_x  Axis-Far-L_x  Sph-Close-L_x  Cyl-Close-L_x  \\\n25648        -5.25          1.5          90.0          -5.25            1.5   \n15230        -0.50          0.5          90.0           0.00            0.0   \n5922         -0.75          0.0           0.0           0.00            0.0   \n5226         -0.25          0.0           0.0           0.00            0.0   \n9158          0.00          0.0           0.0           1.00            0.5   \n\n       Axis-Close-L_x  Measurement_Age  Add  Sph-Far-R  Cyl-Far-R  Axis-Far-R  \\\n25648            90.0            19342  0.0      -5.25       1.50        90.0   \n15230             0.0             3809  0.0      -1.25       1.25        95.0   \n5922              0.0            10176  0.0      -1.25       0.00         0.0   \n5226              0.0             6519  0.0      -0.75       0.00         0.0   \n9158              0.0            27299  0.0       0.00       0.00         0.0   \n\n       Sph-Close-R  Cyl-Close-R  Axis-Close-R  Sph-Far-L  Cyl-Far-L  \\\n25648        -5.25         1.50          90.0      -5.25       1.50   \n15230        -1.25         1.25          95.0      -0.25       0.25   \n5922         -1.25         0.00           0.0      -0.75       0.00   \n5226         -0.75         0.00           0.0      -0.75       0.00   \n9158          2.75         1.25          90.0       0.00       0.00   \n\n       Axis-Far-L  Sph-Close-L  Cyl-Close-L  Axis-Close-L  \n25648        90.0        -5.25         1.50          90.0  \n15230        90.0        -0.25         0.25          90.0  \n5922          0.0        -0.75         0.00           0.0  \n5226          0.0        -0.75         0.00           0.0  \n9158          0.0         5.00         0.00          70.0  ",
      "text/html": "<div>\n<style scoped>\n    .dataframe tbody tr th:only-of-type {\n        vertical-align: middle;\n    }\n\n    .dataframe tbody tr th {\n        vertical-align: top;\n    }\n\n    .dataframe thead th {\n        text-align: right;\n    }\n</style>\n<table border=\"1\" class=\"dataframe\">\n  <thead>\n    <tr style=\"text-align: right;\">\n      <th></th>\n      <th>ID</th>\n      <th>Sex</th>\n      <th>Measurement_Age_x</th>\n      <th>Add_x</th>\n      <th>Sph-Far-R_x</th>\n      <th>Cyl-Far-R_x</th>\n      <th>Axis-Far-R_x</th>\n      <th>Sph-Close-R_x</th>\n      <th>Cyl-Close-R_x</th>\n      <th>Axis-Close-R_x</th>\n      <th>Sph-Far-L_x</th>\n      <th>Cyl-Far-L_x</th>\n      <th>Axis-Far-L_x</th>\n      <th>Sph-Close-L_x</th>\n      <th>Cyl-Close-L_x</th>\n      <th>Axis-Close-L_x</th>\n      <th>Measurement_Age</th>\n      <th>Add</th>\n      <th>Sph-Far-R</th>\n      <th>Cyl-Far-R</th>\n      <th>Axis-Far-R</th>\n      <th>Sph-Close-R</th>\n      <th>Cyl-Close-R</th>\n      <th>Axis-Close-R</th>\n      <th>Sph-Far-L</th>\n      <th>Cyl-Far-L</th>\n      <th>Axis-Far-L</th>\n      <th>Sph-Close-L</th>\n      <th>Cyl-Close-L</th>\n      <th>Axis-Close-L</th>\n    </tr>\n  </thead>\n  <tbody>\n    <tr>\n      <th>25648</th>\n      <td>100066</td>\n      <td>1</td>\n      <td>19342</td>\n      <td>0.0</td>\n      <td>-5.25</td>\n      <td>1.50</td>\n      <td>90.0</td>\n      <td>-5.25</td>\n      <td>1.5</td>\n      <td>90.0</td>\n      <td>-5.25</td>\n      <td>1.5</td>\n      <td>90.0</td>\n      <td>-5.25</td>\n      <td>1.5</td>\n      <td>90.0</td>\n      <td>19342</td>\n      <td>0.0</td>\n      <td>-5.25</td>\n      <td>1.50</td>\n      <td>90.0</td>\n      <td>-5.25</td>\n      <td>1.50</td>\n      <td>90.0</td>\n      <td>-5.25</td>\n      <td>1.50</td>\n      <td>90.0</td>\n      <td>-5.25</td>\n      <td>1.50</td>\n      <td>90.0</td>\n    </tr>\n    <tr>\n      <th>15230</th>\n      <td>100209</td>\n      <td>0</td>\n      <td>3368</td>\n      <td>0.0</td>\n      <td>-1.75</td>\n      <td>1.75</td>\n      <td>110.0</td>\n      <td>0.00</td>\n      <td>0.0</td>\n      <td>0.0</td>\n      <td>-0.50</td>\n      <td>0.5</td>\n      <td>90.0</td>\n      <td>0.00</td>\n      <td>0.0</td>\n      <td>0.0</td>\n      <td>3809</td>\n      <td>0.0</td>\n      <td>-1.25</td>\n      <td>1.25</td>\n      <td>95.0</td>\n      <td>-1.25</td>\n      <td>1.25</td>\n      <td>95.0</td>\n      <td>-0.25</td>\n      <td>0.25</td>\n      <td>90.0</td>\n      <td>-0.25</td>\n      <td>0.25</td>\n      <td>90.0</td>\n    </tr>\n    <tr>\n      <th>5922</th>\n      <td>100299</td>\n      <td>1</td>\n      <td>8132</td>\n      <td>0.0</td>\n      <td>-1.00</td>\n      <td>0.00</td>\n      <td>0.0</td>\n      <td>0.00</td>\n      <td>0.0</td>\n      <td>0.0</td>\n      <td>-0.75</td>\n      <td>0.0</td>\n      <td>0.0</td>\n      <td>0.00</td>\n      <td>0.0</td>\n      <td>0.0</td>\n      <td>10176</td>\n      <td>0.0</td>\n      <td>-1.25</td>\n      <td>0.00</td>\n      <td>0.0</td>\n      <td>-1.25</td>\n      <td>0.00</td>\n      <td>0.0</td>\n      <td>-0.75</td>\n      <td>0.00</td>\n      <td>0.0</td>\n      <td>-0.75</td>\n      <td>0.00</td>\n      <td>0.0</td>\n    </tr>\n    <tr>\n      <th>5226</th>\n      <td>100314</td>\n      <td>0</td>\n      <td>5249</td>\n      <td>0.0</td>\n      <td>-0.25</td>\n      <td>0.00</td>\n      <td>0.0</td>\n      <td>0.00</td>\n      <td>0.0</td>\n      <td>0.0</td>\n      <td>-0.25</td>\n      <td>0.0</td>\n      <td>0.0</td>\n      <td>0.00</td>\n      <td>0.0</td>\n      <td>0.0</td>\n      <td>6519</td>\n      <td>0.0</td>\n      <td>-0.75</td>\n      <td>0.00</td>\n      <td>0.0</td>\n      <td>-0.75</td>\n      <td>0.00</td>\n      <td>0.0</td>\n      <td>-0.75</td>\n      <td>0.00</td>\n      <td>0.0</td>\n      <td>-0.75</td>\n      <td>0.00</td>\n      <td>0.0</td>\n    </tr>\n    <tr>\n      <th>9158</th>\n      <td>100445</td>\n      <td>0</td>\n      <td>25293</td>\n      <td>0.0</td>\n      <td>0.00</td>\n      <td>0.00</td>\n      <td>0.0</td>\n      <td>1.00</td>\n      <td>0.0</td>\n      <td>20.0</td>\n      <td>0.00</td>\n      <td>0.0</td>\n      <td>0.0</td>\n      <td>1.00</td>\n      <td>0.5</td>\n      <td>0.0</td>\n      <td>27299</td>\n      <td>0.0</td>\n      <td>0.00</td>\n      <td>0.00</td>\n      <td>0.0</td>\n      <td>2.75</td>\n      <td>1.25</td>\n      <td>90.0</td>\n      <td>0.00</td>\n      <td>0.00</td>\n      <td>0.0</td>\n      <td>5.00</td>\n      <td>0.00</td>\n      <td>70.0</td>\n    </tr>\n  </tbody>\n</table>\n</div>"
     },
     "metadata": {},
     "execution_count": 7
    }
   ],
   "source": [
    "#2 rijen naast elkaar zetten\n",
    "\n",
    "dataset = dataset.merge(dataset ,on=['ID', 'Sex'], suffixes=['_x', ''])\n",
    "dataset = dataset.sort_values(by=['ID', 'Measurement_Age_x'])\n",
    "dataset = dataset.drop_duplicates(subset=['ID', 'Sex'], keep='first')\n",
    "dataset.head()"
   ]
  },
  {
   "cell_type": "code",
   "execution_count": 8,
   "metadata": {},
   "outputs": [],
   "source": [
    "#Drop kolom ID\n",
    "dataset.drop(['ID'],axis=1, inplace=True)\n"
   ]
  },
  {
   "cell_type": "markdown",
   "metadata": {},
   "source": [
    "### Linear regression"
   ]
  },
  {
   "cell_type": "code",
   "execution_count": null,
   "metadata": {},
   "outputs": [],
   "source": [
    "\n",
    "y = dataset['Sph-Far-R'].values\n",
    "X = dataset.drop(['Add', 'Sph-Far-R', 'Cyl-Far-R', 'Axis-Far-R', 'Sph-Close-R', 'Cyl-Close-R', 'Axis-Close-R', 'Sph-Far-L', \n",
    "                  'Cyl-Far-L', 'Axis-Far-L', 'Sph-Close-L', 'Cyl-Close-L', 'Axis-Close-L'],axis=1)\n",
    "X_train, X_test, y_train, y_test = train_test_split(X, y, test_size=0.2, random_state=0)\n",
    "\n",
    "\n",
    "## Standard scaler\n",
    "scaler = preprocessing.StandardScaler().fit(X_train)\n",
    "X_train = scaler.transform(X_train)\n",
    "X_test = scaler.transform(X_test)\n",
    "\n",
    "# Linear regression\n",
    "\n",
    "lreg_sph_far_r = linear_model.LinearRegression()\n",
    "lreg_sph_far_r.fit(X_train,y_train)\n",
    "r2 = lreg_sph_far_r.score(X_test,y_test)\n",
    "print('scaled lreg r2 score = ', r2)\n",
    "\n",
    "graad = 2\n",
    "\n",
    "poly = PolynomialFeatures(graad).fit(X_train)\n",
    "X_train_poly = poly.transform(X_train)\n",
    "X_test_poly = poly.transform(X_test)\n",
    "\n",
    "lreg_poly_sph_far_r = Ridge(alpha=0.5,tol=0.0001,fit_intercept=True)\n",
    "lreg_poly_sph_far_r.fit(X_train_poly,y_train)\n",
    "\n",
    "print('R2 score op test set via L2: ',lreg_poly_sph_far_r.score(X_test_poly,y_test))"
   ]
  },
  {
   "cell_type": "code",
   "execution_count": null,
   "metadata": {},
   "outputs": [],
   "source": []
  },
  {
   "cell_type": "code",
   "execution_count": 9,
   "metadata": {},
   "outputs": [
    {
     "output_type": "stream",
     "name": "stdout",
     "text": "[ 0.00918682 -0.28633455 -0.1713596   1.91368004  0.09049462 -0.08547377\n  0.15850875 -0.07187467  0.0729412   0.45951896 -0.02067529 -0.04231607\n  0.03013486  0.02476855  0.05906536  0.64997289]\nr2 score =  0.7865558011527171\ndimensie van X_train_poly:  (6833, 153)\ndimensie van X_test_poly:  (1709, 153)\nR2 score op test set via L2:  0.7999430644929254\nR2 score op training set via L2:  0.8233100270748223\n"
    }
   ],
   "source": [
    "# Splitsen in features en targets\n",
    "\n",
    "y = dataset['Sph-Far-R'].values\n",
    "X = dataset.drop(['Add', 'Sph-Far-R', 'Cyl-Far-R', 'Axis-Far-R', 'Sph-Close-R', 'Cyl-Close-R', 'Axis-Close-R', 'Sph-Far-L', \n",
    "                  'Cyl-Far-L', 'Axis-Far-L', 'Sph-Close-L', 'Cyl-Close-L', 'Axis-Close-L'],axis=1)\n",
    "\n",
    "# Splitsen in training set en test set\n",
    "\n",
    "X_train, X_test, y_train, y_test = train_test_split(X, y, test_size=0.2, random_state=0)\n",
    "\n",
    "\n",
    "## Standard scaler\n",
    "scaler = preprocessing.StandardScaler()\n",
    "scaler.fit(X_train)\n",
    "X_train = scaler.transform(X_train)\n",
    "X_test = scaler.transform(X_test)\n",
    "\n",
    "# Linear regression\n",
    "\n",
    "lreg_sph_far_r = linear_model.LinearRegression()\n",
    "lreg_sph_far_r.fit(X_train,y_train)\n",
    "print(lreg_sph_far_r.coef_)\n",
    "r2 = lreg_sph_far_r.score(X_test,y_test)\n",
    "print('r2 score = ', r2)\n",
    "\n",
    "# Modeloptimalisatie en Hyperparameter tuning\n",
    "\n",
    "# Aanmaken van de hogere orde features\n",
    "graad = 2\n",
    "\n",
    "poly = PolynomialFeatures(graad)\n",
    "poly.fit(X_train)\n",
    "X_train_poly = poly.transform(X_train)\n",
    "X_test_poly = poly.transform(X_test)\n",
    "print('dimensie van X_train_poly: ',X_train_poly.shape)\n",
    "print('dimensie van X_test_poly: ',X_test_poly.shape)\n",
    "\n",
    "\n",
    "# met L2 regularisatie via Ridge regression\n",
    "lreg_poly_sph_far_r = Ridge(alpha=0.5,tol=0.0001,fit_intercept=True)\n",
    "lreg_poly_sph_far_r.fit(X_train_poly,y_train)\n",
    "\n",
    "print('R2 score op test set via L2: ',lreg_poly_sph_far_r.score(X_test_poly,y_test))\n",
    "# R2 -score via L2 op de trainingset\n",
    "print('R2 score op training set via L2: ',lreg_poly_sph_far_r.score(X_train_poly,y_train))\n",
    "\n",
    "\n",
    "# # met L1 regularisatie via Lasso regression\n",
    "# lreg_poly_sph_far_r = Lasso(alpha=0.001,tol=0.0001,fit_intercept=True)\n",
    "# lreg_poly_sph_far_r.fit(X_train_poly,y_train)      \n",
    "  \n",
    "      \n",
    "# print('R2 score op test set via L1: ',lreg_poly_sph_far_r.score(X_test_poly,y_test))\n",
    "  \n",
    "# # R2 -score via L1 op de trainingset\n",
    "# print('R2 score op training set via L1: ',lreg_poly_sph_far_r.score(X_train_poly,y_train))    \n",
    "\n",
    "# # Variëren van de alpha en grafiek\n",
    "\n",
    "# train_r2 = []\n",
    "# test_r2 = []\n",
    "\n",
    "\n",
    "# alphas = np.logspace(-2, 6, 1000)\n",
    "\n",
    "# for alpha in alphas:\n",
    "#     lregmodel_poly = Ridge(alpha=alpha,tol=0.0001,fit_intercept=True)\n",
    "#     lregmodel_poly.fit(X_train_poly,y_train)\n",
    "#     test_r2.append(lregmodel_poly.score(X_test_poly,y_test))  \n",
    "#     train_r2.append(lregmodel_poly.score(X_train_poly,y_train))\n",
    "\n",
    "\n",
    "# # Plot r2\n",
    "# f, ax = plt.subplots(figsize=(10, 8))\n",
    "# plt.subplot(2, 1, 1)\n",
    "# plt.semilogx(alphas, train_r2, label='Train')\n",
    "# plt.semilogx(alphas, test_r2, label='Test')\n",
    "# plt.legend(loc='lower left')\n",
    "# plt.ylim([0, 1.2])\n",
    "# plt.xlabel('Regularization parameter')\n",
    "# plt.ylabel('R² Performance')\n",
    "\n",
    "\n",
    "\n",
    "# Via KernelRidge met een polynomial kernel\n",
    "\n",
    "# from sklearn.kernel_ridge import KernelRidge\n",
    "\n",
    "# lreg_sph_far_r = KernelRidge(alpha=0.001, degree=3, gamma=None, kernel='polynomial')\n",
    "# lreg_sph_far_r.fit(X_train,y_train)\n",
    "\n",
    "\n",
    "# y_predicted = lreg_sph_far_r.predict(X_train)\n",
    "# r2 = r2_score(y_train,y_predicted)\n",
    "\n",
    "# print('training set: ',r2)\n",
    "\n",
    "# y_predicted = lreg_sph_far_r.predict(X_test)\n",
    "# r2 = r2_score(y_test,y_predicted)\n",
    "\n",
    "# print('test set: ',r2)"
   ]
  },
  {
   "cell_type": "code",
   "execution_count": 10,
   "metadata": {},
   "outputs": [
    {
     "output_type": "stream",
     "name": "stdout",
     "text": "[ 0.0056063  -0.1671972  -0.03426157 -0.00327348  0.2808808  -0.02141647\n  0.00713429  0.05735339  0.0195822  -0.01900861  0.03751697 -0.01613666\n  0.02397751 -0.00614762  0.00963567  0.15799624]\nr2 score =  0.5857827575788236\ndimensie van X_train_poly:  (6833, 153)\ndimensie van X_test_poly:  (1709, 153)\nR2 score op test set via L2:  0.6080443534538483\nR2 score op training set via L2:  0.6247270740132329\n"
    }
   ],
   "source": [
    "# Splitsen in features en targets\n",
    "\n",
    "y = dataset['Cyl-Far-R'].values\n",
    "X = dataset.drop(['Add', 'Sph-Far-R', 'Cyl-Far-R', 'Axis-Far-R', 'Sph-Close-R', 'Cyl-Close-R', 'Axis-Close-R', 'Sph-Far-L', \n",
    "                  'Cyl-Far-L', 'Axis-Far-L', 'Sph-Close-L', 'Cyl-Close-L', 'Axis-Close-L'],axis=1)\n",
    "\n",
    "# Splitsen in training set en test set\n",
    "\n",
    "X_train, X_test, y_train, y_test = train_test_split(X, y, test_size=0.2, random_state=0)\n",
    "\n",
    "\n",
    "## Standard scaler\n",
    "scaler = preprocessing.StandardScaler()\n",
    "scaler.fit(X_train)\n",
    "X_train = scaler.transform(X_train)\n",
    "X_test = scaler.transform(X_test)\n",
    "\n",
    "# Linear regression\n",
    "\n",
    "lreg_cyl_far_r = linear_model.LinearRegression()\n",
    "lreg_cyl_far_r.fit(X_train,y_train)\n",
    "print(lreg_cyl_far_r.coef_)\n",
    "r2 = lreg_cyl_far_r.score(X_test,y_test)\n",
    "print('r2 score = ', r2)\n",
    "\n",
    "# Modeloptimalisatie en Hyperparameter tuning\n",
    "\n",
    "# Aanmaken van de hogere orde features\n",
    "graad = 2\n",
    "\n",
    "poly = PolynomialFeatures(graad)\n",
    "poly.fit(X_train)\n",
    "X_train_poly = poly.transform(X_train)\n",
    "X_test_poly = poly.transform(X_test)\n",
    "print('dimensie van X_train_poly: ',X_train_poly.shape)\n",
    "print('dimensie van X_test_poly: ',X_test_poly.shape)\n",
    "\n",
    "\n",
    "# met L2 regularisatie via Ridge regression\n",
    "lreg_poly_cyl_far_r = Ridge(alpha=0.5,tol=0.0001,fit_intercept=True)\n",
    "lreg_poly_cyl_far_r.fit(X_train_poly,y_train)\n",
    "\n",
    "print('R2 score op test set via L2: ',lreg_poly_cyl_far_r.score(X_test_poly,y_test))\n",
    "# R2 -score via L2 op de trainingset\n",
    "print('R2 score op training set via L2: ',lreg_poly_cyl_far_r.score(X_train_poly,y_train))"
   ]
  },
  {
   "cell_type": "code",
   "execution_count": 11,
   "metadata": {},
   "outputs": [
    {
     "output_type": "stream",
     "name": "stdout",
     "text": "[ 0.01118765 -0.37233646 -0.1673581   0.27742456  0.03137734 -0.10056563\n -0.01495033  0.00559489  0.0718866   2.09980518  0.01221494 -0.01590969\n  0.18627552 -0.03091187  0.0465336   0.73413511]\nr2 score =  0.7847246331223623\ndimensie van X_train_poly:  (6833, 153)\ndimensie van X_test_poly:  (1709, 153)\nR2 score op test set via L2:  0.8069893619746362\nR2 score op training set via L2:  0.8157719309509733\n"
    }
   ],
   "source": [
    "# Splitsen in features en targets\n",
    "\n",
    "y = dataset['Sph-Far-L'].values\n",
    "X = dataset.drop(['Add', 'Sph-Far-R', 'Cyl-Far-R', 'Axis-Far-R', 'Sph-Close-R', 'Cyl-Close-R', 'Axis-Close-R', 'Sph-Far-L', \n",
    "                  'Cyl-Far-L', 'Axis-Far-L', 'Sph-Close-L', 'Cyl-Close-L', 'Axis-Close-L'],axis=1)\n",
    "\n",
    "# Splitsen in training set en test set\n",
    "\n",
    "X_train, X_test, y_train, y_test = train_test_split(X, y, test_size=0.2, random_state=0)\n",
    "\n",
    "\n",
    "## Standard scaler\n",
    "scaler = preprocessing.StandardScaler()\n",
    "scaler.fit(X_train)\n",
    "X_train = scaler.transform(X_train)\n",
    "X_test = scaler.transform(X_test)\n",
    "\n",
    "# Linear regression\n",
    "\n",
    "lreg_sph_far_l = linear_model.LinearRegression()\n",
    "lreg_sph_far_l.fit(X_train,y_train)\n",
    "print(lreg_sph_far_l.coef_)\n",
    "r2 = lreg_sph_far_l.score(X_test,y_test)\n",
    "print('r2 score = ', r2)\n",
    "\n",
    "# Modeloptimalisatie en Hyperparameter tuning\n",
    "\n",
    "# Aanmaken van de hogere orde features\n",
    "graad = 2\n",
    "\n",
    "poly = PolynomialFeatures(graad)\n",
    "poly.fit(X_train)\n",
    "X_train_poly = poly.transform(X_train)\n",
    "X_test_poly = poly.transform(X_test)\n",
    "print('dimensie van X_train_poly: ',X_train_poly.shape)\n",
    "print('dimensie van X_test_poly: ',X_test_poly.shape)\n",
    "\n",
    "\n",
    "# met L2 regularisatie via Ridge regression\n",
    "lreg_poly_sph_far_l = Ridge(alpha=0.5,tol=0.0001,fit_intercept=True)\n",
    "lreg_poly_sph_far_l.fit(X_train_poly,y_train)\n",
    "\n",
    "print('R2 score op test set via L2: ',lreg_poly_sph_far_l.score(X_test_poly,y_test))\n",
    "# R2 -score via L2 op de trainingset\n",
    "print('R2 score op training set via L2: ',lreg_poly_sph_far_l.score(X_train_poly,y_train))"
   ]
  },
  {
   "cell_type": "code",
   "execution_count": 12,
   "metadata": {},
   "outputs": [
    {
     "output_type": "stream",
     "name": "stdout",
     "text": "[ 3.18592393e-03 -1.72186214e-01 -3.43002030e-02 -1.54685776e-02\n  3.33606783e-02  5.47398590e-05  1.36071332e-02 -1.74654462e-02\n  9.12563458e-03 -2.91442425e-03  2.88825145e-01 -3.10545328e-02\n  1.64463850e-02  6.28369976e-02  1.66296056e-02  1.74457378e-01]\nr2 score =  0.5953278407116029\ndimensie van X_train_poly:  (6833, 153)\ndimensie van X_test_poly:  (1709, 153)\nR2 score op test set via L2:  0.6182118719788038\nR2 score op training set via L2:  0.6321077346608683\n"
    }
   ],
   "source": [
    "# Splitsen in features en targets\n",
    "\n",
    "y = dataset['Cyl-Far-L'].values\n",
    "X = dataset.drop(['Add', 'Sph-Far-R', 'Cyl-Far-R', 'Axis-Far-R', 'Sph-Close-R', 'Cyl-Close-R', 'Axis-Close-R', 'Sph-Far-L', \n",
    "                  'Cyl-Far-L', 'Axis-Far-L', 'Sph-Close-L', 'Cyl-Close-L', 'Axis-Close-L'],axis=1)\n",
    "\n",
    "# Splitsen in training set en test set\n",
    "\n",
    "X_train, X_test, y_train, y_test = train_test_split(X, y, test_size=0.2, random_state=0)\n",
    "\n",
    "## Standard scaler\n",
    "scaler = preprocessing.StandardScaler()\n",
    "scaler.fit(X_train)\n",
    "X_train = scaler.transform(X_train)\n",
    "X_test = scaler.transform(X_test)\n",
    "\n",
    "# Linear regression\n",
    "\n",
    "lreg_cyl_far_l = linear_model.LinearRegression()\n",
    "lreg_cyl_far_l.fit(X_train,y_train)\n",
    "print(lreg_cyl_far_l.coef_)\n",
    "r2 = lreg_cyl_far_l.score(X_test,y_test)\n",
    "print('r2 score = ', r2)\n",
    "\n",
    "# Modeloptimalisatie en Hyperparameter tuning\n",
    "\n",
    "# Aanmaken van de hogere orde features\n",
    "graad = 2\n",
    "\n",
    "poly = PolynomialFeatures(graad)\n",
    "poly.fit(X_train)\n",
    "X_train_poly = poly.transform(X_train)\n",
    "X_test_poly = poly.transform(X_test)\n",
    "print('dimensie van X_train_poly: ',X_train_poly.shape)\n",
    "print('dimensie van X_test_poly: ',X_test_poly.shape)\n",
    "\n",
    "\n",
    "# met L2 regularisatie via Ridge regression\n",
    "lreg_poly_cyl_far_l = Ridge(alpha=0.5,tol=0.0001,fit_intercept=True)\n",
    "lreg_poly_cyl_far_l.fit(X_train_poly,y_train)\n",
    "\n",
    "print('R2 score op test set via L2: ',lreg_poly_cyl_far_l.score(X_test_poly,y_test))\n",
    "# R2 -score via L2 op de trainingset\n",
    "print('R2 score op training set via L2: ',lreg_poly_cyl_far_l.score(X_train_poly,y_train))"
   ]
  },
  {
   "cell_type": "markdown",
   "metadata": {},
   "source": [
    "### Random forest regressor"
   ]
  },
  {
   "cell_type": "code",
   "execution_count": 13,
   "metadata": {},
   "outputs": [
    {
     "output_type": "execute_result",
     "data": {
      "text/plain": "       Sex  Measurement_Age_x  Add_x  Sph-Far-R_x  Cyl-Far-R_x  Axis-Far-R_x  \\\n25648    1              19342    0.0        -5.25         1.50          90.0   \n15230    0               3368    0.0        -1.75         1.75         110.0   \n5922     1               8132    0.0        -1.00         0.00           0.0   \n5226     0               5249    0.0        -0.25         0.00           0.0   \n9158     0              25293    0.0         0.00         0.00           0.0   \n7358     0               9160    0.0        -3.25         0.00           0.0   \n30502    1              14634    0.0         0.25         0.75         110.0   \n25080    1              11025    0.0         1.50         0.50          90.0   \n20004    0              26553    0.0         4.75         0.00           0.0   \n21690    0              18348    0.0        -1.25         0.50         160.0   \n31514    0              24335    2.5        -0.75         0.50          35.0   \n27220    1              15926    0.0         2.00         0.00           0.0   \n22642    0              21075    0.0         0.75         0.00           0.0   \n12904    1              22791    0.0         1.25         0.00           0.0   \n5310     0               7067    0.0        -2.75         0.00           0.0   \n1094     0              16385    0.0         0.00         0.00           0.0   \n31002    1               8619    0.0        -1.25         0.00           0.0   \n26438    0              20041    0.0         0.00         0.00           0.0   \n32478    1              19561    0.0         0.00         0.00           0.0   \n16652    0               2915    0.0         3.75         1.25         100.0   \n\n       Sph-Close-R_x  Cyl-Close-R_x  Axis-Close-R_x  Sph-Far-L_x  Cyl-Far-L_x  \\\n25648          -5.25           1.50            90.0        -5.25          1.5   \n15230           0.00           0.00             0.0        -0.50          0.5   \n5922            0.00           0.00             0.0        -0.75          0.0   \n5226            0.00           0.00             0.0        -0.25          0.0   \n9158            1.00           0.00            20.0         0.00          0.0   \n7358            0.00           0.00             0.0        -3.00          0.0   \n30502           0.00           0.00             0.0        -0.50          1.5   \n25080           1.50           0.50            90.0         1.50          0.5   \n20004           4.75           0.00             0.0         4.00          0.5   \n21690           0.00           0.00             0.0        -1.00          0.5   \n31514           1.75           0.50            35.0        -1.00          0.5   \n27220           2.00           0.00             0.0         2.00          0.0   \n22642           0.00           0.00             0.0         0.75          0.0   \n12904           1.25           0.00             0.0         0.75          0.0   \n5310            0.00           0.00             0.0        -1.75          0.0   \n1094            0.50           0.50            75.0         0.00          0.0   \n31002           0.00           0.00             0.0        -1.25          0.0   \n26438           4.00           0.00             0.0         0.00          0.0   \n32478           2.50           0.50            90.0         0.00          0.0   \n16652           3.75           1.25           100.0         3.00          1.5   \n\n       Axis-Far-L_x  Sph-Close-L_x  Cyl-Close-L_x  Axis-Close-L_x  \\\n25648          90.0          -5.25           1.50            90.0   \n15230          90.0           0.00           0.00             0.0   \n5922            0.0           0.00           0.00             0.0   \n5226            0.0           0.00           0.00             0.0   \n9158            0.0           1.00           0.50             0.0   \n7358            0.0           0.00           0.00             0.0   \n30502          80.0           0.00           0.00             0.0   \n25080          90.0           1.50           0.50            90.0   \n20004           0.0           4.00           0.50             0.0   \n21690          10.0           0.00           0.00             0.0   \n31514         105.0           1.50           0.50           105.0   \n27220           0.0           2.00           0.00             0.0   \n22642           0.0           0.00           0.00             0.0   \n12904           0.0           0.75           0.00             0.0   \n5310            0.0           0.00           0.00             0.0   \n1094            0.0           0.50           0.50           100.0   \n31002           0.0           0.00           0.00             0.0   \n26438           0.0           3.50           0.25            90.0   \n32478           0.0           2.50           0.50            90.0   \n16652         100.0           3.00           1.50           100.0   \n\n       Measurement_Age  \n25648            19342  \n15230             3809  \n5922             10176  \n5226              6519  \n9158             27299  \n7358             10678  \n30502            18294  \n25080            11025  \n20004            26553  \n21690            19304  \n31514            27025  \n27220            15926  \n22642            21638  \n12904            22791  \n5310              7461  \n1094             17031  \n31002             9493  \n26438            20158  \n32478            23075  \n16652             2915  ",
      "text/html": "<div>\n<style scoped>\n    .dataframe tbody tr th:only-of-type {\n        vertical-align: middle;\n    }\n\n    .dataframe tbody tr th {\n        vertical-align: top;\n    }\n\n    .dataframe thead th {\n        text-align: right;\n    }\n</style>\n<table border=\"1\" class=\"dataframe\">\n  <thead>\n    <tr style=\"text-align: right;\">\n      <th></th>\n      <th>Sex</th>\n      <th>Measurement_Age_x</th>\n      <th>Add_x</th>\n      <th>Sph-Far-R_x</th>\n      <th>Cyl-Far-R_x</th>\n      <th>Axis-Far-R_x</th>\n      <th>Sph-Close-R_x</th>\n      <th>Cyl-Close-R_x</th>\n      <th>Axis-Close-R_x</th>\n      <th>Sph-Far-L_x</th>\n      <th>Cyl-Far-L_x</th>\n      <th>Axis-Far-L_x</th>\n      <th>Sph-Close-L_x</th>\n      <th>Cyl-Close-L_x</th>\n      <th>Axis-Close-L_x</th>\n      <th>Measurement_Age</th>\n    </tr>\n  </thead>\n  <tbody>\n    <tr>\n      <th>25648</th>\n      <td>1</td>\n      <td>19342</td>\n      <td>0.0</td>\n      <td>-5.25</td>\n      <td>1.50</td>\n      <td>90.0</td>\n      <td>-5.25</td>\n      <td>1.50</td>\n      <td>90.0</td>\n      <td>-5.25</td>\n      <td>1.5</td>\n      <td>90.0</td>\n      <td>-5.25</td>\n      <td>1.50</td>\n      <td>90.0</td>\n      <td>19342</td>\n    </tr>\n    <tr>\n      <th>15230</th>\n      <td>0</td>\n      <td>3368</td>\n      <td>0.0</td>\n      <td>-1.75</td>\n      <td>1.75</td>\n      <td>110.0</td>\n      <td>0.00</td>\n      <td>0.00</td>\n      <td>0.0</td>\n      <td>-0.50</td>\n      <td>0.5</td>\n      <td>90.0</td>\n      <td>0.00</td>\n      <td>0.00</td>\n      <td>0.0</td>\n      <td>3809</td>\n    </tr>\n    <tr>\n      <th>5922</th>\n      <td>1</td>\n      <td>8132</td>\n      <td>0.0</td>\n      <td>-1.00</td>\n      <td>0.00</td>\n      <td>0.0</td>\n      <td>0.00</td>\n      <td>0.00</td>\n      <td>0.0</td>\n      <td>-0.75</td>\n      <td>0.0</td>\n      <td>0.0</td>\n      <td>0.00</td>\n      <td>0.00</td>\n      <td>0.0</td>\n      <td>10176</td>\n    </tr>\n    <tr>\n      <th>5226</th>\n      <td>0</td>\n      <td>5249</td>\n      <td>0.0</td>\n      <td>-0.25</td>\n      <td>0.00</td>\n      <td>0.0</td>\n      <td>0.00</td>\n      <td>0.00</td>\n      <td>0.0</td>\n      <td>-0.25</td>\n      <td>0.0</td>\n      <td>0.0</td>\n      <td>0.00</td>\n      <td>0.00</td>\n      <td>0.0</td>\n      <td>6519</td>\n    </tr>\n    <tr>\n      <th>9158</th>\n      <td>0</td>\n      <td>25293</td>\n      <td>0.0</td>\n      <td>0.00</td>\n      <td>0.00</td>\n      <td>0.0</td>\n      <td>1.00</td>\n      <td>0.00</td>\n      <td>20.0</td>\n      <td>0.00</td>\n      <td>0.0</td>\n      <td>0.0</td>\n      <td>1.00</td>\n      <td>0.50</td>\n      <td>0.0</td>\n      <td>27299</td>\n    </tr>\n    <tr>\n      <th>7358</th>\n      <td>0</td>\n      <td>9160</td>\n      <td>0.0</td>\n      <td>-3.25</td>\n      <td>0.00</td>\n      <td>0.0</td>\n      <td>0.00</td>\n      <td>0.00</td>\n      <td>0.0</td>\n      <td>-3.00</td>\n      <td>0.0</td>\n      <td>0.0</td>\n      <td>0.00</td>\n      <td>0.00</td>\n      <td>0.0</td>\n      <td>10678</td>\n    </tr>\n    <tr>\n      <th>30502</th>\n      <td>1</td>\n      <td>14634</td>\n      <td>0.0</td>\n      <td>0.25</td>\n      <td>0.75</td>\n      <td>110.0</td>\n      <td>0.00</td>\n      <td>0.00</td>\n      <td>0.0</td>\n      <td>-0.50</td>\n      <td>1.5</td>\n      <td>80.0</td>\n      <td>0.00</td>\n      <td>0.00</td>\n      <td>0.0</td>\n      <td>18294</td>\n    </tr>\n    <tr>\n      <th>25080</th>\n      <td>1</td>\n      <td>11025</td>\n      <td>0.0</td>\n      <td>1.50</td>\n      <td>0.50</td>\n      <td>90.0</td>\n      <td>1.50</td>\n      <td>0.50</td>\n      <td>90.0</td>\n      <td>1.50</td>\n      <td>0.5</td>\n      <td>90.0</td>\n      <td>1.50</td>\n      <td>0.50</td>\n      <td>90.0</td>\n      <td>11025</td>\n    </tr>\n    <tr>\n      <th>20004</th>\n      <td>0</td>\n      <td>26553</td>\n      <td>0.0</td>\n      <td>4.75</td>\n      <td>0.00</td>\n      <td>0.0</td>\n      <td>4.75</td>\n      <td>0.00</td>\n      <td>0.0</td>\n      <td>4.00</td>\n      <td>0.5</td>\n      <td>0.0</td>\n      <td>4.00</td>\n      <td>0.50</td>\n      <td>0.0</td>\n      <td>26553</td>\n    </tr>\n    <tr>\n      <th>21690</th>\n      <td>0</td>\n      <td>18348</td>\n      <td>0.0</td>\n      <td>-1.25</td>\n      <td>0.50</td>\n      <td>160.0</td>\n      <td>0.00</td>\n      <td>0.00</td>\n      <td>0.0</td>\n      <td>-1.00</td>\n      <td>0.5</td>\n      <td>10.0</td>\n      <td>0.00</td>\n      <td>0.00</td>\n      <td>0.0</td>\n      <td>19304</td>\n    </tr>\n    <tr>\n      <th>31514</th>\n      <td>0</td>\n      <td>24335</td>\n      <td>2.5</td>\n      <td>-0.75</td>\n      <td>0.50</td>\n      <td>35.0</td>\n      <td>1.75</td>\n      <td>0.50</td>\n      <td>35.0</td>\n      <td>-1.00</td>\n      <td>0.5</td>\n      <td>105.0</td>\n      <td>1.50</td>\n      <td>0.50</td>\n      <td>105.0</td>\n      <td>27025</td>\n    </tr>\n    <tr>\n      <th>27220</th>\n      <td>1</td>\n      <td>15926</td>\n      <td>0.0</td>\n      <td>2.00</td>\n      <td>0.00</td>\n      <td>0.0</td>\n      <td>2.00</td>\n      <td>0.00</td>\n      <td>0.0</td>\n      <td>2.00</td>\n      <td>0.0</td>\n      <td>0.0</td>\n      <td>2.00</td>\n      <td>0.00</td>\n      <td>0.0</td>\n      <td>15926</td>\n    </tr>\n    <tr>\n      <th>22642</th>\n      <td>0</td>\n      <td>21075</td>\n      <td>0.0</td>\n      <td>0.75</td>\n      <td>0.00</td>\n      <td>0.0</td>\n      <td>0.00</td>\n      <td>0.00</td>\n      <td>0.0</td>\n      <td>0.75</td>\n      <td>0.0</td>\n      <td>0.0</td>\n      <td>0.00</td>\n      <td>0.00</td>\n      <td>0.0</td>\n      <td>21638</td>\n    </tr>\n    <tr>\n      <th>12904</th>\n      <td>1</td>\n      <td>22791</td>\n      <td>0.0</td>\n      <td>1.25</td>\n      <td>0.00</td>\n      <td>0.0</td>\n      <td>1.25</td>\n      <td>0.00</td>\n      <td>0.0</td>\n      <td>0.75</td>\n      <td>0.0</td>\n      <td>0.0</td>\n      <td>0.75</td>\n      <td>0.00</td>\n      <td>0.0</td>\n      <td>22791</td>\n    </tr>\n    <tr>\n      <th>5310</th>\n      <td>0</td>\n      <td>7067</td>\n      <td>0.0</td>\n      <td>-2.75</td>\n      <td>0.00</td>\n      <td>0.0</td>\n      <td>0.00</td>\n      <td>0.00</td>\n      <td>0.0</td>\n      <td>-1.75</td>\n      <td>0.0</td>\n      <td>0.0</td>\n      <td>0.00</td>\n      <td>0.00</td>\n      <td>0.0</td>\n      <td>7461</td>\n    </tr>\n    <tr>\n      <th>1094</th>\n      <td>0</td>\n      <td>16385</td>\n      <td>0.0</td>\n      <td>0.00</td>\n      <td>0.00</td>\n      <td>0.0</td>\n      <td>0.50</td>\n      <td>0.50</td>\n      <td>75.0</td>\n      <td>0.00</td>\n      <td>0.0</td>\n      <td>0.0</td>\n      <td>0.50</td>\n      <td>0.50</td>\n      <td>100.0</td>\n      <td>17031</td>\n    </tr>\n    <tr>\n      <th>31002</th>\n      <td>1</td>\n      <td>8619</td>\n      <td>0.0</td>\n      <td>-1.25</td>\n      <td>0.00</td>\n      <td>0.0</td>\n      <td>0.00</td>\n      <td>0.00</td>\n      <td>0.0</td>\n      <td>-1.25</td>\n      <td>0.0</td>\n      <td>0.0</td>\n      <td>0.00</td>\n      <td>0.00</td>\n      <td>0.0</td>\n      <td>9493</td>\n    </tr>\n    <tr>\n      <th>26438</th>\n      <td>0</td>\n      <td>20041</td>\n      <td>0.0</td>\n      <td>0.00</td>\n      <td>0.00</td>\n      <td>0.0</td>\n      <td>4.00</td>\n      <td>0.00</td>\n      <td>0.0</td>\n      <td>0.00</td>\n      <td>0.0</td>\n      <td>0.0</td>\n      <td>3.50</td>\n      <td>0.25</td>\n      <td>90.0</td>\n      <td>20158</td>\n    </tr>\n    <tr>\n      <th>32478</th>\n      <td>1</td>\n      <td>19561</td>\n      <td>0.0</td>\n      <td>0.00</td>\n      <td>0.00</td>\n      <td>0.0</td>\n      <td>2.50</td>\n      <td>0.50</td>\n      <td>90.0</td>\n      <td>0.00</td>\n      <td>0.0</td>\n      <td>0.0</td>\n      <td>2.50</td>\n      <td>0.50</td>\n      <td>90.0</td>\n      <td>23075</td>\n    </tr>\n    <tr>\n      <th>16652</th>\n      <td>0</td>\n      <td>2915</td>\n      <td>0.0</td>\n      <td>3.75</td>\n      <td>1.25</td>\n      <td>100.0</td>\n      <td>3.75</td>\n      <td>1.25</td>\n      <td>100.0</td>\n      <td>3.00</td>\n      <td>1.5</td>\n      <td>100.0</td>\n      <td>3.00</td>\n      <td>1.50</td>\n      <td>100.0</td>\n      <td>2915</td>\n    </tr>\n  </tbody>\n</table>\n</div>"
     },
     "metadata": {},
     "execution_count": 13
    }
   ],
   "source": [
    "# Splitsen in features en targets\n",
    "\n",
    "y = dataset['Sph-Far-R'].values\n",
    "X = dataset.drop(['Add', 'Sph-Far-R', 'Cyl-Far-R', 'Axis-Far-R', 'Sph-Close-R', 'Cyl-Close-R', 'Axis-Close-R', 'Sph-Far-L', \n",
    "                  'Cyl-Far-L', 'Axis-Far-L', 'Sph-Close-L', 'Cyl-Close-L', 'Axis-Close-L'],axis=1)\n",
    "\n",
    "# Splitsen in training set en test set\n",
    "\n",
    "X_train, X_test, y_train, y_test = train_test_split(X, y, test_size=0.2, random_state=0)\n",
    "\n",
    "#random forest regressor\n",
    "number_of_trees = 200\n",
    "max_number_of_depth = 10\n",
    "max_number_of_features = 6\n",
    "\n",
    "RFR_model_sph_far_r = RandomForestRegressor(n_estimators=number_of_trees, max_features=max_number_of_features, max_depth=max_number_of_depth)\n",
    "RFR_model_sph_far_r.fit(X_train,y_train)\n",
    "\n",
    "RFR_model_sph_far_r.score(X_test,y_test)\n",
    "\n",
    "X.head(20)"
   ]
  },
  {
   "cell_type": "code",
   "execution_count": null,
   "metadata": {},
   "outputs": [],
   "source": []
  },
  {
   "cell_type": "code",
   "execution_count": 14,
   "metadata": {},
   "outputs": [
    {
     "output_type": "stream",
     "name": "stdout",
     "text": "[0.00122449 0.04297398 0.00414964 0.45531511 0.00363448 0.00446249\n 0.08074725 0.00140634 0.00172836 0.30494327 0.00339181 0.00504156\n 0.05755635 0.0014544  0.00135512 0.03061535]\n[ 0  1  2  3  4  5  6  7  8  9 10 11 12 13 14 15]\n10 Belangrijkste features:\n3           Sph-Far-R_x\n9           Sph-Far-L_x\n6         Sph-Close-R_x\n12        Sph-Close-L_x\n1     Measurement_Age_x\n15      Measurement_Age\n11         Axis-Far-L_x\n5          Axis-Far-R_x\n2                 Add_x\n4           Cyl-Far-R_x\nName: names, dtype: object\nR2: 0.8101549376415743\n"
    }
   ],
   "source": [
    "#feature importance\n",
    "# top 10 meest belangrijke features\n",
    "number_of_trees = 200\n",
    "max_number_of_depth = 10\n",
    "max_number_of_features = 6\n",
    "\n",
    "RFRmodel_reduced_sph_far_r = RandomForestRegressor(n_estimators=number_of_trees, max_features=max_number_of_features, max_depth=max_number_of_depth)\n",
    "\n",
    "importance = RFR_model_sph_far_r.feature_importances_\n",
    "\n",
    "print(importance)\n",
    "\n",
    "# index van de 10 belangrijkste features:\n",
    "\n",
    "ind = np.argpartition(importance,-16)[-16:]\n",
    "\n",
    "print(ind)\n",
    "\n",
    "X_train_reduced = X_train.iloc[:,ind]\n",
    "X_test_reduced = X_test.iloc[:,ind]\n",
    "\n",
    "# print top 10 features.\n",
    "feature_values = RFR_model_sph_far_r.feature_importances_\n",
    "feature_names = list(dataset.drop(['Add', 'Sph-Far-R', 'Cyl-Far-R', 'Axis-Far-R', 'Sph-Close-R', 'Cyl-Close-R', 'Axis-Close-R', 'Sph-Far-L', \n",
    "                  'Cyl-Far-L', 'Axis-Far-L', 'Sph-Close-L', 'Cyl-Close-L', 'Axis-Close-L'],axis=1).columns)\n",
    "features_set = pd.DataFrame(data={'names': feature_names, 'values': feature_values})\n",
    "print('10 Belangrijkste features:')\n",
    "print(features_set.sort_values(by='values', ascending=False)['names'][0:10])\n",
    "\n",
    "# hertrainen van Random Forest Tree Classifier\n",
    "\n",
    "RFRmodel_reduced_sph_far_r.fit(X_train_reduced,y_train)\n",
    "\n",
    "y_pred_reduced = RFRmodel_reduced_sph_far_r.predict(X_test_reduced)\n",
    "\n",
    "#print(R2)\n",
    "print(\"R2:\", RFRmodel_reduced_sph_far_r.score(X_test,y_test)) "
   ]
  },
  {
   "cell_type": "code",
   "execution_count": 15,
   "metadata": {},
   "outputs": [
    {
     "output_type": "execute_result",
     "data": {
      "text/plain": "       Sex  Measurement_Age_x  Add_x  Sph-Far-R_x  Cyl-Far-R_x  Axis-Far-R_x  \\\n25648    1              19342    0.0        -5.25         1.50          90.0   \n15230    0               3368    0.0        -1.75         1.75         110.0   \n5922     1               8132    0.0        -1.00         0.00           0.0   \n5226     0               5249    0.0        -0.25         0.00           0.0   \n9158     0              25293    0.0         0.00         0.00           0.0   \n7358     0               9160    0.0        -3.25         0.00           0.0   \n30502    1              14634    0.0         0.25         0.75         110.0   \n25080    1              11025    0.0         1.50         0.50          90.0   \n20004    0              26553    0.0         4.75         0.00           0.0   \n21690    0              18348    0.0        -1.25         0.50         160.0   \n31514    0              24335    2.5        -0.75         0.50          35.0   \n27220    1              15926    0.0         2.00         0.00           0.0   \n22642    0              21075    0.0         0.75         0.00           0.0   \n12904    1              22791    0.0         1.25         0.00           0.0   \n5310     0               7067    0.0        -2.75         0.00           0.0   \n1094     0              16385    0.0         0.00         0.00           0.0   \n31002    1               8619    0.0        -1.25         0.00           0.0   \n26438    0              20041    0.0         0.00         0.00           0.0   \n32478    1              19561    0.0         0.00         0.00           0.0   \n16652    0               2915    0.0         3.75         1.25         100.0   \n\n       Sph-Close-R_x  Cyl-Close-R_x  Axis-Close-R_x  Sph-Far-L_x  Cyl-Far-L_x  \\\n25648          -5.25           1.50            90.0        -5.25          1.5   \n15230           0.00           0.00             0.0        -0.50          0.5   \n5922            0.00           0.00             0.0        -0.75          0.0   \n5226            0.00           0.00             0.0        -0.25          0.0   \n9158            1.00           0.00            20.0         0.00          0.0   \n7358            0.00           0.00             0.0        -3.00          0.0   \n30502           0.00           0.00             0.0        -0.50          1.5   \n25080           1.50           0.50            90.0         1.50          0.5   \n20004           4.75           0.00             0.0         4.00          0.5   \n21690           0.00           0.00             0.0        -1.00          0.5   \n31514           1.75           0.50            35.0        -1.00          0.5   \n27220           2.00           0.00             0.0         2.00          0.0   \n22642           0.00           0.00             0.0         0.75          0.0   \n12904           1.25           0.00             0.0         0.75          0.0   \n5310            0.00           0.00             0.0        -1.75          0.0   \n1094            0.50           0.50            75.0         0.00          0.0   \n31002           0.00           0.00             0.0        -1.25          0.0   \n26438           4.00           0.00             0.0         0.00          0.0   \n32478           2.50           0.50            90.0         0.00          0.0   \n16652           3.75           1.25           100.0         3.00          1.5   \n\n       Axis-Far-L_x  Sph-Close-L_x  Cyl-Close-L_x  Axis-Close-L_x  \\\n25648          90.0          -5.25           1.50            90.0   \n15230          90.0           0.00           0.00             0.0   \n5922            0.0           0.00           0.00             0.0   \n5226            0.0           0.00           0.00             0.0   \n9158            0.0           1.00           0.50             0.0   \n7358            0.0           0.00           0.00             0.0   \n30502          80.0           0.00           0.00             0.0   \n25080          90.0           1.50           0.50            90.0   \n20004           0.0           4.00           0.50             0.0   \n21690          10.0           0.00           0.00             0.0   \n31514         105.0           1.50           0.50           105.0   \n27220           0.0           2.00           0.00             0.0   \n22642           0.0           0.00           0.00             0.0   \n12904           0.0           0.75           0.00             0.0   \n5310            0.0           0.00           0.00             0.0   \n1094            0.0           0.50           0.50           100.0   \n31002           0.0           0.00           0.00             0.0   \n26438           0.0           3.50           0.25            90.0   \n32478           0.0           2.50           0.50            90.0   \n16652         100.0           3.00           1.50           100.0   \n\n       Measurement_Age  \n25648            19342  \n15230             3809  \n5922             10176  \n5226              6519  \n9158             27299  \n7358             10678  \n30502            18294  \n25080            11025  \n20004            26553  \n21690            19304  \n31514            27025  \n27220            15926  \n22642            21638  \n12904            22791  \n5310              7461  \n1094             17031  \n31002             9493  \n26438            20158  \n32478            23075  \n16652             2915  ",
      "text/html": "<div>\n<style scoped>\n    .dataframe tbody tr th:only-of-type {\n        vertical-align: middle;\n    }\n\n    .dataframe tbody tr th {\n        vertical-align: top;\n    }\n\n    .dataframe thead th {\n        text-align: right;\n    }\n</style>\n<table border=\"1\" class=\"dataframe\">\n  <thead>\n    <tr style=\"text-align: right;\">\n      <th></th>\n      <th>Sex</th>\n      <th>Measurement_Age_x</th>\n      <th>Add_x</th>\n      <th>Sph-Far-R_x</th>\n      <th>Cyl-Far-R_x</th>\n      <th>Axis-Far-R_x</th>\n      <th>Sph-Close-R_x</th>\n      <th>Cyl-Close-R_x</th>\n      <th>Axis-Close-R_x</th>\n      <th>Sph-Far-L_x</th>\n      <th>Cyl-Far-L_x</th>\n      <th>Axis-Far-L_x</th>\n      <th>Sph-Close-L_x</th>\n      <th>Cyl-Close-L_x</th>\n      <th>Axis-Close-L_x</th>\n      <th>Measurement_Age</th>\n    </tr>\n  </thead>\n  <tbody>\n    <tr>\n      <th>25648</th>\n      <td>1</td>\n      <td>19342</td>\n      <td>0.0</td>\n      <td>-5.25</td>\n      <td>1.50</td>\n      <td>90.0</td>\n      <td>-5.25</td>\n      <td>1.50</td>\n      <td>90.0</td>\n      <td>-5.25</td>\n      <td>1.5</td>\n      <td>90.0</td>\n      <td>-5.25</td>\n      <td>1.50</td>\n      <td>90.0</td>\n      <td>19342</td>\n    </tr>\n    <tr>\n      <th>15230</th>\n      <td>0</td>\n      <td>3368</td>\n      <td>0.0</td>\n      <td>-1.75</td>\n      <td>1.75</td>\n      <td>110.0</td>\n      <td>0.00</td>\n      <td>0.00</td>\n      <td>0.0</td>\n      <td>-0.50</td>\n      <td>0.5</td>\n      <td>90.0</td>\n      <td>0.00</td>\n      <td>0.00</td>\n      <td>0.0</td>\n      <td>3809</td>\n    </tr>\n    <tr>\n      <th>5922</th>\n      <td>1</td>\n      <td>8132</td>\n      <td>0.0</td>\n      <td>-1.00</td>\n      <td>0.00</td>\n      <td>0.0</td>\n      <td>0.00</td>\n      <td>0.00</td>\n      <td>0.0</td>\n      <td>-0.75</td>\n      <td>0.0</td>\n      <td>0.0</td>\n      <td>0.00</td>\n      <td>0.00</td>\n      <td>0.0</td>\n      <td>10176</td>\n    </tr>\n    <tr>\n      <th>5226</th>\n      <td>0</td>\n      <td>5249</td>\n      <td>0.0</td>\n      <td>-0.25</td>\n      <td>0.00</td>\n      <td>0.0</td>\n      <td>0.00</td>\n      <td>0.00</td>\n      <td>0.0</td>\n      <td>-0.25</td>\n      <td>0.0</td>\n      <td>0.0</td>\n      <td>0.00</td>\n      <td>0.00</td>\n      <td>0.0</td>\n      <td>6519</td>\n    </tr>\n    <tr>\n      <th>9158</th>\n      <td>0</td>\n      <td>25293</td>\n      <td>0.0</td>\n      <td>0.00</td>\n      <td>0.00</td>\n      <td>0.0</td>\n      <td>1.00</td>\n      <td>0.00</td>\n      <td>20.0</td>\n      <td>0.00</td>\n      <td>0.0</td>\n      <td>0.0</td>\n      <td>1.00</td>\n      <td>0.50</td>\n      <td>0.0</td>\n      <td>27299</td>\n    </tr>\n    <tr>\n      <th>7358</th>\n      <td>0</td>\n      <td>9160</td>\n      <td>0.0</td>\n      <td>-3.25</td>\n      <td>0.00</td>\n      <td>0.0</td>\n      <td>0.00</td>\n      <td>0.00</td>\n      <td>0.0</td>\n      <td>-3.00</td>\n      <td>0.0</td>\n      <td>0.0</td>\n      <td>0.00</td>\n      <td>0.00</td>\n      <td>0.0</td>\n      <td>10678</td>\n    </tr>\n    <tr>\n      <th>30502</th>\n      <td>1</td>\n      <td>14634</td>\n      <td>0.0</td>\n      <td>0.25</td>\n      <td>0.75</td>\n      <td>110.0</td>\n      <td>0.00</td>\n      <td>0.00</td>\n      <td>0.0</td>\n      <td>-0.50</td>\n      <td>1.5</td>\n      <td>80.0</td>\n      <td>0.00</td>\n      <td>0.00</td>\n      <td>0.0</td>\n      <td>18294</td>\n    </tr>\n    <tr>\n      <th>25080</th>\n      <td>1</td>\n      <td>11025</td>\n      <td>0.0</td>\n      <td>1.50</td>\n      <td>0.50</td>\n      <td>90.0</td>\n      <td>1.50</td>\n      <td>0.50</td>\n      <td>90.0</td>\n      <td>1.50</td>\n      <td>0.5</td>\n      <td>90.0</td>\n      <td>1.50</td>\n      <td>0.50</td>\n      <td>90.0</td>\n      <td>11025</td>\n    </tr>\n    <tr>\n      <th>20004</th>\n      <td>0</td>\n      <td>26553</td>\n      <td>0.0</td>\n      <td>4.75</td>\n      <td>0.00</td>\n      <td>0.0</td>\n      <td>4.75</td>\n      <td>0.00</td>\n      <td>0.0</td>\n      <td>4.00</td>\n      <td>0.5</td>\n      <td>0.0</td>\n      <td>4.00</td>\n      <td>0.50</td>\n      <td>0.0</td>\n      <td>26553</td>\n    </tr>\n    <tr>\n      <th>21690</th>\n      <td>0</td>\n      <td>18348</td>\n      <td>0.0</td>\n      <td>-1.25</td>\n      <td>0.50</td>\n      <td>160.0</td>\n      <td>0.00</td>\n      <td>0.00</td>\n      <td>0.0</td>\n      <td>-1.00</td>\n      <td>0.5</td>\n      <td>10.0</td>\n      <td>0.00</td>\n      <td>0.00</td>\n      <td>0.0</td>\n      <td>19304</td>\n    </tr>\n    <tr>\n      <th>31514</th>\n      <td>0</td>\n      <td>24335</td>\n      <td>2.5</td>\n      <td>-0.75</td>\n      <td>0.50</td>\n      <td>35.0</td>\n      <td>1.75</td>\n      <td>0.50</td>\n      <td>35.0</td>\n      <td>-1.00</td>\n      <td>0.5</td>\n      <td>105.0</td>\n      <td>1.50</td>\n      <td>0.50</td>\n      <td>105.0</td>\n      <td>27025</td>\n    </tr>\n    <tr>\n      <th>27220</th>\n      <td>1</td>\n      <td>15926</td>\n      <td>0.0</td>\n      <td>2.00</td>\n      <td>0.00</td>\n      <td>0.0</td>\n      <td>2.00</td>\n      <td>0.00</td>\n      <td>0.0</td>\n      <td>2.00</td>\n      <td>0.0</td>\n      <td>0.0</td>\n      <td>2.00</td>\n      <td>0.00</td>\n      <td>0.0</td>\n      <td>15926</td>\n    </tr>\n    <tr>\n      <th>22642</th>\n      <td>0</td>\n      <td>21075</td>\n      <td>0.0</td>\n      <td>0.75</td>\n      <td>0.00</td>\n      <td>0.0</td>\n      <td>0.00</td>\n      <td>0.00</td>\n      <td>0.0</td>\n      <td>0.75</td>\n      <td>0.0</td>\n      <td>0.0</td>\n      <td>0.00</td>\n      <td>0.00</td>\n      <td>0.0</td>\n      <td>21638</td>\n    </tr>\n    <tr>\n      <th>12904</th>\n      <td>1</td>\n      <td>22791</td>\n      <td>0.0</td>\n      <td>1.25</td>\n      <td>0.00</td>\n      <td>0.0</td>\n      <td>1.25</td>\n      <td>0.00</td>\n      <td>0.0</td>\n      <td>0.75</td>\n      <td>0.0</td>\n      <td>0.0</td>\n      <td>0.75</td>\n      <td>0.00</td>\n      <td>0.0</td>\n      <td>22791</td>\n    </tr>\n    <tr>\n      <th>5310</th>\n      <td>0</td>\n      <td>7067</td>\n      <td>0.0</td>\n      <td>-2.75</td>\n      <td>0.00</td>\n      <td>0.0</td>\n      <td>0.00</td>\n      <td>0.00</td>\n      <td>0.0</td>\n      <td>-1.75</td>\n      <td>0.0</td>\n      <td>0.0</td>\n      <td>0.00</td>\n      <td>0.00</td>\n      <td>0.0</td>\n      <td>7461</td>\n    </tr>\n    <tr>\n      <th>1094</th>\n      <td>0</td>\n      <td>16385</td>\n      <td>0.0</td>\n      <td>0.00</td>\n      <td>0.00</td>\n      <td>0.0</td>\n      <td>0.50</td>\n      <td>0.50</td>\n      <td>75.0</td>\n      <td>0.00</td>\n      <td>0.0</td>\n      <td>0.0</td>\n      <td>0.50</td>\n      <td>0.50</td>\n      <td>100.0</td>\n      <td>17031</td>\n    </tr>\n    <tr>\n      <th>31002</th>\n      <td>1</td>\n      <td>8619</td>\n      <td>0.0</td>\n      <td>-1.25</td>\n      <td>0.00</td>\n      <td>0.0</td>\n      <td>0.00</td>\n      <td>0.00</td>\n      <td>0.0</td>\n      <td>-1.25</td>\n      <td>0.0</td>\n      <td>0.0</td>\n      <td>0.00</td>\n      <td>0.00</td>\n      <td>0.0</td>\n      <td>9493</td>\n    </tr>\n    <tr>\n      <th>26438</th>\n      <td>0</td>\n      <td>20041</td>\n      <td>0.0</td>\n      <td>0.00</td>\n      <td>0.00</td>\n      <td>0.0</td>\n      <td>4.00</td>\n      <td>0.00</td>\n      <td>0.0</td>\n      <td>0.00</td>\n      <td>0.0</td>\n      <td>0.0</td>\n      <td>3.50</td>\n      <td>0.25</td>\n      <td>90.0</td>\n      <td>20158</td>\n    </tr>\n    <tr>\n      <th>32478</th>\n      <td>1</td>\n      <td>19561</td>\n      <td>0.0</td>\n      <td>0.00</td>\n      <td>0.00</td>\n      <td>0.0</td>\n      <td>2.50</td>\n      <td>0.50</td>\n      <td>90.0</td>\n      <td>0.00</td>\n      <td>0.0</td>\n      <td>0.0</td>\n      <td>2.50</td>\n      <td>0.50</td>\n      <td>90.0</td>\n      <td>23075</td>\n    </tr>\n    <tr>\n      <th>16652</th>\n      <td>0</td>\n      <td>2915</td>\n      <td>0.0</td>\n      <td>3.75</td>\n      <td>1.25</td>\n      <td>100.0</td>\n      <td>3.75</td>\n      <td>1.25</td>\n      <td>100.0</td>\n      <td>3.00</td>\n      <td>1.5</td>\n      <td>100.0</td>\n      <td>3.00</td>\n      <td>1.50</td>\n      <td>100.0</td>\n      <td>2915</td>\n    </tr>\n  </tbody>\n</table>\n</div>"
     },
     "metadata": {},
     "execution_count": 15
    }
   ],
   "source": [
    "# Splitsen in features en targets\n",
    "\n",
    "y = dataset['Cyl-Far-R'].values\n",
    "X = dataset.drop(['Add', 'Sph-Far-R', 'Cyl-Far-R', 'Axis-Far-R', 'Sph-Close-R', 'Cyl-Close-R', 'Axis-Close-R', 'Sph-Far-L', \n",
    "                  'Cyl-Far-L', 'Axis-Far-L', 'Sph-Close-L', 'Cyl-Close-L', 'Axis-Close-L'],axis=1)\n",
    "\n",
    "\n",
    "\n",
    "# Splitsen in training set en test set\n",
    "\n",
    "X_train, X_test, y_train, y_test = train_test_split(X, y, test_size=0.2, random_state=0)\n",
    "\n",
    "\n",
    "#random forest regressor\n",
    "number_of_trees = 200\n",
    "max_number_of_depth = 10\n",
    "max_number_of_features = 6\n",
    "\n",
    "RFR_model_cyl_far_r = RandomForestRegressor(n_estimators=number_of_trees, max_features=max_number_of_features, max_depth=max_number_of_depth)\n",
    "RFR_model_cyl_far_r.fit(X_train,y_train)\n",
    "\n",
    "RFR_model_cyl_far_r.score(X_test,y_test)\n",
    "\n",
    "X.head(20)"
   ]
  },
  {
   "cell_type": "code",
   "execution_count": 16,
   "metadata": {},
   "outputs": [
    {
     "output_type": "stream",
     "name": "stdout",
     "text": "[0.0033572  0.03383731 0.00568138 0.02072598 0.41816169 0.17464323\n 0.01256761 0.05595119 0.0240938  0.01997145 0.08288746 0.04762017\n 0.01286937 0.03667827 0.01181389 0.03913998]\n[ 0  1  2  3  4  5  6  7  8  9 10 11 12 13 14 15]\n10 Belangrijkste features:\n4           Cyl-Far-R_x\n5          Axis-Far-R_x\n10          Cyl-Far-L_x\n7         Cyl-Close-R_x\n11         Axis-Far-L_x\n15      Measurement_Age\n13        Cyl-Close-L_x\n1     Measurement_Age_x\n8        Axis-Close-R_x\n3           Sph-Far-R_x\nName: names, dtype: object\nR2: 0.6012456403438968\n"
    }
   ],
   "source": [
    "#feature importance\n",
    "# top 10 meest belangrijke features\n",
    "number_of_trees = 200\n",
    "max_number_of_depth = 20\n",
    "max_number_of_features = 0.5\n",
    "\n",
    "RFRmodel_reduced_cyl_far_r = RandomForestRegressor(n_estimators=number_of_trees, max_features=max_number_of_features, max_depth=max_number_of_depth)\n",
    "\n",
    "importance = RFR_model_cyl_far_r.feature_importances_\n",
    "\n",
    "print(importance)\n",
    "\n",
    "# index van de 10 belangrijkste features:\n",
    "\n",
    "ind = np.argpartition(importance,-16)[-16:]\n",
    "\n",
    "print(ind)\n",
    "\n",
    "X_train_reduced = X_train.iloc[:,ind]\n",
    "X_test_reduced = X_test.iloc[:,ind]\n",
    "\n",
    "# print top 10 features.\n",
    "feature_values = RFR_model_cyl_far_r.feature_importances_\n",
    "feature_names = list(dataset.drop(['Add', 'Sph-Far-R', 'Cyl-Far-R', 'Axis-Far-R', 'Sph-Close-R', 'Cyl-Close-R', 'Axis-Close-R', 'Sph-Far-L', \n",
    "                  'Cyl-Far-L', 'Axis-Far-L', 'Sph-Close-L', 'Cyl-Close-L', 'Axis-Close-L'],axis=1).columns)\n",
    "features_set = pd.DataFrame(data={'names': feature_names, 'values': feature_values})\n",
    "print('10 Belangrijkste features:')\n",
    "print(features_set.sort_values(by='values', ascending=False)['names'][0:10])\n",
    "\n",
    "# hertrainen van Random Forest Tree Classifier\n",
    "\n",
    "RFRmodel_reduced_cyl_far_r.fit(X_train_reduced,y_train)\n",
    "\n",
    "y_pred_reduced = RFRmodel_reduced_cyl_far_r.predict(X_test_reduced)\n",
    "\n",
    "#print(R2)\n",
    "print(\"R2:\", RFRmodel_reduced_cyl_far_r.score(X_test,y_test)) "
   ]
  },
  {
   "cell_type": "code",
   "execution_count": 17,
   "metadata": {},
   "outputs": [
    {
     "output_type": "execute_result",
     "data": {
      "text/plain": "0.8103294272010099"
     },
     "metadata": {},
     "execution_count": 17
    }
   ],
   "source": [
    "# Splitsen in features en targets\n",
    "\n",
    "y = dataset['Sph-Far-L'].values\n",
    "X = dataset.drop(['Add', 'Sph-Far-R', 'Cyl-Far-R', 'Axis-Far-R', 'Sph-Close-R', 'Cyl-Close-R', 'Axis-Close-R', 'Sph-Far-L', \n",
    "                  'Cyl-Far-L', 'Axis-Far-L', 'Sph-Close-L', 'Cyl-Close-L', 'Axis-Close-L'],axis=1)\n",
    "\n",
    "# Splitsen in training set en test set\n",
    "\n",
    "X_train, X_test, y_train, y_test = train_test_split(X, y, test_size=0.2, random_state=0)\n",
    "\n",
    "\n",
    "#random forest regressor\n",
    "number_of_trees = 200\n",
    "max_number_of_depth = 20\n",
    "max_number_of_features = 6\n",
    "\n",
    "RFR_model_sph_far_l = RandomForestRegressor(n_estimators=number_of_trees, max_features=max_number_of_features, max_depth=max_number_of_depth)\n",
    "RFR_model_sph_far_l.fit(X_train,y_train)\n",
    "\n",
    "RFR_model_sph_far_l.score(X_test,y_test)"
   ]
  },
  {
   "cell_type": "code",
   "execution_count": 18,
   "metadata": {},
   "outputs": [
    {
     "output_type": "stream",
     "name": "stdout",
     "text": "10 Belangrijkste features:\n9           Sph-Far-L_x\n3           Sph-Far-R_x\n12        Sph-Close-L_x\n1     Measurement_Age_x\n6         Sph-Close-R_x\n15      Measurement_Age\n11         Axis-Far-L_x\n5          Axis-Far-R_x\n10          Cyl-Far-L_x\n4           Cyl-Far-R_x\nName: names, dtype: object\n"
    }
   ],
   "source": [
    "# print top 10 features.\n",
    "feature_values = RFR_model_sph_far_l.feature_importances_\n",
    "feature_names = list(dataset.drop(['Add', 'Sph-Far-R', 'Cyl-Far-R', 'Axis-Far-R', 'Sph-Close-R', 'Cyl-Close-R', 'Axis-Close-R', 'Sph-Far-L', \n",
    "                  'Cyl-Far-L', 'Axis-Far-L', 'Sph-Close-L', 'Cyl-Close-L', 'Axis-Close-L'],axis=1).columns)\n",
    "features_set = pd.DataFrame(data={'names': feature_names, 'values': feature_values})\n",
    "print('10 Belangrijkste features:')\n",
    "print(features_set.sort_values(by='values', ascending=False)['names'][0:10])"
   ]
  },
  {
   "cell_type": "code",
   "execution_count": 19,
   "metadata": {},
   "outputs": [
    {
     "output_type": "execute_result",
     "data": {
      "text/plain": "0.6146643249713346"
     },
     "metadata": {},
     "execution_count": 19
    }
   ],
   "source": [
    "# Splitsen in features en targets\n",
    "\n",
    "y = dataset['Cyl-Far-L'].values\n",
    "X = dataset.drop(['Add', 'Sph-Far-R', 'Cyl-Far-R', 'Axis-Far-R', 'Sph-Close-R', 'Cyl-Close-R', 'Axis-Close-R', 'Sph-Far-L', \n",
    "                  'Cyl-Far-L', 'Axis-Far-L', 'Sph-Close-L', 'Cyl-Close-L', 'Axis-Close-L'],axis=1)\n",
    "\n",
    "# Splitsen in training set en test set\n",
    "\n",
    "X_train, X_test, y_train, y_test = train_test_split(X, y, test_size=0.2, random_state=0)\n",
    "\n",
    "\n",
    "#random forest regressor\n",
    "number_of_trees = 200\n",
    "max_number_of_depth = 10\n",
    "max_number_of_features = 6\n",
    "\n",
    "RFR_model_cyl_far_l = RandomForestRegressor(n_estimators=number_of_trees, max_features=max_number_of_features, max_depth=max_number_of_depth)\n",
    "RFR_model_cyl_far_l.fit(X_train,y_train)\n",
    "\n",
    "RFR_model_cyl_far_l.score(X_test,y_test)"
   ]
  },
  {
   "cell_type": "code",
   "execution_count": 20,
   "metadata": {},
   "outputs": [
    {
     "output_type": "stream",
     "name": "stdout",
     "text": "10 Belangrijkste features:\n10          Cyl-Far-L_x\n11         Axis-Far-L_x\n4           Cyl-Far-R_x\n13        Cyl-Close-L_x\n5          Axis-Far-R_x\n15      Measurement_Age\n1     Measurement_Age_x\n7         Cyl-Close-R_x\n14       Axis-Close-L_x\n9           Sph-Far-L_x\nName: names, dtype: object\n"
    }
   ],
   "source": [
    "# print top 10 features.\n",
    "feature_values = RFR_model_cyl_far_l.feature_importances_\n",
    "feature_names = list(dataset.drop(['Add', 'Sph-Far-R', 'Cyl-Far-R', 'Axis-Far-R', 'Sph-Close-R', 'Cyl-Close-R', 'Axis-Close-R', 'Sph-Far-L', \n",
    "                  'Cyl-Far-L', 'Axis-Far-L', 'Sph-Close-L', 'Cyl-Close-L', 'Axis-Close-L'],axis=1).columns)\n",
    "features_set = pd.DataFrame(data={'names': feature_names, 'values': feature_values})\n",
    "print('10 Belangrijkste features:')\n",
    "print(features_set.sort_values(by='values', ascending=False)['names'][0:10])"
   ]
  },
  {
   "cell_type": "code",
   "execution_count": 21,
   "metadata": {},
   "outputs": [
    {
     "output_type": "stream",
     "name": "stdout",
     "text": "(8542, 29)\n"
    },
    {
     "output_type": "execute_result",
     "data": {
      "text/plain": "       Sex  Measurement_Age_x  Add_x  Sph-Far-R_x  Cyl-Far-R_x  Axis-Far-R_x  \\\n25648    1              19342    0.0        -5.25         1.50          90.0   \n15230    0               3368    0.0        -1.75         1.75         110.0   \n5922     1               8132    0.0        -1.00         0.00           0.0   \n5226     0               5249    0.0        -0.25         0.00           0.0   \n9158     0              25293    0.0         0.00         0.00           0.0   \n7358     0               9160    0.0        -3.25         0.00           0.0   \n30502    1              14634    0.0         0.25         0.75         110.0   \n25080    1              11025    0.0         1.50         0.50          90.0   \n20004    0              26553    0.0         4.75         0.00           0.0   \n21690    0              18348    0.0        -1.25         0.50         160.0   \n\n       Sph-Close-R_x  Cyl-Close-R_x  Axis-Close-R_x  Sph-Far-L_x  Cyl-Far-L_x  \\\n25648          -5.25            1.5            90.0        -5.25          1.5   \n15230           0.00            0.0             0.0        -0.50          0.5   \n5922            0.00            0.0             0.0        -0.75          0.0   \n5226            0.00            0.0             0.0        -0.25          0.0   \n9158            1.00            0.0            20.0         0.00          0.0   \n7358            0.00            0.0             0.0        -3.00          0.0   \n30502           0.00            0.0             0.0        -0.50          1.5   \n25080           1.50            0.5            90.0         1.50          0.5   \n20004           4.75            0.0             0.0         4.00          0.5   \n21690           0.00            0.0             0.0        -1.00          0.5   \n\n       Axis-Far-L_x  Sph-Close-L_x  Cyl-Close-L_x  Axis-Close-L_x  \\\n25648          90.0          -5.25            1.5            90.0   \n15230          90.0           0.00            0.0             0.0   \n5922            0.0           0.00            0.0             0.0   \n5226            0.0           0.00            0.0             0.0   \n9158            0.0           1.00            0.5             0.0   \n7358            0.0           0.00            0.0             0.0   \n30502          80.0           0.00            0.0             0.0   \n25080          90.0           1.50            0.5            90.0   \n20004           0.0           4.00            0.5             0.0   \n21690          10.0           0.00            0.0             0.0   \n\n       Measurement_Age  Add  Sph-Far-R  Cyl-Far-R  Axis-Far-R  Sph-Close-R  \\\n25648            19342  0.0      -5.25       1.50        90.0        -5.25   \n15230             3809  0.0      -1.25       1.25        95.0        -1.25   \n5922             10176  0.0      -1.25       0.00         0.0        -1.25   \n5226              6519  0.0      -0.75       0.00         0.0        -0.75   \n9158             27299  0.0       0.00       0.00         0.0         2.75   \n7358             10678  0.0      -4.00       0.50        90.0        -4.00   \n30502            18294  0.0       0.00       1.00       110.0         0.00   \n25080            11025  0.0       1.50       0.50        90.0         1.50   \n20004            26553  0.0       4.75       0.00         0.0         4.75   \n21690            19304  0.0      -1.00       0.25       160.0        -1.00   \n\n       Cyl-Close-R  Axis-Close-R  Sph-Far-L  Cyl-Far-L  Axis-Far-L  \\\n25648         1.50          90.0      -5.25       1.50        90.0   \n15230         1.25          95.0      -0.25       0.25        90.0   \n5922          0.00           0.0      -0.75       0.00         0.0   \n5226          0.00           0.0      -0.75       0.00         0.0   \n9158          1.25          90.0       0.00       0.00         0.0   \n7358          0.50          90.0      -3.25       0.00         0.0   \n30502         0.00           0.0      -0.75       1.75        75.0   \n25080         0.50          90.0       1.50       0.50        90.0   \n20004         0.00           0.0       4.00       0.50         0.0   \n21690         0.25         160.0      -1.00       0.50        15.0   \n\n       Sph-Close-L  Cyl-Close-L  Axis-Close-L  \n25648        -5.25         1.50          90.0  \n15230        -0.25         0.25          90.0  \n5922         -0.75         0.00           0.0  \n5226         -0.75         0.00           0.0  \n9158          5.00         0.00          70.0  \n7358         -3.25         0.00           0.0  \n30502         0.00         0.00           0.0  \n25080         1.50         0.50          90.0  \n20004         4.00         0.50           0.0  \n21690        -1.00         0.50          15.0  ",
      "text/html": "<div>\n<style scoped>\n    .dataframe tbody tr th:only-of-type {\n        vertical-align: middle;\n    }\n\n    .dataframe tbody tr th {\n        vertical-align: top;\n    }\n\n    .dataframe thead th {\n        text-align: right;\n    }\n</style>\n<table border=\"1\" class=\"dataframe\">\n  <thead>\n    <tr style=\"text-align: right;\">\n      <th></th>\n      <th>Sex</th>\n      <th>Measurement_Age_x</th>\n      <th>Add_x</th>\n      <th>Sph-Far-R_x</th>\n      <th>Cyl-Far-R_x</th>\n      <th>Axis-Far-R_x</th>\n      <th>Sph-Close-R_x</th>\n      <th>Cyl-Close-R_x</th>\n      <th>Axis-Close-R_x</th>\n      <th>Sph-Far-L_x</th>\n      <th>Cyl-Far-L_x</th>\n      <th>Axis-Far-L_x</th>\n      <th>Sph-Close-L_x</th>\n      <th>Cyl-Close-L_x</th>\n      <th>Axis-Close-L_x</th>\n      <th>Measurement_Age</th>\n      <th>Add</th>\n      <th>Sph-Far-R</th>\n      <th>Cyl-Far-R</th>\n      <th>Axis-Far-R</th>\n      <th>Sph-Close-R</th>\n      <th>Cyl-Close-R</th>\n      <th>Axis-Close-R</th>\n      <th>Sph-Far-L</th>\n      <th>Cyl-Far-L</th>\n      <th>Axis-Far-L</th>\n      <th>Sph-Close-L</th>\n      <th>Cyl-Close-L</th>\n      <th>Axis-Close-L</th>\n    </tr>\n  </thead>\n  <tbody>\n    <tr>\n      <th>25648</th>\n      <td>1</td>\n      <td>19342</td>\n      <td>0.0</td>\n      <td>-5.25</td>\n      <td>1.50</td>\n      <td>90.0</td>\n      <td>-5.25</td>\n      <td>1.5</td>\n      <td>90.0</td>\n      <td>-5.25</td>\n      <td>1.5</td>\n      <td>90.0</td>\n      <td>-5.25</td>\n      <td>1.5</td>\n      <td>90.0</td>\n      <td>19342</td>\n      <td>0.0</td>\n      <td>-5.25</td>\n      <td>1.50</td>\n      <td>90.0</td>\n      <td>-5.25</td>\n      <td>1.50</td>\n      <td>90.0</td>\n      <td>-5.25</td>\n      <td>1.50</td>\n      <td>90.0</td>\n      <td>-5.25</td>\n      <td>1.50</td>\n      <td>90.0</td>\n    </tr>\n    <tr>\n      <th>15230</th>\n      <td>0</td>\n      <td>3368</td>\n      <td>0.0</td>\n      <td>-1.75</td>\n      <td>1.75</td>\n      <td>110.0</td>\n      <td>0.00</td>\n      <td>0.0</td>\n      <td>0.0</td>\n      <td>-0.50</td>\n      <td>0.5</td>\n      <td>90.0</td>\n      <td>0.00</td>\n      <td>0.0</td>\n      <td>0.0</td>\n      <td>3809</td>\n      <td>0.0</td>\n      <td>-1.25</td>\n      <td>1.25</td>\n      <td>95.0</td>\n      <td>-1.25</td>\n      <td>1.25</td>\n      <td>95.0</td>\n      <td>-0.25</td>\n      <td>0.25</td>\n      <td>90.0</td>\n      <td>-0.25</td>\n      <td>0.25</td>\n      <td>90.0</td>\n    </tr>\n    <tr>\n      <th>5922</th>\n      <td>1</td>\n      <td>8132</td>\n      <td>0.0</td>\n      <td>-1.00</td>\n      <td>0.00</td>\n      <td>0.0</td>\n      <td>0.00</td>\n      <td>0.0</td>\n      <td>0.0</td>\n      <td>-0.75</td>\n      <td>0.0</td>\n      <td>0.0</td>\n      <td>0.00</td>\n      <td>0.0</td>\n      <td>0.0</td>\n      <td>10176</td>\n      <td>0.0</td>\n      <td>-1.25</td>\n      <td>0.00</td>\n      <td>0.0</td>\n      <td>-1.25</td>\n      <td>0.00</td>\n      <td>0.0</td>\n      <td>-0.75</td>\n      <td>0.00</td>\n      <td>0.0</td>\n      <td>-0.75</td>\n      <td>0.00</td>\n      <td>0.0</td>\n    </tr>\n    <tr>\n      <th>5226</th>\n      <td>0</td>\n      <td>5249</td>\n      <td>0.0</td>\n      <td>-0.25</td>\n      <td>0.00</td>\n      <td>0.0</td>\n      <td>0.00</td>\n      <td>0.0</td>\n      <td>0.0</td>\n      <td>-0.25</td>\n      <td>0.0</td>\n      <td>0.0</td>\n      <td>0.00</td>\n      <td>0.0</td>\n      <td>0.0</td>\n      <td>6519</td>\n      <td>0.0</td>\n      <td>-0.75</td>\n      <td>0.00</td>\n      <td>0.0</td>\n      <td>-0.75</td>\n      <td>0.00</td>\n      <td>0.0</td>\n      <td>-0.75</td>\n      <td>0.00</td>\n      <td>0.0</td>\n      <td>-0.75</td>\n      <td>0.00</td>\n      <td>0.0</td>\n    </tr>\n    <tr>\n      <th>9158</th>\n      <td>0</td>\n      <td>25293</td>\n      <td>0.0</td>\n      <td>0.00</td>\n      <td>0.00</td>\n      <td>0.0</td>\n      <td>1.00</td>\n      <td>0.0</td>\n      <td>20.0</td>\n      <td>0.00</td>\n      <td>0.0</td>\n      <td>0.0</td>\n      <td>1.00</td>\n      <td>0.5</td>\n      <td>0.0</td>\n      <td>27299</td>\n      <td>0.0</td>\n      <td>0.00</td>\n      <td>0.00</td>\n      <td>0.0</td>\n      <td>2.75</td>\n      <td>1.25</td>\n      <td>90.0</td>\n      <td>0.00</td>\n      <td>0.00</td>\n      <td>0.0</td>\n      <td>5.00</td>\n      <td>0.00</td>\n      <td>70.0</td>\n    </tr>\n    <tr>\n      <th>7358</th>\n      <td>0</td>\n      <td>9160</td>\n      <td>0.0</td>\n      <td>-3.25</td>\n      <td>0.00</td>\n      <td>0.0</td>\n      <td>0.00</td>\n      <td>0.0</td>\n      <td>0.0</td>\n      <td>-3.00</td>\n      <td>0.0</td>\n      <td>0.0</td>\n      <td>0.00</td>\n      <td>0.0</td>\n      <td>0.0</td>\n      <td>10678</td>\n      <td>0.0</td>\n      <td>-4.00</td>\n      <td>0.50</td>\n      <td>90.0</td>\n      <td>-4.00</td>\n      <td>0.50</td>\n      <td>90.0</td>\n      <td>-3.25</td>\n      <td>0.00</td>\n      <td>0.0</td>\n      <td>-3.25</td>\n      <td>0.00</td>\n      <td>0.0</td>\n    </tr>\n    <tr>\n      <th>30502</th>\n      <td>1</td>\n      <td>14634</td>\n      <td>0.0</td>\n      <td>0.25</td>\n      <td>0.75</td>\n      <td>110.0</td>\n      <td>0.00</td>\n      <td>0.0</td>\n      <td>0.0</td>\n      <td>-0.50</td>\n      <td>1.5</td>\n      <td>80.0</td>\n      <td>0.00</td>\n      <td>0.0</td>\n      <td>0.0</td>\n      <td>18294</td>\n      <td>0.0</td>\n      <td>0.00</td>\n      <td>1.00</td>\n      <td>110.0</td>\n      <td>0.00</td>\n      <td>0.00</td>\n      <td>0.0</td>\n      <td>-0.75</td>\n      <td>1.75</td>\n      <td>75.0</td>\n      <td>0.00</td>\n      <td>0.00</td>\n      <td>0.0</td>\n    </tr>\n    <tr>\n      <th>25080</th>\n      <td>1</td>\n      <td>11025</td>\n      <td>0.0</td>\n      <td>1.50</td>\n      <td>0.50</td>\n      <td>90.0</td>\n      <td>1.50</td>\n      <td>0.5</td>\n      <td>90.0</td>\n      <td>1.50</td>\n      <td>0.5</td>\n      <td>90.0</td>\n      <td>1.50</td>\n      <td>0.5</td>\n      <td>90.0</td>\n      <td>11025</td>\n      <td>0.0</td>\n      <td>1.50</td>\n      <td>0.50</td>\n      <td>90.0</td>\n      <td>1.50</td>\n      <td>0.50</td>\n      <td>90.0</td>\n      <td>1.50</td>\n      <td>0.50</td>\n      <td>90.0</td>\n      <td>1.50</td>\n      <td>0.50</td>\n      <td>90.0</td>\n    </tr>\n    <tr>\n      <th>20004</th>\n      <td>0</td>\n      <td>26553</td>\n      <td>0.0</td>\n      <td>4.75</td>\n      <td>0.00</td>\n      <td>0.0</td>\n      <td>4.75</td>\n      <td>0.0</td>\n      <td>0.0</td>\n      <td>4.00</td>\n      <td>0.5</td>\n      <td>0.0</td>\n      <td>4.00</td>\n      <td>0.5</td>\n      <td>0.0</td>\n      <td>26553</td>\n      <td>0.0</td>\n      <td>4.75</td>\n      <td>0.00</td>\n      <td>0.0</td>\n      <td>4.75</td>\n      <td>0.00</td>\n      <td>0.0</td>\n      <td>4.00</td>\n      <td>0.50</td>\n      <td>0.0</td>\n      <td>4.00</td>\n      <td>0.50</td>\n      <td>0.0</td>\n    </tr>\n    <tr>\n      <th>21690</th>\n      <td>0</td>\n      <td>18348</td>\n      <td>0.0</td>\n      <td>-1.25</td>\n      <td>0.50</td>\n      <td>160.0</td>\n      <td>0.00</td>\n      <td>0.0</td>\n      <td>0.0</td>\n      <td>-1.00</td>\n      <td>0.5</td>\n      <td>10.0</td>\n      <td>0.00</td>\n      <td>0.0</td>\n      <td>0.0</td>\n      <td>19304</td>\n      <td>0.0</td>\n      <td>-1.00</td>\n      <td>0.25</td>\n      <td>160.0</td>\n      <td>-1.00</td>\n      <td>0.25</td>\n      <td>160.0</td>\n      <td>-1.00</td>\n      <td>0.50</td>\n      <td>15.0</td>\n      <td>-1.00</td>\n      <td>0.50</td>\n      <td>15.0</td>\n    </tr>\n  </tbody>\n</table>\n</div>"
     },
     "metadata": {},
     "execution_count": 21
    }
   ],
   "source": [
    "print(dataset.shape)\n",
    "dataset.head(10)"
   ]
  },
  {
   "cell_type": "code",
   "execution_count": 22,
   "metadata": {},
   "outputs": [
    {
     "output_type": "stream",
     "name": "stdout",
     "text": "23521\n"
    },
    {
     "output_type": "execute_result",
     "data": {
      "text/plain": "      Sex  Measurement_Age   Add  Sph-Far-R  Cyl-Far-R  Axis-Far-R  \\\n1146    1            23521  2.75        3.5       0.75        60.0   \n\n      Sph-Close-R  Cyl-Close-R  Axis-Close-R  Sph-Far-L  Cyl-Far-L  \\\n1146          6.5          0.5          60.0       1.25        0.5   \n\n      Axis-Far-L  Sph-Close-L  Cyl-Close-L  Axis-Close-L  \n1146       125.0         3.75         0.75         125.0  ",
      "text/html": "<div>\n<style scoped>\n    .dataframe tbody tr th:only-of-type {\n        vertical-align: middle;\n    }\n\n    .dataframe tbody tr th {\n        vertical-align: top;\n    }\n\n    .dataframe thead th {\n        text-align: right;\n    }\n</style>\n<table border=\"1\" class=\"dataframe\">\n  <thead>\n    <tr style=\"text-align: right;\">\n      <th></th>\n      <th>Sex</th>\n      <th>Measurement_Age</th>\n      <th>Add</th>\n      <th>Sph-Far-R</th>\n      <th>Cyl-Far-R</th>\n      <th>Axis-Far-R</th>\n      <th>Sph-Close-R</th>\n      <th>Cyl-Close-R</th>\n      <th>Axis-Close-R</th>\n      <th>Sph-Far-L</th>\n      <th>Cyl-Far-L</th>\n      <th>Axis-Far-L</th>\n      <th>Sph-Close-L</th>\n      <th>Cyl-Close-L</th>\n      <th>Axis-Close-L</th>\n    </tr>\n  </thead>\n  <tbody>\n    <tr>\n      <th>1146</th>\n      <td>1</td>\n      <td>23521</td>\n      <td>2.75</td>\n      <td>3.5</td>\n      <td>0.75</td>\n      <td>60.0</td>\n      <td>6.5</td>\n      <td>0.5</td>\n      <td>60.0</td>\n      <td>1.25</td>\n      <td>0.5</td>\n      <td>125.0</td>\n      <td>3.75</td>\n      <td>0.75</td>\n      <td>125.0</td>\n    </tr>\n  </tbody>\n</table>\n</div>"
     },
     "metadata": {},
     "execution_count": 22
    }
   ],
   "source": [
    "values = dataset_og.loc[[1146]]\n",
    "values.drop(['ID'], axis=1, inplace=True)\n",
    "age = values.iat[0,1]\n",
    "years = 5\n",
    "print(age)\n",
    "values.head()"
   ]
  },
  {
   "cell_type": "code",
   "execution_count": 23,
   "metadata": {},
   "outputs": [
    {
     "output_type": "stream",
     "name": "stdout",
     "text": "[8164.15657418]\n[193.02399402]\n[8327.1983679]\n[443.41797905]\n[-0.46263429]\n[0.4068219]\n[-1.08875]\n[1.02102459]\n[-0.35445998]\n[0.3106326]\n"
    }
   ],
   "source": [
    "values = np.array([[1.0,18358.0,0.0,-1.00,0.5,175.0,0.0,0.00,0.0,-1.50,1.25,165.0,0.00,0.0,0.0,20686.0]])\n",
    "\n",
    "\n",
    "#Sph-Far-R = -1\n",
    "#Cyl-Far-R = 0.25\n",
    "#Sph-Far-L = -1.50\n",
    "#Cyl-Far-L = 1.25\n",
    "\n",
    "# values = values.reshape(-1, 1)\n",
    "# scaler1.fit(values)\n",
    "# values = scaler1.transform(values)\n",
    "\n",
    "models = [lreg_sph_far_r, lreg_cyl_far_r, lreg_sph_far_l, lreg_cyl_far_l,\n",
    "          RFR_model_sph_far_r, RFR_model_cyl_far_r, RFR_model_sph_far_l, RFR_model_cyl_far_l,RFRmodel_reduced_sph_far_r,RFRmodel_reduced_cyl_far_r]\n",
    "\n",
    "for n in models:\n",
    "    x = n.predict(values)\n",
    "#     a = np.array([0, 0, 0, x, 0, 0, 0, 0, 0, 0, 0, 0, 0, 0, 0, 0])\n",
    "#     x = scaler1.inverse_transform(x)\n",
    "    print(x)\n"
   ]
  },
  {
   "cell_type": "code",
   "execution_count": 24,
   "metadata": {},
   "outputs": [
    {
     "output_type": "stream",
     "name": "stdout",
     "text": "[2.669360391077129, 2.6744529836697217, 2.670934314838553, 2.670934314838553, 2.663555087785413, 2.6677396115949366, 2.6465196635332533, 2.6465196635332533, 2.6559869851609013, 2.666237769583197, 2.625522110242538, 2.6321345949800223, 2.639634594980022, 2.657824311696055, 2.653664056578389, 2.663980176269509, 2.6606468429361754, 2.6658849381742704, 2.6678988270631594, 2.6620654937298265, 2.7263471974004396, 2.7805913494472225, 2.8069269480806156, 2.911987401721262, 2.9633666129412632]\n"
    },
    {
     "output_type": "execute_result",
     "data": {
      "text/plain": "[<matplotlib.lines.Line2D at 0x115bdad8070>]"
     },
     "metadata": {},
     "execution_count": 24
    },
    {
     "output_type": "display_data",
     "data": {
      "text/plain": "<Figure size 432x288 with 1 Axes>",
      "image/svg+xml": "<?xml version=\"1.0\" encoding=\"utf-8\" standalone=\"no\"?>\r\n<!DOCTYPE svg PUBLIC \"-//W3C//DTD SVG 1.1//EN\"\r\n  \"http://www.w3.org/Graphics/SVG/1.1/DTD/svg11.dtd\">\r\n<!-- Created with matplotlib (https://matplotlib.org/) -->\r\n<svg height=\"248.518125pt\" version=\"1.1\" viewBox=\"0 0 378.465625 248.518125\" width=\"378.465625pt\" xmlns=\"http://www.w3.org/2000/svg\" xmlns:xlink=\"http://www.w3.org/1999/xlink\">\r\n <defs>\r\n  <style type=\"text/css\">\r\n*{stroke-linecap:butt;stroke-linejoin:round;}\r\n  </style>\r\n </defs>\r\n <g id=\"figure_1\">\r\n  <g id=\"patch_1\">\r\n   <path d=\"M 0 248.518125 \r\nL 378.465625 248.518125 \r\nL 378.465625 0 \r\nL 0 0 \r\nz\r\n\" style=\"fill:none;\"/>\r\n  </g>\r\n  <g id=\"axes_1\">\r\n   <g id=\"patch_2\">\r\n    <path d=\"M 36.465625 224.64 \r\nL 371.265625 224.64 \r\nL 371.265625 7.2 \r\nL 36.465625 7.2 \r\nz\r\n\" style=\"fill:#ffffff;\"/>\r\n   </g>\r\n   <g id=\"matplotlib.axis_1\">\r\n    <g id=\"xtick_1\">\r\n     <g id=\"line2d_1\">\r\n      <defs>\r\n       <path d=\"M 0 0 \r\nL 0 3.5 \r\n\" id=\"m605e361b97\" style=\"stroke:#000000;stroke-width:0.8;\"/>\r\n      </defs>\r\n      <g>\r\n       <use style=\"stroke:#000000;stroke-width:0.8;\" x=\"86.636982\" xlink:href=\"#m605e361b97\" y=\"224.64\"/>\r\n      </g>\r\n     </g>\r\n     <g id=\"text_1\">\r\n      <!-- 25 -->\r\n      <defs>\r\n       <path d=\"M 19.1875 8.296875 \r\nL 53.609375 8.296875 \r\nL 53.609375 0 \r\nL 7.328125 0 \r\nL 7.328125 8.296875 \r\nQ 12.9375 14.109375 22.625 23.890625 \r\nQ 32.328125 33.6875 34.8125 36.53125 \r\nQ 39.546875 41.84375 41.421875 45.53125 \r\nQ 43.3125 49.21875 43.3125 52.78125 \r\nQ 43.3125 58.59375 39.234375 62.25 \r\nQ 35.15625 65.921875 28.609375 65.921875 \r\nQ 23.96875 65.921875 18.8125 64.3125 \r\nQ 13.671875 62.703125 7.8125 59.421875 \r\nL 7.8125 69.390625 \r\nQ 13.765625 71.78125 18.9375 73 \r\nQ 24.125 74.21875 28.421875 74.21875 \r\nQ 39.75 74.21875 46.484375 68.546875 \r\nQ 53.21875 62.890625 53.21875 53.421875 \r\nQ 53.21875 48.921875 51.53125 44.890625 \r\nQ 49.859375 40.875 45.40625 35.40625 \r\nQ 44.1875 33.984375 37.640625 27.21875 \r\nQ 31.109375 20.453125 19.1875 8.296875 \r\nz\r\n\" id=\"DejaVuSans-50\"/>\r\n       <path d=\"M 10.796875 72.90625 \r\nL 49.515625 72.90625 \r\nL 49.515625 64.59375 \r\nL 19.828125 64.59375 \r\nL 19.828125 46.734375 \r\nQ 21.96875 47.46875 24.109375 47.828125 \r\nQ 26.265625 48.1875 28.421875 48.1875 \r\nQ 40.625 48.1875 47.75 41.5 \r\nQ 54.890625 34.8125 54.890625 23.390625 \r\nQ 54.890625 11.625 47.5625 5.09375 \r\nQ 40.234375 -1.421875 26.90625 -1.421875 \r\nQ 22.3125 -1.421875 17.546875 -0.640625 \r\nQ 12.796875 0.140625 7.71875 1.703125 \r\nL 7.71875 11.625 \r\nQ 12.109375 9.234375 16.796875 8.0625 \r\nQ 21.484375 6.890625 26.703125 6.890625 \r\nQ 35.15625 6.890625 40.078125 11.328125 \r\nQ 45.015625 15.765625 45.015625 23.390625 \r\nQ 45.015625 31 40.078125 35.4375 \r\nQ 35.15625 39.890625 26.703125 39.890625 \r\nQ 22.75 39.890625 18.8125 39.015625 \r\nQ 14.890625 38.140625 10.796875 36.28125 \r\nz\r\n\" id=\"DejaVuSans-53\"/>\r\n      </defs>\r\n      <g transform=\"translate(80.274482 239.238437)scale(0.1 -0.1)\">\r\n       <use xlink:href=\"#DejaVuSans-50\"/>\r\n       <use x=\"63.623047\" xlink:href=\"#DejaVuSans-53\"/>\r\n      </g>\r\n     </g>\r\n    </g>\r\n    <g id=\"xtick_2\">\r\n     <g id=\"line2d_2\">\r\n      <g>\r\n       <use style=\"stroke:#000000;stroke-width:0.8;\" x=\"150.046073\" xlink:href=\"#m605e361b97\" y=\"224.64\"/>\r\n      </g>\r\n     </g>\r\n     <g id=\"text_2\">\r\n      <!-- 30 -->\r\n      <defs>\r\n       <path d=\"M 40.578125 39.3125 \r\nQ 47.65625 37.796875 51.625 33 \r\nQ 55.609375 28.21875 55.609375 21.1875 \r\nQ 55.609375 10.40625 48.1875 4.484375 \r\nQ 40.765625 -1.421875 27.09375 -1.421875 \r\nQ 22.515625 -1.421875 17.65625 -0.515625 \r\nQ 12.796875 0.390625 7.625 2.203125 \r\nL 7.625 11.71875 \r\nQ 11.71875 9.328125 16.59375 8.109375 \r\nQ 21.484375 6.890625 26.8125 6.890625 \r\nQ 36.078125 6.890625 40.9375 10.546875 \r\nQ 45.796875 14.203125 45.796875 21.1875 \r\nQ 45.796875 27.640625 41.28125 31.265625 \r\nQ 36.765625 34.90625 28.71875 34.90625 \r\nL 20.21875 34.90625 \r\nL 20.21875 43.015625 \r\nL 29.109375 43.015625 \r\nQ 36.375 43.015625 40.234375 45.921875 \r\nQ 44.09375 48.828125 44.09375 54.296875 \r\nQ 44.09375 59.90625 40.109375 62.90625 \r\nQ 36.140625 65.921875 28.71875 65.921875 \r\nQ 24.65625 65.921875 20.015625 65.03125 \r\nQ 15.375 64.15625 9.8125 62.3125 \r\nL 9.8125 71.09375 \r\nQ 15.4375 72.65625 20.34375 73.4375 \r\nQ 25.25 74.21875 29.59375 74.21875 \r\nQ 40.828125 74.21875 47.359375 69.109375 \r\nQ 53.90625 64.015625 53.90625 55.328125 \r\nQ 53.90625 49.265625 50.4375 45.09375 \r\nQ 46.96875 40.921875 40.578125 39.3125 \r\nz\r\n\" id=\"DejaVuSans-51\"/>\r\n       <path d=\"M 31.78125 66.40625 \r\nQ 24.171875 66.40625 20.328125 58.90625 \r\nQ 16.5 51.421875 16.5 36.375 \r\nQ 16.5 21.390625 20.328125 13.890625 \r\nQ 24.171875 6.390625 31.78125 6.390625 \r\nQ 39.453125 6.390625 43.28125 13.890625 \r\nQ 47.125 21.390625 47.125 36.375 \r\nQ 47.125 51.421875 43.28125 58.90625 \r\nQ 39.453125 66.40625 31.78125 66.40625 \r\nz\r\nM 31.78125 74.21875 \r\nQ 44.046875 74.21875 50.515625 64.515625 \r\nQ 56.984375 54.828125 56.984375 36.375 \r\nQ 56.984375 17.96875 50.515625 8.265625 \r\nQ 44.046875 -1.421875 31.78125 -1.421875 \r\nQ 19.53125 -1.421875 13.0625 8.265625 \r\nQ 6.59375 17.96875 6.59375 36.375 \r\nQ 6.59375 54.828125 13.0625 64.515625 \r\nQ 19.53125 74.21875 31.78125 74.21875 \r\nz\r\n\" id=\"DejaVuSans-48\"/>\r\n      </defs>\r\n      <g transform=\"translate(143.683573 239.238437)scale(0.1 -0.1)\">\r\n       <use xlink:href=\"#DejaVuSans-51\"/>\r\n       <use x=\"63.623047\" xlink:href=\"#DejaVuSans-48\"/>\r\n      </g>\r\n     </g>\r\n    </g>\r\n    <g id=\"xtick_3\">\r\n     <g id=\"line2d_3\">\r\n      <g>\r\n       <use style=\"stroke:#000000;stroke-width:0.8;\" x=\"213.455164\" xlink:href=\"#m605e361b97\" y=\"224.64\"/>\r\n      </g>\r\n     </g>\r\n     <g id=\"text_3\">\r\n      <!-- 35 -->\r\n      <g transform=\"translate(207.092664 239.238437)scale(0.1 -0.1)\">\r\n       <use xlink:href=\"#DejaVuSans-51\"/>\r\n       <use x=\"63.623047\" xlink:href=\"#DejaVuSans-53\"/>\r\n      </g>\r\n     </g>\r\n    </g>\r\n    <g id=\"xtick_4\">\r\n     <g id=\"line2d_4\">\r\n      <g>\r\n       <use style=\"stroke:#000000;stroke-width:0.8;\" x=\"276.864255\" xlink:href=\"#m605e361b97\" y=\"224.64\"/>\r\n      </g>\r\n     </g>\r\n     <g id=\"text_4\">\r\n      <!-- 40 -->\r\n      <defs>\r\n       <path d=\"M 37.796875 64.3125 \r\nL 12.890625 25.390625 \r\nL 37.796875 25.390625 \r\nz\r\nM 35.203125 72.90625 \r\nL 47.609375 72.90625 \r\nL 47.609375 25.390625 \r\nL 58.015625 25.390625 \r\nL 58.015625 17.1875 \r\nL 47.609375 17.1875 \r\nL 47.609375 0 \r\nL 37.796875 0 \r\nL 37.796875 17.1875 \r\nL 4.890625 17.1875 \r\nL 4.890625 26.703125 \r\nz\r\n\" id=\"DejaVuSans-52\"/>\r\n      </defs>\r\n      <g transform=\"translate(270.501755 239.238437)scale(0.1 -0.1)\">\r\n       <use xlink:href=\"#DejaVuSans-52\"/>\r\n       <use x=\"63.623047\" xlink:href=\"#DejaVuSans-48\"/>\r\n      </g>\r\n     </g>\r\n    </g>\r\n    <g id=\"xtick_5\">\r\n     <g id=\"line2d_5\">\r\n      <g>\r\n       <use style=\"stroke:#000000;stroke-width:0.8;\" x=\"340.273346\" xlink:href=\"#m605e361b97\" y=\"224.64\"/>\r\n      </g>\r\n     </g>\r\n     <g id=\"text_5\">\r\n      <!-- 45 -->\r\n      <g transform=\"translate(333.910846 239.238437)scale(0.1 -0.1)\">\r\n       <use xlink:href=\"#DejaVuSans-52\"/>\r\n       <use x=\"63.623047\" xlink:href=\"#DejaVuSans-53\"/>\r\n      </g>\r\n     </g>\r\n    </g>\r\n   </g>\r\n   <g id=\"matplotlib.axis_2\">\r\n    <g id=\"ytick_1\">\r\n     <g id=\"line2d_6\">\r\n      <defs>\r\n       <path d=\"M 0 0 \r\nL -3.5 0 \r\n\" id=\"me3d3e024dd\" style=\"stroke:#000000;stroke-width:0.8;\"/>\r\n      </defs>\r\n      <g>\r\n       <use style=\"stroke:#000000;stroke-width:0.8;\" x=\"36.465625\" xlink:href=\"#me3d3e024dd\" y=\"200.434357\"/>\r\n      </g>\r\n     </g>\r\n     <g id=\"text_6\">\r\n      <!-- 2.65 -->\r\n      <defs>\r\n       <path d=\"M 10.6875 12.40625 \r\nL 21 12.40625 \r\nL 21 0 \r\nL 10.6875 0 \r\nz\r\n\" id=\"DejaVuSans-46\"/>\r\n       <path d=\"M 33.015625 40.375 \r\nQ 26.375 40.375 22.484375 35.828125 \r\nQ 18.609375 31.296875 18.609375 23.390625 \r\nQ 18.609375 15.53125 22.484375 10.953125 \r\nQ 26.375 6.390625 33.015625 6.390625 \r\nQ 39.65625 6.390625 43.53125 10.953125 \r\nQ 47.40625 15.53125 47.40625 23.390625 \r\nQ 47.40625 31.296875 43.53125 35.828125 \r\nQ 39.65625 40.375 33.015625 40.375 \r\nz\r\nM 52.59375 71.296875 \r\nL 52.59375 62.3125 \r\nQ 48.875 64.0625 45.09375 64.984375 \r\nQ 41.3125 65.921875 37.59375 65.921875 \r\nQ 27.828125 65.921875 22.671875 59.328125 \r\nQ 17.53125 52.734375 16.796875 39.40625 \r\nQ 19.671875 43.65625 24.015625 45.921875 \r\nQ 28.375 48.1875 33.59375 48.1875 \r\nQ 44.578125 48.1875 50.953125 41.515625 \r\nQ 57.328125 34.859375 57.328125 23.390625 \r\nQ 57.328125 12.15625 50.6875 5.359375 \r\nQ 44.046875 -1.421875 33.015625 -1.421875 \r\nQ 20.359375 -1.421875 13.671875 8.265625 \r\nQ 6.984375 17.96875 6.984375 36.375 \r\nQ 6.984375 53.65625 15.1875 63.9375 \r\nQ 23.390625 74.21875 37.203125 74.21875 \r\nQ 40.921875 74.21875 44.703125 73.484375 \r\nQ 48.484375 72.75 52.59375 71.296875 \r\nz\r\n\" id=\"DejaVuSans-54\"/>\r\n      </defs>\r\n      <g transform=\"translate(7.2 204.233576)scale(0.1 -0.1)\">\r\n       <use xlink:href=\"#DejaVuSans-50\"/>\r\n       <use x=\"63.623047\" xlink:href=\"#DejaVuSans-46\"/>\r\n       <use x=\"95.410156\" xlink:href=\"#DejaVuSans-54\"/>\r\n       <use x=\"159.033203\" xlink:href=\"#DejaVuSans-53\"/>\r\n      </g>\r\n     </g>\r\n    </g>\r\n    <g id=\"ytick_2\">\r\n     <g id=\"line2d_7\">\r\n      <g>\r\n       <use style=\"stroke:#000000;stroke-width:0.8;\" x=\"36.465625\" xlink:href=\"#me3d3e024dd\" y=\"171.17937\"/>\r\n      </g>\r\n     </g>\r\n     <g id=\"text_7\">\r\n      <!-- 2.70 -->\r\n      <defs>\r\n       <path d=\"M 8.203125 72.90625 \r\nL 55.078125 72.90625 \r\nL 55.078125 68.703125 \r\nL 28.609375 0 \r\nL 18.3125 0 \r\nL 43.21875 64.59375 \r\nL 8.203125 64.59375 \r\nz\r\n\" id=\"DejaVuSans-55\"/>\r\n      </defs>\r\n      <g transform=\"translate(7.2 174.978589)scale(0.1 -0.1)\">\r\n       <use xlink:href=\"#DejaVuSans-50\"/>\r\n       <use x=\"63.623047\" xlink:href=\"#DejaVuSans-46\"/>\r\n       <use x=\"95.410156\" xlink:href=\"#DejaVuSans-55\"/>\r\n       <use x=\"159.033203\" xlink:href=\"#DejaVuSans-48\"/>\r\n      </g>\r\n     </g>\r\n    </g>\r\n    <g id=\"ytick_3\">\r\n     <g id=\"line2d_8\">\r\n      <g>\r\n       <use style=\"stroke:#000000;stroke-width:0.8;\" x=\"36.465625\" xlink:href=\"#me3d3e024dd\" y=\"141.924384\"/>\r\n      </g>\r\n     </g>\r\n     <g id=\"text_8\">\r\n      <!-- 2.75 -->\r\n      <g transform=\"translate(7.2 145.723603)scale(0.1 -0.1)\">\r\n       <use xlink:href=\"#DejaVuSans-50\"/>\r\n       <use x=\"63.623047\" xlink:href=\"#DejaVuSans-46\"/>\r\n       <use x=\"95.410156\" xlink:href=\"#DejaVuSans-55\"/>\r\n       <use x=\"159.033203\" xlink:href=\"#DejaVuSans-53\"/>\r\n      </g>\r\n     </g>\r\n    </g>\r\n    <g id=\"ytick_4\">\r\n     <g id=\"line2d_9\">\r\n      <g>\r\n       <use style=\"stroke:#000000;stroke-width:0.8;\" x=\"36.465625\" xlink:href=\"#me3d3e024dd\" y=\"112.669397\"/>\r\n      </g>\r\n     </g>\r\n     <g id=\"text_9\">\r\n      <!-- 2.80 -->\r\n      <defs>\r\n       <path d=\"M 31.78125 34.625 \r\nQ 24.75 34.625 20.71875 30.859375 \r\nQ 16.703125 27.09375 16.703125 20.515625 \r\nQ 16.703125 13.921875 20.71875 10.15625 \r\nQ 24.75 6.390625 31.78125 6.390625 \r\nQ 38.8125 6.390625 42.859375 10.171875 \r\nQ 46.921875 13.96875 46.921875 20.515625 \r\nQ 46.921875 27.09375 42.890625 30.859375 \r\nQ 38.875 34.625 31.78125 34.625 \r\nz\r\nM 21.921875 38.8125 \r\nQ 15.578125 40.375 12.03125 44.71875 \r\nQ 8.5 49.078125 8.5 55.328125 \r\nQ 8.5 64.0625 14.71875 69.140625 \r\nQ 20.953125 74.21875 31.78125 74.21875 \r\nQ 42.671875 74.21875 48.875 69.140625 \r\nQ 55.078125 64.0625 55.078125 55.328125 \r\nQ 55.078125 49.078125 51.53125 44.71875 \r\nQ 48 40.375 41.703125 38.8125 \r\nQ 48.828125 37.15625 52.796875 32.3125 \r\nQ 56.78125 27.484375 56.78125 20.515625 \r\nQ 56.78125 9.90625 50.3125 4.234375 \r\nQ 43.84375 -1.421875 31.78125 -1.421875 \r\nQ 19.734375 -1.421875 13.25 4.234375 \r\nQ 6.78125 9.90625 6.78125 20.515625 \r\nQ 6.78125 27.484375 10.78125 32.3125 \r\nQ 14.796875 37.15625 21.921875 38.8125 \r\nz\r\nM 18.3125 54.390625 \r\nQ 18.3125 48.734375 21.84375 45.5625 \r\nQ 25.390625 42.390625 31.78125 42.390625 \r\nQ 38.140625 42.390625 41.71875 45.5625 \r\nQ 45.3125 48.734375 45.3125 54.390625 \r\nQ 45.3125 60.0625 41.71875 63.234375 \r\nQ 38.140625 66.40625 31.78125 66.40625 \r\nQ 25.390625 66.40625 21.84375 63.234375 \r\nQ 18.3125 60.0625 18.3125 54.390625 \r\nz\r\n\" id=\"DejaVuSans-56\"/>\r\n      </defs>\r\n      <g transform=\"translate(7.2 116.468616)scale(0.1 -0.1)\">\r\n       <use xlink:href=\"#DejaVuSans-50\"/>\r\n       <use x=\"63.623047\" xlink:href=\"#DejaVuSans-46\"/>\r\n       <use x=\"95.410156\" xlink:href=\"#DejaVuSans-56\"/>\r\n       <use x=\"159.033203\" xlink:href=\"#DejaVuSans-48\"/>\r\n      </g>\r\n     </g>\r\n    </g>\r\n    <g id=\"ytick_5\">\r\n     <g id=\"line2d_10\">\r\n      <g>\r\n       <use style=\"stroke:#000000;stroke-width:0.8;\" x=\"36.465625\" xlink:href=\"#me3d3e024dd\" y=\"83.414411\"/>\r\n      </g>\r\n     </g>\r\n     <g id=\"text_10\">\r\n      <!-- 2.85 -->\r\n      <g transform=\"translate(7.2 87.21363)scale(0.1 -0.1)\">\r\n       <use xlink:href=\"#DejaVuSans-50\"/>\r\n       <use x=\"63.623047\" xlink:href=\"#DejaVuSans-46\"/>\r\n       <use x=\"95.410156\" xlink:href=\"#DejaVuSans-56\"/>\r\n       <use x=\"159.033203\" xlink:href=\"#DejaVuSans-53\"/>\r\n      </g>\r\n     </g>\r\n    </g>\r\n    <g id=\"ytick_6\">\r\n     <g id=\"line2d_11\">\r\n      <g>\r\n       <use style=\"stroke:#000000;stroke-width:0.8;\" x=\"36.465625\" xlink:href=\"#me3d3e024dd\" y=\"54.159424\"/>\r\n      </g>\r\n     </g>\r\n     <g id=\"text_11\">\r\n      <!-- 2.90 -->\r\n      <defs>\r\n       <path d=\"M 10.984375 1.515625 \r\nL 10.984375 10.5 \r\nQ 14.703125 8.734375 18.5 7.8125 \r\nQ 22.3125 6.890625 25.984375 6.890625 \r\nQ 35.75 6.890625 40.890625 13.453125 \r\nQ 46.046875 20.015625 46.78125 33.40625 \r\nQ 43.953125 29.203125 39.59375 26.953125 \r\nQ 35.25 24.703125 29.984375 24.703125 \r\nQ 19.046875 24.703125 12.671875 31.3125 \r\nQ 6.296875 37.9375 6.296875 49.421875 \r\nQ 6.296875 60.640625 12.9375 67.421875 \r\nQ 19.578125 74.21875 30.609375 74.21875 \r\nQ 43.265625 74.21875 49.921875 64.515625 \r\nQ 56.59375 54.828125 56.59375 36.375 \r\nQ 56.59375 19.140625 48.40625 8.859375 \r\nQ 40.234375 -1.421875 26.421875 -1.421875 \r\nQ 22.703125 -1.421875 18.890625 -0.6875 \r\nQ 15.09375 0.046875 10.984375 1.515625 \r\nz\r\nM 30.609375 32.421875 \r\nQ 37.25 32.421875 41.125 36.953125 \r\nQ 45.015625 41.5 45.015625 49.421875 \r\nQ 45.015625 57.28125 41.125 61.84375 \r\nQ 37.25 66.40625 30.609375 66.40625 \r\nQ 23.96875 66.40625 20.09375 61.84375 \r\nQ 16.21875 57.28125 16.21875 49.421875 \r\nQ 16.21875 41.5 20.09375 36.953125 \r\nQ 23.96875 32.421875 30.609375 32.421875 \r\nz\r\n\" id=\"DejaVuSans-57\"/>\r\n      </defs>\r\n      <g transform=\"translate(7.2 57.958643)scale(0.1 -0.1)\">\r\n       <use xlink:href=\"#DejaVuSans-50\"/>\r\n       <use x=\"63.623047\" xlink:href=\"#DejaVuSans-46\"/>\r\n       <use x=\"95.410156\" xlink:href=\"#DejaVuSans-57\"/>\r\n       <use x=\"159.033203\" xlink:href=\"#DejaVuSans-48\"/>\r\n      </g>\r\n     </g>\r\n    </g>\r\n    <g id=\"ytick_7\">\r\n     <g id=\"line2d_12\">\r\n      <g>\r\n       <use style=\"stroke:#000000;stroke-width:0.8;\" x=\"36.465625\" xlink:href=\"#me3d3e024dd\" y=\"24.904438\"/>\r\n      </g>\r\n     </g>\r\n     <g id=\"text_12\">\r\n      <!-- 2.95 -->\r\n      <g transform=\"translate(7.2 28.703657)scale(0.1 -0.1)\">\r\n       <use xlink:href=\"#DejaVuSans-50\"/>\r\n       <use x=\"63.623047\" xlink:href=\"#DejaVuSans-46\"/>\r\n       <use x=\"95.410156\" xlink:href=\"#DejaVuSans-57\"/>\r\n       <use x=\"159.033203\" xlink:href=\"#DejaVuSans-53\"/>\r\n      </g>\r\n     </g>\r\n    </g>\r\n   </g>\r\n   <g id=\"line2d_13\">\r\n    <path clip-path=\"url(#pf0d4c19f6f)\" d=\"M 51.683807 189.106597 \r\nL 64.365625 186.126923 \r\nL 77.047443 188.185695 \r\nL 89.729261 188.185695 \r\nL 102.41108 192.503279 \r\nL 115.092898 190.054915 \r\nL 127.774716 202.470701 \r\nL 140.456534 202.470701 \r\nL 153.138352 196.931374 \r\nL 165.82017 190.933642 \r\nL 178.501989 214.756364 \r\nL 191.183807 210.887401 \r\nL 203.865625 206.499153 \r\nL 216.547443 195.856354 \r\nL 229.229261 198.290518 \r\nL 241.91108 192.25456 \r\nL 254.592898 194.204892 \r\nL 267.274716 191.140084 \r\nL 279.956534 189.961758 \r\nL 292.638352 193.37484 \r\nL 305.32017 155.763632 \r\nL 318.001989 124.025394 \r\nL 330.683807 108.616442 \r\nL 343.365625 47.145599 \r\nL 356.047443 17.083636 \r\n\" style=\"fill:none;stroke:#1f77b4;stroke-linecap:square;stroke-width:1.5;\"/>\r\n   </g>\r\n   <g id=\"patch_3\">\r\n    <path d=\"M 36.465625 224.64 \r\nL 36.465625 7.2 \r\n\" style=\"fill:none;stroke:#000000;stroke-linecap:square;stroke-linejoin:miter;stroke-width:0.8;\"/>\r\n   </g>\r\n   <g id=\"patch_4\">\r\n    <path d=\"M 371.265625 224.64 \r\nL 371.265625 7.2 \r\n\" style=\"fill:none;stroke:#000000;stroke-linecap:square;stroke-linejoin:miter;stroke-width:0.8;\"/>\r\n   </g>\r\n   <g id=\"patch_5\">\r\n    <path d=\"M 36.465625 224.64 \r\nL 371.265625 224.64 \r\n\" style=\"fill:none;stroke:#000000;stroke-linecap:square;stroke-linejoin:miter;stroke-width:0.8;\"/>\r\n   </g>\r\n   <g id=\"patch_6\">\r\n    <path d=\"M 36.465625 7.2 \r\nL 371.265625 7.2 \r\n\" style=\"fill:none;stroke:#000000;stroke-linecap:square;stroke-linejoin:miter;stroke-width:0.8;\"/>\r\n   </g>\r\n  </g>\r\n </g>\r\n <defs>\r\n  <clipPath id=\"pf0d4c19f6f\">\r\n   <rect height=\"217.44\" width=\"334.8\" x=\"36.465625\" y=\"7.2\"/>\r\n  </clipPath>\r\n </defs>\r\n</svg>\r\n",
      "image/png": "[encoded data removed]"
     },
     "metadata": {
      "needs_background": "light"
     }
    }
   ],
   "source": [
    "values = dataset_og.loc[[1156]]\n",
    "values.drop(['ID'], axis=1, inplace=True)\n",
    "age = values.iat[0,1]\n",
    "years = 25\n",
    "pred= []\n",
    "ages = []\n",
    "\n",
    "values = values.assign(Measurement_Age_x=[age])\n",
    "values.head()\n",
    "\n",
    "for x in range(0,years):\n",
    "    values['Measurement_Age_x'] = values['Measurement_Age_x'].add(365)\n",
    "    age2 = values.iat[0,-1]\n",
    "    x = RFR_model_sph_far_r.predict(values)\n",
    "    ages.append(age2)\n",
    "    pred.append(x[0])\n",
    "        \n",
    "print(pred)\n",
    "ages = [x / 365 for x in ages]\n",
    "plt.plot(ages, pred)"
   ]
  },
  {
   "cell_type": "code",
   "execution_count": 25,
   "metadata": {},
   "outputs": [
    {
     "output_type": "execute_result",
     "data": {
      "text/plain": "       Sex  Measurement_Age_x  Add_x  Sph-Far-R_x  Cyl-Far-R_x  Axis-Far-R_x  \\\n14942    0              20855    2.5         1.00          0.0           0.0   \n26370    1              20851    0.0         0.00          0.0           0.0   \n1850     0              18588    0.0         0.00          0.0           0.0   \n21698    0               3615    0.0        -4.50          0.5         110.0   \n13262    0              12055    0.0        -3.25          0.0           0.0   \n\n       Sph-Close-R_x  Cyl-Close-R_x  Axis-Close-R_x  Sph-Far-L_x  Cyl-Far-L_x  \\\n14942           3.50            0.0             0.0         1.00          0.0   \n26370           1.75            0.0             0.0         0.00          0.0   \n1850            2.25            0.0             0.0         0.00          0.0   \n21698           0.00            0.0             0.0        -5.00          1.0   \n13262           0.00            0.0             0.0        -2.25          0.0   \n\n       Axis-Far-L_x  Sph-Close-L_x  Cyl-Close-L_x  Axis-Close-L_x  \\\n14942           0.0           3.50            0.0             0.0   \n26370           0.0           1.75            0.0             0.0   \n1850            0.0           2.25            0.0             0.0   \n21698          70.0           0.00            0.0             0.0   \n13262           0.0           0.00            0.0             0.0   \n\n       Measurement_Age  \n14942            22223  \n26370            21966  \n1850             19886  \n21698             4329  \n13262            13217  ",
      "text/html": "<div>\n<style scoped>\n    .dataframe tbody tr th:only-of-type {\n        vertical-align: middle;\n    }\n\n    .dataframe tbody tr th {\n        vertical-align: top;\n    }\n\n    .dataframe thead th {\n        text-align: right;\n    }\n</style>\n<table border=\"1\" class=\"dataframe\">\n  <thead>\n    <tr style=\"text-align: right;\">\n      <th></th>\n      <th>Sex</th>\n      <th>Measurement_Age_x</th>\n      <th>Add_x</th>\n      <th>Sph-Far-R_x</th>\n      <th>Cyl-Far-R_x</th>\n      <th>Axis-Far-R_x</th>\n      <th>Sph-Close-R_x</th>\n      <th>Cyl-Close-R_x</th>\n      <th>Axis-Close-R_x</th>\n      <th>Sph-Far-L_x</th>\n      <th>Cyl-Far-L_x</th>\n      <th>Axis-Far-L_x</th>\n      <th>Sph-Close-L_x</th>\n      <th>Cyl-Close-L_x</th>\n      <th>Axis-Close-L_x</th>\n      <th>Measurement_Age</th>\n    </tr>\n  </thead>\n  <tbody>\n    <tr>\n      <th>14942</th>\n      <td>0</td>\n      <td>20855</td>\n      <td>2.5</td>\n      <td>1.00</td>\n      <td>0.0</td>\n      <td>0.0</td>\n      <td>3.50</td>\n      <td>0.0</td>\n      <td>0.0</td>\n      <td>1.00</td>\n      <td>0.0</td>\n      <td>0.0</td>\n      <td>3.50</td>\n      <td>0.0</td>\n      <td>0.0</td>\n      <td>22223</td>\n    </tr>\n    <tr>\n      <th>26370</th>\n      <td>1</td>\n      <td>20851</td>\n      <td>0.0</td>\n      <td>0.00</td>\n      <td>0.0</td>\n      <td>0.0</td>\n      <td>1.75</td>\n      <td>0.0</td>\n      <td>0.0</td>\n      <td>0.00</td>\n      <td>0.0</td>\n      <td>0.0</td>\n      <td>1.75</td>\n      <td>0.0</td>\n      <td>0.0</td>\n      <td>21966</td>\n    </tr>\n    <tr>\n      <th>1850</th>\n      <td>0</td>\n      <td>18588</td>\n      <td>0.0</td>\n      <td>0.00</td>\n      <td>0.0</td>\n      <td>0.0</td>\n      <td>2.25</td>\n      <td>0.0</td>\n      <td>0.0</td>\n      <td>0.00</td>\n      <td>0.0</td>\n      <td>0.0</td>\n      <td>2.25</td>\n      <td>0.0</td>\n      <td>0.0</td>\n      <td>19886</td>\n    </tr>\n    <tr>\n      <th>21698</th>\n      <td>0</td>\n      <td>3615</td>\n      <td>0.0</td>\n      <td>-4.50</td>\n      <td>0.5</td>\n      <td>110.0</td>\n      <td>0.00</td>\n      <td>0.0</td>\n      <td>0.0</td>\n      <td>-5.00</td>\n      <td>1.0</td>\n      <td>70.0</td>\n      <td>0.00</td>\n      <td>0.0</td>\n      <td>0.0</td>\n      <td>4329</td>\n    </tr>\n    <tr>\n      <th>13262</th>\n      <td>0</td>\n      <td>12055</td>\n      <td>0.0</td>\n      <td>-3.25</td>\n      <td>0.0</td>\n      <td>0.0</td>\n      <td>0.00</td>\n      <td>0.0</td>\n      <td>0.0</td>\n      <td>-2.25</td>\n      <td>0.0</td>\n      <td>0.0</td>\n      <td>0.00</td>\n      <td>0.0</td>\n      <td>0.0</td>\n      <td>13217</td>\n    </tr>\n  </tbody>\n</table>\n</div>"
     },
     "metadata": {},
     "execution_count": 25
    }
   ],
   "source": [
    "X_train.head()"
   ]
  },
  {
   "cell_type": "code",
   "execution_count": null,
   "metadata": {},
   "outputs": [],
   "source": []
  }
 ],
 "metadata": {
  "kernelspec": {
   "display_name": "Python 3",
   "language": "python",
   "name": "python3"
  },
  "language_info": {
   "codemirror_mode": {
    "name": "ipython",
    "version": 3
   },
   "file_extension": ".py",
   "mimetype": "text/x-python",
   "name": "python",
   "nbconvert_exporter": "python",
   "pygments_lexer": "ipython3",
   "version": "3.8.2-final"
  }
 },
 "nbformat": 4,
 "nbformat_minor": 4
}