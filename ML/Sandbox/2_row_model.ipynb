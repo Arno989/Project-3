{
 "cells": [
  {
   "cell_type": "code",
   "execution_count": 1,
   "metadata": {},
   "outputs": [],
   "source": [
    "%matplotlib inline\n",
    "\n",
    "import random\n",
    "\n",
    "import matplotlib.pyplot as plt\n",
    "import numpy as np\n",
    "import pandas as pd\n",
    "import seaborn as sns\n",
    "from scipy import stats\n",
    "from scipy.stats import randint, uniform\n",
    "from sklearn import linear_model, preprocessing\n",
    "from sklearn.decomposition import PCA\n",
    "from sklearn.ensemble import (RandomForestRegressor)\n",
    "from sklearn.linear_model import Lasso, LogisticRegression, Ridge\n",
    "from sklearn.metrics import (classification_report, mean_absolute_error, r2_score)\n",
    "from sklearn.model_selection import (GridSearchCV, RandomizedSearchCV,\n",
    "                                     train_test_split)\n",
    "from sklearn.preprocessing import (LabelEncoder, MinMaxScaler, OneHotEncoder,\n",
    "                                   PolynomialFeatures, RobustScaler,\n",
    "                                   StandardScaler)\n",
    "from sklearn.svm import SVC\n",
    "\n",
    "pd.set_option('display.max_rows',1000)\n",
    "pd.set_option('display.max_columns',1000)"
   ]
  },
  {
   "cell_type": "code",
   "execution_count": 2,
   "metadata": {},
   "outputs": [
    {
     "output_type": "execute_result",
     "data": {
      "text/plain": "       ID  Sex  Measurement_Age  Add  Sph-Far-R  Cyl-Far-R  Axis-Far-R  \\\n0  900546    0            21118  0.0      -1.75        0.5        55.0   \n1  900546    0            20245  0.0      -1.75        0.5        65.0   \n2  900546    0            18099  0.0      -1.50        0.5        65.0   \n3  797627    1             6845  0.0      -1.50        0.5       170.0   \n4  797627    1             5779  0.0      -0.75        0.5       170.0   \n\n   Sph-Close-R  Cyl-Close-R  Axis-Close-R  Sph-Far-L  Cyl-Far-L  Axis-Far-L  \\\n0        -2.25          1.0          55.0      -1.75        1.0       110.0   \n1         0.00          0.0           0.0      -1.25        0.5       110.0   \n2         0.00          0.0           0.0      -1.00        0.5       110.0   \n3         0.00          0.0           0.0      -1.50        0.5       170.0   \n4         0.00          0.0           0.0      -1.00        0.5       170.0   \n\n   Sph-Close-L  Cyl-Close-L  Axis-Close-L  \n0        -1.25          0.5         110.0  \n1         0.00          0.0           0.0  \n2         0.00          0.0           0.0  \n3         0.00          0.0           0.0  \n4         0.00          0.0           0.0  ",
      "text/html": "<div>\n<style scoped>\n    .dataframe tbody tr th:only-of-type {\n        vertical-align: middle;\n    }\n\n    .dataframe tbody tr th {\n        vertical-align: top;\n    }\n\n    .dataframe thead th {\n        text-align: right;\n    }\n</style>\n<table border=\"1\" class=\"dataframe\">\n  <thead>\n    <tr style=\"text-align: right;\">\n      <th></th>\n      <th>ID</th>\n      <th>Sex</th>\n      <th>Measurement_Age</th>\n      <th>Add</th>\n      <th>Sph-Far-R</th>\n      <th>Cyl-Far-R</th>\n      <th>Axis-Far-R</th>\n      <th>Sph-Close-R</th>\n      <th>Cyl-Close-R</th>\n      <th>Axis-Close-R</th>\n      <th>Sph-Far-L</th>\n      <th>Cyl-Far-L</th>\n      <th>Axis-Far-L</th>\n      <th>Sph-Close-L</th>\n      <th>Cyl-Close-L</th>\n      <th>Axis-Close-L</th>\n    </tr>\n  </thead>\n  <tbody>\n    <tr>\n      <th>0</th>\n      <td>900546</td>\n      <td>0</td>\n      <td>21118</td>\n      <td>0.0</td>\n      <td>-1.75</td>\n      <td>0.5</td>\n      <td>55.0</td>\n      <td>-2.25</td>\n      <td>1.0</td>\n      <td>55.0</td>\n      <td>-1.75</td>\n      <td>1.0</td>\n      <td>110.0</td>\n      <td>-1.25</td>\n      <td>0.5</td>\n      <td>110.0</td>\n    </tr>\n    <tr>\n      <th>1</th>\n      <td>900546</td>\n      <td>0</td>\n      <td>20245</td>\n      <td>0.0</td>\n      <td>-1.75</td>\n      <td>0.5</td>\n      <td>65.0</td>\n      <td>0.00</td>\n      <td>0.0</td>\n      <td>0.0</td>\n      <td>-1.25</td>\n      <td>0.5</td>\n      <td>110.0</td>\n      <td>0.00</td>\n      <td>0.0</td>\n      <td>0.0</td>\n    </tr>\n    <tr>\n      <th>2</th>\n      <td>900546</td>\n      <td>0</td>\n      <td>18099</td>\n      <td>0.0</td>\n      <td>-1.50</td>\n      <td>0.5</td>\n      <td>65.0</td>\n      <td>0.00</td>\n      <td>0.0</td>\n      <td>0.0</td>\n      <td>-1.00</td>\n      <td>0.5</td>\n      <td>110.0</td>\n      <td>0.00</td>\n      <td>0.0</td>\n      <td>0.0</td>\n    </tr>\n    <tr>\n      <th>3</th>\n      <td>797627</td>\n      <td>1</td>\n      <td>6845</td>\n      <td>0.0</td>\n      <td>-1.50</td>\n      <td>0.5</td>\n      <td>170.0</td>\n      <td>0.00</td>\n      <td>0.0</td>\n      <td>0.0</td>\n      <td>-1.50</td>\n      <td>0.5</td>\n      <td>170.0</td>\n      <td>0.00</td>\n      <td>0.0</td>\n      <td>0.0</td>\n    </tr>\n    <tr>\n      <th>4</th>\n      <td>797627</td>\n      <td>1</td>\n      <td>5779</td>\n      <td>0.0</td>\n      <td>-0.75</td>\n      <td>0.5</td>\n      <td>170.0</td>\n      <td>0.00</td>\n      <td>0.0</td>\n      <td>0.0</td>\n      <td>-1.00</td>\n      <td>0.5</td>\n      <td>170.0</td>\n      <td>0.00</td>\n      <td>0.0</td>\n      <td>0.0</td>\n    </tr>\n  </tbody>\n</table>\n</div>"
     },
     "metadata": {},
     "execution_count": 2
    }
   ],
   "source": [
    "# import data\n",
    "dataset_og = pd.read_csv('..\\Data\\Measurements-Transformed')\n",
    "# kopie maken indien we iets van de originele data nodig hebben\n",
    "dataset = dataset_og.copy()\n",
    "dataset.head(5)"
   ]
  },
  {
   "cell_type": "markdown",
   "metadata": {},
   "source": [
    "### Features:\n",
    "Sex: geslacht\n",
    "\n",
    "Measurement_Age:\n",
    "\n",
    "Add: additie, is altijd gelijk in beide ogen\n",
    "\n",
    "Sph-Far-R: sphere ver van rechter oog, zowel + als - waardes\n",
    "\n",
    "Cyl-Far-R: cylinder ver van rechter oog, zowel + als - waardes\n",
    "\n",
    "Axis-Far-R: as ver van rechteroog, waarde tussen 0 en 180\n",
    "\n",
    "Sph-Close-R: sphere dicht van rechteroog = som van add + Sph-Far-R, zowel + als - waardes\n",
    "\n",
    "Cyl-Close-R: cylinder dicht van rechteroog, zowel + als - waardes\n",
    "\n",
    "Axis-Close-R: as dicht van rechteroog, waarde tussen 0 en 180\n",
    "\n",
    "Sph-Far-L: sphere ver van linker oog, zowel + als - waardes\n",
    "\n",
    "Cyl-Far-L: cylinder ver van linker oog, zowel + als - waardes\n",
    "\n",
    "Axis-Far-L: as ver van linker oog, tussen 0 en 180\n",
    "\n",
    "Sph-Close-L: sphere dicht van linker oog = som van add + Sph-Far-L, zowel + als - waardes\n",
    "\n",
    "Cyl-Close-L: cylinder dicht van linker oog, zowel + als - waardes\n",
    "\n",
    "Axis-Close-L: as dicht van linker oog, tussen 0 en 180"
   ]
  },
  {
   "cell_type": "code",
   "execution_count": 3,
   "metadata": {},
   "outputs": [
    {
     "output_type": "execute_result",
     "data": {
      "text/plain": "(array([], dtype=int64), array([], dtype=int64))"
     },
     "metadata": {},
     "execution_count": 3
    }
   ],
   "source": [
    "#??????????????\n",
    "for coll in dataset.columns:\n",
    "    coll = np.nan_to_num(coll)\n",
    "pd.DataFrame(dataset).fillna(0, inplace=True)\n",
    "np.where(np.isnan(dataset))"
   ]
  },
  {
   "cell_type": "code",
   "execution_count": 4,
   "metadata": {},
   "outputs": [],
   "source": [
    "#drop rijen waar < n meting van zijn en houd van de overige de top n meest recente waardes\n",
    "n = 2\n",
    "dataset = dataset.groupby('ID').filter(lambda x: len(x) > (n-1))\n",
    "dataset = dataset.groupby('ID').head(n)"
   ]
  },
  {
   "cell_type": "code",
   "execution_count": 5,
   "metadata": {},
   "outputs": [
    {
     "output_type": "execute_result",
     "data": {
      "text/plain": "       ID  Sex  Measurement_Age   Add  Sph-Far-R  Cyl-Far-R  Axis-Far-R  \\\n0  900546    0            21118  0.00      -1.75       0.50        55.0   \n1  900546    0            20245  0.00      -1.75       0.50        65.0   \n3  797627    1             6845  0.00      -1.50       0.50       170.0   \n4  797627    1             5779  0.00      -0.75       0.50       170.0   \n5  710633    1            20777  2.25       3.75       0.75         5.0   \n6  710633    1            19033  2.25      -1.25       0.00         0.0   \n\n   Sph-Close-R  Cyl-Close-R  Axis-Close-R  Sph-Far-L  Cyl-Far-L  Axis-Far-L  \\\n0        -2.25         1.00          55.0      -1.75       1.00       110.0   \n1         0.00         0.00           0.0      -1.25       0.50       110.0   \n3         0.00         0.00           0.0      -1.50       0.50       170.0   \n4         0.00         0.00           0.0      -1.00       0.50       170.0   \n5         2.00         0.25           5.0      -1.25       0.25       135.0   \n6         1.00         0.00           0.0      -1.50       0.00         0.0   \n\n   Sph-Close-L  Cyl-Close-L  Axis-Close-L  \n0        -1.25         0.50         110.0  \n1         0.00         0.00           0.0  \n3         0.00         0.00           0.0  \n4         0.00         0.00           0.0  \n5         0.50         0.75         135.0  \n6         0.75         0.00           0.0  ",
      "text/html": "<div>\n<style scoped>\n    .dataframe tbody tr th:only-of-type {\n        vertical-align: middle;\n    }\n\n    .dataframe tbody tr th {\n        vertical-align: top;\n    }\n\n    .dataframe thead th {\n        text-align: right;\n    }\n</style>\n<table border=\"1\" class=\"dataframe\">\n  <thead>\n    <tr style=\"text-align: right;\">\n      <th></th>\n      <th>ID</th>\n      <th>Sex</th>\n      <th>Measurement_Age</th>\n      <th>Add</th>\n      <th>Sph-Far-R</th>\n      <th>Cyl-Far-R</th>\n      <th>Axis-Far-R</th>\n      <th>Sph-Close-R</th>\n      <th>Cyl-Close-R</th>\n      <th>Axis-Close-R</th>\n      <th>Sph-Far-L</th>\n      <th>Cyl-Far-L</th>\n      <th>Axis-Far-L</th>\n      <th>Sph-Close-L</th>\n      <th>Cyl-Close-L</th>\n      <th>Axis-Close-L</th>\n    </tr>\n  </thead>\n  <tbody>\n    <tr>\n      <th>0</th>\n      <td>900546</td>\n      <td>0</td>\n      <td>21118</td>\n      <td>0.00</td>\n      <td>-1.75</td>\n      <td>0.50</td>\n      <td>55.0</td>\n      <td>-2.25</td>\n      <td>1.00</td>\n      <td>55.0</td>\n      <td>-1.75</td>\n      <td>1.00</td>\n      <td>110.0</td>\n      <td>-1.25</td>\n      <td>0.50</td>\n      <td>110.0</td>\n    </tr>\n    <tr>\n      <th>1</th>\n      <td>900546</td>\n      <td>0</td>\n      <td>20245</td>\n      <td>0.00</td>\n      <td>-1.75</td>\n      <td>0.50</td>\n      <td>65.0</td>\n      <td>0.00</td>\n      <td>0.00</td>\n      <td>0.0</td>\n      <td>-1.25</td>\n      <td>0.50</td>\n      <td>110.0</td>\n      <td>0.00</td>\n      <td>0.00</td>\n      <td>0.0</td>\n    </tr>\n    <tr>\n      <th>3</th>\n      <td>797627</td>\n      <td>1</td>\n      <td>6845</td>\n      <td>0.00</td>\n      <td>-1.50</td>\n      <td>0.50</td>\n      <td>170.0</td>\n      <td>0.00</td>\n      <td>0.00</td>\n      <td>0.0</td>\n      <td>-1.50</td>\n      <td>0.50</td>\n      <td>170.0</td>\n      <td>0.00</td>\n      <td>0.00</td>\n      <td>0.0</td>\n    </tr>\n    <tr>\n      <th>4</th>\n      <td>797627</td>\n      <td>1</td>\n      <td>5779</td>\n      <td>0.00</td>\n      <td>-0.75</td>\n      <td>0.50</td>\n      <td>170.0</td>\n      <td>0.00</td>\n      <td>0.00</td>\n      <td>0.0</td>\n      <td>-1.00</td>\n      <td>0.50</td>\n      <td>170.0</td>\n      <td>0.00</td>\n      <td>0.00</td>\n      <td>0.0</td>\n    </tr>\n    <tr>\n      <th>5</th>\n      <td>710633</td>\n      <td>1</td>\n      <td>20777</td>\n      <td>2.25</td>\n      <td>3.75</td>\n      <td>0.75</td>\n      <td>5.0</td>\n      <td>2.00</td>\n      <td>0.25</td>\n      <td>5.0</td>\n      <td>-1.25</td>\n      <td>0.25</td>\n      <td>135.0</td>\n      <td>0.50</td>\n      <td>0.75</td>\n      <td>135.0</td>\n    </tr>\n    <tr>\n      <th>6</th>\n      <td>710633</td>\n      <td>1</td>\n      <td>19033</td>\n      <td>2.25</td>\n      <td>-1.25</td>\n      <td>0.00</td>\n      <td>0.0</td>\n      <td>1.00</td>\n      <td>0.00</td>\n      <td>0.0</td>\n      <td>-1.50</td>\n      <td>0.00</td>\n      <td>0.0</td>\n      <td>0.75</td>\n      <td>0.00</td>\n      <td>0.0</td>\n    </tr>\n  </tbody>\n</table>\n</div>"
     },
     "metadata": {},
     "execution_count": 5
    }
   ],
   "source": [
    "dataset.head(6)"
   ]
  },
  {
   "cell_type": "code",
   "execution_count": 6,
   "metadata": {},
   "outputs": [],
   "source": [
    "#weglaten van de minst gecorreleerde features\n",
    "# dataset.drop(['Sex', 'Add', 'Axis-Close-R', 'Axis-Close-L'],axis=1, inplace=True)\n",
    "\n",
    "# #2 rijen naast elkaar zetten\n",
    "\n",
    "# dataset = dataset.merge(dataset ,on=['ID'], suffixes=['_x', ''])\n",
    "# dataset = dataset.sort_values(by=['ID', 'Measurement_Age_x'])\n",
    "# dataset = dataset.drop_duplicates(subset=['ID'], keep='first')\n",
    "# dataset.head()"
   ]
  },
  {
   "cell_type": "code",
   "execution_count": 7,
   "metadata": {},
   "outputs": [
    {
     "output_type": "execute_result",
     "data": {
      "text/plain": "           ID  Sex  Measurement_Age_x  Add_x  Sph-Far-R_x  Cyl-Far-R_x  \\\n25648  100066    1              19342    0.0        -5.25         1.50   \n15230  100209    0               3368    0.0        -1.75         1.75   \n5922   100299    1               8132    0.0        -1.00         0.00   \n5226   100314    0               5249    0.0        -0.25         0.00   \n9158   100445    0              25293    0.0         0.00         0.00   \n\n       Axis-Far-R_x  Sph-Close-R_x  Cyl-Close-R_x  Axis-Close-R_x  \\\n25648          90.0          -5.25            1.5            90.0   \n15230         110.0           0.00            0.0             0.0   \n5922            0.0           0.00            0.0             0.0   \n5226            0.0           0.00            0.0             0.0   \n9158            0.0           1.00            0.0            20.0   \n\n       Sph-Far-L_x  Cyl-Far-L_x  Axis-Far-L_x  Sph-Close-L_x  Cyl-Close-L_x  \\\n25648        -5.25          1.5          90.0          -5.25            1.5   \n15230        -0.50          0.5          90.0           0.00            0.0   \n5922         -0.75          0.0           0.0           0.00            0.0   \n5226         -0.25          0.0           0.0           0.00            0.0   \n9158          0.00          0.0           0.0           1.00            0.5   \n\n       Axis-Close-L_x  Measurement_Age  Add  Sph-Far-R  Cyl-Far-R  Axis-Far-R  \\\n25648            90.0            19342  0.0      -5.25       1.50        90.0   \n15230             0.0             3809  0.0      -1.25       1.25        95.0   \n5922              0.0            10176  0.0      -1.25       0.00         0.0   \n5226              0.0             6519  0.0      -0.75       0.00         0.0   \n9158              0.0            27299  0.0       0.00       0.00         0.0   \n\n       Sph-Close-R  Cyl-Close-R  Axis-Close-R  Sph-Far-L  Cyl-Far-L  \\\n25648        -5.25         1.50          90.0      -5.25       1.50   \n15230        -1.25         1.25          95.0      -0.25       0.25   \n5922         -1.25         0.00           0.0      -0.75       0.00   \n5226         -0.75         0.00           0.0      -0.75       0.00   \n9158          2.75         1.25          90.0       0.00       0.00   \n\n       Axis-Far-L  Sph-Close-L  Cyl-Close-L  Axis-Close-L  \n25648        90.0        -5.25         1.50          90.0  \n15230        90.0        -0.25         0.25          90.0  \n5922          0.0        -0.75         0.00           0.0  \n5226          0.0        -0.75         0.00           0.0  \n9158          0.0         5.00         0.00          70.0  ",
      "text/html": "<div>\n<style scoped>\n    .dataframe tbody tr th:only-of-type {\n        vertical-align: middle;\n    }\n\n    .dataframe tbody tr th {\n        vertical-align: top;\n    }\n\n    .dataframe thead th {\n        text-align: right;\n    }\n</style>\n<table border=\"1\" class=\"dataframe\">\n  <thead>\n    <tr style=\"text-align: right;\">\n      <th></th>\n      <th>ID</th>\n      <th>Sex</th>\n      <th>Measurement_Age_x</th>\n      <th>Add_x</th>\n      <th>Sph-Far-R_x</th>\n      <th>Cyl-Far-R_x</th>\n      <th>Axis-Far-R_x</th>\n      <th>Sph-Close-R_x</th>\n      <th>Cyl-Close-R_x</th>\n      <th>Axis-Close-R_x</th>\n      <th>Sph-Far-L_x</th>\n      <th>Cyl-Far-L_x</th>\n      <th>Axis-Far-L_x</th>\n      <th>Sph-Close-L_x</th>\n      <th>Cyl-Close-L_x</th>\n      <th>Axis-Close-L_x</th>\n      <th>Measurement_Age</th>\n      <th>Add</th>\n      <th>Sph-Far-R</th>\n      <th>Cyl-Far-R</th>\n      <th>Axis-Far-R</th>\n      <th>Sph-Close-R</th>\n      <th>Cyl-Close-R</th>\n      <th>Axis-Close-R</th>\n      <th>Sph-Far-L</th>\n      <th>Cyl-Far-L</th>\n      <th>Axis-Far-L</th>\n      <th>Sph-Close-L</th>\n      <th>Cyl-Close-L</th>\n      <th>Axis-Close-L</th>\n    </tr>\n  </thead>\n  <tbody>\n    <tr>\n      <th>25648</th>\n      <td>100066</td>\n      <td>1</td>\n      <td>19342</td>\n      <td>0.0</td>\n      <td>-5.25</td>\n      <td>1.50</td>\n      <td>90.0</td>\n      <td>-5.25</td>\n      <td>1.5</td>\n      <td>90.0</td>\n      <td>-5.25</td>\n      <td>1.5</td>\n      <td>90.0</td>\n      <td>-5.25</td>\n      <td>1.5</td>\n      <td>90.0</td>\n      <td>19342</td>\n      <td>0.0</td>\n      <td>-5.25</td>\n      <td>1.50</td>\n      <td>90.0</td>\n      <td>-5.25</td>\n      <td>1.50</td>\n      <td>90.0</td>\n      <td>-5.25</td>\n      <td>1.50</td>\n      <td>90.0</td>\n      <td>-5.25</td>\n      <td>1.50</td>\n      <td>90.0</td>\n    </tr>\n    <tr>\n      <th>15230</th>\n      <td>100209</td>\n      <td>0</td>\n      <td>3368</td>\n      <td>0.0</td>\n      <td>-1.75</td>\n      <td>1.75</td>\n      <td>110.0</td>\n      <td>0.00</td>\n      <td>0.0</td>\n      <td>0.0</td>\n      <td>-0.50</td>\n      <td>0.5</td>\n      <td>90.0</td>\n      <td>0.00</td>\n      <td>0.0</td>\n      <td>0.0</td>\n      <td>3809</td>\n      <td>0.0</td>\n      <td>-1.25</td>\n      <td>1.25</td>\n      <td>95.0</td>\n      <td>-1.25</td>\n      <td>1.25</td>\n      <td>95.0</td>\n      <td>-0.25</td>\n      <td>0.25</td>\n      <td>90.0</td>\n      <td>-0.25</td>\n      <td>0.25</td>\n      <td>90.0</td>\n    </tr>\n    <tr>\n      <th>5922</th>\n      <td>100299</td>\n      <td>1</td>\n      <td>8132</td>\n      <td>0.0</td>\n      <td>-1.00</td>\n      <td>0.00</td>\n      <td>0.0</td>\n      <td>0.00</td>\n      <td>0.0</td>\n      <td>0.0</td>\n      <td>-0.75</td>\n      <td>0.0</td>\n      <td>0.0</td>\n      <td>0.00</td>\n      <td>0.0</td>\n      <td>0.0</td>\n      <td>10176</td>\n      <td>0.0</td>\n      <td>-1.25</td>\n      <td>0.00</td>\n      <td>0.0</td>\n      <td>-1.25</td>\n      <td>0.00</td>\n      <td>0.0</td>\n      <td>-0.75</td>\n      <td>0.00</td>\n      <td>0.0</td>\n      <td>-0.75</td>\n      <td>0.00</td>\n      <td>0.0</td>\n    </tr>\n    <tr>\n      <th>5226</th>\n      <td>100314</td>\n      <td>0</td>\n      <td>5249</td>\n      <td>0.0</td>\n      <td>-0.25</td>\n      <td>0.00</td>\n      <td>0.0</td>\n      <td>0.00</td>\n      <td>0.0</td>\n      <td>0.0</td>\n      <td>-0.25</td>\n      <td>0.0</td>\n      <td>0.0</td>\n      <td>0.00</td>\n      <td>0.0</td>\n      <td>0.0</td>\n      <td>6519</td>\n      <td>0.0</td>\n      <td>-0.75</td>\n      <td>0.00</td>\n      <td>0.0</td>\n      <td>-0.75</td>\n      <td>0.00</td>\n      <td>0.0</td>\n      <td>-0.75</td>\n      <td>0.00</td>\n      <td>0.0</td>\n      <td>-0.75</td>\n      <td>0.00</td>\n      <td>0.0</td>\n    </tr>\n    <tr>\n      <th>9158</th>\n      <td>100445</td>\n      <td>0</td>\n      <td>25293</td>\n      <td>0.0</td>\n      <td>0.00</td>\n      <td>0.00</td>\n      <td>0.0</td>\n      <td>1.00</td>\n      <td>0.0</td>\n      <td>20.0</td>\n      <td>0.00</td>\n      <td>0.0</td>\n      <td>0.0</td>\n      <td>1.00</td>\n      <td>0.5</td>\n      <td>0.0</td>\n      <td>27299</td>\n      <td>0.0</td>\n      <td>0.00</td>\n      <td>0.00</td>\n      <td>0.0</td>\n      <td>2.75</td>\n      <td>1.25</td>\n      <td>90.0</td>\n      <td>0.00</td>\n      <td>0.00</td>\n      <td>0.0</td>\n      <td>5.00</td>\n      <td>0.00</td>\n      <td>70.0</td>\n    </tr>\n  </tbody>\n</table>\n</div>"
     },
     "metadata": {},
     "execution_count": 7
    }
   ],
   "source": [
    "#2 rijen naast elkaar zetten\n",
    "\n",
    "dataset = dataset.merge(dataset ,on=['ID', 'Sex'], suffixes=['_x', ''])\n",
    "dataset = dataset.sort_values(by=['ID', 'Measurement_Age_x'])\n",
    "dataset = dataset.drop_duplicates(subset=['ID', 'Sex'], keep='first')\n",
    "dataset.head()"
   ]
  },
  {
   "cell_type": "code",
   "execution_count": 8,
   "metadata": {},
   "outputs": [],
   "source": [
    "#Drop kolom ID\n",
    "dataset.drop(['ID'],axis=1, inplace=True)\n"
   ]
  },
  {
   "cell_type": "markdown",
   "metadata": {},
   "source": [
    "### Linear regression"
   ]
  },
  {
   "cell_type": "code",
   "execution_count": 9,
   "metadata": {},
   "outputs": [
    {
     "output_type": "stream",
     "name": "stdout",
     "text": "[ 0.00918682 -0.28633455 -0.1713596   1.91368004  0.09049462 -0.08547377\n  0.15850875 -0.07187467  0.0729412   0.45951896 -0.02067529 -0.04231607\n  0.03013486  0.02476855  0.05906536  0.64997289]\nr2 score =  0.7865558011527171\ndimensie van X_train_poly:  (6833, 153)\ndimensie van X_test_poly:  (1709, 153)\nR2 score op test set via L2:  0.7999430644929254\nR2 score op training set via L2:  0.8233100270748223\n"
    }
   ],
   "source": [
    "# Splitsen in features en targets\n",
    "\n",
    "y = dataset['Sph-Far-R'].values\n",
    "X = dataset.drop(['Add', 'Sph-Far-R', 'Cyl-Far-R', 'Axis-Far-R', 'Sph-Close-R', 'Cyl-Close-R', 'Axis-Close-R', 'Sph-Far-L', \n",
    "                  'Cyl-Far-L', 'Axis-Far-L', 'Sph-Close-L', 'Cyl-Close-L', 'Axis-Close-L'],axis=1)\n",
    "\n",
    "# Splitsen in training set en test set\n",
    "\n",
    "X_train, X_test, y_train, y_test = train_test_split(X, y, test_size=0.2, random_state=0)\n",
    "\n",
    "\n",
    "## Standard scaler\n",
    "scaler = preprocessing.StandardScaler()\n",
    "scaler.fit(X_train)\n",
    "X_train = scaler.transform(X_train)\n",
    "X_test = scaler.transform(X_test)\n",
    "\n",
    "# Linear regression\n",
    "\n",
    "lreg_sph_far_r = linear_model.LinearRegression()\n",
    "lreg_sph_far_r.fit(X_train,y_train)\n",
    "print(lreg_sph_far_r.coef_)\n",
    "r2 = lreg_sph_far_r.score(X_test,y_test)\n",
    "print('r2 score = ', r2)\n",
    "\n",
    "# Modeloptimalisatie en Hyperparameter tuning\n",
    "\n",
    "# Aanmaken van de hogere orde features\n",
    "graad = 2\n",
    "\n",
    "poly = PolynomialFeatures(graad)\n",
    "poly.fit(X_train)\n",
    "X_train_poly = poly.transform(X_train)\n",
    "X_test_poly = poly.transform(X_test)\n",
    "print('dimensie van X_train_poly: ',X_train_poly.shape)\n",
    "print('dimensie van X_test_poly: ',X_test_poly.shape)\n",
    "\n",
    "\n",
    "# met L2 regularisatie via Ridge regression\n",
    "lreg_poly_sph_far_r = Ridge(alpha=0.5,tol=0.0001,fit_intercept=True)\n",
    "lreg_poly_sph_far_r.fit(X_train_poly,y_train)\n",
    "\n",
    "print('R2 score op test set via L2: ',lreg_poly_sph_far_r.score(X_test_poly,y_test))\n",
    "# R2 -score via L2 op de trainingset\n",
    "print('R2 score op training set via L2: ',lreg_poly_sph_far_r.score(X_train_poly,y_train))\n",
    "\n",
    "\n",
    "# # met L1 regularisatie via Lasso regression\n",
    "# lreg_poly_sph_far_r = Lasso(alpha=0.001,tol=0.0001,fit_intercept=True)\n",
    "# lreg_poly_sph_far_r.fit(X_train_poly,y_train)      \n",
    "  \n",
    "      \n",
    "# print('R2 score op test set via L1: ',lreg_poly_sph_far_r.score(X_test_poly,y_test))\n",
    "  \n",
    "# # R2 -score via L1 op de trainingset\n",
    "# print('R2 score op training set via L1: ',lreg_poly_sph_far_r.score(X_train_poly,y_train))    \n",
    "\n",
    "# # Variëren van de alpha en grafiek\n",
    "\n",
    "# train_r2 = []\n",
    "# test_r2 = []\n",
    "\n",
    "\n",
    "# alphas = np.logspace(-2, 6, 1000)\n",
    "\n",
    "# for alpha in alphas:\n",
    "#     lregmodel_poly = Ridge(alpha=alpha,tol=0.0001,fit_intercept=True)\n",
    "#     lregmodel_poly.fit(X_train_poly,y_train)\n",
    "#     test_r2.append(lregmodel_poly.score(X_test_poly,y_test))  \n",
    "#     train_r2.append(lregmodel_poly.score(X_train_poly,y_train))\n",
    "\n",
    "\n",
    "# # Plot r2\n",
    "# f, ax = plt.subplots(figsize=(10, 8))\n",
    "# plt.subplot(2, 1, 1)\n",
    "# plt.semilogx(alphas, train_r2, label='Train')\n",
    "# plt.semilogx(alphas, test_r2, label='Test')\n",
    "# plt.legend(loc='lower left')\n",
    "# plt.ylim([0, 1.2])\n",
    "# plt.xlabel('Regularization parameter')\n",
    "# plt.ylabel('R² Performance')\n",
    "\n",
    "\n",
    "\n",
    "# Via KernelRidge met een polynomial kernel\n",
    "\n",
    "# from sklearn.kernel_ridge import KernelRidge\n",
    "\n",
    "# lreg_sph_far_r = KernelRidge(alpha=0.001, degree=3, gamma=None, kernel='polynomial')\n",
    "# lreg_sph_far_r.fit(X_train,y_train)\n",
    "\n",
    "\n",
    "# y_predicted = lreg_sph_far_r.predict(X_train)\n",
    "# r2 = r2_score(y_train,y_predicted)\n",
    "\n",
    "# print('training set: ',r2)\n",
    "\n",
    "# y_predicted = lreg_sph_far_r.predict(X_test)\n",
    "# r2 = r2_score(y_test,y_predicted)\n",
    "\n",
    "# print('test set: ',r2)"
   ]
  },
  {
   "cell_type": "code",
   "execution_count": 10,
   "metadata": {},
   "outputs": [
    {
     "output_type": "stream",
     "name": "stdout",
     "text": "[ 0.0056063  -0.1671972  -0.03426157 -0.00327348  0.2808808  -0.02141647\n  0.00713429  0.05735339  0.0195822  -0.01900861  0.03751697 -0.01613666\n  0.02397751 -0.00614762  0.00963567  0.15799624]\nr2 score =  0.5857827575788236\ndimensie van X_train_poly:  (6833, 153)\ndimensie van X_test_poly:  (1709, 153)\nR2 score op test set via L2:  0.6080443534538483\nR2 score op training set via L2:  0.6247270740132329\n"
    }
   ],
   "source": [
    "# Splitsen in features en targets\n",
    "\n",
    "y = dataset['Cyl-Far-R'].values\n",
    "X = dataset.drop(['Add', 'Sph-Far-R', 'Cyl-Far-R', 'Axis-Far-R', 'Sph-Close-R', 'Cyl-Close-R', 'Axis-Close-R', 'Sph-Far-L', \n",
    "                  'Cyl-Far-L', 'Axis-Far-L', 'Sph-Close-L', 'Cyl-Close-L', 'Axis-Close-L'],axis=1)\n",
    "\n",
    "# Splitsen in training set en test set\n",
    "\n",
    "X_train, X_test, y_train, y_test = train_test_split(X, y, test_size=0.2, random_state=0)\n",
    "\n",
    "\n",
    "## Standard scaler\n",
    "scaler = preprocessing.StandardScaler()\n",
    "scaler.fit(X_train)\n",
    "X_train = scaler.transform(X_train)\n",
    "X_test = scaler.transform(X_test)\n",
    "\n",
    "# Linear regression\n",
    "\n",
    "lreg_cyl_far_r = linear_model.LinearRegression()\n",
    "lreg_cyl_far_r.fit(X_train,y_train)\n",
    "print(lreg_cyl_far_r.coef_)\n",
    "r2 = lreg_cyl_far_r.score(X_test,y_test)\n",
    "print('r2 score = ', r2)\n",
    "\n",
    "# Modeloptimalisatie en Hyperparameter tuning\n",
    "\n",
    "# Aanmaken van de hogere orde features\n",
    "graad = 2\n",
    "\n",
    "poly = PolynomialFeatures(graad)\n",
    "poly.fit(X_train)\n",
    "X_train_poly = poly.transform(X_train)\n",
    "X_test_poly = poly.transform(X_test)\n",
    "print('dimensie van X_train_poly: ',X_train_poly.shape)\n",
    "print('dimensie van X_test_poly: ',X_test_poly.shape)\n",
    "\n",
    "\n",
    "# met L2 regularisatie via Ridge regression\n",
    "lreg_poly_cyl_far_r = Ridge(alpha=0.5,tol=0.0001,fit_intercept=True)\n",
    "lreg_poly_cyl_far_r.fit(X_train_poly,y_train)\n",
    "\n",
    "print('R2 score op test set via L2: ',lreg_poly_cyl_far_r.score(X_test_poly,y_test))\n",
    "# R2 -score via L2 op de trainingset\n",
    "print('R2 score op training set via L2: ',lreg_poly_cyl_far_r.score(X_train_poly,y_train))"
   ]
  },
  {
   "cell_type": "code",
   "execution_count": 11,
   "metadata": {},
   "outputs": [
    {
     "output_type": "stream",
     "name": "stdout",
     "text": "[ 0.01118765 -0.37233646 -0.1673581   0.27742456  0.03137734 -0.10056563\n -0.01495033  0.00559489  0.0718866   2.09980518  0.01221494 -0.01590969\n  0.18627552 -0.03091187  0.0465336   0.73413511]\nr2 score =  0.7847246331223623\ndimensie van X_train_poly:  (6833, 153)\ndimensie van X_test_poly:  (1709, 153)\nR2 score op test set via L2:  0.8069893619746362\nR2 score op training set via L2:  0.8157719309509733\n"
    }
   ],
   "source": [
    "# Splitsen in features en targets\n",
    "\n",
    "y = dataset['Sph-Far-L'].values\n",
    "X = dataset.drop(['Add', 'Sph-Far-R', 'Cyl-Far-R', 'Axis-Far-R', 'Sph-Close-R', 'Cyl-Close-R', 'Axis-Close-R', 'Sph-Far-L', \n",
    "                  'Cyl-Far-L', 'Axis-Far-L', 'Sph-Close-L', 'Cyl-Close-L', 'Axis-Close-L'],axis=1)\n",
    "\n",
    "# Splitsen in training set en test set\n",
    "\n",
    "X_train, X_test, y_train, y_test = train_test_split(X, y, test_size=0.2, random_state=0)\n",
    "\n",
    "\n",
    "## Standard scaler\n",
    "scaler = preprocessing.StandardScaler()\n",
    "scaler.fit(X_train)\n",
    "X_train = scaler.transform(X_train)\n",
    "X_test = scaler.transform(X_test)\n",
    "\n",
    "# Linear regression\n",
    "\n",
    "lreg_sph_far_l = linear_model.LinearRegression()\n",
    "lreg_sph_far_l.fit(X_train,y_train)\n",
    "print(lreg_sph_far_l.coef_)\n",
    "r2 = lreg_sph_far_l.score(X_test,y_test)\n",
    "print('r2 score = ', r2)\n",
    "\n",
    "# Modeloptimalisatie en Hyperparameter tuning\n",
    "\n",
    "# Aanmaken van de hogere orde features\n",
    "graad = 2\n",
    "\n",
    "poly = PolynomialFeatures(graad)\n",
    "poly.fit(X_train)\n",
    "X_train_poly = poly.transform(X_train)\n",
    "X_test_poly = poly.transform(X_test)\n",
    "print('dimensie van X_train_poly: ',X_train_poly.shape)\n",
    "print('dimensie van X_test_poly: ',X_test_poly.shape)\n",
    "\n",
    "\n",
    "# met L2 regularisatie via Ridge regression\n",
    "lreg_poly_sph_far_l = Ridge(alpha=0.5,tol=0.0001,fit_intercept=True)\n",
    "lreg_poly_sph_far_l.fit(X_train_poly,y_train)\n",
    "\n",
    "print('R2 score op test set via L2: ',lreg_poly_sph_far_l.score(X_test_poly,y_test))\n",
    "# R2 -score via L2 op de trainingset\n",
    "print('R2 score op training set via L2: ',lreg_poly_sph_far_l.score(X_train_poly,y_train))"
   ]
  },
  {
   "cell_type": "code",
   "execution_count": 12,
   "metadata": {},
   "outputs": [
    {
     "output_type": "stream",
     "name": "stdout",
     "text": "[ 3.18592393e-03 -1.72186214e-01 -3.43002030e-02 -1.54685776e-02\n  3.33606783e-02  5.47398590e-05  1.36071332e-02 -1.74654462e-02\n  9.12563458e-03 -2.91442425e-03  2.88825145e-01 -3.10545328e-02\n  1.64463850e-02  6.28369976e-02  1.66296056e-02  1.74457378e-01]\nr2 score =  0.5953278407116029\ndimensie van X_train_poly:  (6833, 153)\ndimensie van X_test_poly:  (1709, 153)\nR2 score op test set via L2:  0.6182118719788038\nR2 score op training set via L2:  0.6321077346608683\n"
    }
   ],
   "source": [
    "# Splitsen in features en targets\n",
    "\n",
    "y = dataset['Cyl-Far-L'].values\n",
    "X = dataset.drop(['Add', 'Sph-Far-R', 'Cyl-Far-R', 'Axis-Far-R', 'Sph-Close-R', 'Cyl-Close-R', 'Axis-Close-R', 'Sph-Far-L', \n",
    "                  'Cyl-Far-L', 'Axis-Far-L', 'Sph-Close-L', 'Cyl-Close-L', 'Axis-Close-L'],axis=1)\n",
    "\n",
    "# Splitsen in training set en test set\n",
    "\n",
    "X_train, X_test, y_train, y_test = train_test_split(X, y, test_size=0.2, random_state=0)\n",
    "\n",
    "## Standard scaler\n",
    "scaler = preprocessing.StandardScaler()\n",
    "scaler.fit(X_train)\n",
    "X_train = scaler.transform(X_train)\n",
    "X_test = scaler.transform(X_test)\n",
    "\n",
    "# Linear regression\n",
    "\n",
    "lreg_cyl_far_l = linear_model.LinearRegression()\n",
    "lreg_cyl_far_l.fit(X_train,y_train)\n",
    "print(lreg_cyl_far_l.coef_)\n",
    "r2 = lreg_cyl_far_l.score(X_test,y_test)\n",
    "print('r2 score = ', r2)\n",
    "\n",
    "# Modeloptimalisatie en Hyperparameter tuning\n",
    "\n",
    "# Aanmaken van de hogere orde features\n",
    "graad = 2\n",
    "\n",
    "poly = PolynomialFeatures(graad)\n",
    "poly.fit(X_train)\n",
    "X_train_poly = poly.transform(X_train)\n",
    "X_test_poly = poly.transform(X_test)\n",
    "print('dimensie van X_train_poly: ',X_train_poly.shape)\n",
    "print('dimensie van X_test_poly: ',X_test_poly.shape)\n",
    "\n",
    "\n",
    "# met L2 regularisatie via Ridge regression\n",
    "lreg_poly_cyl_far_l = Ridge(alpha=0.5,tol=0.0001,fit_intercept=True)\n",
    "lreg_poly_cyl_far_l.fit(X_train_poly,y_train)\n",
    "\n",
    "print('R2 score op test set via L2: ',lreg_poly_cyl_far_l.score(X_test_poly,y_test))\n",
    "# R2 -score via L2 op de trainingset\n",
    "print('R2 score op training set via L2: ',lreg_poly_cyl_far_l.score(X_train_poly,y_train))"
   ]
  },
  {
   "cell_type": "markdown",
   "metadata": {},
   "source": [
    "### Random forest regressor"
   ]
  },
  {
   "cell_type": "code",
   "execution_count": 26,
   "metadata": {},
   "outputs": [
    {
     "output_type": "execute_result",
     "data": {
      "text/plain": [
       "0.8149500004676079"
      ]
     },
     "metadata": {},
     "execution_count": 26
    }
   ],
   "source": [
    "# Splitsen in features en targets\n",
    "\n",
    "y = dataset['Sph-Far-R'].values\n",
    "X = dataset.drop(['Add', 'Sph-Far-R', 'Cyl-Far-R', 'Axis-Far-R', 'Sph-Close-R', 'Cyl-Close-R', 'Axis-Close-R', 'Sph-Far-L', \n",
    "                  'Cyl-Far-L', 'Axis-Far-L', 'Sph-Close-L', 'Cyl-Close-L', 'Axis-Close-L'],axis=1)\n",
    "\n",
    "# Splitsen in training set en test set\n",
    "\n",
    "X_train, X_test, y_train, y_test = train_test_split(X, y, test_size=0.2, random_state=0)\n",
    "\n",
    "#random forest regressor\n",
    "number_of_trees = 200\n",
    "max_number_of_depth = 10\n",
    "max_number_of_features = 6\n",
    "\n",
    "RFR_model_sph_far_r = RandomForestRegressor(n_estimators=number_of_trees, max_features=max_number_of_features, max_depth=max_number_of_depth)\n",
    "RFR_model_sph_far_r.fit(X_train,y_train)\n",
    "\n",
    "RFR_model_sph_far_r.score(X_test,y_test)\n",
    "\n",
    "X.head(20)"
   ]
  },
  {
   "cell_type": "code",
   "execution_count": null,
   "metadata": {},
   "outputs": [],
   "source": []
  },
  {
   "cell_type": "code",
   "execution_count": 14,
   "metadata": {},
   "outputs": [
    {
     "output_type": "stream",
     "text": [
      "[0.00136231 0.03176395 0.00476867 0.43947707 0.00357268 0.00421788\n",
      " 0.09558447 0.00144836 0.0021116  0.30563171 0.00346552 0.00515008\n",
      " 0.069078   0.00138432 0.00171073 0.02927264]\n",
      "[ 0  1  2  3  4  5  6  7  8  9 10 11 12 13 14 15]\n",
      "10 Belangrijkste features:\n",
      "3           Sph-Far-R_x\n",
      "9           Sph-Far-L_x\n",
      "6         Sph-Close-R_x\n",
      "12        Sph-Close-L_x\n",
      "1     Measurement_Age_x\n",
      "15      Measurement_Age\n",
      "11         Axis-Far-L_x\n",
      "2                 Add_x\n",
      "5          Axis-Far-R_x\n",
      "4           Cyl-Far-R_x\n",
      "Name: names, dtype: object\n",
      "R2: 0.8156572004002821\n"
     ]
    }
   ],
   "source": [
    "#feature importance\n",
    "# top 10 meest belangrijke features\n",
    "number_of_trees = 200\n",
    "max_number_of_depth = 10\n",
    "max_number_of_features = 6\n",
    "\n",
    "RFRmodel_reduced_sph_far_r = RandomForestRegressor(n_estimators=number_of_trees, max_features=max_number_of_features, max_depth=max_number_of_depth)\n",
    "\n",
    "importance = RFR_model_sph_far_r.feature_importances_\n",
    "\n",
    "print(importance)\n",
    "\n",
    "# index van de 10 belangrijkste features:\n",
    "\n",
    "ind = np.argpartition(importance,-16)[-16:]\n",
    "\n",
    "print(ind)\n",
    "\n",
    "X_train_reduced = X_train.iloc[:,ind]\n",
    "X_test_reduced = X_test.iloc[:,ind]\n",
    "\n",
    "# print top 10 features.\n",
    "feature_values = RFR_model_sph_far_r.feature_importances_\n",
    "feature_names = list(dataset.drop(['Add', 'Sph-Far-R', 'Cyl-Far-R', 'Axis-Far-R', 'Sph-Close-R', 'Cyl-Close-R', 'Axis-Close-R', 'Sph-Far-L', \n",
    "                  'Cyl-Far-L', 'Axis-Far-L', 'Sph-Close-L', 'Cyl-Close-L', 'Axis-Close-L'],axis=1).columns)\n",
    "features_set = pd.DataFrame(data={'names': feature_names, 'values': feature_values})\n",
    "print('10 Belangrijkste features:')\n",
    "print(features_set.sort_values(by='values', ascending=False)['names'][0:10])\n",
    "\n",
    "# hertrainen van Random Forest Tree Classifier\n",
    "\n",
    "RFRmodel_reduced_sph_far_r.fit(X_train_reduced,y_train)\n",
    "\n",
    "y_pred_reduced = RFRmodel_reduced_sph_far_r.predict(X_test_reduced)\n",
    "\n",
    "#print(R2)\n",
    "print(\"R2:\", RFRmodel_reduced_sph_far_r.score(X_test,y_test)) "
   ]
  },
  {
   "cell_type": "code",
   "execution_count": 15,
   "metadata": {},
   "outputs": [
    {
     "output_type": "execute_result",
     "data": {
      "text/plain": [
       "0.5736706644019014"
      ]
     },
     "metadata": {},
     "execution_count": 15
    }
   ],
   "source": [
    "# Splitsen in features en targets\n",
    "\n",
    "y = dataset['Cyl-Far-R'].values\n",
    "X = dataset.drop(['Add', 'Sph-Far-R', 'Cyl-Far-R', 'Axis-Far-R', 'Sph-Close-R', 'Cyl-Close-R', 'Axis-Close-R', 'Sph-Far-L', \n",
    "                  'Cyl-Far-L', 'Axis-Far-L', 'Sph-Close-L', 'Cyl-Close-L', 'Axis-Close-L'],axis=1)\n",
    "\n",
    "\n",
    "\n",
    "# Splitsen in training set en test set\n",
    "\n",
    "X_train, X_test, y_train, y_test = train_test_split(X, y, test_size=0.2, random_state=0)\n",
    "\n",
    "\n",
    "#random forest regressor\n",
    "number_of_trees = 200\n",
    "max_number_of_depth = 10\n",
    "max_number_of_features = 6\n",
    "\n",
    "RFR_model_cyl_far_r = RandomForestRegressor(n_estimators=number_of_trees, max_features=max_number_of_features, max_depth=max_number_of_depth)\n",
    "RFR_model_cyl_far_r.fit(X_train,y_train)\n",
    "\n",
    "RFR_model_cyl_far_r.score(X_test,y_test)\n",
    "\n",
    "X.head(20)"
   ]
  },
  {
   "cell_type": "code",
   "execution_count": 16,
   "metadata": {},
   "outputs": [
    {
     "output_type": "stream",
     "text": [
      "[0.00362294 0.03327914 0.00556185 0.01810909 0.39237948 0.1847596\n",
      " 0.01257925 0.05966374 0.02218207 0.01987545 0.09339671 0.05650644\n",
      " 0.01160535 0.03494746 0.01255274 0.03897867]\n",
      "[ 0  1  2  3  4  5  6  7  8  9 10 11 12 13 14 15]\n",
      "10 Belangrijkste features:\n",
      "4           Cyl-Far-R_x\n",
      "5          Axis-Far-R_x\n",
      "10          Cyl-Far-L_x\n",
      "7         Cyl-Close-R_x\n",
      "11         Axis-Far-L_x\n",
      "15      Measurement_Age\n",
      "13        Cyl-Close-L_x\n",
      "1     Measurement_Age_x\n",
      "8        Axis-Close-R_x\n",
      "9           Sph-Far-L_x\n",
      "Name: names, dtype: object\n",
      "R2: 0.5691038492776457\n"
     ]
    }
   ],
   "source": [
    "#feature importance\n",
    "# top 10 meest belangrijke features\n",
    "number_of_trees = 200\n",
    "max_number_of_depth = 20\n",
    "max_number_of_features = 0.5\n",
    "\n",
    "RFRmodel_reduced_cyl_far_r = RandomForestRegressor(n_estimators=number_of_trees, max_features=max_number_of_features, max_depth=max_number_of_depth)\n",
    "\n",
    "importance = RFR_model_cyl_far_r.feature_importances_\n",
    "\n",
    "print(importance)\n",
    "\n",
    "# index van de 10 belangrijkste features:\n",
    "\n",
    "ind = np.argpartition(importance,-16)[-16:]\n",
    "\n",
    "print(ind)\n",
    "\n",
    "X_train_reduced = X_train.iloc[:,ind]\n",
    "X_test_reduced = X_test.iloc[:,ind]\n",
    "\n",
    "# print top 10 features.\n",
    "feature_values = RFR_model_cyl_far_r.feature_importances_\n",
    "feature_names = list(dataset.drop(['Add', 'Sph-Far-R', 'Cyl-Far-R', 'Axis-Far-R', 'Sph-Close-R', 'Cyl-Close-R', 'Axis-Close-R', 'Sph-Far-L', \n",
    "                  'Cyl-Far-L', 'Axis-Far-L', 'Sph-Close-L', 'Cyl-Close-L', 'Axis-Close-L'],axis=1).columns)\n",
    "features_set = pd.DataFrame(data={'names': feature_names, 'values': feature_values})\n",
    "print('10 Belangrijkste features:')\n",
    "print(features_set.sort_values(by='values', ascending=False)['names'][0:10])\n",
    "\n",
    "# hertrainen van Random Forest Tree Classifier\n",
    "\n",
    "RFRmodel_reduced_cyl_far_r.fit(X_train_reduced,y_train)\n",
    "\n",
    "y_pred_reduced = RFRmodel_reduced_cyl_far_r.predict(X_test_reduced)\n",
    "\n",
    "#print(R2)\n",
    "print(\"R2:\", RFRmodel_reduced_cyl_far_r.score(X_test,y_test)) "
   ]
  },
  {
   "cell_type": "code",
   "execution_count": 17,
   "metadata": {},
   "outputs": [
    {
     "output_type": "execute_result",
     "data": {
      "text/plain": [
       "0.8123533773673491"
      ]
     },
     "metadata": {},
     "execution_count": 17
    }
   ],
   "source": [
    "# Splitsen in features en targets\n",
    "\n",
    "y = dataset['Sph-Far-L'].values\n",
    "X = dataset.drop(['Add', 'Sph-Far-R', 'Cyl-Far-R', 'Axis-Far-R', 'Sph-Close-R', 'Cyl-Close-R', 'Axis-Close-R', 'Sph-Far-L', \n",
    "                  'Cyl-Far-L', 'Axis-Far-L', 'Sph-Close-L', 'Cyl-Close-L', 'Axis-Close-L'],axis=1)\n",
    "\n",
    "# Splitsen in training set en test set\n",
    "\n",
    "X_train, X_test, y_train, y_test = train_test_split(X, y, test_size=0.2, random_state=0)\n",
    "\n",
    "\n",
    "#random forest regressor\n",
    "number_of_trees = 200\n",
    "max_number_of_depth = 20\n",
    "max_number_of_features = 6\n",
    "\n",
    "RFR_model_sph_far_l = RandomForestRegressor(n_estimators=number_of_trees, max_features=max_number_of_features, max_depth=max_number_of_depth)\n",
    "RFR_model_sph_far_l.fit(X_train,y_train)\n",
    "\n",
    "RFR_model_sph_far_l.score(X_test,y_test)"
   ]
  },
  {
   "cell_type": "code",
   "execution_count": 18,
   "metadata": {},
   "outputs": [
    {
     "output_type": "stream",
     "text": [
      "10 Belangrijkste features:\n",
      "9           Sph-Far-L_x\n",
      "3           Sph-Far-R_x\n",
      "12        Sph-Close-L_x\n",
      "1     Measurement_Age_x\n",
      "6         Sph-Close-R_x\n",
      "15      Measurement_Age\n",
      "11         Axis-Far-L_x\n",
      "5          Axis-Far-R_x\n",
      "10          Cyl-Far-L_x\n",
      "4           Cyl-Far-R_x\n",
      "Name: names, dtype: object\n"
     ]
    }
   ],
   "source": [
    "# print top 10 features.\n",
    "feature_values = RFR_model_sph_far_l.feature_importances_\n",
    "feature_names = list(dataset.drop(['Add', 'Sph-Far-R', 'Cyl-Far-R', 'Axis-Far-R', 'Sph-Close-R', 'Cyl-Close-R', 'Axis-Close-R', 'Sph-Far-L', \n",
    "                  'Cyl-Far-L', 'Axis-Far-L', 'Sph-Close-L', 'Cyl-Close-L', 'Axis-Close-L'],axis=1).columns)\n",
    "features_set = pd.DataFrame(data={'names': feature_names, 'values': feature_values})\n",
    "print('10 Belangrijkste features:')\n",
    "print(features_set.sort_values(by='values', ascending=False)['names'][0:10])"
   ]
  },
  {
   "cell_type": "code",
   "execution_count": 19,
   "metadata": {},
   "outputs": [
    {
     "output_type": "execute_result",
     "data": {
      "text/plain": [
       "0.5955362541913627"
      ]
     },
     "metadata": {},
     "execution_count": 19
    }
   ],
   "source": [
    "# Splitsen in features en targets\n",
    "\n",
    "y = dataset['Cyl-Far-L'].values\n",
    "X = dataset.drop(['Add', 'Sph-Far-R', 'Cyl-Far-R', 'Axis-Far-R', 'Sph-Close-R', 'Cyl-Close-R', 'Axis-Close-R', 'Sph-Far-L', \n",
    "                  'Cyl-Far-L', 'Axis-Far-L', 'Sph-Close-L', 'Cyl-Close-L', 'Axis-Close-L'],axis=1)\n",
    "\n",
    "# Splitsen in training set en test set\n",
    "\n",
    "X_train, X_test, y_train, y_test = train_test_split(X, y, test_size=0.2, random_state=0)\n",
    "\n",
    "\n",
    "#random forest regressor\n",
    "number_of_trees = 200\n",
    "max_number_of_depth = 10\n",
    "max_number_of_features = 6\n",
    "\n",
    "RFR_model_cyl_far_l = RandomForestRegressor(n_estimators=number_of_trees, max_features=max_number_of_features, max_depth=max_number_of_depth)\n",
    "RFR_model_cyl_far_l.fit(X_train,y_train)\n",
    "\n",
    "RFR_model_cyl_far_l.score(X_test,y_test)"
   ]
  },
  {
   "cell_type": "code",
   "execution_count": 20,
   "metadata": {},
   "outputs": [
    {
     "output_type": "stream",
     "text": [
      "10 Belangrijkste features:\n",
      "10          Cyl-Far-L_x\n",
      "11         Axis-Far-L_x\n",
      "4           Cyl-Far-R_x\n",
      "13        Cyl-Close-L_x\n",
      "5          Axis-Far-R_x\n",
      "15      Measurement_Age\n",
      "1     Measurement_Age_x\n",
      "7         Cyl-Close-R_x\n",
      "9           Sph-Far-L_x\n",
      "3           Sph-Far-R_x\n",
      "Name: names, dtype: object\n"
     ]
    }
   ],
   "source": [
    "# print top 10 features.\n",
    "feature_values = RFR_model_cyl_far_l.feature_importances_\n",
    "feature_names = list(dataset.drop(['Add', 'Sph-Far-R', 'Cyl-Far-R', 'Axis-Far-R', 'Sph-Close-R', 'Cyl-Close-R', 'Axis-Close-R', 'Sph-Far-L', \n",
    "                  'Cyl-Far-L', 'Axis-Far-L', 'Sph-Close-L', 'Cyl-Close-L', 'Axis-Close-L'],axis=1).columns)\n",
    "features_set = pd.DataFrame(data={'names': feature_names, 'values': feature_values})\n",
    "print('10 Belangrijkste features:')\n",
    "print(features_set.sort_values(by='values', ascending=False)['names'][0:10])"
   ]
  },
  {
   "cell_type": "code",
   "execution_count": 21,
   "metadata": {},
   "outputs": [
    {
     "output_type": "stream",
     "name": "stdout",
     "text": "(8542, 29)\n"
    },
    {
     "output_type": "execute_result",
     "data": {
      "text/plain": "       Sex  Measurement_Age_x  Add_x  Sph-Far-R_x  Cyl-Far-R_x  Axis-Far-R_x  \\\n25648    1              19342    0.0        -5.25         1.50          90.0   \n15230    0               3368    0.0        -1.75         1.75         110.0   \n5922     1               8132    0.0        -1.00         0.00           0.0   \n5226     0               5249    0.0        -0.25         0.00           0.0   \n9158     0              25293    0.0         0.00         0.00           0.0   \n7358     0               9160    0.0        -3.25         0.00           0.0   \n30502    1              14634    0.0         0.25         0.75         110.0   \n25080    1              11025    0.0         1.50         0.50          90.0   \n20004    0              26553    0.0         4.75         0.00           0.0   \n21690    0              18348    0.0        -1.25         0.50         160.0   \n\n       Sph-Close-R_x  Cyl-Close-R_x  Axis-Close-R_x  Sph-Far-L_x  Cyl-Far-L_x  \\\n25648          -5.25            1.5            90.0        -5.25          1.5   \n15230           0.00            0.0             0.0        -0.50          0.5   \n5922            0.00            0.0             0.0        -0.75          0.0   \n5226            0.00            0.0             0.0        -0.25          0.0   \n9158            1.00            0.0            20.0         0.00          0.0   \n7358            0.00            0.0             0.0        -3.00          0.0   \n30502           0.00            0.0             0.0        -0.50          1.5   \n25080           1.50            0.5            90.0         1.50          0.5   \n20004           4.75            0.0             0.0         4.00          0.5   \n21690           0.00            0.0             0.0        -1.00          0.5   \n\n       Axis-Far-L_x  Sph-Close-L_x  Cyl-Close-L_x  Axis-Close-L_x  \\\n25648          90.0          -5.25            1.5            90.0   \n15230          90.0           0.00            0.0             0.0   \n5922            0.0           0.00            0.0             0.0   \n5226            0.0           0.00            0.0             0.0   \n9158            0.0           1.00            0.5             0.0   \n7358            0.0           0.00            0.0             0.0   \n30502          80.0           0.00            0.0             0.0   \n25080          90.0           1.50            0.5            90.0   \n20004           0.0           4.00            0.5             0.0   \n21690          10.0           0.00            0.0             0.0   \n\n       Measurement_Age  Add  Sph-Far-R  Cyl-Far-R  Axis-Far-R  Sph-Close-R  \\\n25648            19342  0.0      -5.25       1.50        90.0        -5.25   \n15230             3809  0.0      -1.25       1.25        95.0        -1.25   \n5922             10176  0.0      -1.25       0.00         0.0        -1.25   \n5226              6519  0.0      -0.75       0.00         0.0        -0.75   \n9158             27299  0.0       0.00       0.00         0.0         2.75   \n7358             10678  0.0      -4.00       0.50        90.0        -4.00   \n30502            18294  0.0       0.00       1.00       110.0         0.00   \n25080            11025  0.0       1.50       0.50        90.0         1.50   \n20004            26553  0.0       4.75       0.00         0.0         4.75   \n21690            19304  0.0      -1.00       0.25       160.0        -1.00   \n\n       Cyl-Close-R  Axis-Close-R  Sph-Far-L  Cyl-Far-L  Axis-Far-L  \\\n25648         1.50          90.0      -5.25       1.50        90.0   \n15230         1.25          95.0      -0.25       0.25        90.0   \n5922          0.00           0.0      -0.75       0.00         0.0   \n5226          0.00           0.0      -0.75       0.00         0.0   \n9158          1.25          90.0       0.00       0.00         0.0   \n7358          0.50          90.0      -3.25       0.00         0.0   \n30502         0.00           0.0      -0.75       1.75        75.0   \n25080         0.50          90.0       1.50       0.50        90.0   \n20004         0.00           0.0       4.00       0.50         0.0   \n21690         0.25         160.0      -1.00       0.50        15.0   \n\n       Sph-Close-L  Cyl-Close-L  Axis-Close-L  \n25648        -5.25         1.50          90.0  \n15230        -0.25         0.25          90.0  \n5922         -0.75         0.00           0.0  \n5226         -0.75         0.00           0.0  \n9158          5.00         0.00          70.0  \n7358         -3.25         0.00           0.0  \n30502         0.00         0.00           0.0  \n25080         1.50         0.50          90.0  \n20004         4.00         0.50           0.0  \n21690        -1.00         0.50          15.0  ",
      "text/html": "<div>\n<style scoped>\n    .dataframe tbody tr th:only-of-type {\n        vertical-align: middle;\n    }\n\n    .dataframe tbody tr th {\n        vertical-align: top;\n    }\n\n    .dataframe thead th {\n        text-align: right;\n    }\n</style>\n<table border=\"1\" class=\"dataframe\">\n  <thead>\n    <tr style=\"text-align: right;\">\n      <th></th>\n      <th>Sex</th>\n      <th>Measurement_Age_x</th>\n      <th>Add_x</th>\n      <th>Sph-Far-R_x</th>\n      <th>Cyl-Far-R_x</th>\n      <th>Axis-Far-R_x</th>\n      <th>Sph-Close-R_x</th>\n      <th>Cyl-Close-R_x</th>\n      <th>Axis-Close-R_x</th>\n      <th>Sph-Far-L_x</th>\n      <th>Cyl-Far-L_x</th>\n      <th>Axis-Far-L_x</th>\n      <th>Sph-Close-L_x</th>\n      <th>Cyl-Close-L_x</th>\n      <th>Axis-Close-L_x</th>\n      <th>Measurement_Age</th>\n      <th>Add</th>\n      <th>Sph-Far-R</th>\n      <th>Cyl-Far-R</th>\n      <th>Axis-Far-R</th>\n      <th>Sph-Close-R</th>\n      <th>Cyl-Close-R</th>\n      <th>Axis-Close-R</th>\n      <th>Sph-Far-L</th>\n      <th>Cyl-Far-L</th>\n      <th>Axis-Far-L</th>\n      <th>Sph-Close-L</th>\n      <th>Cyl-Close-L</th>\n      <th>Axis-Close-L</th>\n    </tr>\n  </thead>\n  <tbody>\n    <tr>\n      <th>25648</th>\n      <td>1</td>\n      <td>19342</td>\n      <td>0.0</td>\n      <td>-5.25</td>\n      <td>1.50</td>\n      <td>90.0</td>\n      <td>-5.25</td>\n      <td>1.5</td>\n      <td>90.0</td>\n      <td>-5.25</td>\n      <td>1.5</td>\n      <td>90.0</td>\n      <td>-5.25</td>\n      <td>1.5</td>\n      <td>90.0</td>\n      <td>19342</td>\n      <td>0.0</td>\n      <td>-5.25</td>\n      <td>1.50</td>\n      <td>90.0</td>\n      <td>-5.25</td>\n      <td>1.50</td>\n      <td>90.0</td>\n      <td>-5.25</td>\n      <td>1.50</td>\n      <td>90.0</td>\n      <td>-5.25</td>\n      <td>1.50</td>\n      <td>90.0</td>\n    </tr>\n    <tr>\n      <th>15230</th>\n      <td>0</td>\n      <td>3368</td>\n      <td>0.0</td>\n      <td>-1.75</td>\n      <td>1.75</td>\n      <td>110.0</td>\n      <td>0.00</td>\n      <td>0.0</td>\n      <td>0.0</td>\n      <td>-0.50</td>\n      <td>0.5</td>\n      <td>90.0</td>\n      <td>0.00</td>\n      <td>0.0</td>\n      <td>0.0</td>\n      <td>3809</td>\n      <td>0.0</td>\n      <td>-1.25</td>\n      <td>1.25</td>\n      <td>95.0</td>\n      <td>-1.25</td>\n      <td>1.25</td>\n      <td>95.0</td>\n      <td>-0.25</td>\n      <td>0.25</td>\n      <td>90.0</td>\n      <td>-0.25</td>\n      <td>0.25</td>\n      <td>90.0</td>\n    </tr>\n    <tr>\n      <th>5922</th>\n      <td>1</td>\n      <td>8132</td>\n      <td>0.0</td>\n      <td>-1.00</td>\n      <td>0.00</td>\n      <td>0.0</td>\n      <td>0.00</td>\n      <td>0.0</td>\n      <td>0.0</td>\n      <td>-0.75</td>\n      <td>0.0</td>\n      <td>0.0</td>\n      <td>0.00</td>\n      <td>0.0</td>\n      <td>0.0</td>\n      <td>10176</td>\n      <td>0.0</td>\n      <td>-1.25</td>\n      <td>0.00</td>\n      <td>0.0</td>\n      <td>-1.25</td>\n      <td>0.00</td>\n      <td>0.0</td>\n      <td>-0.75</td>\n      <td>0.00</td>\n      <td>0.0</td>\n      <td>-0.75</td>\n      <td>0.00</td>\n      <td>0.0</td>\n    </tr>\n    <tr>\n      <th>5226</th>\n      <td>0</td>\n      <td>5249</td>\n      <td>0.0</td>\n      <td>-0.25</td>\n      <td>0.00</td>\n      <td>0.0</td>\n      <td>0.00</td>\n      <td>0.0</td>\n      <td>0.0</td>\n      <td>-0.25</td>\n      <td>0.0</td>\n      <td>0.0</td>\n      <td>0.00</td>\n      <td>0.0</td>\n      <td>0.0</td>\n      <td>6519</td>\n      <td>0.0</td>\n      <td>-0.75</td>\n      <td>0.00</td>\n      <td>0.0</td>\n      <td>-0.75</td>\n      <td>0.00</td>\n      <td>0.0</td>\n      <td>-0.75</td>\n      <td>0.00</td>\n      <td>0.0</td>\n      <td>-0.75</td>\n      <td>0.00</td>\n      <td>0.0</td>\n    </tr>\n    <tr>\n      <th>9158</th>\n      <td>0</td>\n      <td>25293</td>\n      <td>0.0</td>\n      <td>0.00</td>\n      <td>0.00</td>\n      <td>0.0</td>\n      <td>1.00</td>\n      <td>0.0</td>\n      <td>20.0</td>\n      <td>0.00</td>\n      <td>0.0</td>\n      <td>0.0</td>\n      <td>1.00</td>\n      <td>0.5</td>\n      <td>0.0</td>\n      <td>27299</td>\n      <td>0.0</td>\n      <td>0.00</td>\n      <td>0.00</td>\n      <td>0.0</td>\n      <td>2.75</td>\n      <td>1.25</td>\n      <td>90.0</td>\n      <td>0.00</td>\n      <td>0.00</td>\n      <td>0.0</td>\n      <td>5.00</td>\n      <td>0.00</td>\n      <td>70.0</td>\n    </tr>\n    <tr>\n      <th>7358</th>\n      <td>0</td>\n      <td>9160</td>\n      <td>0.0</td>\n      <td>-3.25</td>\n      <td>0.00</td>\n      <td>0.0</td>\n      <td>0.00</td>\n      <td>0.0</td>\n      <td>0.0</td>\n      <td>-3.00</td>\n      <td>0.0</td>\n      <td>0.0</td>\n      <td>0.00</td>\n      <td>0.0</td>\n      <td>0.0</td>\n      <td>10678</td>\n      <td>0.0</td>\n      <td>-4.00</td>\n      <td>0.50</td>\n      <td>90.0</td>\n      <td>-4.00</td>\n      <td>0.50</td>\n      <td>90.0</td>\n      <td>-3.25</td>\n      <td>0.00</td>\n      <td>0.0</td>\n      <td>-3.25</td>\n      <td>0.00</td>\n      <td>0.0</td>\n    </tr>\n    <tr>\n      <th>30502</th>\n      <td>1</td>\n      <td>14634</td>\n      <td>0.0</td>\n      <td>0.25</td>\n      <td>0.75</td>\n      <td>110.0</td>\n      <td>0.00</td>\n      <td>0.0</td>\n      <td>0.0</td>\n      <td>-0.50</td>\n      <td>1.5</td>\n      <td>80.0</td>\n      <td>0.00</td>\n      <td>0.0</td>\n      <td>0.0</td>\n      <td>18294</td>\n      <td>0.0</td>\n      <td>0.00</td>\n      <td>1.00</td>\n      <td>110.0</td>\n      <td>0.00</td>\n      <td>0.00</td>\n      <td>0.0</td>\n      <td>-0.75</td>\n      <td>1.75</td>\n      <td>75.0</td>\n      <td>0.00</td>\n      <td>0.00</td>\n      <td>0.0</td>\n    </tr>\n    <tr>\n      <th>25080</th>\n      <td>1</td>\n      <td>11025</td>\n      <td>0.0</td>\n      <td>1.50</td>\n      <td>0.50</td>\n      <td>90.0</td>\n      <td>1.50</td>\n      <td>0.5</td>\n      <td>90.0</td>\n      <td>1.50</td>\n      <td>0.5</td>\n      <td>90.0</td>\n      <td>1.50</td>\n      <td>0.5</td>\n      <td>90.0</td>\n      <td>11025</td>\n      <td>0.0</td>\n      <td>1.50</td>\n      <td>0.50</td>\n      <td>90.0</td>\n      <td>1.50</td>\n      <td>0.50</td>\n      <td>90.0</td>\n      <td>1.50</td>\n      <td>0.50</td>\n      <td>90.0</td>\n      <td>1.50</td>\n      <td>0.50</td>\n      <td>90.0</td>\n    </tr>\n    <tr>\n      <th>20004</th>\n      <td>0</td>\n      <td>26553</td>\n      <td>0.0</td>\n      <td>4.75</td>\n      <td>0.00</td>\n      <td>0.0</td>\n      <td>4.75</td>\n      <td>0.0</td>\n      <td>0.0</td>\n      <td>4.00</td>\n      <td>0.5</td>\n      <td>0.0</td>\n      <td>4.00</td>\n      <td>0.5</td>\n      <td>0.0</td>\n      <td>26553</td>\n      <td>0.0</td>\n      <td>4.75</td>\n      <td>0.00</td>\n      <td>0.0</td>\n      <td>4.75</td>\n      <td>0.00</td>\n      <td>0.0</td>\n      <td>4.00</td>\n      <td>0.50</td>\n      <td>0.0</td>\n      <td>4.00</td>\n      <td>0.50</td>\n      <td>0.0</td>\n    </tr>\n    <tr>\n      <th>21690</th>\n      <td>0</td>\n      <td>18348</td>\n      <td>0.0</td>\n      <td>-1.25</td>\n      <td>0.50</td>\n      <td>160.0</td>\n      <td>0.00</td>\n      <td>0.0</td>\n      <td>0.0</td>\n      <td>-1.00</td>\n      <td>0.5</td>\n      <td>10.0</td>\n      <td>0.00</td>\n      <td>0.0</td>\n      <td>0.0</td>\n      <td>19304</td>\n      <td>0.0</td>\n      <td>-1.00</td>\n      <td>0.25</td>\n      <td>160.0</td>\n      <td>-1.00</td>\n      <td>0.25</td>\n      <td>160.0</td>\n      <td>-1.00</td>\n      <td>0.50</td>\n      <td>15.0</td>\n      <td>-1.00</td>\n      <td>0.50</td>\n      <td>15.0</td>\n    </tr>\n  </tbody>\n</table>\n</div>"
     },
     "metadata": {},
     "execution_count": 21
    }
   ],
   "source": [
    "print(dataset.shape)\n",
    "dataset.head(10)"
   ]
  },
  {
   "cell_type": "code",
   "execution_count": 22,
   "metadata": {},
   "outputs": [
    {
     "output_type": "stream",
     "name": "stdout",
     "text": "23521\n"
    },
    {
     "output_type": "execute_result",
     "data": {
      "text/plain": "      Sex  Measurement_Age   Add  Sph-Far-R  Cyl-Far-R  Axis-Far-R  \\\n1146    1            23521  2.75        3.5       0.75        60.0   \n\n      Sph-Close-R  Cyl-Close-R  Axis-Close-R  Sph-Far-L  Cyl-Far-L  \\\n1146          6.5          0.5          60.0       1.25        0.5   \n\n      Axis-Far-L  Sph-Close-L  Cyl-Close-L  Axis-Close-L  \n1146       125.0         3.75         0.75         125.0  ",
      "text/html": "<div>\n<style scoped>\n    .dataframe tbody tr th:only-of-type {\n        vertical-align: middle;\n    }\n\n    .dataframe tbody tr th {\n        vertical-align: top;\n    }\n\n    .dataframe thead th {\n        text-align: right;\n    }\n</style>\n<table border=\"1\" class=\"dataframe\">\n  <thead>\n    <tr style=\"text-align: right;\">\n      <th></th>\n      <th>Sex</th>\n      <th>Measurement_Age</th>\n      <th>Add</th>\n      <th>Sph-Far-R</th>\n      <th>Cyl-Far-R</th>\n      <th>Axis-Far-R</th>\n      <th>Sph-Close-R</th>\n      <th>Cyl-Close-R</th>\n      <th>Axis-Close-R</th>\n      <th>Sph-Far-L</th>\n      <th>Cyl-Far-L</th>\n      <th>Axis-Far-L</th>\n      <th>Sph-Close-L</th>\n      <th>Cyl-Close-L</th>\n      <th>Axis-Close-L</th>\n    </tr>\n  </thead>\n  <tbody>\n    <tr>\n      <th>1146</th>\n      <td>1</td>\n      <td>23521</td>\n      <td>2.75</td>\n      <td>3.5</td>\n      <td>0.75</td>\n      <td>60.0</td>\n      <td>6.5</td>\n      <td>0.5</td>\n      <td>60.0</td>\n      <td>1.25</td>\n      <td>0.5</td>\n      <td>125.0</td>\n      <td>3.75</td>\n      <td>0.75</td>\n      <td>125.0</td>\n    </tr>\n  </tbody>\n</table>\n</div>"
     },
     "metadata": {},
     "execution_count": 22
    }
   ],
   "source": [
    "values = dataset_og.loc[[1146]]\n",
    "values.drop(['ID'], axis=1, inplace=True)\n",
    "age = values.iat[0,1]\n",
    "years = 5\n",
    "print(age)\n",
    "values.head()"
   ]
  },
  {
   "cell_type": "code",
   "execution_count": 23,
   "metadata": {},
   "outputs": [
    {
     "output_type": "stream",
     "text": [
      "[8175.80172574]\n",
      "[268.14304511]\n",
      "[8443.51192741]\n",
      "[466.69708886]\n",
      "[-0.57928173]\n",
      "[0.41266387]\n",
      "[-1.11400292]\n",
      "[1.01105404]\n",
      "[-0.58253913]\n",
      "[0.30567708]\n"
     ]
    }
   ],
   "source": [
    "values = np.array([[1.0,18358.0,0.0,-1.00,0.5,175.0,0.0,0.00,0.0,-1.50,1.25,165.0,0.00,0.0,0.0,20686.0]])\n",
    "\n",
    "\n",
    "#Sph-Far-R = -1\n",
    "#Cyl-Far-R = 0.25\n",
    "#Sph-Far-L = -1.50\n",
    "#Cyl-Far-L = 1.25\n",
    "\n",
    "# values = values.reshape(-1, 1)\n",
    "# scaler1.fit(values)\n",
    "# values = scaler1.transform(values)\n",
    "\n",
    "models = [lreg_sph_far_r, lreg_cyl_far_r, lreg_sph_far_l, lreg_cyl_far_l,\n",
    "          RFR_model_sph_far_r, RFR_model_cyl_far_r, RFR_model_sph_far_l, RFR_model_cyl_far_l,RFRmodel_reduced_sph_far_r,RFRmodel_reduced_cyl_far_r]\n",
    "\n",
    "for n in models:\n",
    "    x = n.predict(values)\n",
    "#     a = np.array([0, 0, 0, x, 0, 0, 0, 0, 0, 0, 0, 0, 0, 0, 0, 0])\n",
    "#     x = scaler1.inverse_transform(x)\n",
    "    print(x)\n"
   ]
  },
  {
   "cell_type": "code",
   "execution_count": 24,
   "metadata": {},
   "outputs": [
    {
     "output_type": "stream",
     "text": [
      "[2.7031359658664957, 2.6983945865561507, 2.6983945865561507, 2.6983945865561507, 2.6942771952518028, 2.698735528585136, 2.6973893747389828, 2.6973893747389828, 2.696967026254134, 2.6935295262541334, 2.6689333411891987, 2.6581546526646083, 2.66146039326022, 2.667193612743439, 2.699983649459708, 2.725351678908329, 2.729767471449121, 2.729767471449121, 2.740965388115788, 2.738956865388515, 2.7765974743588657, 2.7473349652176804, 2.747295667124987, 2.900075522338507, 2.9555211699300568]\n"
     ]
    },
    {
     "output_type": "execute_result",
     "data": {
      "text/plain": [
       "[<matplotlib.lines.Line2D at 0x1b3a13aa4c8>]"
      ]
     },
     "execution_count": 24,
     "metadata": {},
     "execution_count": 24
    },
    {
     "output_type": "display_data",
     "data": {
      "image/png": "[encoded data removed]",
      "text/plain": [
       "<Figure size 432x288 with 1 Axes>"
      ]
     },
     "metadata": {
      "needs_background": "light"
     }
    }
   ],
   "source": [
    "values = dataset_og.loc[[1156]]\n",
    "values.drop(['ID'], axis=1, inplace=True)\n",
    "age = values.iat[0,1]\n",
    "years = 25\n",
    "pred= []\n",
    "ages = []\n",
    "\n",
    "values = values.assign(Measurement_Age_x=[age])\n",
    "values.head()\n",
    "\n",
    "for x in range(0,years):\n",
    "    values['Measurement_Age_x'] = values['Measurement_Age_x'].add(365)\n",
    "    age2 = values.iat[0,-1]\n",
    "    x = RFR_model_sph_far_r.predict(values)\n",
    "    ages.append(age2)\n",
    "    pred.append(x[0])\n",
    "        \n",
    "print(pred)\n",
    "ages = [x / 365 for x in ages]\n",
    "plt.plot(ages, pred)"
   ]
  },
  {
   "cell_type": "code",
   "execution_count": 25,
   "metadata": {},
   "outputs": [
    {
     "output_type": "execute_result",
     "data": {
      "text/plain": "       Sex  Measurement_Age_x  Add_x  Sph-Far-R_x  Cyl-Far-R_x  Axis-Far-R_x  \\\n14942    0              20855    2.5         1.00          0.0           0.0   \n26370    1              20851    0.0         0.00          0.0           0.0   \n1850     0              18588    0.0         0.00          0.0           0.0   \n21698    0               3615    0.0        -4.50          0.5         110.0   \n13262    0              12055    0.0        -3.25          0.0           0.0   \n\n       Sph-Close-R_x  Cyl-Close-R_x  Axis-Close-R_x  Sph-Far-L_x  Cyl-Far-L_x  \\\n14942           3.50            0.0             0.0         1.00          0.0   \n26370           1.75            0.0             0.0         0.00          0.0   \n1850            2.25            0.0             0.0         0.00          0.0   \n21698           0.00            0.0             0.0        -5.00          1.0   \n13262           0.00            0.0             0.0        -2.25          0.0   \n\n       Axis-Far-L_x  Sph-Close-L_x  Cyl-Close-L_x  Axis-Close-L_x  \\\n14942           0.0           3.50            0.0             0.0   \n26370           0.0           1.75            0.0             0.0   \n1850            0.0           2.25            0.0             0.0   \n21698          70.0           0.00            0.0             0.0   \n13262           0.0           0.00            0.0             0.0   \n\n       Measurement_Age  \n14942            22223  \n26370            21966  \n1850             19886  \n21698             4329  \n13262            13217  ",
      "text/html": "<div>\n<style scoped>\n    .dataframe tbody tr th:only-of-type {\n        vertical-align: middle;\n    }\n\n    .dataframe tbody tr th {\n        vertical-align: top;\n    }\n\n    .dataframe thead th {\n        text-align: right;\n    }\n</style>\n<table border=\"1\" class=\"dataframe\">\n  <thead>\n    <tr style=\"text-align: right;\">\n      <th></th>\n      <th>Sex</th>\n      <th>Measurement_Age_x</th>\n      <th>Add_x</th>\n      <th>Sph-Far-R_x</th>\n      <th>Cyl-Far-R_x</th>\n      <th>Axis-Far-R_x</th>\n      <th>Sph-Close-R_x</th>\n      <th>Cyl-Close-R_x</th>\n      <th>Axis-Close-R_x</th>\n      <th>Sph-Far-L_x</th>\n      <th>Cyl-Far-L_x</th>\n      <th>Axis-Far-L_x</th>\n      <th>Sph-Close-L_x</th>\n      <th>Cyl-Close-L_x</th>\n      <th>Axis-Close-L_x</th>\n      <th>Measurement_Age</th>\n    </tr>\n  </thead>\n  <tbody>\n    <tr>\n      <th>14942</th>\n      <td>0</td>\n      <td>20855</td>\n      <td>2.5</td>\n      <td>1.00</td>\n      <td>0.0</td>\n      <td>0.0</td>\n      <td>3.50</td>\n      <td>0.0</td>\n      <td>0.0</td>\n      <td>1.00</td>\n      <td>0.0</td>\n      <td>0.0</td>\n      <td>3.50</td>\n      <td>0.0</td>\n      <td>0.0</td>\n      <td>22223</td>\n    </tr>\n    <tr>\n      <th>26370</th>\n      <td>1</td>\n      <td>20851</td>\n      <td>0.0</td>\n      <td>0.00</td>\n      <td>0.0</td>\n      <td>0.0</td>\n      <td>1.75</td>\n      <td>0.0</td>\n      <td>0.0</td>\n      <td>0.00</td>\n      <td>0.0</td>\n      <td>0.0</td>\n      <td>1.75</td>\n      <td>0.0</td>\n      <td>0.0</td>\n      <td>21966</td>\n    </tr>\n    <tr>\n      <th>1850</th>\n      <td>0</td>\n      <td>18588</td>\n      <td>0.0</td>\n      <td>0.00</td>\n      <td>0.0</td>\n      <td>0.0</td>\n      <td>2.25</td>\n      <td>0.0</td>\n      <td>0.0</td>\n      <td>0.00</td>\n      <td>0.0</td>\n      <td>0.0</td>\n      <td>2.25</td>\n      <td>0.0</td>\n      <td>0.0</td>\n      <td>19886</td>\n    </tr>\n    <tr>\n      <th>21698</th>\n      <td>0</td>\n      <td>3615</td>\n      <td>0.0</td>\n      <td>-4.50</td>\n      <td>0.5</td>\n      <td>110.0</td>\n      <td>0.00</td>\n      <td>0.0</td>\n      <td>0.0</td>\n      <td>-5.00</td>\n      <td>1.0</td>\n      <td>70.0</td>\n      <td>0.00</td>\n      <td>0.0</td>\n      <td>0.0</td>\n      <td>4329</td>\n    </tr>\n    <tr>\n      <th>13262</th>\n      <td>0</td>\n      <td>12055</td>\n      <td>0.0</td>\n      <td>-3.25</td>\n      <td>0.0</td>\n      <td>0.0</td>\n      <td>0.00</td>\n      <td>0.0</td>\n      <td>0.0</td>\n      <td>-2.25</td>\n      <td>0.0</td>\n      <td>0.0</td>\n      <td>0.00</td>\n      <td>0.0</td>\n      <td>0.0</td>\n      <td>13217</td>\n    </tr>\n  </tbody>\n</table>\n</div>"
     },
     "metadata": {},
     "execution_count": 25
    }
   ],
   "source": [
    "X_train.head()"
   ]
  },
  {
   "cell_type": "code",
   "execution_count": null,
   "metadata": {},
   "outputs": [],
   "source": []
  }
 ],
 "metadata": {
  "kernelspec": {
   "display_name": "Python 3",
   "language": "python",
   "name": "python3"
  },
  "language_info": {
   "codemirror_mode": {
    "name": "ipython",
    "version": 3
   },
   "file_extension": ".py",
   "mimetype": "text/x-python",
   "name": "python",
   "nbconvert_exporter": "python",
   "pygments_lexer": "ipython3",
   "version": "3.8.2-final"
  }
 },
 "nbformat": 4,
 "nbformat_minor": 4
}