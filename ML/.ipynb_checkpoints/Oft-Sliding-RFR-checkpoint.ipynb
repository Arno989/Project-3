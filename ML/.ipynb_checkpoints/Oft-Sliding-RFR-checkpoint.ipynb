{
 "cells": [
  {
   "cell_type": "code",
   "execution_count": null,
   "metadata": {},
   "outputs": [],
   "source": [
    "%matplotlib inline\n",
    "\n",
    "import random\n",
    "\n",
    "import matplotlib.pyplot as plt\n",
    "import math\n",
    "import time\n",
    "import numpy as np\n",
    "import pandas as pd\n",
    "import pandas_datareader as pdr\n",
    "import seaborn as sns\n",
    "from scipy import stats\n",
    "from scipy.stats import randint, uniform\n",
    "from sklearn import linear_model, preprocessing\n",
    "from sklearn.decomposition import PCA\n",
    "from sklearn.ensemble import (AdaBoostClassifier, BaggingClassifier,\n",
    "                              RandomForestClassifier, RandomForestRegressor)\n",
    "from sklearn.linear_model import Lasso, LogisticRegression, Ridge\n",
    "from sklearn.metrics import (accuracy_score, classification_report,\n",
    "                             confusion_matrix, mean_absolute_error, r2_score)\n",
    "from sklearn.model_selection import (GridSearchCV, RandomizedSearchCV,\n",
    "                                     train_test_split)\n",
    "from sklearn.preprocessing import (LabelEncoder, MinMaxScaler, OneHotEncoder,\n",
    "                                   PolynomialFeatures, RobustScaler,\n",
    "                                   StandardScaler)\n",
    "from sklearn.svm import SVC\n",
    "from sklearn.tree import DecisionTreeClassifier\n",
    "from skopt import BayesSearchCV\n",
    "\n",
    "pd.set_option('display.max_rows',1000)\n",
    "pd.set_option('display.max_columns',1000)"
   ]
  },
  {
   "cell_type": "code",
   "execution_count": null,
   "metadata": {},
   "outputs": [],
   "source": [
    "# import data\n",
    "dataset_og = pd.read_csv('Data\\Measurements-Transformed')\n",
    "\n",
    "# kopie maken indien we iets van de originele data nodig hebben\n",
    "dataset = dataset_og.copy()\n",
    "dataset = dataset.sort_values(by=['ID', 'Measurement_Age'], ascending = False)\n",
    "dataset.shape"
   ]
  },
  {
   "cell_type": "code",
   "execution_count": null,
   "metadata": {},
   "outputs": [],
   "source": [
    "# Keuze target en aantal sliding window records\n",
    "target = 'Sph-Far-R'\n",
    "prefAmountRecords = 3"
   ]
  },
  {
   "cell_type": "markdown",
   "metadata": {},
   "source": [
    "### Sliding window\n",
    "\n",
    "#### met var prefAmountRecords kan je kiezen welke minimum records je wil, naargelang deze grafiek is de keuze te maken:\n",
    "![Graph](https://i.imgur.com/82t9CSH.png)"
   ]
  },
  {
   "cell_type": "code",
   "execution_count": null,
   "metadata": {},
   "outputs": [],
   "source": [
    "# Drop waardes die minder dan n* records hebben\n",
    "preDrop = dataset.shape[0]\n",
    "dataset = dataset.groupby('ID').filter(lambda x: len(x) >= prefAmountRecords)\n",
    "dataset = dataset.groupby('ID').head(prefAmountRecords)\n",
    "postDrop = dataset.shape[0]\n",
    "\n",
    "print(f'Dropped {preDrop-postDrop} records of {preDrop}, {math.floor((postDrop/preDrop)*100)}% remaining')"
   ]
  },
  {
   "cell_type": "code",
   "execution_count": null,
   "metadata": {},
   "outputs": [],
   "source": [
    "# Sliding window\n",
    "start = time.time()\n",
    "# dataset = dataset[:500]\n",
    "df_f = pd.DataFrame()\n",
    "df = pd.DataFrame()\n",
    "\n",
    "for uniqueId in dataset['ID'].unique():\n",
    "    for i in range(prefAmountRecords):\n",
    "        if len(dataset.loc[dataset['ID'] == uniqueId]) >= prefAmountRecords:\n",
    "            if i == 0:\n",
    "                df = pd.DataFrame(dataset.loc[dataset['ID'] == uniqueId].iloc[i]).T\n",
    "                df.columns = ['ID', 'Sex'] + list((n + f'_{i}') for n in dataset.columns[2:])\n",
    "            else:\n",
    "                df_t = pd.DataFrame(dataset.loc[dataset['ID'] == uniqueId].iloc[i][2:]).T\n",
    "                df_t.columns = list((n + f'_{i}') for n in dataset.columns[2:])\n",
    "                df = pd.concat([df.reset_index(drop=True), df_t.reset_index(drop=True)], axis = 1)\n",
    "    df_f = df_f.append(df)\n",
    "\n",
    "dataset = df_f.copy()\n",
    "end = time.time()\n",
    "print(end - start)\n",
    "dataset.head(5)\n",
    "dataset.to_csv(f'Data\\\\Measurements-Sliding-Window-{prefAmountRecords}', index=False, index_label=False)"
   ]
  },
  {
   "cell_type": "code",
   "execution_count": null,
   "metadata": {},
   "outputs": [],
   "source": [
    "for coll in dataset.columns:\n",
    "    coll = np.nan_to_num(coll)\n",
    "pd.DataFrame(dataset).fillna(0, inplace=True)\n",
    "np.where(np.isnan(dataset))"
   ]
  },
  {
   "cell_type": "markdown",
   "metadata": {},
   "source": [
    "### Random Forest Regression"
   ]
  },
  {
   "cell_type": "code",
   "execution_count": null,
   "metadata": {},
   "outputs": [],
   "source": [
    "y = dataset[f'{target}_{prefAmountRecords-1}']\n",
    "X = dataset.drop([c for c in dataset.columns if f'_{prefAmountRecords-1}' in c], axis=1)\n",
    "\n",
    "X_train, X_test, y_train, y_test = train_test_split(X, y, test_size=.2, random_state=42069)"
   ]
  },
  {
   "cell_type": "code",
   "execution_count": null,
   "metadata": {},
   "outputs": [],
   "source": [
    "RFR_model = RandomForestRegressor(n_estimators=100)\n",
    "RFR_model.fit(X_train, y_train)\n",
    "\n",
    "print(RFR_model.score(X_test, y_test))"
   ]
  },
  {
   "cell_type": "markdown",
   "metadata": {},
   "source": [
    "### Random Forest Regression + poly"
   ]
  },
  {
   "cell_type": "code",
   "execution_count": null,
   "metadata": {},
   "outputs": [],
   "source": [
    "y = dataset[f'{target}_{prefAmountRecords-1}']\n",
    "X = dataset.drop([c for c in dataset.columns if f'_{prefAmountRecords-1}' in c], axis=1)\n",
    "\n",
    "X_train, X_test, y_train, y_test = train_test_split(X, y, test_size=.2, random_state=42069)"
   ]
  },
  {
   "cell_type": "code",
   "execution_count": null,
   "metadata": {},
   "outputs": [],
   "source": [
    "graad = 1\n",
    "\n",
    "# Polynominal features aanmaken\n",
    "polyModel = PolynomialFeatures(graad)\n",
    "polyModel.fit(X_train, X_test)\n",
    "X_train_poly = polyModel.transform(X_train)\n",
    "X_test_poly = polyModel.transform(X_test)\n",
    "print(f'Dimensie van polynomial data op graad {graad}: {X_train_poly.shape}')"
   ]
  },
  {
   "cell_type": "code",
   "execution_count": null,
   "metadata": {},
   "outputs": [],
   "source": [
    "RFR_model = RandomForestRegressor(n_estimators=100)\n",
    "RFR_model.fit(X_train, y_train)\n",
    "\n",
    "print(RFR_model.score(X_test, y_test))"
   ]
  },
  {
   "cell_type": "markdown",
   "metadata": {},
   "source": [
    "### Random Forest Regression + tuning"
   ]
  },
  {
   "cell_type": "code",
   "execution_count": null,
   "metadata": {},
   "outputs": [],
   "source": [
    "y = dataset[f'{target}_{prefAmountRecords-1}']\n",
    "X = dataset.drop([c for c in dataset.columns if f'_{prefAmountRecords-1}' in c], axis=1)\n",
    "\n",
    "X_train, X_test, y_train, y_test = train_test_split(X, y, test_size=.2, random_state=42069)"
   ]
  },
  {
   "cell_type": "code",
   "execution_count": null,
   "metadata": {},
   "outputs": [],
   "source": [
    "n_iter_search = 50\n",
    "\n",
    "# Cross-validation via grid search - hoogste balanced accuracy\n",
    "model = RandomForestRegressor(n_estimators=n_estimators)\n",
    "paramaters = {'n_estimators':[100, 500, 1000], 'criterion':['mse', 'mae'], 'max_depth': np.linspace(1, 100), 'min_weight_fraction_leaf':np.linspace(0.0, 1.0), 'max_features': ['auto', 'sqrt', 'log2', None]}\n",
    "random_search = RandomizedSearchCV(estimator = model, \n",
    "                           param_distributions = paramaters,\n",
    "                           cv = 3,\n",
    "                           n_jobs = -1,\n",
    "                           verbose = 5,\n",
    "                           n_iter = n_iter_search)\n",
    "random_search = random_search.fit(X_train, y_train)\n",
    "\n",
    "print(random_search.best_params_)\n",
    "print(random_search.best_score_)"
   ]
  },
  {
   "cell_type": "markdown",
   "metadata": {},
   "source": [
    "### Random Forest Regression + tuning + poly"
   ]
  },
  {
   "cell_type": "code",
   "execution_count": null,
   "metadata": {},
   "outputs": [],
   "source": [
    "# Splitsen in training set en test set\n",
    "y = dataset[f'{target}_{prefAmountRecords-1}']\n",
    "X = dataset.drop([c for c in dataset.columns if f'_{prefAmountRecords-1}' in c], axis=1)\n",
    "\n",
    "scaler = preprocessing.StandardScaler().fit(X)\n",
    "X = scaler.transform(X)\n",
    "\n",
    "X_train, X_test, y_train, y_test = train_test_split(X, y, test_size=.2, random_state=42069)"
   ]
  },
  {
   "cell_type": "code",
   "execution_count": null,
   "metadata": {},
   "outputs": [],
   "source": [
    "graad = 1\n",
    "\n",
    "# Polynominal features aanmaken\n",
    "polyModel = PolynomialFeatures(graad)\n",
    "polyModel.fit(X_train, X_test)\n",
    "X_train_poly = polyModel.transform(X_train)\n",
    "X_test_poly = polyModel.transform(X_test)\n",
    "print(f'Dimensie van polynomial data op graad {graad}: {X_train_poly.shape}')"
   ]
  },
  {
   "cell_type": "code",
   "execution_count": null,
   "metadata": {},
   "outputs": [],
   "source": [
    "n_iter_search = 50\n",
    "\n",
    "# Cross-validation via grid search - hoogste balanced accuracy\n",
    "model = RandomForestRegressor(n_estimators=n_estimators)\n",
    "paramaters = {'n_estimators':[100, 500, 1000], 'criterion':['mse', 'mae'], 'max_depth': np.linspace(1, 100), 'min_weight_fraction_leaf':np.linspace(0.0, 1.0), 'max_features': ['auto', 'sqrt', 'log2', None]}\n",
    "random_search = RandomizedSearchCV(estimator = model, \n",
    "                           param_distributions = paramaters,\n",
    "                           cv = 3,\n",
    "                           n_jobs = -1,\n",
    "                           verbose = 5,\n",
    "                           n_iter = n_iter_search)\n",
    "random_search = random_search.fit(X_train, y_train)\n",
    "\n",
    "print(random_search.best_params_)\n",
    "print(random_search.best_score_)"
   ]
  }
 ],
 "metadata": {
  "kernelspec": {
   "display_name": "Python 3",
   "language": "python",
   "name": "python3"
  },
  "language_info": {
   "codemirror_mode": {
    "name": "ipython",
    "version": 3
   },
   "file_extension": ".py",
   "mimetype": "text/x-python",
   "name": "python",
   "nbconvert_exporter": "python",
   "pygments_lexer": "ipython3",
   "version": "3.7.6"
  }
 },
 "nbformat": 4,
 "nbformat_minor": 2
}
